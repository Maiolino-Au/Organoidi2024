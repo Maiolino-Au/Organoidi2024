{
 "cells": [
  {
   "cell_type": "markdown",
   "id": "c958dcd5-46b7-441b-ac7c-b55f74177bdc",
   "metadata": {},
   "source": [
    "# **Analyze the data from scratch**\n",
    "steps"
   ]
  },
  {
   "cell_type": "markdown",
   "id": "ecb58b63-def7-4e59-a2dd-5dcd867a3017",
   "metadata": {
    "jp-MarkdownHeadingCollapsed": true
   },
   "source": [
    "## Load Libraries"
   ]
  },
  {
   "cell_type": "code",
   "execution_count": 2,
   "id": "016bdfeb-4bcd-4275-898b-ef70f41810ba",
   "metadata": {},
   "outputs": [],
   "source": [
    "# LOAD LIBRARIES\n",
    "library(Seurat)\n",
    "library(tidyverse)\n",
    "library(future)\n",
    "library(ggplot2)\n",
    "library(dplyr)\n",
    "library(presto)\n",
    "library(cowplot)"
   ]
  },
  {
   "cell_type": "code",
   "execution_count": 4,
   "id": "83c880fd-ebcf-47ae-b0a1-6937b36d9539",
   "metadata": {},
   "outputs": [],
   "source": [
    "#install.packages(\"openai\")\n",
    "#remotes::install_github(\"Winnie09/GPTCelltype\")\n",
    "#install.packages(\"enrichR\")\n",
    "\n",
    "# Cell annotation\n",
    "library(enrichR)\n",
    "library(GPTCelltype)\n",
    "library(openai)"
   ]
  },
  {
   "cell_type": "markdown",
   "id": "c696037d-66ce-4aee-bfd7-72f26df9103e",
   "metadata": {},
   "source": [
    "## Setup"
   ]
  },
  {
   "cell_type": "code",
   "execution_count": 5,
   "id": "bd56ce15-ab6e-4772-83a3-f838d5223758",
   "metadata": {},
   "outputs": [],
   "source": [
    "# SET UP NAMES\n",
    "timepoints <- c(\"23days\", \"1month\", \"1.5month\", \"2month\", \"3month\", \"4month\", \"5month\", \"6month\")\n",
    "housekeeping_genes <- c(\"ACTB\", \"DLG4\")\n",
    "genes_of_interest <- c(\"SRCIN1\", \"KIAA1217\", \"CIT\")\n",
    "path_to_data <- \"/sharedFolder/data_organoidi_velasco/Data/\"\n",
    "\n",
    "name_new_dir_results <- paste(getwd(), \"/Results\", sep = \"\")\n",
    "if (!dir.exists(name_new_dir_results)) {\n",
    "    dir.create(name_new_dir_results)\n",
    "}\n",
    "\n",
    "name_new_dir_partial <- paste(getwd(), \"/Partial\", sep = \"\")\n",
    "if (!dir.exists(name_new_dir_partial)) {\n",
    "    dir.create(name_new_dir_partial)\n",
    "}"
   ]
  },
  {
   "cell_type": "code",
   "execution_count": 6,
   "id": "203f5169-ec1b-4708-a278-854c804aabf0",
   "metadata": {},
   "outputs": [],
   "source": [
    "for (a in 1:8) {\n",
    "    name_new_dir <- paste(name_new_dir_partial, \"/\", timepoints[a], sep=\"\")     \n",
    "    if (!dir.exists(name_new_dir)) {\n",
    "        dir.create(name_new_dir)\n",
    "    }\n",
    "    name_new_dir <- paste(name_new_dir_results, \"/\", timepoints[a], sep=\"\")     \n",
    "    if (!dir.exists(name_new_dir)) {\n",
    "        dir.create(name_new_dir)\n",
    "    }  \n",
    "}"
   ]
  },
  {
   "cell_type": "markdown",
   "id": "fb407bbd-5f20-444e-9b78-09e03a63ba8d",
   "metadata": {},
   "source": [
    "## Define functions"
   ]
  },
  {
   "cell_type": "markdown",
   "id": "3084254f-aaa0-4f60-aebb-a514a984a9ff",
   "metadata": {
    "jp-MarkdownHeadingCollapsed": true
   },
   "source": [
    "### load.data(time_point)\n",
    "* LOAD DATA\n",
    "* NORMALIZE\n",
    "* FIND VARIABLE FEATURES\n",
    "* SCALE DATA"
   ]
  },
  {
   "cell_type": "code",
   "execution_count": 13,
   "id": "2fc368d6-46d9-43e3-a2e8-7e8135e8075f",
   "metadata": {},
   "outputs": [],
   "source": [
    "load.data <- function(time_point) {\n",
    "    print(paste(\"Loading data for time point:\", timepoints[time_point]))\n",
    "\n",
    "    # Load the data\n",
    "    sc_data <- Read10X(data.dir = paste(path_to_data, \"expression_\", timepoints[time_point], sep = \"\"), gene.column = 1)\n",
    "\n",
    "    # Create Seurat object\n",
    "    sc_data <- CreateSeuratObject(counts = sc_data, min.cells = 3, min.features = 500, project = timepoints[time_point], names.delim = \"-\", names.field = 2)\n",
    "\n",
    "    # Normalize the data\n",
    "    sc_data <- NormalizeData(sc_data, normalization.method = \"LogNormalize\", scale.factor = 1e6)\n",
    "\n",
    "    # Find variable features\n",
    "    sc_data <- FindVariableFeatures(sc_data, selection.method = \"mvp\", nfeatures = 2000)\n",
    "\n",
    "    # Scale the data\n",
    "    sc_data <- ScaleData(sc_data)\n",
    "\n",
    "    # Save the Scaled data\n",
    "    name_new_dir <- paste(name_new_dir_partial, \"/\", timepoints[time_point], sep = \"\")\n",
    "    if (!dir.exists(name_new_dir)) {\n",
    "        dir.create(name_new_dir)\n",
    "    }\n",
    "    print(paste(\"Saving PCA for time point\", timepoints[time_point], \"in\", name_new_dir))\n",
    "    save(sc_data, file = paste(name_new_dir, \"/Scaled_\", timepoints[time_point], \".Robj\", sep = \"\"))\n",
    "\n",
    "    return(sc_data)\n",
    "}"
   ]
  },
  {
   "cell_type": "markdown",
   "id": "a8e2728c-b2fb-4cdb-a93c-72f682981423",
   "metadata": {
    "jp-MarkdownHeadingCollapsed": true
   },
   "source": [
    "### PCA.cluster(sc_data, res)\n",
    "* Run PCA\n",
    "* Cluster the cells"
   ]
  },
  {
   "cell_type": "code",
   "execution_count": 14,
   "id": "bf548cd0-fc8e-4f29-afa9-69227e9c1017",
   "metadata": {},
   "outputs": [],
   "source": [
    "PCA.cluster <- function(sc_data, res){\n",
    "    print(paste(\"Running PCA and clustering for time point:\", timepoints[time_point]))\n",
    "    \n",
    "    # PCA\n",
    "    sc_data <- RunPCA(sc_data, npcs = 50, verbose = FALSE)\n",
    "    #print(ElbowPlot(object = sc_data, ndims = 50))\n",
    "\n",
    "    # Cluster the cells\n",
    "    sc_data <- FindNeighbors(sc_data, dims = 1:40)\n",
    "    sc_data <- FindClusters(sc_data, resolution = res)\n",
    "    \n",
    "    print(table(Idents(sc_data)))\n",
    "\n",
    "    # Save the PCA plot\n",
    "    name_new_dir <- paste(name_new_dir_partial, \"/\", timepoints[time_point], sep=\"\")\n",
    "    if (!dir.exists(name_new_dir)) {\n",
    "        dir.create(name_new_dir)\n",
    "    } \n",
    "\n",
    "    print(paste(\"Saving PCA for time point\", timepoints[time_point], \"in\", name_new_dir))\n",
    "    save(sc_data, file = paste(name_new_dir, \"/PCA_res_\",res,\"_\",timepoints[time_point],\".Robj\", sep=\"\"))\n",
    "\n",
    "    return(sc_data)\n",
    "}"
   ]
  },
  {
   "cell_type": "markdown",
   "id": "68ac5ae4-8ce1-4165-8f2b-8e3245095bca",
   "metadata": {
    "jp-MarkdownHeadingCollapsed": true
   },
   "source": [
    "### cluster.markers(sc_data)\n",
    "* find all markers for every cluster compared to all remaining cells"
   ]
  },
  {
   "cell_type": "code",
   "execution_count": 9,
   "id": "16f5ba61-7466-4b98-a69e-d04c183033ed",
   "metadata": {},
   "outputs": [],
   "source": [
    "# FIND ALL MARKERS\n",
    "cluster.markers <- function(sc_data) {\n",
    "    print(paste(\"Finding all markers for time point:\", timepoints[time_point]))\n",
    "\n",
    "    # Find all markers for every cluster compared to all remaining cells\n",
    "    cluster_markers <- FindAllMarkers(sc_data,\n",
    "                                        only.pos = TRUE,   # Considera solo i marker espressi positivamente\n",
    "                                        min.pct = 0.25,    # Percentuale minima di espressione nelle cellule del cluster\n",
    "                                        logfc.threshold = 0.25)  # Soglia minima di LogFC\n",
    "    \n",
    "    # Save the markers\n",
    "    name_new_dir <- paste(name_new_dir_partial, \"/\", timepoints[time_point], sep=\"\")     \n",
    "    if (!dir.exists(name_new_dir)) {\n",
    "        dir.create(name_new_dir)\n",
    "    } \n",
    "    \n",
    "    print(paste(\"Saving cluster markers for time point\", timepoints[time_point], \"in\", name_new_dir))\n",
    "    save(cluster_markers, file = paste(name_new_dir, \"/cluster_markers_\",timepoints[time_point],\".Robj\", sep=\"\"))\n",
    "\n",
    "    return(cluster_markers)\n",
    "}"
   ]
  },
  {
   "cell_type": "code",
   "execution_count": 10,
   "id": "6425e537-efc8-45fe-8a13-54bf38af1316",
   "metadata": {},
   "outputs": [],
   "source": [
    "# FIND CONSERVED MARKERS\n",
    "#FindConservedMarkers"
   ]
  },
  {
   "cell_type": "markdown",
   "id": "5bdc3aed-0860-4661-9a38-939be3adc71d",
   "metadata": {
    "jp-MarkdownHeadingCollapsed": true
   },
   "source": [
    "### Reload from partials\n",
    "* load.sc_data = up to scaleData()\n",
    "* load.cluster = clustered\n",
    "* load.markers = markers"
   ]
  },
  {
   "cell_type": "code",
   "execution_count": 11,
   "id": "f93f9f27-f893-4615-90ce-2137a328e8d2",
   "metadata": {},
   "outputs": [],
   "source": [
    "# RELOAD DATA\n",
    "load.sc_data <- function(time_point) {\n",
    "    name_new_dir <- paste(name_new_dir_partial, \"/\", timepoints[time_point], sep = \"\")\n",
    "    load(paste(name_new_dir, \"/cluster_markers_\", timepoints[time_point], \".Robj\", sep = \"\"))\n",
    "    return(sc_data)\n",
    "}\n",
    "\n",
    "load.clusters <- function(time_point, res) {\n",
    "    name_new_dir <- paste(name_new_dir_partial, \"/\", timepoints[time_point], sep = \"\")\n",
    "    load(paste(name_new_dir, \"/PCA_res_\", res, \"_\", timepoints[time_point], \".Robj\", sep = \"\"))\n",
    "    return(sc_data)\n",
    "}\n",
    "\n",
    "load.markers <- function(time_point) {\n",
    "    name_new_dir <- paste(name_new_dir_partial, \"/\", timepoints[time_point], sep = \"\")\n",
    "    load(paste(name_new_dir, \"/cluster_markers_\", timepoints[time_point], \".Robj\", sep = \"\"))\n",
    "    return(cluster_markers)\n",
    "}"
   ]
  },
  {
   "cell_type": "markdown",
   "id": "6883693a-842d-429a-8ff2-a70b748d1f31",
   "metadata": {
    "jp-MarkdownHeadingCollapsed": true
   },
   "source": [
    "### de.genes(genes_oi)\n",
    "* finds whether one or more genes of interest are differentialy expressed in the clusters\n",
    "* if no genes are specified this function assumes that **genes_oi** is **genes_of_interest**"
   ]
  },
  {
   "cell_type": "code",
   "execution_count": 19,
   "id": "36c1d832-bcc4-4902-91f6-9d947e603d89",
   "metadata": {},
   "outputs": [],
   "source": [
    "# FIND DIFFERENTIALLY EXPRESSED GENES\n",
    "de.genes <- function(genes_oi = genes_of_interest) {\n",
    "    print(paste(\"Finding differentially expressed genes for time point:\", timepoints[time_point]))\n",
    "\n",
    "    # Find differentially expressed genes\n",
    "    de_genes <- cluster_markers %>% filter(gene %in% genes_of_interest)\n",
    "    print(de_genes)\n",
    "\n",
    "    # Save the DE genes\n",
    "    name_new_dir <- paste(name_new_dir_results, \"/\", timepoints[time_point], sep = \"\")\n",
    "    if (!dir.exists(name_new_dir)) {\n",
    "        dir.create(name_new_dir)\n",
    "    }\n",
    "    print(paste(\"Saving differentially expressed genes for time point\", timepoints[time_point], \"in\", name_new_dir))\n",
    "    write.csv(de_genes, file = paste(name_new_dir, \"/de_genes_\", timepoints[time_point], \".csv\", sep = \"\"))\n",
    "\n",
    "    return(de_genes)\n",
    "}"
   ]
  },
  {
   "cell_type": "markdown",
   "id": "0256d2f0-2f8e-4cf3-b979-c066c3a7eaaa",
   "metadata": {},
   "source": [
    "# Compute"
   ]
  },
  {
   "cell_type": "markdown",
   "id": "7067c63e-839b-4bcc-9fbd-31254c766df2",
   "metadata": {},
   "source": [
    "## Operations on one dataset"
   ]
  },
  {
   "cell_type": "markdown",
   "id": "497dbadc-3ab6-4b05-ab1a-4239d836e68a",
   "metadata": {
    "jp-MarkdownHeadingCollapsed": true
   },
   "source": [
    "### Generate clusters "
   ]
  },
  {
   "cell_type": "code",
   "execution_count": 65,
   "id": "d0aa7c62-2b4e-4cfc-bdf4-9917c09b135c",
   "metadata": {
    "jupyter": {
     "source_hidden": true
    }
   },
   "outputs": [],
   "source": [
    "do.iteration <- function(time_point){\n",
    "    print(paste(\"Processing time point:\", timepoints[time_point]))\n",
    "\n",
    "    # LOAD LIBRARIES\n",
    "    library(Seurat)\n",
    "    library(tidyverse)\n",
    "    library(future)\n",
    "    library(ggplot2)\n",
    "    library(dplyr)\n",
    "    library(presto)\n",
    "    #library(enrichR)\n",
    "    library(cowplot)\n",
    "\n",
    "    # Load the data\n",
    "    sc_data <- load_data(time_point)\n",
    "    \n",
    "    # Run PCA and clustering\n",
    "    sc_data <- PCA_cluster(sc_data, res = 1)\n",
    "    \n",
    "    # Find all markers\n",
    "    cluster_markers <- cluster_markers(sc_data)\n",
    "}"
   ]
  },
  {
   "cell_type": "code",
   "execution_count": 43,
   "id": "c92d4a42-e6dd-42cf-920b-67518ff54414",
   "metadata": {
    "collapsed": true,
    "jupyter": {
     "outputs_hidden": true
    }
   },
   "outputs": [
    {
     "name": "stdout",
     "output_type": "stream",
     "text": [
      "[1] \"Processing time point: 23days\"\n",
      "[1] \"Loading data for time point: 23days\"\n"
     ]
    },
    {
     "name": "stderr",
     "output_type": "stream",
     "text": [
      "Normalizing layer: counts\n",
      "\n",
      "Finding variable features for layer data\n",
      "\n",
      "Centering and scaling data matrix\n",
      "\n"
     ]
    },
    {
     "name": "stdout",
     "output_type": "stream",
     "text": [
      "[1] \"Running PCA and clustering for time point: 23days\"\n"
     ]
    },
    {
     "name": "stderr",
     "output_type": "stream",
     "text": [
      "Computing nearest neighbor graph\n",
      "\n",
      "Computing SNN\n",
      "\n"
     ]
    },
    {
     "name": "stdout",
     "output_type": "stream",
     "text": [
      "Modularity Optimizer version 1.3.0 by Ludo Waltman and Nees Jan van Eck\n",
      "\n",
      "Number of nodes: 29736\n",
      "Number of edges: 1146654\n",
      "\n",
      "Running Louvain algorithm...\n",
      "Maximum modularity in 10 random starts: 0.9253\n",
      "Number of communities: 18\n",
      "Elapsed time: 5 seconds\n",
      "\n",
      "   0    1    2    3    4    5    6    7    8    9   10   11   12   13   14   15 \n",
      "7414 2507 2386 2257 2102 2024 2020 1909 1656 1554 1458 1021  475  400  246  116 \n",
      "  16   17 \n",
      " 106   85 \n",
      "[1] \"Finding all markers for time point: 23days\"\n"
     ]
    },
    {
     "name": "stderr",
     "output_type": "stream",
     "text": [
      "Calculating cluster 0\n",
      "\n",
      "Calculating cluster 1\n",
      "\n",
      "Calculating cluster 2\n",
      "\n",
      "Calculating cluster 3\n",
      "\n",
      "Calculating cluster 4\n",
      "\n",
      "Calculating cluster 5\n",
      "\n",
      "Calculating cluster 6\n",
      "\n",
      "Calculating cluster 7\n",
      "\n",
      "Calculating cluster 8\n",
      "\n",
      "Calculating cluster 9\n",
      "\n",
      "Calculating cluster 10\n",
      "\n",
      "Calculating cluster 11\n",
      "\n",
      "Calculating cluster 12\n",
      "\n",
      "Calculating cluster 13\n",
      "\n",
      "Calculating cluster 14\n",
      "\n",
      "Calculating cluster 15\n",
      "\n",
      "Calculating cluster 16\n",
      "\n",
      "Calculating cluster 17\n",
      "\n"
     ]
    },
    {
     "name": "stdout",
     "output_type": "stream",
     "text": [
      "[1] \"Finding differentially expressed genes for time point: 23days\"\n"
     ]
    },
    {
     "ename": "ERROR",
     "evalue": "Error in UseMethod(\"filter\"): no applicable method for 'filter' applied to an object of class \"function\"\n",
     "output_type": "error",
     "traceback": [
      "Error in UseMethod(\"filter\"): no applicable method for 'filter' applied to an object of class \"function\"\nTraceback:\n",
      "1. de_genes(genes_of_interest)",
      "2. cluster_markers %>% filter(gene %in% genes_of_interest)",
      "3. filter(., gene %in% genes_of_interest)",
      "4. .handleSimpleError(function (cnd) \n . {\n .     watcher$capture_plot_and_output()\n .     cnd <- sanitize_call(cnd)\n .     watcher$push(cnd)\n .     switch(on_error, continue = invokeRestart(\"eval_continue\"), \n .         stop = invokeRestart(\"eval_stop\"), error = NULL)\n . }, \"no applicable method for 'filter' applied to an object of class \\\"function\\\"\", \n .     base::quote(UseMethod(\"filter\")))"
     ]
    }
   ],
   "source": [
    "do_iteration(1)"
   ]
  },
  {
   "cell_type": "code",
   "execution_count": 49,
   "id": "d21ec0a8-a0a9-42b3-9d62-8fed839f5d19",
   "metadata": {},
   "outputs": [
    {
     "name": "stdout",
     "output_type": "stream",
     "text": [
      "[1] \"23days\"\n"
     ]
    }
   ],
   "source": [
    "time_point <- 1\n",
    "print(timepoints[time_point])"
   ]
  },
  {
   "cell_type": "code",
   "execution_count": 50,
   "id": "ebb8b4ce-f5b5-4613-a7c0-6b00a9e0db9c",
   "metadata": {
    "collapsed": true,
    "jupyter": {
     "outputs_hidden": true
    }
   },
   "outputs": [
    {
     "name": "stdout",
     "output_type": "stream",
     "text": [
      "[1] \"Loading data for time point: 23days\"\n"
     ]
    },
    {
     "name": "stderr",
     "output_type": "stream",
     "text": [
      "Normalizing layer: counts\n",
      "\n",
      "Finding variable features for layer data\n",
      "\n",
      "Centering and scaling data matrix\n",
      "\n"
     ]
    }
   ],
   "source": [
    "# Load the data\n",
    "sc_data <- load_data(time_point)"
   ]
  },
  {
   "cell_type": "code",
   "execution_count": 52,
   "id": "92b04676-ccca-4662-bd1c-371e7fc308ac",
   "metadata": {
    "collapsed": true,
    "jupyter": {
     "outputs_hidden": true
    }
   },
   "outputs": [
    {
     "name": "stdout",
     "output_type": "stream",
     "text": [
      "[1] \"Running PCA and clustering for time point: 23days\"\n"
     ]
    },
    {
     "name": "stderr",
     "output_type": "stream",
     "text": [
      "Computing nearest neighbor graph\n",
      "\n",
      "Computing SNN\n",
      "\n"
     ]
    },
    {
     "name": "stdout",
     "output_type": "stream",
     "text": [
      "Modularity Optimizer version 1.3.0 by Ludo Waltman and Nees Jan van Eck\n",
      "\n",
      "Number of nodes: 29736\n",
      "Number of edges: 1146654\n",
      "\n",
      "Running Louvain algorithm...\n",
      "Maximum modularity in 10 random starts: 0.8914\n",
      "Number of communities: 25\n",
      "Elapsed time: 6 seconds\n",
      "\n",
      "   0    1    2    3    4    5    6    7    8    9   10   11   12   13   14   15 \n",
      "5195 2314 2018 2001 1731 1659 1558 1476 1446 1341 1213 1185 1021  914  872  585 \n",
      "  16   17   18   19   20   21   22   23   24 \n",
      " 578  545  526  488  401  362  116  106   85 \n"
     ]
    }
   ],
   "source": [
    "# Run PCA and clustering\n",
    "sc_data <- PCA_cluster(sc_data, res = 1)"
   ]
  },
  {
   "cell_type": "markdown",
   "id": "aedd4c4c-ee56-47a4-acd7-b1c88f25edd0",
   "metadata": {
    "jp-MarkdownHeadingCollapsed": true
   },
   "source": [
    "### Markers and goi"
   ]
  },
  {
   "cell_type": "code",
   "execution_count": 53,
   "id": "d42b9c3c-5dd8-47bd-a261-94cb04f428f0",
   "metadata": {
    "collapsed": true,
    "jupyter": {
     "outputs_hidden": true
    }
   },
   "outputs": [
    {
     "name": "stdout",
     "output_type": "stream",
     "text": [
      "[1] \"Finding all markers for time point: 23days\"\n"
     ]
    },
    {
     "name": "stderr",
     "output_type": "stream",
     "text": [
      "Calculating cluster 0\n",
      "\n",
      "Calculating cluster 1\n",
      "\n",
      "Calculating cluster 2\n",
      "\n",
      "Calculating cluster 3\n",
      "\n",
      "Calculating cluster 4\n",
      "\n",
      "Calculating cluster 5\n",
      "\n",
      "Calculating cluster 6\n",
      "\n",
      "Calculating cluster 7\n",
      "\n",
      "Calculating cluster 8\n",
      "\n",
      "Calculating cluster 9\n",
      "\n",
      "Calculating cluster 10\n",
      "\n",
      "Calculating cluster 11\n",
      "\n",
      "Calculating cluster 12\n",
      "\n",
      "Calculating cluster 13\n",
      "\n",
      "Calculating cluster 14\n",
      "\n",
      "Calculating cluster 15\n",
      "\n",
      "Calculating cluster 16\n",
      "\n",
      "Calculating cluster 17\n",
      "\n",
      "Calculating cluster 18\n",
      "\n",
      "Calculating cluster 19\n",
      "\n",
      "Calculating cluster 20\n",
      "\n",
      "Calculating cluster 21\n",
      "\n",
      "Calculating cluster 22\n",
      "\n",
      "Calculating cluster 23\n",
      "\n",
      "Calculating cluster 24\n",
      "\n"
     ]
    }
   ],
   "source": [
    "# Find all markers\n",
    "cluster_markers <- cluster_markers(sc_data)"
   ]
  },
  {
   "cell_type": "code",
   "execution_count": 66,
   "id": "d8606e66-853d-4e17-ba0a-2bbb429e28df",
   "metadata": {
    "collapsed": true,
    "jupyter": {
     "outputs_hidden": true
    }
   },
   "outputs": [
    {
     "name": "stdout",
     "output_type": "stream",
     "text": [
      "[1] \"Finding differentially expressed genes for time point: 23days\"\n",
      "    p_val avg_log2FC pct.1 pct.2 p_val_adj cluster gene\n",
      "CIT     0   3.193657 0.291 0.025         0      10  CIT\n"
     ]
    }
   ],
   "source": [
    "# Find differentially expressed genes\n",
    "print(genes_of_interest)\n",
    "de_genes <- de.genes(genes_of_interest)"
   ]
  },
  {
   "cell_type": "markdown",
   "id": "cc5ea6b1-2cf7-4df4-bc77-ec5238575312",
   "metadata": {
    "jp-MarkdownHeadingCollapsed": true
   },
   "source": [
    "### Re-load data"
   ]
  },
  {
   "cell_type": "code",
   "execution_count": 15,
   "id": "911063c2-c25e-4537-924a-f46c1bd87ef2",
   "metadata": {},
   "outputs": [
    {
     "data": {
      "text/plain": [
       "Length  Class   Mode \n",
       "     1 Seurat     S4 "
      ]
     },
     "metadata": {},
     "output_type": "display_data"
    },
    {
     "data": {
      "text/html": [
       "<table class=\"dataframe\">\n",
       "<caption>A data.frame: 10 × 5</caption>\n",
       "<thead>\n",
       "\t<tr><th></th><th scope=col>orig.ident</th><th scope=col>nCount_RNA</th><th scope=col>nFeature_RNA</th><th scope=col>RNA_snn_res.1</th><th scope=col>seurat_clusters</th></tr>\n",
       "\t<tr><th></th><th scope=col>&lt;fct&gt;</th><th scope=col>&lt;dbl&gt;</th><th scope=col>&lt;int&gt;</th><th scope=col>&lt;fct&gt;</th><th scope=col>&lt;fct&gt;</th></tr>\n",
       "</thead>\n",
       "<tbody>\n",
       "\t<tr><th scope=row>1_AAACGAACACGTGAGA-1_1_23d</th><td>1_1_23d</td><td>3724</td><td> 536</td><td>5 </td><td>5 </td></tr>\n",
       "\t<tr><th scope=row>1_AAACGAAGTCGAAACG-1_1_23d</th><td>1_1_23d</td><td>9184</td><td>2310</td><td>5 </td><td>5 </td></tr>\n",
       "\t<tr><th scope=row>1_AAACGAAGTGGCAGAT-1_1_23d</th><td>1_1_23d</td><td>6357</td><td>2068</td><td>19</td><td>19</td></tr>\n",
       "\t<tr><th scope=row>1_AAACGAAGTGGTTCTA-1_1_23d</th><td>1_1_23d</td><td>3468</td><td>1292</td><td>17</td><td>17</td></tr>\n",
       "\t<tr><th scope=row>1_AAACGAAGTTGGCCGT-1_1_23d</th><td>1_1_23d</td><td>1809</td><td> 832</td><td>19</td><td>19</td></tr>\n",
       "\t<tr><th scope=row>1_AAACGAATCCTTCACG-1_1_23d</th><td>1_1_23d</td><td>7587</td><td>1985</td><td>5 </td><td>5 </td></tr>\n",
       "\t<tr><th scope=row>1_AAACGCTCAAGCGGAT-1_1_23d</th><td>1_1_23d</td><td>5924</td><td>1600</td><td>9 </td><td>9 </td></tr>\n",
       "\t<tr><th scope=row>1_AAACGCTCACTTCAAG-1_1_23d</th><td>1_1_23d</td><td>2264</td><td>1110</td><td>3 </td><td>3 </td></tr>\n",
       "\t<tr><th scope=row>1_AAACGCTCATCATCCC-1_1_23d</th><td>1_1_23d</td><td>9277</td><td>2441</td><td>19</td><td>19</td></tr>\n",
       "\t<tr><th scope=row>1_AAACGCTTCAGCATTG-1_1_23d</th><td>1_1_23d</td><td>7025</td><td>1798</td><td>9 </td><td>9 </td></tr>\n",
       "</tbody>\n",
       "</table>\n"
      ],
      "text/latex": [
       "A data.frame: 10 × 5\n",
       "\\begin{tabular}{r|lllll}\n",
       "  & orig.ident & nCount\\_RNA & nFeature\\_RNA & RNA\\_snn\\_res.1 & seurat\\_clusters\\\\\n",
       "  & <fct> & <dbl> & <int> & <fct> & <fct>\\\\\n",
       "\\hline\n",
       "\t1\\_AAACGAACACGTGAGA-1\\_1\\_23d & 1\\_1\\_23d & 3724 &  536 & 5  & 5 \\\\\n",
       "\t1\\_AAACGAAGTCGAAACG-1\\_1\\_23d & 1\\_1\\_23d & 9184 & 2310 & 5  & 5 \\\\\n",
       "\t1\\_AAACGAAGTGGCAGAT-1\\_1\\_23d & 1\\_1\\_23d & 6357 & 2068 & 19 & 19\\\\\n",
       "\t1\\_AAACGAAGTGGTTCTA-1\\_1\\_23d & 1\\_1\\_23d & 3468 & 1292 & 17 & 17\\\\\n",
       "\t1\\_AAACGAAGTTGGCCGT-1\\_1\\_23d & 1\\_1\\_23d & 1809 &  832 & 19 & 19\\\\\n",
       "\t1\\_AAACGAATCCTTCACG-1\\_1\\_23d & 1\\_1\\_23d & 7587 & 1985 & 5  & 5 \\\\\n",
       "\t1\\_AAACGCTCAAGCGGAT-1\\_1\\_23d & 1\\_1\\_23d & 5924 & 1600 & 9  & 9 \\\\\n",
       "\t1\\_AAACGCTCACTTCAAG-1\\_1\\_23d & 1\\_1\\_23d & 2264 & 1110 & 3  & 3 \\\\\n",
       "\t1\\_AAACGCTCATCATCCC-1\\_1\\_23d & 1\\_1\\_23d & 9277 & 2441 & 19 & 19\\\\\n",
       "\t1\\_AAACGCTTCAGCATTG-1\\_1\\_23d & 1\\_1\\_23d & 7025 & 1798 & 9  & 9 \\\\\n",
       "\\end{tabular}\n"
      ],
      "text/markdown": [
       "\n",
       "A data.frame: 10 × 5\n",
       "\n",
       "| <!--/--> | orig.ident &lt;fct&gt; | nCount_RNA &lt;dbl&gt; | nFeature_RNA &lt;int&gt; | RNA_snn_res.1 &lt;fct&gt; | seurat_clusters &lt;fct&gt; |\n",
       "|---|---|---|---|---|---|\n",
       "| 1_AAACGAACACGTGAGA-1_1_23d | 1_1_23d | 3724 |  536 | 5  | 5  |\n",
       "| 1_AAACGAAGTCGAAACG-1_1_23d | 1_1_23d | 9184 | 2310 | 5  | 5  |\n",
       "| 1_AAACGAAGTGGCAGAT-1_1_23d | 1_1_23d | 6357 | 2068 | 19 | 19 |\n",
       "| 1_AAACGAAGTGGTTCTA-1_1_23d | 1_1_23d | 3468 | 1292 | 17 | 17 |\n",
       "| 1_AAACGAAGTTGGCCGT-1_1_23d | 1_1_23d | 1809 |  832 | 19 | 19 |\n",
       "| 1_AAACGAATCCTTCACG-1_1_23d | 1_1_23d | 7587 | 1985 | 5  | 5  |\n",
       "| 1_AAACGCTCAAGCGGAT-1_1_23d | 1_1_23d | 5924 | 1600 | 9  | 9  |\n",
       "| 1_AAACGCTCACTTCAAG-1_1_23d | 1_1_23d | 2264 | 1110 | 3  | 3  |\n",
       "| 1_AAACGCTCATCATCCC-1_1_23d | 1_1_23d | 9277 | 2441 | 19 | 19 |\n",
       "| 1_AAACGCTTCAGCATTG-1_1_23d | 1_1_23d | 7025 | 1798 | 9  | 9  |\n",
       "\n"
      ],
      "text/plain": [
       "                           orig.ident nCount_RNA nFeature_RNA RNA_snn_res.1\n",
       "1_AAACGAACACGTGAGA-1_1_23d 1_1_23d    3724        536         5            \n",
       "1_AAACGAAGTCGAAACG-1_1_23d 1_1_23d    9184       2310         5            \n",
       "1_AAACGAAGTGGCAGAT-1_1_23d 1_1_23d    6357       2068         19           \n",
       "1_AAACGAAGTGGTTCTA-1_1_23d 1_1_23d    3468       1292         17           \n",
       "1_AAACGAAGTTGGCCGT-1_1_23d 1_1_23d    1809        832         19           \n",
       "1_AAACGAATCCTTCACG-1_1_23d 1_1_23d    7587       1985         5            \n",
       "1_AAACGCTCAAGCGGAT-1_1_23d 1_1_23d    5924       1600         9            \n",
       "1_AAACGCTCACTTCAAG-1_1_23d 1_1_23d    2264       1110         3            \n",
       "1_AAACGCTCATCATCCC-1_1_23d 1_1_23d    9277       2441         19           \n",
       "1_AAACGCTTCAGCATTG-1_1_23d 1_1_23d    7025       1798         9            \n",
       "                           seurat_clusters\n",
       "1_AAACGAACACGTGAGA-1_1_23d 5              \n",
       "1_AAACGAAGTCGAAACG-1_1_23d 5              \n",
       "1_AAACGAAGTGGCAGAT-1_1_23d 19             \n",
       "1_AAACGAAGTGGTTCTA-1_1_23d 17             \n",
       "1_AAACGAAGTTGGCCGT-1_1_23d 19             \n",
       "1_AAACGAATCCTTCACG-1_1_23d 5              \n",
       "1_AAACGCTCAAGCGGAT-1_1_23d 9              \n",
       "1_AAACGCTCACTTCAAG-1_1_23d 3              \n",
       "1_AAACGCTCATCATCCC-1_1_23d 19             \n",
       "1_AAACGCTTCAGCATTG-1_1_23d 9              "
      ]
     },
     "metadata": {},
     "output_type": "display_data"
    }
   ],
   "source": [
    "sc_data <- load.clusters(1,1)\n",
    "summary(sc_data)\n",
    "head(sc_data)"
   ]
  },
  {
   "cell_type": "code",
   "execution_count": 17,
   "id": "5e2c5248-cbc0-4037-8349-783f1fe9f11b",
   "metadata": {},
   "outputs": [
    {
     "data": {
      "text/plain": [
       "     p_val             avg_log2FC          pct.1            pct.2       \n",
       " Min.   :0.0000000   Min.   : 0.2500   Min.   :0.1660   Min.   :0.0000  \n",
       " 1st Qu.:0.0000000   1st Qu.: 0.4057   1st Qu.:0.3320   1st Qu.:0.1670  \n",
       " Median :0.0000000   Median : 0.6149   Median :0.4510   Median :0.2750  \n",
       " Mean   :0.0001977   Mean   : 0.9433   Mean   :0.5144   Mean   :0.3416  \n",
       " 3rd Qu.:0.0000000   3rd Qu.: 1.0466   3rd Qu.:0.6580   3rd Qu.:0.4570  \n",
       " Max.   :0.0099990   Max.   :13.8465   Max.   :1.0000   Max.   :0.9990  \n",
       "                                                                        \n",
       "   p_val_adj            cluster          gene          \n",
       " Min.   :0.0000000   10     : 1775   Length:19666      \n",
       " 1st Qu.:0.0000000   20     : 1569   Class :character  \n",
       " Median :0.0000000   7      : 1219   Mode  :character  \n",
       " Mean   :0.1123661   4      : 1214                     \n",
       " 3rd Qu.:0.0000035   23     : 1180                     \n",
       " Max.   :1.0000000   24     : 1140                     \n",
       "                     (Other):11569                     "
      ]
     },
     "metadata": {},
     "output_type": "display_data"
    },
    {
     "data": {
      "text/html": [
       "<table class=\"dataframe\">\n",
       "<caption>A data.frame: 6 × 7</caption>\n",
       "<thead>\n",
       "\t<tr><th></th><th scope=col>p_val</th><th scope=col>avg_log2FC</th><th scope=col>pct.1</th><th scope=col>pct.2</th><th scope=col>p_val_adj</th><th scope=col>cluster</th><th scope=col>gene</th></tr>\n",
       "\t<tr><th></th><th scope=col>&lt;dbl&gt;</th><th scope=col>&lt;dbl&gt;</th><th scope=col>&lt;dbl&gt;</th><th scope=col>&lt;dbl&gt;</th><th scope=col>&lt;dbl&gt;</th><th scope=col>&lt;fct&gt;</th><th scope=col>&lt;chr&gt;</th></tr>\n",
       "</thead>\n",
       "<tbody>\n",
       "\t<tr><th scope=row>SFRP1</th><td>0</td><td>1.4141370</td><td>0.966</td><td>0.539</td><td>0</td><td>0</td><td>SFRP1    </td></tr>\n",
       "\t<tr><th scope=row>LINC01551</th><td>0</td><td>1.5938643</td><td>0.764</td><td>0.341</td><td>0</td><td>0</td><td>LINC01551</td></tr>\n",
       "\t<tr><th scope=row>FABP7</th><td>0</td><td>1.1959399</td><td>0.931</td><td>0.530</td><td>0</td><td>0</td><td>FABP7    </td></tr>\n",
       "\t<tr><th scope=row>C1orf61</th><td>0</td><td>1.0454598</td><td>0.932</td><td>0.541</td><td>0</td><td>0</td><td>C1orf61  </td></tr>\n",
       "\t<tr><th scope=row>TTYH1</th><td>0</td><td>0.9771904</td><td>0.981</td><td>0.635</td><td>0</td><td>0</td><td>TTYH1    </td></tr>\n",
       "\t<tr><th scope=row>ID4</th><td>0</td><td>1.3536159</td><td>0.977</td><td>0.633</td><td>0</td><td>0</td><td>ID4      </td></tr>\n",
       "</tbody>\n",
       "</table>\n"
      ],
      "text/latex": [
       "A data.frame: 6 × 7\n",
       "\\begin{tabular}{r|lllllll}\n",
       "  & p\\_val & avg\\_log2FC & pct.1 & pct.2 & p\\_val\\_adj & cluster & gene\\\\\n",
       "  & <dbl> & <dbl> & <dbl> & <dbl> & <dbl> & <fct> & <chr>\\\\\n",
       "\\hline\n",
       "\tSFRP1 & 0 & 1.4141370 & 0.966 & 0.539 & 0 & 0 & SFRP1    \\\\\n",
       "\tLINC01551 & 0 & 1.5938643 & 0.764 & 0.341 & 0 & 0 & LINC01551\\\\\n",
       "\tFABP7 & 0 & 1.1959399 & 0.931 & 0.530 & 0 & 0 & FABP7    \\\\\n",
       "\tC1orf61 & 0 & 1.0454598 & 0.932 & 0.541 & 0 & 0 & C1orf61  \\\\\n",
       "\tTTYH1 & 0 & 0.9771904 & 0.981 & 0.635 & 0 & 0 & TTYH1    \\\\\n",
       "\tID4 & 0 & 1.3536159 & 0.977 & 0.633 & 0 & 0 & ID4      \\\\\n",
       "\\end{tabular}\n"
      ],
      "text/markdown": [
       "\n",
       "A data.frame: 6 × 7\n",
       "\n",
       "| <!--/--> | p_val &lt;dbl&gt; | avg_log2FC &lt;dbl&gt; | pct.1 &lt;dbl&gt; | pct.2 &lt;dbl&gt; | p_val_adj &lt;dbl&gt; | cluster &lt;fct&gt; | gene &lt;chr&gt; |\n",
       "|---|---|---|---|---|---|---|---|\n",
       "| SFRP1 | 0 | 1.4141370 | 0.966 | 0.539 | 0 | 0 | SFRP1     |\n",
       "| LINC01551 | 0 | 1.5938643 | 0.764 | 0.341 | 0 | 0 | LINC01551 |\n",
       "| FABP7 | 0 | 1.1959399 | 0.931 | 0.530 | 0 | 0 | FABP7     |\n",
       "| C1orf61 | 0 | 1.0454598 | 0.932 | 0.541 | 0 | 0 | C1orf61   |\n",
       "| TTYH1 | 0 | 0.9771904 | 0.981 | 0.635 | 0 | 0 | TTYH1     |\n",
       "| ID4 | 0 | 1.3536159 | 0.977 | 0.633 | 0 | 0 | ID4       |\n",
       "\n"
      ],
      "text/plain": [
       "          p_val avg_log2FC pct.1 pct.2 p_val_adj cluster gene     \n",
       "SFRP1     0     1.4141370  0.966 0.539 0         0       SFRP1    \n",
       "LINC01551 0     1.5938643  0.764 0.341 0         0       LINC01551\n",
       "FABP7     0     1.1959399  0.931 0.530 0         0       FABP7    \n",
       "C1orf61   0     1.0454598  0.932 0.541 0         0       C1orf61  \n",
       "TTYH1     0     0.9771904  0.981 0.635 0         0       TTYH1    \n",
       "ID4       0     1.3536159  0.977 0.633 0         0       ID4      "
      ]
     },
     "metadata": {},
     "output_type": "display_data"
    }
   ],
   "source": [
    "cluster_markers <- load.markers(1)\n",
    "summary(cluster_markers)\n",
    "head(cluster_markers)"
   ]
  },
  {
   "cell_type": "markdown",
   "id": "5b2a2c06-a46a-4f37-89ab-f512318b05e8",
   "metadata": {},
   "source": [
    "### continue"
   ]
  },
  {
   "cell_type": "code",
   "execution_count": null,
   "id": "6eb8c097-8c16-4484-be10-c6036a1e7250",
   "metadata": {},
   "outputs": [],
   "source": []
  },
  {
   "cell_type": "markdown",
   "id": "834ebbe3-cc98-4807-ad60-ce714c98e433",
   "metadata": {
    "jp-MarkdownHeadingCollapsed": true
   },
   "source": [
    "## other"
   ]
  },
  {
   "cell_type": "code",
   "execution_count": 67,
   "id": "e575eb83-c273-4c82-bc09-97f60ba16f30",
   "metadata": {
    "collapsed": true,
    "jupyter": {
     "outputs_hidden": true
    },
    "scrolled": true
   },
   "outputs": [
    {
     "name": "stdout",
     "output_type": "stream",
     "text": [
      "[1] \"Loading data for time point: 23days\"\n"
     ]
    },
    {
     "name": "stderr",
     "output_type": "stream",
     "text": [
      "Normalizing layer: counts\n",
      "\n",
      "Finding variable features for layer data\n",
      "\n",
      "Centering and scaling data matrix\n",
      "\n"
     ]
    },
    {
     "name": "stdout",
     "output_type": "stream",
     "text": [
      "[1] \"Running PCA and clustering for time point: 23days\"\n"
     ]
    },
    {
     "name": "stderr",
     "output_type": "stream",
     "text": [
      "Computing nearest neighbor graph\n",
      "\n",
      "Computing SNN\n",
      "\n"
     ]
    },
    {
     "name": "stdout",
     "output_type": "stream",
     "text": [
      "Modularity Optimizer version 1.3.0 by Ludo Waltman and Nees Jan van Eck\n",
      "\n",
      "Number of nodes: 29736\n",
      "Number of edges: 1146654\n",
      "\n",
      "Running Louvain algorithm...\n",
      "Maximum modularity in 10 random starts: 0.8914\n",
      "Number of communities: 25\n",
      "Elapsed time: 6 seconds\n",
      "\n",
      "   0    1    2    3    4    5    6    7    8    9   10   11   12   13   14   15 \n",
      "5195 2314 2018 2001 1731 1659 1558 1476 1446 1341 1213 1185 1021  914  872  585 \n",
      "  16   17   18   19   20   21   22   23   24 \n",
      " 578  545  526  488  401  362  116  106   85 \n",
      "[1] \"Finding all markers for time point: 23days\"\n"
     ]
    },
    {
     "name": "stderr",
     "output_type": "stream",
     "text": [
      "Calculating cluster 0\n",
      "\n",
      "Calculating cluster 1\n",
      "\n",
      "Calculating cluster 2\n",
      "\n",
      "Calculating cluster 3\n",
      "\n",
      "Calculating cluster 4\n",
      "\n",
      "Calculating cluster 5\n",
      "\n",
      "Calculating cluster 6\n",
      "\n",
      "Calculating cluster 7\n",
      "\n",
      "Calculating cluster 8\n",
      "\n",
      "Calculating cluster 9\n",
      "\n",
      "Calculating cluster 10\n",
      "\n",
      "Calculating cluster 11\n",
      "\n",
      "Calculating cluster 12\n",
      "\n",
      "Calculating cluster 13\n",
      "\n",
      "Calculating cluster 14\n",
      "\n",
      "Calculating cluster 15\n",
      "\n",
      "Calculating cluster 16\n",
      "\n",
      "Calculating cluster 17\n",
      "\n",
      "Calculating cluster 18\n",
      "\n",
      "Calculating cluster 19\n",
      "\n",
      "Calculating cluster 20\n",
      "\n",
      "Calculating cluster 21\n",
      "\n",
      "Calculating cluster 22\n",
      "\n",
      "Calculating cluster 23\n",
      "\n",
      "Calculating cluster 24\n",
      "\n"
     ]
    },
    {
     "name": "stdout",
     "output_type": "stream",
     "text": [
      "[1] \"Finding differentially expressed genes for time point: 23days\"\n",
      "    p_val avg_log2FC pct.1 pct.2 p_val_adj cluster gene\n",
      "CIT     0   3.193657 0.291 0.025         0      10  CIT\n",
      "[1] \"Loading data for time point: 1month\"\n"
     ]
    },
    {
     "name": "stderr",
     "output_type": "stream",
     "text": [
      "Warning message:\n",
      "“Input parameters result in NA values for initial cell identities. Setting all initial idents to the project name”\n",
      "Normalizing layer: counts\n",
      "\n",
      "Finding variable features for layer data\n",
      "\n",
      "Centering and scaling data matrix\n",
      "\n"
     ]
    },
    {
     "name": "stdout",
     "output_type": "stream",
     "text": [
      "[1] \"Running PCA and clustering for time point: 1month\"\n"
     ]
    },
    {
     "name": "stderr",
     "output_type": "stream",
     "text": [
      "Computing nearest neighbor graph\n",
      "\n",
      "Computing SNN\n",
      "\n"
     ]
    },
    {
     "name": "stdout",
     "output_type": "stream",
     "text": [
      "Modularity Optimizer version 1.3.0 by Ludo Waltman and Nees Jan van Eck\n",
      "\n",
      "Number of nodes: 71372\n",
      "Number of edges: 2685108\n",
      "\n",
      "Running Louvain algorithm...\n",
      "Maximum modularity in 10 random starts: 0.9116\n",
      "Number of communities: 42\n",
      "Elapsed time: 18 seconds\n"
     ]
    },
    {
     "name": "stderr",
     "output_type": "stream",
     "text": [
      "2 singletons identified. 40 final clusters.\n",
      "\n"
     ]
    },
    {
     "name": "stdout",
     "output_type": "stream",
     "text": [
      "\n",
      "   0    1    2    3    4    5    6    7    8    9   10   11   12   13   14   15 \n",
      "7162 5595 4269 4126 3764 3613 3064 3040 2673 2397 2218 2123 2043 2042 1935 1919 \n",
      "  16   17   18   19   20   21   22   23   24   25   26   27   28   29   30   31 \n",
      "1730 1617 1583 1439 1285 1267 1231 1158 1084 1007  774  739  669  579  522  483 \n",
      "  32   33   34   35   36   37   38   39 \n",
      " 403  358  346  296  251  222  195  151 \n",
      "[1] \"Finding all markers for time point: 1month\"\n"
     ]
    },
    {
     "name": "stderr",
     "output_type": "stream",
     "text": [
      "Calculating cluster 0\n",
      "\n",
      "Calculating cluster 1\n",
      "\n",
      "Calculating cluster 2\n",
      "\n",
      "Calculating cluster 3\n",
      "\n",
      "Calculating cluster 4\n",
      "\n",
      "Calculating cluster 5\n",
      "\n",
      "Calculating cluster 6\n",
      "\n",
      "Calculating cluster 7\n",
      "\n",
      "Calculating cluster 8\n",
      "\n",
      "Calculating cluster 9\n",
      "\n",
      "Calculating cluster 10\n",
      "\n",
      "Calculating cluster 11\n",
      "\n",
      "Calculating cluster 12\n",
      "\n",
      "Calculating cluster 13\n",
      "\n",
      "Calculating cluster 14\n",
      "\n",
      "Calculating cluster 15\n",
      "\n",
      "Calculating cluster 16\n",
      "\n",
      "Calculating cluster 17\n",
      "\n",
      "Calculating cluster 18\n",
      "\n",
      "Calculating cluster 19\n",
      "\n",
      "Calculating cluster 20\n",
      "\n",
      "Calculating cluster 21\n",
      "\n",
      "Calculating cluster 22\n",
      "\n",
      "Calculating cluster 23\n",
      "\n",
      "Calculating cluster 24\n",
      "\n",
      "Calculating cluster 25\n",
      "\n",
      "Calculating cluster 26\n",
      "\n",
      "Calculating cluster 27\n",
      "\n",
      "Calculating cluster 28\n",
      "\n",
      "Calculating cluster 29\n",
      "\n",
      "Calculating cluster 30\n",
      "\n",
      "Calculating cluster 31\n",
      "\n",
      "Calculating cluster 32\n",
      "\n",
      "Calculating cluster 33\n",
      "\n",
      "Calculating cluster 34\n",
      "\n",
      "Calculating cluster 35\n",
      "\n",
      "Calculating cluster 36\n",
      "\n",
      "Calculating cluster 37\n",
      "\n",
      "Calculating cluster 38\n",
      "\n",
      "Calculating cluster 39\n",
      "\n"
     ]
    },
    {
     "name": "stdout",
     "output_type": "stream",
     "text": [
      "[1] \"Finding differentially expressed genes for time point: 1month\"\n",
      "                  p_val avg_log2FC pct.1 pct.2     p_val_adj cluster     gene\n",
      "CIT        0.000000e+00  3.0578819 0.499 0.050  0.000000e+00      10      CIT\n",
      "KIAA1217  5.057354e-295  1.4059139 0.298 0.074 1.287349e-290      10 KIAA1217\n",
      "KIAA12171  0.000000e+00  1.8559716 0.312 0.074  0.000000e+00      12 KIAA1217\n",
      "SRCIN1    2.218181e-287  1.9409597 0.288 0.069 5.646380e-283      14   SRCIN1\n",
      "SRCIN11   4.036044e-218  2.3014914 0.272 0.070 1.027375e-213      17   SRCIN1\n",
      "SRCIN12   2.791548e-237  2.1693878 0.318 0.071 7.105884e-233      22   SRCIN1\n",
      "CIT1      1.750343e-100  1.8544184 0.256 0.062  4.455497e-96      27      CIT\n",
      "KIAA12172  0.000000e+00  1.3831897 0.590 0.077  0.000000e+00      30 KIAA1217\n",
      "CIT2      1.284798e-166  0.8506545 0.377 0.062 3.270452e-162      30      CIT\n",
      "SRCIN13    8.939078e-44  0.8892115 0.301 0.074  2.275442e-39      35   SRCIN1\n",
      "[1] \"Loading data for time point: 1.5month\"\n"
     ]
    },
    {
     "name": "stderr",
     "output_type": "stream",
     "text": [
      "Normalizing layer: counts\n",
      "\n",
      "Finding variable features for layer data\n",
      "\n",
      "Centering and scaling data matrix\n",
      "\n"
     ]
    },
    {
     "name": "stdout",
     "output_type": "stream",
     "text": [
      "[1] \"Running PCA and clustering for time point: 1.5month\"\n"
     ]
    },
    {
     "name": "stderr",
     "output_type": "stream",
     "text": [
      "Computing nearest neighbor graph\n",
      "\n",
      "Computing SNN\n",
      "\n"
     ]
    },
    {
     "name": "stdout",
     "output_type": "stream",
     "text": [
      "Modularity Optimizer version 1.3.0 by Ludo Waltman and Nees Jan van Eck\n",
      "\n",
      "Number of nodes: 38574\n",
      "Number of edges: 1423897\n",
      "\n",
      "Running Louvain algorithm...\n",
      "Maximum modularity in 10 random starts: 0.8644\n",
      "Number of communities: 22\n",
      "Elapsed time: 10 seconds\n",
      "\n",
      "   0    1    2    3    4    5    6    7    8    9   10   11   12   13   14   15 \n",
      "6027 3309 3182 3140 2870 2405 2359 2253 2064 1626 1417 1364 1222 1155 1024  998 \n",
      "  16   17   18   19   20   21 \n",
      " 784  642  517  133   54   29 \n",
      "[1] \"Finding all markers for time point: 1.5month\"\n"
     ]
    },
    {
     "name": "stderr",
     "output_type": "stream",
     "text": [
      "Calculating cluster 0\n",
      "\n",
      "Calculating cluster 1\n",
      "\n",
      "Calculating cluster 2\n",
      "\n",
      "Calculating cluster 3\n",
      "\n",
      "Calculating cluster 4\n",
      "\n",
      "Calculating cluster 5\n",
      "\n",
      "Calculating cluster 6\n",
      "\n",
      "Calculating cluster 7\n",
      "\n",
      "Calculating cluster 8\n",
      "\n",
      "Calculating cluster 9\n",
      "\n",
      "Calculating cluster 10\n",
      "\n",
      "Calculating cluster 11\n",
      "\n",
      "Calculating cluster 12\n",
      "\n",
      "Calculating cluster 13\n",
      "\n",
      "Calculating cluster 14\n",
      "\n",
      "Calculating cluster 15\n",
      "\n",
      "Calculating cluster 16\n",
      "\n",
      "Calculating cluster 17\n",
      "\n",
      "Calculating cluster 18\n",
      "\n",
      "Calculating cluster 19\n",
      "\n",
      "Calculating cluster 20\n",
      "\n",
      "Calculating cluster 21\n",
      "\n"
     ]
    },
    {
     "name": "stdout",
     "output_type": "stream",
     "text": [
      "[1] \"Finding differentially expressed genes for time point: 1.5month\"\n",
      "                 p_val avg_log2FC pct.1 pct.2     p_val_adj cluster     gene\n",
      "CIT       0.000000e+00   3.395686 0.363 0.031  0.000000e+00       9      CIT\n",
      "KIAA1217 3.513031e-121   1.022686 0.260 0.081 8.448487e-117       9 KIAA1217\n",
      "[1] \"Loading data for time point: 2month\"\n"
     ]
    },
    {
     "name": "stderr",
     "output_type": "stream",
     "text": [
      "Normalizing layer: counts\n",
      "\n",
      "Finding variable features for layer data\n",
      "\n",
      "Centering and scaling data matrix\n",
      "\n"
     ]
    },
    {
     "name": "stdout",
     "output_type": "stream",
     "text": [
      "[1] \"Running PCA and clustering for time point: 2month\"\n"
     ]
    },
    {
     "name": "stderr",
     "output_type": "stream",
     "text": [
      "Computing nearest neighbor graph\n",
      "\n",
      "Computing SNN\n",
      "\n"
     ]
    },
    {
     "name": "stdout",
     "output_type": "stream",
     "text": [
      "Modularity Optimizer version 1.3.0 by Ludo Waltman and Nees Jan van Eck\n",
      "\n",
      "Number of nodes: 39299\n",
      "Number of edges: 1569367\n",
      "\n",
      "Running Louvain algorithm...\n",
      "Maximum modularity in 10 random starts: 0.8836\n",
      "Number of communities: 23\n",
      "Elapsed time: 8 seconds\n",
      "\n",
      "   0    1    2    3    4    5    6    7    8    9   10   11   12   13   14   15 \n",
      "3858 3722 3368 2943 2866 2568 2146 2141 1651 1647 1396 1354 1261 1190 1155 1141 \n",
      "  16   17   18   19   20   21   22 \n",
      "1099  933  896  644  602  466  252 \n",
      "[1] \"Finding all markers for time point: 2month\"\n"
     ]
    },
    {
     "name": "stderr",
     "output_type": "stream",
     "text": [
      "Calculating cluster 0\n",
      "\n",
      "Calculating cluster 1\n",
      "\n",
      "Calculating cluster 2\n",
      "\n",
      "Calculating cluster 3\n",
      "\n",
      "Calculating cluster 4\n",
      "\n",
      "Calculating cluster 5\n",
      "\n",
      "Calculating cluster 6\n",
      "\n",
      "Calculating cluster 7\n",
      "\n",
      "Calculating cluster 8\n",
      "\n",
      "Calculating cluster 9\n",
      "\n",
      "Calculating cluster 10\n",
      "\n",
      "Calculating cluster 11\n",
      "\n",
      "Calculating cluster 12\n",
      "\n",
      "Calculating cluster 13\n",
      "\n",
      "Calculating cluster 14\n",
      "\n",
      "Calculating cluster 15\n",
      "\n",
      "Calculating cluster 16\n",
      "\n",
      "Calculating cluster 17\n",
      "\n",
      "Calculating cluster 18\n",
      "\n",
      "Calculating cluster 19\n",
      "\n",
      "Calculating cluster 20\n",
      "\n",
      "Calculating cluster 21\n",
      "\n",
      "Calculating cluster 22\n",
      "\n"
     ]
    },
    {
     "name": "stdout",
     "output_type": "stream",
     "text": [
      "[1] \"Finding differentially expressed genes for time point: 2month\"\n",
      "    p_val avg_log2FC pct.1 pct.2 p_val_adj cluster gene\n",
      "CIT     0   3.579014  0.29 0.019         0      21  CIT\n",
      "[1] \"Loading data for time point: 3month\"\n"
     ]
    },
    {
     "name": "stderr",
     "output_type": "stream",
     "text": [
      "Warning message:\n",
      "“Input parameters result in NA values for initial cell identities. Setting all initial idents to the project name”\n",
      "Normalizing layer: counts\n",
      "\n",
      "Finding variable features for layer data\n",
      "\n",
      "Centering and scaling data matrix\n",
      "\n"
     ]
    },
    {
     "name": "stdout",
     "output_type": "stream",
     "text": [
      "[1] \"Running PCA and clustering for time point: 3month\"\n"
     ]
    },
    {
     "name": "stderr",
     "output_type": "stream",
     "text": [
      "Computing nearest neighbor graph\n",
      "\n",
      "Computing SNN\n",
      "\n"
     ]
    },
    {
     "name": "stdout",
     "output_type": "stream",
     "text": [
      "Modularity Optimizer version 1.3.0 by Ludo Waltman and Nees Jan van Eck\n",
      "\n",
      "Number of nodes: 159533\n",
      "Number of edges: 5213586\n",
      "\n",
      "Running Louvain algorithm...\n",
      "Maximum modularity in 10 random starts: 0.8953\n",
      "Number of communities: 35\n",
      "Elapsed time: 66 seconds\n",
      "\n",
      "   0    1    2    3    4    5    6    7    8    9   10   11   12   13   14   15 \n",
      "9375 8465 8252 8244 7853 7389 7315 7017 6928 6673 6532 5708 5592 5015 4810 4751 \n",
      "  16   17   18   19   20   21   22   23   24   25   26   27   28   29   30   31 \n",
      "4735 4628 4597 4267 4098 3815 3673 3561 3384 2726 2564 2198 1822  806  677  620 \n",
      "  32   33   34 \n",
      " 556  450  437 \n",
      "[1] \"Finding all markers for time point: 3month\"\n"
     ]
    },
    {
     "name": "stderr",
     "output_type": "stream",
     "text": [
      "Calculating cluster 0\n",
      "\n",
      "Calculating cluster 1\n",
      "\n",
      "Calculating cluster 2\n",
      "\n",
      "Calculating cluster 3\n",
      "\n",
      "Calculating cluster 4\n",
      "\n",
      "Calculating cluster 5\n",
      "\n",
      "Calculating cluster 6\n",
      "\n",
      "Calculating cluster 7\n",
      "\n",
      "Calculating cluster 8\n",
      "\n",
      "Calculating cluster 9\n",
      "\n",
      "Calculating cluster 10\n",
      "\n",
      "Calculating cluster 11\n",
      "\n",
      "Calculating cluster 12\n",
      "\n",
      "Calculating cluster 13\n",
      "\n",
      "Calculating cluster 14\n",
      "\n",
      "Calculating cluster 15\n",
      "\n",
      "Calculating cluster 16\n",
      "\n",
      "Calculating cluster 17\n",
      "\n",
      "Calculating cluster 18\n",
      "\n",
      "Calculating cluster 19\n",
      "\n",
      "Calculating cluster 20\n",
      "\n",
      "Calculating cluster 21\n",
      "\n",
      "Calculating cluster 22\n",
      "\n",
      "Calculating cluster 23\n",
      "\n",
      "Calculating cluster 24\n",
      "\n",
      "Calculating cluster 25\n",
      "\n",
      "Calculating cluster 26\n",
      "\n",
      "Calculating cluster 27\n",
      "\n",
      "Calculating cluster 28\n",
      "\n",
      "Calculating cluster 29\n",
      "\n",
      "Calculating cluster 30\n",
      "\n",
      "Calculating cluster 31\n",
      "\n",
      "Calculating cluster 32\n",
      "\n",
      "Calculating cluster 33\n",
      "\n",
      "Calculating cluster 34\n",
      "\n"
     ]
    },
    {
     "name": "stdout",
     "output_type": "stream",
     "text": [
      "[1] \"Finding differentially expressed genes for time point: 3month\"\n",
      "                p_val avg_log2FC pct.1 pct.2     p_val_adj cluster   gene\n",
      "SRCIN1  4.995916e-286  0.9200953 0.261 0.128 1.358689e-281       0 SRCIN1\n",
      "SRCIN11  0.000000e+00  1.1170568 0.381 0.128  0.000000e+00      15 SRCIN1\n",
      "CIT      0.000000e+00  5.0454299 0.262 0.008  0.000000e+00      21    CIT\n",
      "SRCIN12 1.154626e-161  0.6847937 0.300 0.132 3.140120e-157      22 SRCIN1\n",
      "[1] \"Loading data for time point: 4month\"\n"
     ]
    },
    {
     "name": "stderr",
     "output_type": "stream",
     "text": [
      "Normalizing layer: counts\n",
      "\n",
      "Finding variable features for layer data\n",
      "\n",
      "Centering and scaling data matrix\n",
      "\n"
     ]
    },
    {
     "name": "stdout",
     "output_type": "stream",
     "text": [
      "[1] \"Running PCA and clustering for time point: 4month\"\n"
     ]
    },
    {
     "name": "stderr",
     "output_type": "stream",
     "text": [
      "Computing nearest neighbor graph\n",
      "\n",
      "Computing SNN\n",
      "\n"
     ]
    },
    {
     "name": "stdout",
     "output_type": "stream",
     "text": [
      "Modularity Optimizer version 1.3.0 by Ludo Waltman and Nees Jan van Eck\n",
      "\n",
      "Number of nodes: 38348\n",
      "Number of edges: 1433556\n",
      "\n",
      "Running Louvain algorithm...\n",
      "Maximum modularity in 10 random starts: 0.8553\n",
      "Number of communities: 24\n",
      "Elapsed time: 8 seconds\n"
     ]
    },
    {
     "name": "stderr",
     "output_type": "stream",
     "text": [
      "1 singletons identified. 23 final clusters.\n",
      "\n"
     ]
    },
    {
     "name": "stdout",
     "output_type": "stream",
     "text": [
      "\n",
      "   0    1    2    3    4    5    6    7    8    9   10   11   12   13   14   15 \n",
      "3654 3231 3149 2453 2450 2395 2382 2222 2170 2073 1813 1801 1753 1522 1276 1096 \n",
      "  16   17   18   19   20   21   22 \n",
      " 889  738  596  292  276   67   50 \n",
      "[1] \"Finding all markers for time point: 4month\"\n"
     ]
    },
    {
     "name": "stderr",
     "output_type": "stream",
     "text": [
      "Calculating cluster 0\n",
      "\n",
      "Calculating cluster 1\n",
      "\n",
      "Calculating cluster 2\n",
      "\n",
      "Calculating cluster 3\n",
      "\n",
      "Calculating cluster 4\n",
      "\n",
      "Calculating cluster 5\n",
      "\n",
      "Calculating cluster 6\n",
      "\n",
      "Calculating cluster 7\n",
      "\n",
      "Calculating cluster 8\n",
      "\n",
      "Calculating cluster 9\n",
      "\n",
      "Calculating cluster 10\n",
      "\n",
      "Calculating cluster 11\n",
      "\n",
      "Calculating cluster 12\n",
      "\n",
      "Calculating cluster 13\n",
      "\n",
      "Calculating cluster 14\n",
      "\n",
      "Calculating cluster 15\n",
      "\n",
      "Calculating cluster 16\n",
      "\n",
      "Calculating cluster 17\n",
      "\n",
      "Calculating cluster 18\n",
      "\n",
      "Calculating cluster 19\n",
      "\n",
      "Calculating cluster 20\n",
      "\n",
      "Calculating cluster 21\n",
      "\n",
      "Calculating cluster 22\n",
      "\n"
     ]
    },
    {
     "name": "stdout",
     "output_type": "stream",
     "text": [
      "[1] \"Finding differentially expressed genes for time point: 4month\"\n",
      "                p_val avg_log2FC pct.1 pct.2    p_val_adj cluster     gene\n",
      "SRCIN1   2.412781e-68  0.2853202 0.313 0.156 5.862334e-64       3   SRCIN1\n",
      "SRCIN11  6.633565e-59  0.3596337 0.324 0.158 1.611757e-54      10   SRCIN1\n",
      "CIT      0.000000e+00  4.1216672 0.252 0.011 0.000000e+00      15      CIT\n",
      "CIT1     0.000000e+00  4.4161824 0.317 0.012 0.000000e+00      17      CIT\n",
      "KIAA1217 3.103031e-98  4.2831081 0.260 0.007 7.539434e-94      22 KIAA1217\n",
      "[1] \"Loading data for time point: 5month\"\n"
     ]
    },
    {
     "name": "stderr",
     "output_type": "stream",
     "text": [
      "Normalizing layer: counts\n",
      "\n",
      "Finding variable features for layer data\n",
      "\n",
      "Centering and scaling data matrix\n",
      "\n"
     ]
    },
    {
     "name": "stdout",
     "output_type": "stream",
     "text": [
      "[1] \"Running PCA and clustering for time point: 5month\"\n"
     ]
    },
    {
     "name": "stderr",
     "output_type": "stream",
     "text": [
      "Computing nearest neighbor graph\n",
      "\n",
      "Computing SNN\n",
      "\n"
     ]
    },
    {
     "name": "stdout",
     "output_type": "stream",
     "text": [
      "Modularity Optimizer version 1.3.0 by Ludo Waltman and Nees Jan van Eck\n",
      "\n",
      "Number of nodes: 31787\n",
      "Number of edges: 1226270\n",
      "\n",
      "Running Louvain algorithm...\n",
      "Maximum modularity in 10 random starts: 0.8775\n",
      "Number of communities: 28\n",
      "Elapsed time: 6 seconds\n",
      "\n",
      "   0    1    2    3    4    5    6    7    8    9   10   11   12   13   14   15 \n",
      "2631 2568 1907 1845 1821 1595 1548 1532 1522 1489 1295 1220 1059  988  933  920 \n",
      "  16   17   18   19   20   21   22   23   24   25   26   27 \n",
      " 860  847  825  818  780  757  485  445  367  301  243  186 \n",
      "[1] \"Finding all markers for time point: 5month\"\n"
     ]
    },
    {
     "name": "stderr",
     "output_type": "stream",
     "text": [
      "Calculating cluster 0\n",
      "\n",
      "Calculating cluster 1\n",
      "\n",
      "Calculating cluster 2\n",
      "\n",
      "Calculating cluster 3\n",
      "\n",
      "Calculating cluster 4\n",
      "\n",
      "Calculating cluster 5\n",
      "\n",
      "Calculating cluster 6\n",
      "\n",
      "Calculating cluster 7\n",
      "\n",
      "Calculating cluster 8\n",
      "\n",
      "Calculating cluster 9\n",
      "\n",
      "Calculating cluster 10\n",
      "\n",
      "Calculating cluster 11\n",
      "\n",
      "Calculating cluster 12\n",
      "\n",
      "Calculating cluster 13\n",
      "\n",
      "Calculating cluster 14\n",
      "\n",
      "Calculating cluster 15\n",
      "\n",
      "Calculating cluster 16\n",
      "\n",
      "Calculating cluster 17\n",
      "\n",
      "Calculating cluster 18\n",
      "\n",
      "Calculating cluster 19\n",
      "\n",
      "Calculating cluster 20\n",
      "\n",
      "Calculating cluster 21\n",
      "\n",
      "Calculating cluster 22\n",
      "\n",
      "Calculating cluster 23\n",
      "\n",
      "Calculating cluster 24\n",
      "\n",
      "Calculating cluster 25\n",
      "\n",
      "Calculating cluster 26\n",
      "\n",
      "Calculating cluster 27\n",
      "\n"
     ]
    },
    {
     "name": "stdout",
     "output_type": "stream",
     "text": [
      "[1] \"Finding differentially expressed genes for time point: 5month\"\n",
      "               p_val avg_log2FC pct.1 pct.2    p_val_adj cluster   gene\n",
      "SRCIN1  4.165019e-65  0.7577704 0.339 0.179 1.020388e-60       2 SRCIN1\n",
      "SRCIN11 1.860665e-17  0.6270709 0.272 0.184 4.558444e-13       7 SRCIN1\n",
      "SRCIN12 9.039536e-34  0.7906775 0.297 0.183 2.214596e-29       8 SRCIN1\n",
      "SRCIN13 3.705076e-36  0.7583852 0.306 0.183 9.077065e-32       9 SRCIN1\n",
      "SRCIN14 1.506956e-08  0.5294067 0.256 0.187 3.691892e-04      14 SRCIN1\n",
      "CIT     0.000000e+00  4.0456348 0.413 0.022 0.000000e+00      16    CIT\n",
      "SRCIN15 1.363851e-10  0.2839111 0.315 0.187 3.341299e-06      22 SRCIN1\n",
      "SRCIN16 5.460312e-16  0.2993655 0.468 0.187 1.337722e-11      27 SRCIN1\n",
      "[1] \"Loading data for time point: 6month\"\n"
     ]
    },
    {
     "name": "stderr",
     "output_type": "stream",
     "text": [
      "Warning message:\n",
      "“Input parameters result in NA values for initial cell identities. Setting all initial idents to the project name”\n",
      "Normalizing layer: counts\n",
      "\n",
      "Finding variable features for layer data\n",
      "\n",
      "Centering and scaling data matrix\n",
      "\n"
     ]
    },
    {
     "name": "stdout",
     "output_type": "stream",
     "text": [
      "[1] \"Running PCA and clustering for time point: 6month\"\n"
     ]
    },
    {
     "name": "stderr",
     "output_type": "stream",
     "text": [
      "Computing nearest neighbor graph\n",
      "\n",
      "Computing SNN\n",
      "\n"
     ]
    },
    {
     "name": "stdout",
     "output_type": "stream",
     "text": [
      "Modularity Optimizer version 1.3.0 by Ludo Waltman and Nees Jan van Eck\n",
      "\n",
      "Number of nodes: 123765\n",
      "Number of edges: 4127244\n",
      "\n",
      "Running Louvain algorithm...\n",
      "Maximum modularity in 10 random starts: 0.8981\n",
      "Number of communities: 33\n",
      "Elapsed time: 42 seconds\n",
      "\n",
      "    0     1     2     3     4     5     6     7     8     9    10    11    12 \n",
      "10998 10702  9669  7258  6548  6121  6007  5257  4971  4968  4336  4171  4034 \n",
      "   13    14    15    16    17    18    19    20    21    22    23    24    25 \n",
      " 3948  3688  3611  3253  3235  3216  2454  2172  1956  1845  1797  1552  1291 \n",
      "   26    27    28    29    30    31    32 \n",
      " 1158   821   800   677   609   525   117 \n",
      "[1] \"Finding all markers for time point: 6month\"\n"
     ]
    },
    {
     "name": "stderr",
     "output_type": "stream",
     "text": [
      "Calculating cluster 0\n",
      "\n",
      "Calculating cluster 1\n",
      "\n",
      "Calculating cluster 2\n",
      "\n",
      "Calculating cluster 3\n",
      "\n",
      "Calculating cluster 4\n",
      "\n",
      "Calculating cluster 5\n",
      "\n",
      "Calculating cluster 6\n",
      "\n",
      "Calculating cluster 7\n",
      "\n",
      "Calculating cluster 8\n",
      "\n",
      "Calculating cluster 9\n",
      "\n",
      "Calculating cluster 10\n",
      "\n",
      "Calculating cluster 11\n",
      "\n",
      "Calculating cluster 12\n",
      "\n",
      "Calculating cluster 13\n",
      "\n",
      "Calculating cluster 14\n",
      "\n",
      "Calculating cluster 15\n",
      "\n",
      "Calculating cluster 16\n",
      "\n",
      "Calculating cluster 17\n",
      "\n",
      "Calculating cluster 18\n",
      "\n",
      "Calculating cluster 19\n",
      "\n",
      "Calculating cluster 20\n",
      "\n",
      "Calculating cluster 21\n",
      "\n",
      "Calculating cluster 22\n",
      "\n",
      "Calculating cluster 23\n",
      "\n",
      "Calculating cluster 24\n",
      "\n",
      "Calculating cluster 25\n",
      "\n",
      "Calculating cluster 26\n",
      "\n",
      "Calculating cluster 27\n",
      "\n",
      "Calculating cluster 28\n",
      "\n",
      "Calculating cluster 29\n",
      "\n",
      "Calculating cluster 30\n",
      "\n",
      "Calculating cluster 31\n",
      "\n",
      "Calculating cluster 32\n",
      "\n"
     ]
    },
    {
     "name": "stdout",
     "output_type": "stream",
     "text": [
      "[1] \"Finding differentially expressed genes for time point: 6month\"\n",
      "                p_val avg_log2FC pct.1 pct.2     p_val_adj cluster   gene\n",
      "SRCIN1   2.278055e-80  0.4779396 0.261 0.074  5.959165e-76      27 SRCIN1\n",
      "SRCIN11 3.216065e-113  1.3244443 0.345 0.074 8.412904e-109      31 SRCIN1\n"
     ]
    }
   ],
   "source": [
    "for (time_point in 1:8) {\n",
    "    # Load the data\n",
    "    sc_data <- load.data(time_point)\n",
    "\n",
    "    # Run PCA and clustering\n",
    "    sc_data <- PCA.cluster(sc_data, res = 1)\n",
    "    \n",
    "    # Find all markers\n",
    "    cluster_markers <- cluster.markers(sc_data)\n",
    "    \n",
    "    # Find differentially expressed genes\n",
    "    de_genes <- de.genes(genes_of_interest)\n",
    "}"
   ]
  },
  {
   "cell_type": "code",
   "execution_count": 34,
   "id": "baf008c2-2d1e-4510-97cd-2f8f695b0deb",
   "metadata": {
    "jupyter": {
     "source_hidden": true
    }
   },
   "outputs": [],
   "source": [
    "# Plotting\n",
    "plotting <- function(sc_data, genes_oi){\n",
    "  # Plot the expression of the genes of interest\n",
    "  for (gene in genes_oi) {\n",
    "    p1 <- FeaturePlot(sc_data, features = gene, cols = c(\"lightgrey\", \"blue\"), pt.size = 0.5) + \n",
    "      ggtitle(paste(\"Expression of\", gene)) + \n",
    "      theme_minimal()\n",
    "    \n",
    "    # Save the plot\n",
    "    ggsave(filename = paste(name_new_dir_partial, \"/FeaturePlot_\", gene, \"_\", timepoints[time_point], \".png\", sep=\"\"), plot = p1)\n",
    "  }\n",
    "}"
   ]
  },
  {
   "cell_type": "code",
   "execution_count": 35,
   "id": "f311c99f-901d-4204-bd6d-c2474502c065",
   "metadata": {
    "collapsed": true,
    "jupyter": {
     "outputs_hidden": true,
     "source_hidden": true
    }
   },
   "outputs": [
    {
     "name": "stderr",
     "output_type": "stream",
     "text": [
      "\u001b[1m\u001b[22mSaving 7 x 7 in image\n",
      "\u001b[1m\u001b[22mSaving 7 x 7 in image\n",
      "\u001b[1m\u001b[22mSaving 7 x 7 in image\n",
      "\u001b[1m\u001b[22mSaving 7 x 7 in image\n",
      "\u001b[1m\u001b[22mSaving 7 x 7 in image\n",
      "\u001b[1m\u001b[22mSaving 7 x 7 in image\n",
      "\u001b[1m\u001b[22mSaving 7 x 7 in image\n",
      "\u001b[1m\u001b[22mSaving 7 x 7 in image\n",
      "\u001b[1m\u001b[22mSaving 7 x 7 in image\n",
      "\u001b[1m\u001b[22mSaving 7 x 7 in image\n"
     ]
    }
   ],
   "source": [
    "plotting(sc_data, housekeeping_genes)\n",
    "# Plot the expression of the genes of interest\n",
    "plotting(sc_data, genes_of_interest)\n",
    "# Plot the expression of the housekeeping genes and genes of interest together\n",
    "plotting(sc_data, c(housekeeping_genes, genes_of_interest))"
   ]
  },
  {
   "cell_type": "code",
   "execution_count": 12,
   "id": "61c136bd-2a7d-4d29-b291-17e3b34ad7d8",
   "metadata": {},
   "outputs": [],
   "source": [
    "sc_data <- load.clusters(1,1)\n",
    "cluster_markers <- load.markers(1)"
   ]
  },
  {
   "cell_type": "code",
   "execution_count": null,
   "id": "478cdaff-8a25-4371-b467-68583d52e065",
   "metadata": {},
   "outputs": [],
   "source": []
  }
 ],
 "metadata": {
  "kernelspec": {
   "display_name": "R",
   "language": "R",
   "name": "ir"
  },
  "language_info": {
   "codemirror_mode": "r",
   "file_extension": ".r",
   "mimetype": "text/x-r-source",
   "name": "R",
   "pygments_lexer": "r",
   "version": "4.1.0"
  }
 },
 "nbformat": 4,
 "nbformat_minor": 5
}
