{
 "cells": [
  {
   "cell_type": "code",
   "execution_count": 2,
   "id": "016bdfeb-4bcd-4275-898b-ef70f41810ba",
   "metadata": {},
   "outputs": [],
   "source": [
    "# LOAD LIBRARIES\n",
    "library(Seurat)\n",
    "library(tidyverse)\n",
    "library(future)\n",
    "library(ggplot2)\n",
    "library(dplyr)\n",
    "library(presto)\n",
    "library(cowplot)"
   ]
  },
  {
   "cell_type": "code",
   "execution_count": 21,
   "id": "83c880fd-ebcf-47ae-b0a1-6937b36d9539",
   "metadata": {},
   "outputs": [],
   "source": [
    "#install.packages(\"openai\")\n",
    "#remotes::install_github(\"Winnie09/GPTCelltype\")\n",
    "#install.packages(\"enrichR\")\n",
    "\n",
    "# Cell annotation\n",
    "library(enrichR)\n",
    "library(GPTCelltype)\n",
    "library(openai)"
   ]
  },
  {
   "cell_type": "code",
   "execution_count": 4,
   "id": "bd56ce15-ab6e-4772-83a3-f838d5223758",
   "metadata": {},
   "outputs": [],
   "source": [
    "# SET UP NAMES\n",
    "timepoints <- c(\"23days\", \"1month\", \"1.5month\", \"2month\", \"3month\", \"4month\", \"5month\", \"6month\")\n",
    "housekeeping_genes <- c(\"ACTB\", \"DLG4\")\n",
    "genes_of_interest <- c(\"SRCIN1\", \"KIAA1217\", \"CIT\")\n",
    "path_to_data <- \"/sharedFolder/data_organoidi_velasco/Data/\"\n",
    "\n",
    "name_new_dir_results <- paste(getwd(), \"/Results\", sep = \"\")\n",
    "if (!dir.exists(name_new_dir_results)) {\n",
    "    dir.create(name_new_dir_results)\n",
    "}\n",
    "\n",
    "name_new_dir_partial <- paste(getwd(), \"/Partial\", sep = \"\")\n",
    "if (!dir.exists(name_new_dir_partial)) {\n",
    "    dir.create(name_new_dir_partial)\n",
    "}"
   ]
  },
  {
   "cell_type": "code",
   "execution_count": 5,
   "id": "203f5169-ec1b-4708-a278-854c804aabf0",
   "metadata": {},
   "outputs": [],
   "source": [
    "for (a in 1:8) {\n",
    "    name_new_dir <- paste(name_new_dir_partial, \"/\", timepoints[a], sep=\"\")     \n",
    "    if (!dir.exists(name_new_dir)) {\n",
    "        dir.create(name_new_dir)\n",
    "    }\n",
    "    name_new_dir <- paste(name_new_dir_results, \"/\", timepoints[a], sep=\"\")     \n",
    "    if (!dir.exists(name_new_dir)) {\n",
    "        dir.create(name_new_dir)\n",
    "    }  \n",
    "}"
   ]
  },
  {
   "cell_type": "code",
   "execution_count": 8,
   "id": "2fc368d6-46d9-43e3-a2e8-7e8135e8075f",
   "metadata": {},
   "outputs": [],
   "source": [
    "# LOAD DATA, NORMALIZE, FIND VARIABLE FEATURES, SCALE DATA\n",
    "load.data <- function(time_point) {\n",
    "    print(paste(\"Loading data for time point:\", timepoints[time_point]))\n",
    "\n",
    "    # Load the data\n",
    "    sc_data <- Read10X(data.dir = paste(path_to_data, \"expression_\", timepoints[time_point], sep = \"\"), gene.column = 1)\n",
    "\n",
    "    # Create Seurat object\n",
    "    sc_data <- CreateSeuratObject(counts = sc_data, min.cells = 3, min.features = 500, project = timepoints[time_point], names.delim = \"-\", names.field = 2)\n",
    "\n",
    "    # Normalize the data\n",
    "    sc_data <- NormalizeData(sc_data, normalization.method = \"LogNormalize\", scale.factor = 1e6)\n",
    "\n",
    "    # Find variable features\n",
    "    sc_data <- FindVariableFeatures(sc_data, selection.method = \"mvp\", nfeatures = 2000)\n",
    "\n",
    "    # Scale the data\n",
    "    sc_data <- ScaleData(sc_data)\n",
    "\n",
    "    # Save the Scaled data\n",
    "    name_new_dir <- paste(name_new_dir_partial, \"/\", timepoints[time_point], sep = \"\")\n",
    "    if (!dir.exists(name_new_dir)) {\n",
    "        dir.create(name_new_dir)\n",
    "    }\n",
    "    print(paste(\"Saving PCA for time point\", timepoints[time_point], \"in\", name_new_dir))\n",
    "    save(sc_data, file = paste(name_new_dir, \"/Scaled_\", timepoints[time_point], \".Robj\", sep = \"\"))\n",
    "\n",
    "    return(sc_data)\n",
    "}"
   ]
  },
  {
   "cell_type": "code",
   "execution_count": 6,
   "id": "bf548cd0-fc8e-4f29-afa9-69227e9c1017",
   "metadata": {},
   "outputs": [],
   "source": [
    "# PCA&Clusterization \n",
    "PCA.cluster <- function(sc_data, res){\n",
    "    print(paste(\"Running PCA and clustering for time point:\", timepoints[time_point]))\n",
    "    \n",
    "    # PCA\n",
    "    sc_data <- RunPCA(sc_data, npcs = 50, verbose = FALSE)\n",
    "    #print(ElbowPlot(object = sc_data, ndims = 50))\n",
    "\n",
    "    # Cluster the cells\n",
    "    sc_data <- FindNeighbors(sc_data, dims = 1:40)\n",
    "    sc_data <- FindClusters(sc_data, resolution = res)\n",
    "    \n",
    "    print(table(Idents(sc_data)))\n",
    "\n",
    "    # Save the PCA plot\n",
    "    name_new_dir <- paste(name_new_dir_partial, \"/\", timepoints[time_point], sep=\"\")\n",
    "    if (!dir.exists(name_new_dir)) {\n",
    "        dir.create(name_new_dir)\n",
    "    } \n",
    "\n",
    "    print(paste(\"Saving PCA for time point\", timepoints[time_point], \"in\", name_new_dir))\n",
    "    save(sc_data, file = paste(name_new_dir, \"/PCA_res_\",res,\"_\",timepoints[time_point],\".Robj\", sep=\"\"))\n",
    "\n",
    "    return(sc_data)\n",
    "}"
   ]
  },
  {
   "cell_type": "code",
   "execution_count": 7,
   "id": "16f5ba61-7466-4b98-a69e-d04c183033ed",
   "metadata": {},
   "outputs": [],
   "source": [
    "# FIND ALL MARKERS\n",
    "cluster.markers <- function(sc_data) {\n",
    "    print(paste(\"Finding all markers for time point:\", timepoints[time_point]))\n",
    "\n",
    "    # Find all markers for every cluster compared to all remaining cells\n",
    "    cluster_markers <- FindAllMarkers(sc_data,\n",
    "                                        only.pos = TRUE,   # Considera solo i marker espressi positivamente\n",
    "                                        min.pct = 0.25,    # Percentuale minima di espressione nelle cellule del cluster\n",
    "                                        logfc.threshold = 0.25)  # Soglia minima di LogFC\n",
    "    \n",
    "    # Save the markers\n",
    "    name_new_dir <- paste(name_new_dir_partial, \"/\", timepoints[time_point], sep=\"\")     \n",
    "    if (!dir.exists(name_new_dir)) {\n",
    "        dir.create(name_new_dir)\n",
    "    } \n",
    "    \n",
    "    print(paste(\"Saving cluster markers for time point\", timepoints[time_point], \"in\", name_new_dir))\n",
    "    save(cluster_markers, file = paste(name_new_dir, \"/cluster_markers_\",timepoints[time_point],\".Robj\", sep=\"\"))\n",
    "\n",
    "    return(cluster_markers)\n",
    "}"
   ]
  },
  {
   "cell_type": "code",
   "execution_count": 16,
   "id": "6425e537-efc8-45fe-8a13-54bf38af1316",
   "metadata": {},
   "outputs": [],
   "source": [
    "# FIND CONSERVED MARKERS\n",
    "#FindConservedMarkers"
   ]
  },
  {
   "cell_type": "code",
   "execution_count": 10,
   "id": "f93f9f27-f893-4615-90ce-2137a328e8d2",
   "metadata": {},
   "outputs": [],
   "source": [
    "# RELOAD DATA\n",
    "load.sc_data <- function(time_point) {\n",
    "    name_new_dir <- paste(name_new_dir_partial, \"/\", timepoints[time_point], sep = \"\")\n",
    "    load(paste(name_new_dir, \"/cluster_markers_\", timepoints[time_point], \".Robj\", sep = \"\"))\n",
    "    return(sc_data)\n",
    "}\n",
    "\n",
    "load.clusters <- function(time_point, res) {\n",
    "    name_new_dir <- paste(name_new_dir_partial, \"/\", timepoints[time_point], sep = \"\")\n",
    "    load(paste(name_new_dir, \"/PCA_res_\", res, \"_\", timepoints[time_point], \".Robj\", sep = \"\"))\n",
    "    return(sc_data)\n",
    "}\n",
    "\n",
    "load.markers <- function(time_point) {\n",
    "    name_new_dir <- paste(name_new_dir_partial, \"/\", timepoints[time_point], sep = \"\")\n",
    "    load(paste(name_new_dir, \"/cluster_markers_\", timepoints[time_point], \".Robj\", sep = \"\"))\n",
    "    return(cluster_markers)\n",
    "}"
   ]
  },
  {
   "cell_type": "code",
   "execution_count": 11,
   "id": "36c1d832-bcc4-4902-91f6-9d947e603d89",
   "metadata": {},
   "outputs": [],
   "source": [
    "# FIND DIFFERENTIALLY EXPRESSED GENES\n",
    "de.genes <- function(genes_oi) {\n",
    "    print(paste(\"Finding differentially expressed genes for time point:\", timepoints[time_point]))\n",
    "\n",
    "    # Find differentially expressed genes\n",
    "    de_genes <- cluster_markers %>% filter(gene %in% genes_of_interest)\n",
    "    print(de_genes)\n",
    "\n",
    "    # Save the DE genes\n",
    "    name_new_dir <- paste(name_new_dir_results, \"/\", timepoints[time_point], sep = \"\")\n",
    "    if (!dir.exists(name_new_dir)) {\n",
    "        dir.create(name_new_dir)\n",
    "    }\n",
    "    print(paste(\"Saving differentially expressed genes for time point\", timepoints[time_point], \"in\", name_new_dir))\n",
    "    write.csv(de_genes, file = paste(name_new_dir, \"/de_genes_\", timepoints[time_point], \".csv\", sep = \"\"))\n",
    "\n",
    "    return(de_genes)\n",
    "}"
   ]
  },
  {
   "cell_type": "code",
   "execution_count": 65,
   "id": "d0aa7c62-2b4e-4cfc-bdf4-9917c09b135c",
   "metadata": {
    "jupyter": {
     "source_hidden": true
    }
   },
   "outputs": [],
   "source": [
    "do.iteration <- function(time_point){\n",
    "    print(paste(\"Processing time point:\", timepoints[time_point]))\n",
    "\n",
    "    # LOAD LIBRARIES\n",
    "    library(Seurat)\n",
    "    library(tidyverse)\n",
    "    library(future)\n",
    "    library(ggplot2)\n",
    "    library(dplyr)\n",
    "    library(presto)\n",
    "    #library(enrichR)\n",
    "    library(cowplot)\n",
    "\n",
    "    # Load the data\n",
    "    sc_data <- load_data(time_point)\n",
    "    \n",
    "    # Run PCA and clustering\n",
    "    sc_data <- PCA_cluster(sc_data, res = 1)\n",
    "    \n",
    "    # Find all markers\n",
    "    cluster_markers <- cluster_markers(sc_data)\n",
    "}"
   ]
  },
  {
   "cell_type": "code",
   "execution_count": 43,
   "id": "c92d4a42-e6dd-42cf-920b-67518ff54414",
   "metadata": {
    "collapsed": true,
    "jupyter": {
     "outputs_hidden": true,
     "source_hidden": true
    }
   },
   "outputs": [
    {
     "name": "stdout",
     "output_type": "stream",
     "text": [
      "[1] \"Processing time point: 23days\"\n",
      "[1] \"Loading data for time point: 23days\"\n"
     ]
    },
    {
     "name": "stderr",
     "output_type": "stream",
     "text": [
      "Normalizing layer: counts\n",
      "\n",
      "Finding variable features for layer data\n",
      "\n",
      "Centering and scaling data matrix\n",
      "\n"
     ]
    },
    {
     "name": "stdout",
     "output_type": "stream",
     "text": [
      "[1] \"Running PCA and clustering for time point: 23days\"\n"
     ]
    },
    {
     "name": "stderr",
     "output_type": "stream",
     "text": [
      "Computing nearest neighbor graph\n",
      "\n",
      "Computing SNN\n",
      "\n"
     ]
    },
    {
     "name": "stdout",
     "output_type": "stream",
     "text": [
      "Modularity Optimizer version 1.3.0 by Ludo Waltman and Nees Jan van Eck\n",
      "\n",
      "Number of nodes: 29736\n",
      "Number of edges: 1146654\n",
      "\n",
      "Running Louvain algorithm...\n",
      "Maximum modularity in 10 random starts: 0.9253\n",
      "Number of communities: 18\n",
      "Elapsed time: 5 seconds\n",
      "\n",
      "   0    1    2    3    4    5    6    7    8    9   10   11   12   13   14   15 \n",
      "7414 2507 2386 2257 2102 2024 2020 1909 1656 1554 1458 1021  475  400  246  116 \n",
      "  16   17 \n",
      " 106   85 \n",
      "[1] \"Finding all markers for time point: 23days\"\n"
     ]
    },
    {
     "name": "stderr",
     "output_type": "stream",
     "text": [
      "Calculating cluster 0\n",
      "\n",
      "Calculating cluster 1\n",
      "\n",
      "Calculating cluster 2\n",
      "\n",
      "Calculating cluster 3\n",
      "\n",
      "Calculating cluster 4\n",
      "\n",
      "Calculating cluster 5\n",
      "\n",
      "Calculating cluster 6\n",
      "\n",
      "Calculating cluster 7\n",
      "\n",
      "Calculating cluster 8\n",
      "\n",
      "Calculating cluster 9\n",
      "\n",
      "Calculating cluster 10\n",
      "\n",
      "Calculating cluster 11\n",
      "\n",
      "Calculating cluster 12\n",
      "\n",
      "Calculating cluster 13\n",
      "\n",
      "Calculating cluster 14\n",
      "\n",
      "Calculating cluster 15\n",
      "\n",
      "Calculating cluster 16\n",
      "\n",
      "Calculating cluster 17\n",
      "\n"
     ]
    },
    {
     "name": "stdout",
     "output_type": "stream",
     "text": [
      "[1] \"Finding differentially expressed genes for time point: 23days\"\n"
     ]
    },
    {
     "ename": "ERROR",
     "evalue": "Error in UseMethod(\"filter\"): no applicable method for 'filter' applied to an object of class \"function\"\n",
     "output_type": "error",
     "traceback": [
      "Error in UseMethod(\"filter\"): no applicable method for 'filter' applied to an object of class \"function\"\nTraceback:\n",
      "1. de_genes(genes_of_interest)",
      "2. cluster_markers %>% filter(gene %in% genes_of_interest)",
      "3. filter(., gene %in% genes_of_interest)",
      "4. .handleSimpleError(function (cnd) \n . {\n .     watcher$capture_plot_and_output()\n .     cnd <- sanitize_call(cnd)\n .     watcher$push(cnd)\n .     switch(on_error, continue = invokeRestart(\"eval_continue\"), \n .         stop = invokeRestart(\"eval_stop\"), error = NULL)\n . }, \"no applicable method for 'filter' applied to an object of class \\\"function\\\"\", \n .     base::quote(UseMethod(\"filter\")))"
     ]
    }
   ],
   "source": [
    "do_iteration(1)"
   ]
  },
  {
   "cell_type": "code",
   "execution_count": 49,
   "id": "d21ec0a8-a0a9-42b3-9d62-8fed839f5d19",
   "metadata": {},
   "outputs": [
    {
     "name": "stdout",
     "output_type": "stream",
     "text": [
      "[1] \"23days\"\n"
     ]
    }
   ],
   "source": [
    "time_point <- 1\n",
    "print(timepoints[time_point])"
   ]
  },
  {
   "cell_type": "code",
   "execution_count": 50,
   "id": "ebb8b4ce-f5b5-4613-a7c0-6b00a9e0db9c",
   "metadata": {
    "collapsed": true,
    "jupyter": {
     "outputs_hidden": true
    }
   },
   "outputs": [
    {
     "name": "stdout",
     "output_type": "stream",
     "text": [
      "[1] \"Loading data for time point: 23days\"\n"
     ]
    },
    {
     "name": "stderr",
     "output_type": "stream",
     "text": [
      "Normalizing layer: counts\n",
      "\n",
      "Finding variable features for layer data\n",
      "\n",
      "Centering and scaling data matrix\n",
      "\n"
     ]
    }
   ],
   "source": [
    "# Load the data\n",
    "sc_data <- load_data(time_point)"
   ]
  },
  {
   "cell_type": "code",
   "execution_count": 52,
   "id": "92b04676-ccca-4662-bd1c-371e7fc308ac",
   "metadata": {
    "collapsed": true,
    "jupyter": {
     "outputs_hidden": true
    }
   },
   "outputs": [
    {
     "name": "stdout",
     "output_type": "stream",
     "text": [
      "[1] \"Running PCA and clustering for time point: 23days\"\n"
     ]
    },
    {
     "name": "stderr",
     "output_type": "stream",
     "text": [
      "Computing nearest neighbor graph\n",
      "\n",
      "Computing SNN\n",
      "\n"
     ]
    },
    {
     "name": "stdout",
     "output_type": "stream",
     "text": [
      "Modularity Optimizer version 1.3.0 by Ludo Waltman and Nees Jan van Eck\n",
      "\n",
      "Number of nodes: 29736\n",
      "Number of edges: 1146654\n",
      "\n",
      "Running Louvain algorithm...\n",
      "Maximum modularity in 10 random starts: 0.8914\n",
      "Number of communities: 25\n",
      "Elapsed time: 6 seconds\n",
      "\n",
      "   0    1    2    3    4    5    6    7    8    9   10   11   12   13   14   15 \n",
      "5195 2314 2018 2001 1731 1659 1558 1476 1446 1341 1213 1185 1021  914  872  585 \n",
      "  16   17   18   19   20   21   22   23   24 \n",
      " 578  545  526  488  401  362  116  106   85 \n"
     ]
    }
   ],
   "source": [
    "# Run PCA and clustering\n",
    "sc_data <- PCA_cluster(sc_data, res = 1)"
   ]
  },
  {
   "cell_type": "code",
   "execution_count": 53,
   "id": "d42b9c3c-5dd8-47bd-a261-94cb04f428f0",
   "metadata": {
    "collapsed": true,
    "jupyter": {
     "outputs_hidden": true
    }
   },
   "outputs": [
    {
     "name": "stdout",
     "output_type": "stream",
     "text": [
      "[1] \"Finding all markers for time point: 23days\"\n"
     ]
    },
    {
     "name": "stderr",
     "output_type": "stream",
     "text": [
      "Calculating cluster 0\n",
      "\n",
      "Calculating cluster 1\n",
      "\n",
      "Calculating cluster 2\n",
      "\n",
      "Calculating cluster 3\n",
      "\n",
      "Calculating cluster 4\n",
      "\n",
      "Calculating cluster 5\n",
      "\n",
      "Calculating cluster 6\n",
      "\n",
      "Calculating cluster 7\n",
      "\n",
      "Calculating cluster 8\n",
      "\n",
      "Calculating cluster 9\n",
      "\n",
      "Calculating cluster 10\n",
      "\n",
      "Calculating cluster 11\n",
      "\n",
      "Calculating cluster 12\n",
      "\n",
      "Calculating cluster 13\n",
      "\n",
      "Calculating cluster 14\n",
      "\n",
      "Calculating cluster 15\n",
      "\n",
      "Calculating cluster 16\n",
      "\n",
      "Calculating cluster 17\n",
      "\n",
      "Calculating cluster 18\n",
      "\n",
      "Calculating cluster 19\n",
      "\n",
      "Calculating cluster 20\n",
      "\n",
      "Calculating cluster 21\n",
      "\n",
      "Calculating cluster 22\n",
      "\n",
      "Calculating cluster 23\n",
      "\n",
      "Calculating cluster 24\n",
      "\n"
     ]
    }
   ],
   "source": [
    "# Find all markers\n",
    "cluster_markers <- cluster_markers(sc_data)"
   ]
  },
  {
   "cell_type": "code",
   "execution_count": 66,
   "id": "d8606e66-853d-4e17-ba0a-2bbb429e28df",
   "metadata": {
    "collapsed": true,
    "jupyter": {
     "outputs_hidden": true
    }
   },
   "outputs": [
    {
     "name": "stdout",
     "output_type": "stream",
     "text": [
      "[1] \"Finding differentially expressed genes for time point: 23days\"\n",
      "    p_val avg_log2FC pct.1 pct.2 p_val_adj cluster gene\n",
      "CIT     0   3.193657 0.291 0.025         0      10  CIT\n"
     ]
    }
   ],
   "source": [
    "# Find differentially expressed genes\n",
    "de_genes <- de.genes(genes_of_interest)"
   ]
  },
  {
   "cell_type": "code",
   "execution_count": null,
   "id": "d9209eff-a823-4648-8031-c9311f4ff274",
   "metadata": {},
   "outputs": [],
   "source": []
  },
  {
   "cell_type": "code",
   "execution_count": 67,
   "id": "e575eb83-c273-4c82-bc09-97f60ba16f30",
   "metadata": {
    "collapsed": true,
    "jupyter": {
     "outputs_hidden": true
    },
    "scrolled": true
   },
   "outputs": [
    {
     "name": "stdout",
     "output_type": "stream",
     "text": [
      "[1] \"Loading data for time point: 23days\"\n"
     ]
    },
    {
     "name": "stderr",
     "output_type": "stream",
     "text": [
      "Normalizing layer: counts\n",
      "\n",
      "Finding variable features for layer data\n",
      "\n",
      "Centering and scaling data matrix\n",
      "\n"
     ]
    },
    {
     "name": "stdout",
     "output_type": "stream",
     "text": [
      "[1] \"Running PCA and clustering for time point: 23days\"\n"
     ]
    },
    {
     "name": "stderr",
     "output_type": "stream",
     "text": [
      "Computing nearest neighbor graph\n",
      "\n",
      "Computing SNN\n",
      "\n"
     ]
    },
    {
     "name": "stdout",
     "output_type": "stream",
     "text": [
      "Modularity Optimizer version 1.3.0 by Ludo Waltman and Nees Jan van Eck\n",
      "\n",
      "Number of nodes: 29736\n",
      "Number of edges: 1146654\n",
      "\n",
      "Running Louvain algorithm...\n",
      "Maximum modularity in 10 random starts: 0.8914\n",
      "Number of communities: 25\n",
      "Elapsed time: 6 seconds\n",
      "\n",
      "   0    1    2    3    4    5    6    7    8    9   10   11   12   13   14   15 \n",
      "5195 2314 2018 2001 1731 1659 1558 1476 1446 1341 1213 1185 1021  914  872  585 \n",
      "  16   17   18   19   20   21   22   23   24 \n",
      " 578  545  526  488  401  362  116  106   85 \n",
      "[1] \"Finding all markers for time point: 23days\"\n"
     ]
    },
    {
     "name": "stderr",
     "output_type": "stream",
     "text": [
      "Calculating cluster 0\n",
      "\n",
      "Calculating cluster 1\n",
      "\n",
      "Calculating cluster 2\n",
      "\n",
      "Calculating cluster 3\n",
      "\n",
      "Calculating cluster 4\n",
      "\n",
      "Calculating cluster 5\n",
      "\n",
      "Calculating cluster 6\n",
      "\n",
      "Calculating cluster 7\n",
      "\n",
      "Calculating cluster 8\n",
      "\n",
      "Calculating cluster 9\n",
      "\n",
      "Calculating cluster 10\n",
      "\n",
      "Calculating cluster 11\n",
      "\n",
      "Calculating cluster 12\n",
      "\n",
      "Calculating cluster 13\n",
      "\n",
      "Calculating cluster 14\n",
      "\n",
      "Calculating cluster 15\n",
      "\n",
      "Calculating cluster 16\n",
      "\n",
      "Calculating cluster 17\n",
      "\n",
      "Calculating cluster 18\n",
      "\n",
      "Calculating cluster 19\n",
      "\n",
      "Calculating cluster 20\n",
      "\n",
      "Calculating cluster 21\n",
      "\n",
      "Calculating cluster 22\n",
      "\n",
      "Calculating cluster 23\n",
      "\n",
      "Calculating cluster 24\n",
      "\n"
     ]
    },
    {
     "name": "stdout",
     "output_type": "stream",
     "text": [
      "[1] \"Finding differentially expressed genes for time point: 23days\"\n",
      "    p_val avg_log2FC pct.1 pct.2 p_val_adj cluster gene\n",
      "CIT     0   3.193657 0.291 0.025         0      10  CIT\n",
      "[1] \"Loading data for time point: 1month\"\n"
     ]
    },
    {
     "name": "stderr",
     "output_type": "stream",
     "text": [
      "Warning message:\n",
      "“Input parameters result in NA values for initial cell identities. Setting all initial idents to the project name”\n",
      "Normalizing layer: counts\n",
      "\n",
      "Finding variable features for layer data\n",
      "\n",
      "Centering and scaling data matrix\n",
      "\n"
     ]
    },
    {
     "name": "stdout",
     "output_type": "stream",
     "text": [
      "[1] \"Running PCA and clustering for time point: 1month\"\n"
     ]
    },
    {
     "name": "stderr",
     "output_type": "stream",
     "text": [
      "Computing nearest neighbor graph\n",
      "\n",
      "Computing SNN\n",
      "\n"
     ]
    },
    {
     "name": "stdout",
     "output_type": "stream",
     "text": [
      "Modularity Optimizer version 1.3.0 by Ludo Waltman and Nees Jan van Eck\n",
      "\n",
      "Number of nodes: 71372\n",
      "Number of edges: 2685108\n",
      "\n",
      "Running Louvain algorithm...\n",
      "Maximum modularity in 10 random starts: 0.9116\n",
      "Number of communities: 42\n",
      "Elapsed time: 18 seconds\n"
     ]
    },
    {
     "name": "stderr",
     "output_type": "stream",
     "text": [
      "2 singletons identified. 40 final clusters.\n",
      "\n"
     ]
    },
    {
     "name": "stdout",
     "output_type": "stream",
     "text": [
      "\n",
      "   0    1    2    3    4    5    6    7    8    9   10   11   12   13   14   15 \n",
      "7162 5595 4269 4126 3764 3613 3064 3040 2673 2397 2218 2123 2043 2042 1935 1919 \n",
      "  16   17   18   19   20   21   22   23   24   25   26   27   28   29   30   31 \n",
      "1730 1617 1583 1439 1285 1267 1231 1158 1084 1007  774  739  669  579  522  483 \n",
      "  32   33   34   35   36   37   38   39 \n",
      " 403  358  346  296  251  222  195  151 \n",
      "[1] \"Finding all markers for time point: 1month\"\n"
     ]
    },
    {
     "name": "stderr",
     "output_type": "stream",
     "text": [
      "Calculating cluster 0\n",
      "\n",
      "Calculating cluster 1\n",
      "\n",
      "Calculating cluster 2\n",
      "\n",
      "Calculating cluster 3\n",
      "\n",
      "Calculating cluster 4\n",
      "\n",
      "Calculating cluster 5\n",
      "\n",
      "Calculating cluster 6\n",
      "\n",
      "Calculating cluster 7\n",
      "\n",
      "Calculating cluster 8\n",
      "\n",
      "Calculating cluster 9\n",
      "\n",
      "Calculating cluster 10\n",
      "\n",
      "Calculating cluster 11\n",
      "\n",
      "Calculating cluster 12\n",
      "\n",
      "Calculating cluster 13\n",
      "\n",
      "Calculating cluster 14\n",
      "\n",
      "Calculating cluster 15\n",
      "\n",
      "Calculating cluster 16\n",
      "\n",
      "Calculating cluster 17\n",
      "\n",
      "Calculating cluster 18\n",
      "\n",
      "Calculating cluster 19\n",
      "\n",
      "Calculating cluster 20\n",
      "\n",
      "Calculating cluster 21\n",
      "\n",
      "Calculating cluster 22\n",
      "\n",
      "Calculating cluster 23\n",
      "\n",
      "Calculating cluster 24\n",
      "\n",
      "Calculating cluster 25\n",
      "\n",
      "Calculating cluster 26\n",
      "\n",
      "Calculating cluster 27\n",
      "\n",
      "Calculating cluster 28\n",
      "\n",
      "Calculating cluster 29\n",
      "\n",
      "Calculating cluster 30\n",
      "\n",
      "Calculating cluster 31\n",
      "\n",
      "Calculating cluster 32\n",
      "\n",
      "Calculating cluster 33\n",
      "\n",
      "Calculating cluster 34\n",
      "\n",
      "Calculating cluster 35\n",
      "\n",
      "Calculating cluster 36\n",
      "\n",
      "Calculating cluster 37\n",
      "\n",
      "Calculating cluster 38\n",
      "\n",
      "Calculating cluster 39\n",
      "\n"
     ]
    },
    {
     "name": "stdout",
     "output_type": "stream",
     "text": [
      "[1] \"Finding differentially expressed genes for time point: 1month\"\n",
      "                  p_val avg_log2FC pct.1 pct.2     p_val_adj cluster     gene\n",
      "CIT        0.000000e+00  3.0578819 0.499 0.050  0.000000e+00      10      CIT\n",
      "KIAA1217  5.057354e-295  1.4059139 0.298 0.074 1.287349e-290      10 KIAA1217\n",
      "KIAA12171  0.000000e+00  1.8559716 0.312 0.074  0.000000e+00      12 KIAA1217\n",
      "SRCIN1    2.218181e-287  1.9409597 0.288 0.069 5.646380e-283      14   SRCIN1\n",
      "SRCIN11   4.036044e-218  2.3014914 0.272 0.070 1.027375e-213      17   SRCIN1\n",
      "SRCIN12   2.791548e-237  2.1693878 0.318 0.071 7.105884e-233      22   SRCIN1\n",
      "CIT1      1.750343e-100  1.8544184 0.256 0.062  4.455497e-96      27      CIT\n",
      "KIAA12172  0.000000e+00  1.3831897 0.590 0.077  0.000000e+00      30 KIAA1217\n",
      "CIT2      1.284798e-166  0.8506545 0.377 0.062 3.270452e-162      30      CIT\n",
      "SRCIN13    8.939078e-44  0.8892115 0.301 0.074  2.275442e-39      35   SRCIN1\n",
      "[1] \"Loading data for time point: 1.5month\"\n"
     ]
    },
    {
     "name": "stderr",
     "output_type": "stream",
     "text": [
      "Normalizing layer: counts\n",
      "\n",
      "Finding variable features for layer data\n",
      "\n",
      "Centering and scaling data matrix\n",
      "\n"
     ]
    },
    {
     "name": "stdout",
     "output_type": "stream",
     "text": [
      "[1] \"Running PCA and clustering for time point: 1.5month\"\n"
     ]
    },
    {
     "name": "stderr",
     "output_type": "stream",
     "text": [
      "Computing nearest neighbor graph\n",
      "\n",
      "Computing SNN\n",
      "\n"
     ]
    },
    {
     "name": "stdout",
     "output_type": "stream",
     "text": [
      "Modularity Optimizer version 1.3.0 by Ludo Waltman and Nees Jan van Eck\n",
      "\n",
      "Number of nodes: 38574\n",
      "Number of edges: 1423897\n",
      "\n",
      "Running Louvain algorithm...\n",
      "Maximum modularity in 10 random starts: 0.8644\n",
      "Number of communities: 22\n",
      "Elapsed time: 10 seconds\n",
      "\n",
      "   0    1    2    3    4    5    6    7    8    9   10   11   12   13   14   15 \n",
      "6027 3309 3182 3140 2870 2405 2359 2253 2064 1626 1417 1364 1222 1155 1024  998 \n",
      "  16   17   18   19   20   21 \n",
      " 784  642  517  133   54   29 \n",
      "[1] \"Finding all markers for time point: 1.5month\"\n"
     ]
    },
    {
     "name": "stderr",
     "output_type": "stream",
     "text": [
      "Calculating cluster 0\n",
      "\n",
      "Calculating cluster 1\n",
      "\n",
      "Calculating cluster 2\n",
      "\n",
      "Calculating cluster 3\n",
      "\n",
      "Calculating cluster 4\n",
      "\n",
      "Calculating cluster 5\n",
      "\n",
      "Calculating cluster 6\n",
      "\n",
      "Calculating cluster 7\n",
      "\n",
      "Calculating cluster 8\n",
      "\n",
      "Calculating cluster 9\n",
      "\n",
      "Calculating cluster 10\n",
      "\n",
      "Calculating cluster 11\n",
      "\n",
      "Calculating cluster 12\n",
      "\n",
      "Calculating cluster 13\n",
      "\n",
      "Calculating cluster 14\n",
      "\n",
      "Calculating cluster 15\n",
      "\n",
      "Calculating cluster 16\n",
      "\n",
      "Calculating cluster 17\n",
      "\n",
      "Calculating cluster 18\n",
      "\n",
      "Calculating cluster 19\n",
      "\n",
      "Calculating cluster 20\n",
      "\n",
      "Calculating cluster 21\n",
      "\n"
     ]
    },
    {
     "name": "stdout",
     "output_type": "stream",
     "text": [
      "[1] \"Finding differentially expressed genes for time point: 1.5month\"\n",
      "                 p_val avg_log2FC pct.1 pct.2     p_val_adj cluster     gene\n",
      "CIT       0.000000e+00   3.395686 0.363 0.031  0.000000e+00       9      CIT\n",
      "KIAA1217 3.513031e-121   1.022686 0.260 0.081 8.448487e-117       9 KIAA1217\n",
      "[1] \"Loading data for time point: 2month\"\n"
     ]
    },
    {
     "name": "stderr",
     "output_type": "stream",
     "text": [
      "Normalizing layer: counts\n",
      "\n",
      "Finding variable features for layer data\n",
      "\n",
      "Centering and scaling data matrix\n",
      "\n"
     ]
    },
    {
     "name": "stdout",
     "output_type": "stream",
     "text": [
      "[1] \"Running PCA and clustering for time point: 2month\"\n"
     ]
    },
    {
     "name": "stderr",
     "output_type": "stream",
     "text": [
      "Computing nearest neighbor graph\n",
      "\n",
      "Computing SNN\n",
      "\n"
     ]
    },
    {
     "name": "stdout",
     "output_type": "stream",
     "text": [
      "Modularity Optimizer version 1.3.0 by Ludo Waltman and Nees Jan van Eck\n",
      "\n",
      "Number of nodes: 39299\n",
      "Number of edges: 1569367\n",
      "\n",
      "Running Louvain algorithm...\n",
      "Maximum modularity in 10 random starts: 0.8836\n",
      "Number of communities: 23\n",
      "Elapsed time: 8 seconds\n",
      "\n",
      "   0    1    2    3    4    5    6    7    8    9   10   11   12   13   14   15 \n",
      "3858 3722 3368 2943 2866 2568 2146 2141 1651 1647 1396 1354 1261 1190 1155 1141 \n",
      "  16   17   18   19   20   21   22 \n",
      "1099  933  896  644  602  466  252 \n",
      "[1] \"Finding all markers for time point: 2month\"\n"
     ]
    },
    {
     "name": "stderr",
     "output_type": "stream",
     "text": [
      "Calculating cluster 0\n",
      "\n",
      "Calculating cluster 1\n",
      "\n",
      "Calculating cluster 2\n",
      "\n",
      "Calculating cluster 3\n",
      "\n",
      "Calculating cluster 4\n",
      "\n",
      "Calculating cluster 5\n",
      "\n",
      "Calculating cluster 6\n",
      "\n",
      "Calculating cluster 7\n",
      "\n",
      "Calculating cluster 8\n",
      "\n",
      "Calculating cluster 9\n",
      "\n",
      "Calculating cluster 10\n",
      "\n",
      "Calculating cluster 11\n",
      "\n",
      "Calculating cluster 12\n",
      "\n",
      "Calculating cluster 13\n",
      "\n",
      "Calculating cluster 14\n",
      "\n",
      "Calculating cluster 15\n",
      "\n",
      "Calculating cluster 16\n",
      "\n",
      "Calculating cluster 17\n",
      "\n",
      "Calculating cluster 18\n",
      "\n",
      "Calculating cluster 19\n",
      "\n",
      "Calculating cluster 20\n",
      "\n",
      "Calculating cluster 21\n",
      "\n",
      "Calculating cluster 22\n",
      "\n"
     ]
    },
    {
     "name": "stdout",
     "output_type": "stream",
     "text": [
      "[1] \"Finding differentially expressed genes for time point: 2month\"\n",
      "    p_val avg_log2FC pct.1 pct.2 p_val_adj cluster gene\n",
      "CIT     0   3.579014  0.29 0.019         0      21  CIT\n",
      "[1] \"Loading data for time point: 3month\"\n"
     ]
    },
    {
     "name": "stderr",
     "output_type": "stream",
     "text": [
      "Warning message:\n",
      "“Input parameters result in NA values for initial cell identities. Setting all initial idents to the project name”\n",
      "Normalizing layer: counts\n",
      "\n",
      "Finding variable features for layer data\n",
      "\n",
      "Centering and scaling data matrix\n",
      "\n"
     ]
    },
    {
     "name": "stdout",
     "output_type": "stream",
     "text": [
      "[1] \"Running PCA and clustering for time point: 3month\"\n"
     ]
    },
    {
     "name": "stderr",
     "output_type": "stream",
     "text": [
      "Computing nearest neighbor graph\n",
      "\n",
      "Computing SNN\n",
      "\n"
     ]
    },
    {
     "name": "stdout",
     "output_type": "stream",
     "text": [
      "Modularity Optimizer version 1.3.0 by Ludo Waltman and Nees Jan van Eck\n",
      "\n",
      "Number of nodes: 159533\n",
      "Number of edges: 5213586\n",
      "\n",
      "Running Louvain algorithm...\n",
      "Maximum modularity in 10 random starts: 0.8953\n",
      "Number of communities: 35\n",
      "Elapsed time: 66 seconds\n",
      "\n",
      "   0    1    2    3    4    5    6    7    8    9   10   11   12   13   14   15 \n",
      "9375 8465 8252 8244 7853 7389 7315 7017 6928 6673 6532 5708 5592 5015 4810 4751 \n",
      "  16   17   18   19   20   21   22   23   24   25   26   27   28   29   30   31 \n",
      "4735 4628 4597 4267 4098 3815 3673 3561 3384 2726 2564 2198 1822  806  677  620 \n",
      "  32   33   34 \n",
      " 556  450  437 \n",
      "[1] \"Finding all markers for time point: 3month\"\n"
     ]
    },
    {
     "name": "stderr",
     "output_type": "stream",
     "text": [
      "Calculating cluster 0\n",
      "\n",
      "Calculating cluster 1\n",
      "\n",
      "Calculating cluster 2\n",
      "\n",
      "Calculating cluster 3\n",
      "\n",
      "Calculating cluster 4\n",
      "\n",
      "Calculating cluster 5\n",
      "\n",
      "Calculating cluster 6\n",
      "\n",
      "Calculating cluster 7\n",
      "\n",
      "Calculating cluster 8\n",
      "\n",
      "Calculating cluster 9\n",
      "\n",
      "Calculating cluster 10\n",
      "\n",
      "Calculating cluster 11\n",
      "\n",
      "Calculating cluster 12\n",
      "\n",
      "Calculating cluster 13\n",
      "\n",
      "Calculating cluster 14\n",
      "\n",
      "Calculating cluster 15\n",
      "\n",
      "Calculating cluster 16\n",
      "\n",
      "Calculating cluster 17\n",
      "\n",
      "Calculating cluster 18\n",
      "\n",
      "Calculating cluster 19\n",
      "\n",
      "Calculating cluster 20\n",
      "\n",
      "Calculating cluster 21\n",
      "\n",
      "Calculating cluster 22\n",
      "\n",
      "Calculating cluster 23\n",
      "\n",
      "Calculating cluster 24\n",
      "\n",
      "Calculating cluster 25\n",
      "\n",
      "Calculating cluster 26\n",
      "\n",
      "Calculating cluster 27\n",
      "\n",
      "Calculating cluster 28\n",
      "\n",
      "Calculating cluster 29\n",
      "\n",
      "Calculating cluster 30\n",
      "\n",
      "Calculating cluster 31\n",
      "\n",
      "Calculating cluster 32\n",
      "\n",
      "Calculating cluster 33\n",
      "\n",
      "Calculating cluster 34\n",
      "\n"
     ]
    },
    {
     "name": "stdout",
     "output_type": "stream",
     "text": [
      "[1] \"Finding differentially expressed genes for time point: 3month\"\n",
      "                p_val avg_log2FC pct.1 pct.2     p_val_adj cluster   gene\n",
      "SRCIN1  4.995916e-286  0.9200953 0.261 0.128 1.358689e-281       0 SRCIN1\n",
      "SRCIN11  0.000000e+00  1.1170568 0.381 0.128  0.000000e+00      15 SRCIN1\n",
      "CIT      0.000000e+00  5.0454299 0.262 0.008  0.000000e+00      21    CIT\n",
      "SRCIN12 1.154626e-161  0.6847937 0.300 0.132 3.140120e-157      22 SRCIN1\n",
      "[1] \"Loading data for time point: 4month\"\n"
     ]
    },
    {
     "name": "stderr",
     "output_type": "stream",
     "text": [
      "Normalizing layer: counts\n",
      "\n",
      "Finding variable features for layer data\n",
      "\n",
      "Centering and scaling data matrix\n",
      "\n"
     ]
    },
    {
     "name": "stdout",
     "output_type": "stream",
     "text": [
      "[1] \"Running PCA and clustering for time point: 4month\"\n"
     ]
    },
    {
     "name": "stderr",
     "output_type": "stream",
     "text": [
      "Computing nearest neighbor graph\n",
      "\n",
      "Computing SNN\n",
      "\n"
     ]
    },
    {
     "name": "stdout",
     "output_type": "stream",
     "text": [
      "Modularity Optimizer version 1.3.0 by Ludo Waltman and Nees Jan van Eck\n",
      "\n",
      "Number of nodes: 38348\n",
      "Number of edges: 1433556\n",
      "\n",
      "Running Louvain algorithm...\n",
      "Maximum modularity in 10 random starts: 0.8553\n",
      "Number of communities: 24\n",
      "Elapsed time: 8 seconds\n"
     ]
    },
    {
     "name": "stderr",
     "output_type": "stream",
     "text": [
      "1 singletons identified. 23 final clusters.\n",
      "\n"
     ]
    },
    {
     "name": "stdout",
     "output_type": "stream",
     "text": [
      "\n",
      "   0    1    2    3    4    5    6    7    8    9   10   11   12   13   14   15 \n",
      "3654 3231 3149 2453 2450 2395 2382 2222 2170 2073 1813 1801 1753 1522 1276 1096 \n",
      "  16   17   18   19   20   21   22 \n",
      " 889  738  596  292  276   67   50 \n",
      "[1] \"Finding all markers for time point: 4month\"\n"
     ]
    },
    {
     "name": "stderr",
     "output_type": "stream",
     "text": [
      "Calculating cluster 0\n",
      "\n",
      "Calculating cluster 1\n",
      "\n",
      "Calculating cluster 2\n",
      "\n",
      "Calculating cluster 3\n",
      "\n",
      "Calculating cluster 4\n",
      "\n",
      "Calculating cluster 5\n",
      "\n",
      "Calculating cluster 6\n",
      "\n",
      "Calculating cluster 7\n",
      "\n",
      "Calculating cluster 8\n",
      "\n",
      "Calculating cluster 9\n",
      "\n",
      "Calculating cluster 10\n",
      "\n",
      "Calculating cluster 11\n",
      "\n",
      "Calculating cluster 12\n",
      "\n",
      "Calculating cluster 13\n",
      "\n",
      "Calculating cluster 14\n",
      "\n",
      "Calculating cluster 15\n",
      "\n",
      "Calculating cluster 16\n",
      "\n",
      "Calculating cluster 17\n",
      "\n",
      "Calculating cluster 18\n",
      "\n",
      "Calculating cluster 19\n",
      "\n",
      "Calculating cluster 20\n",
      "\n",
      "Calculating cluster 21\n",
      "\n",
      "Calculating cluster 22\n",
      "\n"
     ]
    },
    {
     "name": "stdout",
     "output_type": "stream",
     "text": [
      "[1] \"Finding differentially expressed genes for time point: 4month\"\n",
      "                p_val avg_log2FC pct.1 pct.2    p_val_adj cluster     gene\n",
      "SRCIN1   2.412781e-68  0.2853202 0.313 0.156 5.862334e-64       3   SRCIN1\n",
      "SRCIN11  6.633565e-59  0.3596337 0.324 0.158 1.611757e-54      10   SRCIN1\n",
      "CIT      0.000000e+00  4.1216672 0.252 0.011 0.000000e+00      15      CIT\n",
      "CIT1     0.000000e+00  4.4161824 0.317 0.012 0.000000e+00      17      CIT\n",
      "KIAA1217 3.103031e-98  4.2831081 0.260 0.007 7.539434e-94      22 KIAA1217\n",
      "[1] \"Loading data for time point: 5month\"\n"
     ]
    },
    {
     "name": "stderr",
     "output_type": "stream",
     "text": [
      "Normalizing layer: counts\n",
      "\n",
      "Finding variable features for layer data\n",
      "\n",
      "Centering and scaling data matrix\n",
      "\n"
     ]
    },
    {
     "name": "stdout",
     "output_type": "stream",
     "text": [
      "[1] \"Running PCA and clustering for time point: 5month\"\n"
     ]
    },
    {
     "name": "stderr",
     "output_type": "stream",
     "text": [
      "Computing nearest neighbor graph\n",
      "\n",
      "Computing SNN\n",
      "\n"
     ]
    },
    {
     "name": "stdout",
     "output_type": "stream",
     "text": [
      "Modularity Optimizer version 1.3.0 by Ludo Waltman and Nees Jan van Eck\n",
      "\n",
      "Number of nodes: 31787\n",
      "Number of edges: 1226270\n",
      "\n",
      "Running Louvain algorithm...\n",
      "Maximum modularity in 10 random starts: 0.8775\n",
      "Number of communities: 28\n",
      "Elapsed time: 6 seconds\n",
      "\n",
      "   0    1    2    3    4    5    6    7    8    9   10   11   12   13   14   15 \n",
      "2631 2568 1907 1845 1821 1595 1548 1532 1522 1489 1295 1220 1059  988  933  920 \n",
      "  16   17   18   19   20   21   22   23   24   25   26   27 \n",
      " 860  847  825  818  780  757  485  445  367  301  243  186 \n",
      "[1] \"Finding all markers for time point: 5month\"\n"
     ]
    },
    {
     "name": "stderr",
     "output_type": "stream",
     "text": [
      "Calculating cluster 0\n",
      "\n",
      "Calculating cluster 1\n",
      "\n",
      "Calculating cluster 2\n",
      "\n",
      "Calculating cluster 3\n",
      "\n",
      "Calculating cluster 4\n",
      "\n",
      "Calculating cluster 5\n",
      "\n",
      "Calculating cluster 6\n",
      "\n",
      "Calculating cluster 7\n",
      "\n",
      "Calculating cluster 8\n",
      "\n",
      "Calculating cluster 9\n",
      "\n",
      "Calculating cluster 10\n",
      "\n",
      "Calculating cluster 11\n",
      "\n",
      "Calculating cluster 12\n",
      "\n",
      "Calculating cluster 13\n",
      "\n",
      "Calculating cluster 14\n",
      "\n",
      "Calculating cluster 15\n",
      "\n",
      "Calculating cluster 16\n",
      "\n",
      "Calculating cluster 17\n",
      "\n",
      "Calculating cluster 18\n",
      "\n",
      "Calculating cluster 19\n",
      "\n",
      "Calculating cluster 20\n",
      "\n",
      "Calculating cluster 21\n",
      "\n",
      "Calculating cluster 22\n",
      "\n",
      "Calculating cluster 23\n",
      "\n",
      "Calculating cluster 24\n",
      "\n",
      "Calculating cluster 25\n",
      "\n",
      "Calculating cluster 26\n",
      "\n",
      "Calculating cluster 27\n",
      "\n"
     ]
    },
    {
     "name": "stdout",
     "output_type": "stream",
     "text": [
      "[1] \"Finding differentially expressed genes for time point: 5month\"\n",
      "               p_val avg_log2FC pct.1 pct.2    p_val_adj cluster   gene\n",
      "SRCIN1  4.165019e-65  0.7577704 0.339 0.179 1.020388e-60       2 SRCIN1\n",
      "SRCIN11 1.860665e-17  0.6270709 0.272 0.184 4.558444e-13       7 SRCIN1\n",
      "SRCIN12 9.039536e-34  0.7906775 0.297 0.183 2.214596e-29       8 SRCIN1\n",
      "SRCIN13 3.705076e-36  0.7583852 0.306 0.183 9.077065e-32       9 SRCIN1\n",
      "SRCIN14 1.506956e-08  0.5294067 0.256 0.187 3.691892e-04      14 SRCIN1\n",
      "CIT     0.000000e+00  4.0456348 0.413 0.022 0.000000e+00      16    CIT\n",
      "SRCIN15 1.363851e-10  0.2839111 0.315 0.187 3.341299e-06      22 SRCIN1\n",
      "SRCIN16 5.460312e-16  0.2993655 0.468 0.187 1.337722e-11      27 SRCIN1\n",
      "[1] \"Loading data for time point: 6month\"\n"
     ]
    },
    {
     "name": "stderr",
     "output_type": "stream",
     "text": [
      "Warning message:\n",
      "“Input parameters result in NA values for initial cell identities. Setting all initial idents to the project name”\n",
      "Normalizing layer: counts\n",
      "\n",
      "Finding variable features for layer data\n",
      "\n",
      "Centering and scaling data matrix\n",
      "\n"
     ]
    },
    {
     "name": "stdout",
     "output_type": "stream",
     "text": [
      "[1] \"Running PCA and clustering for time point: 6month\"\n"
     ]
    },
    {
     "name": "stderr",
     "output_type": "stream",
     "text": [
      "Computing nearest neighbor graph\n",
      "\n",
      "Computing SNN\n",
      "\n"
     ]
    },
    {
     "name": "stdout",
     "output_type": "stream",
     "text": [
      "Modularity Optimizer version 1.3.0 by Ludo Waltman and Nees Jan van Eck\n",
      "\n",
      "Number of nodes: 123765\n",
      "Number of edges: 4127244\n",
      "\n",
      "Running Louvain algorithm...\n",
      "Maximum modularity in 10 random starts: 0.8981\n",
      "Number of communities: 33\n",
      "Elapsed time: 42 seconds\n",
      "\n",
      "    0     1     2     3     4     5     6     7     8     9    10    11    12 \n",
      "10998 10702  9669  7258  6548  6121  6007  5257  4971  4968  4336  4171  4034 \n",
      "   13    14    15    16    17    18    19    20    21    22    23    24    25 \n",
      " 3948  3688  3611  3253  3235  3216  2454  2172  1956  1845  1797  1552  1291 \n",
      "   26    27    28    29    30    31    32 \n",
      " 1158   821   800   677   609   525   117 \n",
      "[1] \"Finding all markers for time point: 6month\"\n"
     ]
    },
    {
     "name": "stderr",
     "output_type": "stream",
     "text": [
      "Calculating cluster 0\n",
      "\n",
      "Calculating cluster 1\n",
      "\n",
      "Calculating cluster 2\n",
      "\n",
      "Calculating cluster 3\n",
      "\n",
      "Calculating cluster 4\n",
      "\n",
      "Calculating cluster 5\n",
      "\n",
      "Calculating cluster 6\n",
      "\n",
      "Calculating cluster 7\n",
      "\n",
      "Calculating cluster 8\n",
      "\n",
      "Calculating cluster 9\n",
      "\n",
      "Calculating cluster 10\n",
      "\n",
      "Calculating cluster 11\n",
      "\n",
      "Calculating cluster 12\n",
      "\n",
      "Calculating cluster 13\n",
      "\n",
      "Calculating cluster 14\n",
      "\n",
      "Calculating cluster 15\n",
      "\n",
      "Calculating cluster 16\n",
      "\n",
      "Calculating cluster 17\n",
      "\n",
      "Calculating cluster 18\n",
      "\n",
      "Calculating cluster 19\n",
      "\n",
      "Calculating cluster 20\n",
      "\n",
      "Calculating cluster 21\n",
      "\n",
      "Calculating cluster 22\n",
      "\n",
      "Calculating cluster 23\n",
      "\n",
      "Calculating cluster 24\n",
      "\n",
      "Calculating cluster 25\n",
      "\n",
      "Calculating cluster 26\n",
      "\n",
      "Calculating cluster 27\n",
      "\n",
      "Calculating cluster 28\n",
      "\n",
      "Calculating cluster 29\n",
      "\n",
      "Calculating cluster 30\n",
      "\n",
      "Calculating cluster 31\n",
      "\n",
      "Calculating cluster 32\n",
      "\n"
     ]
    },
    {
     "name": "stdout",
     "output_type": "stream",
     "text": [
      "[1] \"Finding differentially expressed genes for time point: 6month\"\n",
      "                p_val avg_log2FC pct.1 pct.2     p_val_adj cluster   gene\n",
      "SRCIN1   2.278055e-80  0.4779396 0.261 0.074  5.959165e-76      27 SRCIN1\n",
      "SRCIN11 3.216065e-113  1.3244443 0.345 0.074 8.412904e-109      31 SRCIN1\n"
     ]
    }
   ],
   "source": [
    "for (time_point in 1:8) {\n",
    "    # Load the data\n",
    "    sc_data <- load.data(time_point)\n",
    "\n",
    "    # Run PCA and clustering\n",
    "    sc_data <- PCA.cluster(sc_data, res = 1)\n",
    "    \n",
    "    # Find all markers\n",
    "    cluster_markers <- cluster.markers(sc_data)\n",
    "    \n",
    "    # Find differentially expressed genes\n",
    "    de_genes <- de.genes(genes_of_interest)\n",
    "}"
   ]
  },
  {
   "cell_type": "code",
   "execution_count": 34,
   "id": "baf008c2-2d1e-4510-97cd-2f8f695b0deb",
   "metadata": {
    "jupyter": {
     "source_hidden": true
    }
   },
   "outputs": [],
   "source": [
    "# Plotting\n",
    "plotting <- function(sc_data, genes_oi){\n",
    "  # Plot the expression of the genes of interest\n",
    "  for (gene in genes_oi) {\n",
    "    p1 <- FeaturePlot(sc_data, features = gene, cols = c(\"lightgrey\", \"blue\"), pt.size = 0.5) + \n",
    "      ggtitle(paste(\"Expression of\", gene)) + \n",
    "      theme_minimal()\n",
    "    \n",
    "    # Save the plot\n",
    "    ggsave(filename = paste(name_new_dir_partial, \"/FeaturePlot_\", gene, \"_\", timepoints[time_point], \".png\", sep=\"\"), plot = p1)\n",
    "  }\n",
    "}"
   ]
  },
  {
   "cell_type": "code",
   "execution_count": 35,
   "id": "f311c99f-901d-4204-bd6d-c2474502c065",
   "metadata": {
    "collapsed": true,
    "jupyter": {
     "outputs_hidden": true,
     "source_hidden": true
    }
   },
   "outputs": [
    {
     "name": "stderr",
     "output_type": "stream",
     "text": [
      "\u001b[1m\u001b[22mSaving 7 x 7 in image\n",
      "\u001b[1m\u001b[22mSaving 7 x 7 in image\n",
      "\u001b[1m\u001b[22mSaving 7 x 7 in image\n",
      "\u001b[1m\u001b[22mSaving 7 x 7 in image\n",
      "\u001b[1m\u001b[22mSaving 7 x 7 in image\n",
      "\u001b[1m\u001b[22mSaving 7 x 7 in image\n",
      "\u001b[1m\u001b[22mSaving 7 x 7 in image\n",
      "\u001b[1m\u001b[22mSaving 7 x 7 in image\n",
      "\u001b[1m\u001b[22mSaving 7 x 7 in image\n",
      "\u001b[1m\u001b[22mSaving 7 x 7 in image\n"
     ]
    }
   ],
   "source": [
    "plotting(sc_data, housekeeping_genes)\n",
    "# Plot the expression of the genes of interest\n",
    "plotting(sc_data, genes_of_interest)\n",
    "# Plot the expression of the housekeeping genes and genes of interest together\n",
    "plotting(sc_data, c(housekeeping_genes, genes_of_interest))"
   ]
  },
  {
   "cell_type": "code",
   "execution_count": 12,
   "id": "61c136bd-2a7d-4d29-b291-17e3b34ad7d8",
   "metadata": {},
   "outputs": [],
   "source": [
    "sc_data <- load.clusters(1,1)\n",
    "cluster_markers <- load.markers(1)"
   ]
  },
  {
   "cell_type": "code",
   "execution_count": null,
   "id": "478cdaff-8a25-4371-b467-68583d52e065",
   "metadata": {},
   "outputs": [],
   "source": []
  }
 ],
 "metadata": {
  "kernelspec": {
   "display_name": "R",
   "language": "R",
   "name": "ir"
  },
  "language_info": {
   "codemirror_mode": "r",
   "file_extension": ".r",
   "mimetype": "text/x-r-source",
   "name": "R",
   "pygments_lexer": "r",
   "version": "4.5.0"
  }
 },
 "nbformat": 4,
 "nbformat_minor": 5
}
