{
 "cells": [
  {
   "cell_type": "markdown",
   "id": "c958dcd5-46b7-441b-ac7c-b55f74177bdc",
   "metadata": {},
   "source": [
    "# **Analyze the data from scratch**\n",
    "steps"
   ]
  },
  {
   "cell_type": "markdown",
   "id": "ecb58b63-def7-4e59-a2dd-5dcd867a3017",
   "metadata": {},
   "source": [
    "## Load Libraries"
   ]
  },
  {
   "cell_type": "code",
   "execution_count": 19,
   "id": "016bdfeb-4bcd-4275-898b-ef70f41810ba",
   "metadata": {},
   "outputs": [],
   "source": [
    "# LOAD LIBRARIES\n",
    "library(Seurat)\n",
    "library(tidyverse)\n",
    "library(future)\n",
    "library(ggplot2)\n",
    "library(dplyr)\n",
    "library(presto)\n",
    "library(cowplot)\n",
    "\n",
    "library(enrichR)\n",
    "library(GPTCelltype)\n",
    "library(openai)"
   ]
  },
  {
   "cell_type": "markdown",
   "id": "c696037d-66ce-4aee-bfd7-72f26df9103e",
   "metadata": {},
   "source": [
    "## Setup"
   ]
  },
  {
   "cell_type": "code",
   "execution_count": 2,
   "id": "bd56ce15-ab6e-4772-83a3-f838d5223758",
   "metadata": {},
   "outputs": [],
   "source": [
    "# SET UP NAMES\n",
    "timepoints <- c(\"23days\", \"1month\", \"1.5month\", \"2month\", \"3month\", \"4month\", \"5month\", \"6month\")\n",
    "housekeeping_genes <- c(\"ACTB\", \"DLG4\")\n",
    "genes_of_interest <- c(\"SRCIN1\", \"KIAA1217\", \"CIT\")\n",
    "path_to_data <- \"/sharedFolder/Data/\"\n",
    "\n",
    "name_new_dir_results <- paste(getwd(), \"/Results\", sep = \"\")\n",
    "if (!dir.exists(name_new_dir_results)) {\n",
    "    dir.create(name_new_dir_results)\n",
    "}\n",
    "\n",
    "name_new_dir_partial <- paste(getwd(), \"/Partial\", sep = \"\")\n",
    "if (!dir.exists(name_new_dir_partial)) {\n",
    "    dir.create(name_new_dir_partial)\n",
    "}"
   ]
  },
  {
   "cell_type": "code",
   "execution_count": 3,
   "id": "203f5169-ec1b-4708-a278-854c804aabf0",
   "metadata": {},
   "outputs": [],
   "source": [
    "for (a in 1:8) {\n",
    "    name_new_dir <- paste(name_new_dir_partial, \"/\", timepoints[a], sep=\"\")     \n",
    "    if (!dir.exists(name_new_dir)) {\n",
    "        dir.create(name_new_dir)\n",
    "    }\n",
    "    name_new_dir <- paste(name_new_dir_results, \"/\", timepoints[a], sep=\"\")     \n",
    "    if (!dir.exists(name_new_dir)) {\n",
    "        dir.create(name_new_dir)\n",
    "    }  \n",
    "}"
   ]
  },
  {
   "cell_type": "markdown",
   "id": "fb407bbd-5f20-444e-9b78-09e03a63ba8d",
   "metadata": {},
   "source": [
    "## Define functions"
   ]
  },
  {
   "cell_type": "markdown",
   "id": "3084254f-aaa0-4f60-aebb-a514a984a9ff",
   "metadata": {},
   "source": [
    "### load.data(time_point)\n",
    "* LOAD DATA\n",
    "* NORMALIZE\n",
    "* FIND VARIABLE FEATURES\n",
    "* SCALE DATA"
   ]
  },
  {
   "cell_type": "code",
   "execution_count": 4,
   "id": "2fc368d6-46d9-43e3-a2e8-7e8135e8075f",
   "metadata": {},
   "outputs": [],
   "source": [
    "load.data <- function(file_name = timepoints[time_point], save = TRUE, res, n_dim) {\n",
    "    char_res <- as.character(res)\n",
    "    if (grepl(\"\\\\.\", char_res)) {char_res <- gsub(\"\\\\.\", \"_\", char_res)}\n",
    "    param <- paste0(\"_res_\", char_res, \"_dim_\", n_dim)\n",
    "    print(paste(\"Loading data for time point:\", file_name))\n",
    "\n",
    "    # Load the data\n",
    "    sc_data <- Read10X(data.dir = paste(path_to_data, \"expression_\", file_name, sep = \"\"), gene.column = 1)\n",
    "\n",
    "    # Create Seurat object\n",
    "    sc_data <- CreateSeuratObject(counts = sc_data, min.cells = 3, min.features = 500, project = file_name, names.delim = \"-\", names.field = 2)\n",
    "\n",
    "    # Normalize the data\n",
    "    sc_data <- NormalizeData(sc_data, normalization.method = \"LogNormalize\", scale.factor = 1e6)\n",
    "\n",
    "    # Find variable features\n",
    "    sc_data <- FindVariableFeatures(sc_data, selection.method = \"mvp\", nfeatures = 2000)\n",
    "\n",
    "    # Scale the data\n",
    "    sc_data <- ScaleData(sc_data)\n",
    "\n",
    "    # Save the Scaled data\n",
    "    if (save) {\n",
    "        name_new_dir <- paste(name_new_dir_partial, \"/\", file_name, \"/cluster\", param, sep = \"\")\n",
    "        if (!dir.exists(name_new_dir)) {dir.create(name_new_dir)}\n",
    "        \n",
    "        print(paste(\"Saving PCA for time point\", file_name, \"in\", name_new_dir))\n",
    "        save(sc_data, file = paste(name_new_dir, \"/Scaled_\", file_name, param, \".Robj\", sep = \"\"))\n",
    "    }\n",
    "    \n",
    "    return(sc_data)\n",
    "}"
   ]
  },
  {
   "cell_type": "markdown",
   "id": "a8e2728c-b2fb-4cdb-a93c-72f682981423",
   "metadata": {},
   "source": [
    "### PCA.cluster(x = sc_data, res)\n",
    "* Run PCA\n",
    "* Cluster the cells"
   ]
  },
  {
   "cell_type": "code",
   "execution_count": 5,
   "id": "bf548cd0-fc8e-4f29-afa9-69227e9c1017",
   "metadata": {},
   "outputs": [],
   "source": [
    "PCA.cluster <- function(x = sc_data, file_name = timepoints[time_point], res = 1, n_dim = 40, \n",
    "                        save = TRUE) {\n",
    "    char_res <- as.character(res)\n",
    "    if (grepl(\"\\\\.\", char_res)) {char_res <- gsub(\"\\\\.\", \"_\", char_res)}\n",
    "    param <- paste0(\"_res_\", char_res, \"_dim_\", n_dim)\n",
    "    print(paste(\"Running PCA and clustering for time point:\", file_name))\n",
    "    \n",
    "    # PCA\n",
    "    x <- RunPCA(x, npcs = n_dim+10, verbose = FALSE)\n",
    "    #print(ElbowPlot(object = x, ndims = 50))\n",
    "\n",
    "    # Cluster the cells\n",
    "    x <- FindNeighbors(x, dims = 1:n_dim)\n",
    "    x <- FindClusters(x, resolution = res)\n",
    "    \n",
    "    print(table(Idents(x)))\n",
    "\n",
    "    # Save the PCA plot\n",
    "    if (save) {\n",
    "        name_new_dir <- paste(name_new_dir_partial, \"/\", file_name, \"/cluster\", param, sep=\"\")\n",
    "        if (!dir.exists(name_new_dir)) {dir.create(name_new_dir)} \n",
    "    \n",
    "        print(paste(\"Saving PCA for time point\", file_name, \"in\", name_new_dir))\n",
    "        save(x, file = paste(name_new_dir, \"/PCA_res_\", res, \"_dim_\", n_dim, \"_\", file_name, \".Robj\", sep=\"\"))\n",
    "    }\n",
    "    return(x)\n",
    "}"
   ]
  },
  {
   "cell_type": "markdown",
   "id": "68ac5ae4-8ce1-4165-8f2b-8e3245095bca",
   "metadata": {},
   "source": [
    "### cluster.markers(x = sc_data)\n",
    "* find all markers for every cluster compared to all remaining cells"
   ]
  },
  {
   "cell_type": "code",
   "execution_count": 6,
   "id": "16f5ba61-7466-4b98-a69e-d04c183033ed",
   "metadata": {},
   "outputs": [],
   "source": [
    "# FIND ALL MARKERS\n",
    "cluster.markers <- function(x, file_name = timepoints[time_point],\n",
    "                            save = TRUE, res, n_dim) {\n",
    "    char_res <- as.character(res)\n",
    "    if (grepl(\"\\\\.\", char_res)) {char_res <- gsub(\"\\\\.\", \"_\", char_res)}\n",
    "    param <- paste0(\"_res_\", char_res, \"_dim_\", n_dim)\n",
    "    print(paste(\"Finding all markers for time point:\", file_name))\n",
    "\n",
    "    # Find all markers for every cluster compared to all remaining cells\n",
    "    markers <- FindAllMarkers(x,\n",
    "                                        only.pos = TRUE,   # Considera solo i marker espressi positivamente\n",
    "                                        min.pct = 0.25,    # Percentuale minima di espressione nelle cellule del cluster\n",
    "                                        logfc.threshold = 0.25)  # Soglia minima di LogFC\n",
    "    \n",
    "    # Save the markers\n",
    "    if (save) {\n",
    "        name_new_dir <- paste(name_new_dir_partial, \"/\", file_name, \"/cluster\", param, sep=\"\")     \n",
    "        if (!dir.exists(name_new_dir)) {dir.create(name_new_dir)} \n",
    "        \n",
    "        print(paste(\"Saving cluster markers for time point\", file_name, \"in\", name_new_dir))\n",
    "        save(markers, file = paste(name_new_dir, \"/cluster_markers_\", file_name, param, \".Robj\", sep=\"\"))\n",
    "    }\n",
    "        \n",
    "    return(markers)\n",
    "}"
   ]
  },
  {
   "cell_type": "markdown",
   "id": "5bdc3aed-0860-4661-9a38-939be3adc71d",
   "metadata": {},
   "source": [
    "### Reload from partials\n",
    "* load.sc_data(time_point) = up to scaleData()\n",
    "* load.cluster(time_point, res) = clustered\n",
    "* load.markers(time_point) = markers"
   ]
  },
  {
   "cell_type": "code",
   "execution_count": 7,
   "id": "f93f9f27-f893-4615-90ce-2137a328e8d2",
   "metadata": {},
   "outputs": [],
   "source": [
    "# RELOAD DATA\n",
    "load.sc_data <- function(file_name = timepoints[time_point]) {\n",
    "    name_new_dir <- paste(name_new_dir_partial, \"/\", file_name, sep = \"\")\n",
    "    load(paste(name_new_dir, \"/cluster_markers_\", file_name, \".Robj\", sep = \"\"))\n",
    "    return(sc_data)\n",
    "}\n",
    "\n",
    "load.clusters <- function(file_name = timepoints[time_point], res) {\n",
    "    name_new_dir <- paste(name_new_dir_partial, \"/\", file_name, sep = \"\")\n",
    "    load(paste(name_new_dir, \"/PCA_res_\", res, \"_\", file_name, \".Robj\", sep = \"\"))\n",
    "    return(sc_data)\n",
    "}\n",
    "\n",
    "load.markers <- function(file_name = timepoints[time_point]) {\n",
    "    name_new_dir <- paste(name_new_dir_partial, \"/\", file_name, sep = \"\")\n",
    "    load(paste(name_new_dir, \"/cluster_markers_\", file_name, \".Robj\", sep = \"\"))\n",
    "    return(cluster_markers)\n",
    "}"
   ]
  },
  {
   "cell_type": "markdown",
   "id": "6883693a-842d-429a-8ff2-a70b748d1f31",
   "metadata": {},
   "source": [
    "### de.genes(genes_oi)\n",
    "* finds whether one or more genes of interest are differentialy expressed in the clusters\n",
    "* if no genes are specified this function assumes that **genes_oi** is **genes_of_interest**"
   ]
  },
  {
   "cell_type": "code",
   "execution_count": 8,
   "id": "36c1d832-bcc4-4902-91f6-9d947e603d89",
   "metadata": {},
   "outputs": [],
   "source": [
    "# FIND DIFFERENTIALLY EXPRESSED GENES\n",
    "de.genes <- function(genes_oi = genes_of_interest, c_m = cluster_markers, file_name = timepoints[time_point], \n",
    "                     save = TRUE, res, n_dim) {\n",
    "    char_res <- as.character(res)\n",
    "    if (grepl(\"\\\\.\", char_res)) {char_res <- gsub(\"\\\\.\", \"_\", char_res)}\n",
    "    param <- paste0(\"_res_\", char_res, \"_dim_\", n_dim)\n",
    "    print(paste(\"Finding differentially expressed genes for time point:\", file_name))\n",
    "\n",
    "    # Find differentially expressed genes\n",
    "    de_genes <- c_m %>% filter(gene %in% genes_oi)\n",
    "    print(de_genes)\n",
    "\n",
    "    # Save the DE genes\n",
    "    if (save) {\n",
    "        name_new_dir <- paste(name_new_dir_results, \"/\", file_name, \"/cluster\", param, sep = \"\")\n",
    "        if (!dir.exists(name_new_dir)) {dir.create(name_new_dir)}\n",
    "        \n",
    "        print(paste(\"Saving differentially expressed genes for time point\", file_name, \"in\", name_new_dir))\n",
    "        write.csv(de_genes, file = paste(name_new_dir, \"/de_genes_\", file_name, param, \".csv\", sep = \"\"))\n",
    "    }\n",
    "    \n",
    "    return(de_genes)\n",
    "}"
   ]
  },
  {
   "cell_type": "markdown",
   "id": "2b5a44e0-f7ed-4795-88cc-7ad02ede51a5",
   "metadata": {},
   "source": [
    "## Violin Plots"
   ]
  },
  {
   "cell_type": "markdown",
   "id": "1d1e4b87-c874-4211-a275-9e3e9df3cba9",
   "metadata": {},
   "source": [
    "### Violin genes-clusters"
   ]
  },
  {
   "cell_type": "code",
   "execution_count": 9,
   "id": "76a009e0-882a-4b8b-8b42-e660509b237a",
   "metadata": {},
   "outputs": [],
   "source": [
    "vin.genes <- function(X, file_name = timepoints[time_point]) {\n",
    "    VlnPlot(\n",
    "        sc_data, \n",
    "        features = X, \n",
    "        group.by = \"seurat_clusters\", \n",
    "        layer = \"data\"\n",
    "    ) +\n",
    "    labs(\n",
    "        title = paste(file_name, \"-\", X),\n",
    "        x = \"Cluster\"\n",
    "    ) +\n",
    "    theme(\n",
    "        legend.position = \"none\"\n",
    "    )\n",
    "}"
   ]
  },
  {
   "cell_type": "code",
   "execution_count": 10,
   "id": "3ee739fb-5de3-4ba6-9651-33409d0e3bda",
   "metadata": {},
   "outputs": [],
   "source": [
    "vin.genes.log <- function(X) {\n",
    "    VlnPlot(\n",
    "        sc_data, \n",
    "        features = X, \n",
    "        group.by = \"seurat_clusters\", \n",
    "        layer = \"data\",\n",
    "        log = TRUE\n",
    "    ) +\n",
    "    labs(\n",
    "        x = \"Cluster\",\n",
    "        y = \"Expression Level (log)\"\n",
    "    ) +\n",
    "    theme(\n",
    "        legend.position = \"none\"\n",
    "    )\n",
    "}"
   ]
  },
  {
   "cell_type": "code",
   "execution_count": 11,
   "id": "e7dfd114-d83c-4a3b-9ea8-57c863047c08",
   "metadata": {},
   "outputs": [],
   "source": [
    "vin.genes.comb <- function (\n",
    "    X, \n",
    "    name, \n",
    "    file_name = timepoints[time_point], \n",
    "    log = FALSE, \n",
    "    save = TRUE,\n",
    "    res, \n",
    "    n_dim\n",
    ") {\n",
    "    char_res <- as.character(res)\n",
    "    if (grepl(\"\\\\.\", char_res)) {char_res <- gsub(\"\\\\.\", \"_\", char_res)}\n",
    "    param <- paste0(\"_res_\", char_res, \"_dim_\", n_dim)    \n",
    "\n",
    "    if (length(log) != 1) stop(\"log must be a single logical value\")\n",
    "    if (log) {\n",
    "        violin <- lapply(X, vin.genes.log)\n",
    "    } else {\n",
    "        violin <- lapply(X, vin.genes)\n",
    "    }\n",
    "    \n",
    "    if (name == 1) {\n",
    "        name <- \"genes_of_interest\"\n",
    "    } else if (name == 2) {\n",
    "        name <- \"housekeeping_genes\"\n",
    "    }\n",
    "\n",
    "    logarithmic <- ifelse(log, \"logarithmic\", \"\")\n",
    "    print(\n",
    "        paste(\n",
    "            \"Violin\", logarithmic, \" plot for\", name, \n",
    "            \"in\",\n",
    "            file_name\n",
    "        )\n",
    "    )\n",
    "    \n",
    "    name_prefix <- ifelse(log, \"(log10)\", \"\")\n",
    "    \n",
    "    combined <- plot_grid(plotlist = violin, ncol = 1)\n",
    "    title <- ggdraw() + draw_label(paste(file_name,\"- Genes of interest\", name_prefix), fontface = 'bold', size = 14)\n",
    "    comp_plot <- plot_grid(title, combined, ncol = 1, rel_heights = c(0.1, 2))\n",
    "\n",
    "    # Save\n",
    "    if (save) {\n",
    "        folder <- paste0(\"Results/\", file_name, \"/cluster\", param, \"/Violin_genes\")\n",
    "        if (!dir.exists(folder)) {dir.create(folder)}\n",
    "        \n",
    "        file_prefix <- ifelse(log, \"log10_\", \"\")\n",
    "        ggsave(\n",
    "            paste0(\n",
    "                folder,\n",
    "                \"/\", file_prefix, \"violin_plot_\",\n",
    "                name, \"_\",\n",
    "                file_name, param,\n",
    "                \".png\"\n",
    "            ),\n",
    "            plot = comp_plot,\n",
    "            width = 1920, height = 1080*length(X), units = \"px\"\n",
    "        )\n",
    "    }\n",
    "\n",
    "    #print(comp_plot)\n",
    "    return(comp_plot)\n",
    "}"
   ]
  },
  {
   "cell_type": "markdown",
   "id": "f4b19d03-d072-4109-a46d-9740543e516f",
   "metadata": {},
   "source": [
    "### Violin ratio-clusters"
   ]
  },
  {
   "cell_type": "code",
   "execution_count": 12,
   "id": "cd41dd01-48ec-4d1b-a65e-02e5c7abf63b",
   "metadata": {},
   "outputs": [],
   "source": [
    "vin.ratio <- function(\n",
    "    sc_data,\n",
    "    gene_oi, \n",
    "    housekeeping, \n",
    "    file_name = timepoints[time_point], \n",
    "    log = FALSE, \n",
    "    save = TRUE,\n",
    "    res, \n",
    "    n_dim\n",
    ") {\n",
    "    char_res <- as.character(res)\n",
    "    if (grepl(\"\\\\.\", char_res)) {char_res <- gsub(\"\\\\.\", \"_\", char_res)}\n",
    "    param <- paste0(\"_res_\", char_res, \"_dim_\", n_dim)\n",
    "    logarithmic <- ifelse(log, \"logarithmic\", \"\")\n",
    "    print(\n",
    "        paste(\n",
    "            \"Plotting the\", logarithmic, \"ratio violin between\",\n",
    "            gene_oi,\n",
    "            \"and\",\n",
    "            housekeeping,\n",
    "            \"in\",\n",
    "            file_name\n",
    "        )\n",
    "    )\n",
    "    \n",
    "    # Extract normalized data\n",
    "    exprs <- FetchData(sc_data, vars = c(gene_oi, housekeeping), slot = \"data\")\n",
    "    \n",
    "    # Compute ratio\n",
    "    exprs$ratio <- exprs[[gene_oi]] / exprs[[housekeeping]]\n",
    "\n",
    "    # Add cluster info\n",
    "    exprs$cluster <- Idents(sc_data)\n",
    "\n",
    "    loggi <- ifelse(log, \"(log10)\", \"\")\n",
    "    \n",
    "    # Plot violin\n",
    "    vin_ratio <- ggplot(exprs, aes(x = cluster, y = ratio)) +\n",
    "        geom_violin(trim = FALSE, fill = \"#56B4E9\") +\n",
    "        labs(\n",
    "            title = paste(file_name, \"-\", gene_oi, \"/\", housekeeping, loggi),\n",
    "            x = \"Cluster\",\n",
    "            y = paste(gene_oi, \"/\", housekeeping, loggi)\n",
    "        ) +\n",
    "        theme_classic() +\n",
    "        theme(legend.position = \"none\")\n",
    "\n",
    "    if (log) {\n",
    "        vin_ratio <- vin_ratio + scale_y_log10()\n",
    "    }\n",
    "\n",
    "    # Save\n",
    "    if (save) {\n",
    "        folder <- paste0(\"Results/\", file_name, \"/cluster\", param, \"/Violin_ratio\")\n",
    "        if (!dir.exists(folder)) {dir.create(folder)}\n",
    "        \n",
    "        file_prefix <- ifelse(log, \"log10_\", \"\")\n",
    "        ggsave(\n",
    "            paste0(\n",
    "                folder,\n",
    "                \"/\", file_prefix, \"violin_plot_\",\n",
    "                gene_oi, \"-\", housekeeping, \"_ratio_\",\n",
    "                file_name, param,\n",
    "                \".png\"\n",
    "            ),\n",
    "            plot = vin_ratio,\n",
    "            width = 1920, height = 1080, units = \"px\"\n",
    "        )\n",
    "    }\n",
    "\n",
    "    #print(vin_ratio)\n",
    "    return(vin_ratio)\n",
    "}"
   ]
  },
  {
   "cell_type": "markdown",
   "id": "c0f98148-0330-4ab9-906a-8c07bf4c57cd",
   "metadata": {},
   "source": [
    "### All Violin plots"
   ]
  },
  {
   "cell_type": "code",
   "execution_count": 13,
   "id": "c1b62623-8c2f-46d1-84b1-409e79d3b785",
   "metadata": {},
   "outputs": [],
   "source": [
    "vin.all <- function(\n",
    "    sc_data,\n",
    "    g_oi,\n",
    "    hk,\n",
    "    file_name = timepoints[time_point],\n",
    "    save = TRUE,\n",
    "    res, \n",
    "    n_dim\n",
    ") {\n",
    "    vin.genes.comb(X = g_oi, name = 1, file_name = file_name, res = res, n_dim = n_dim, log = FALSE)\n",
    "    vin.genes.comb(X = g_oi, name = 1, file_name = file_name, res = res, n_dim = n_dim, log = TRUE)\n",
    "\n",
    "    vin.genes.comb(X = hk, name = 2, file_name = file_name, res = res, n_dim = n_dim, log = FALSE)\n",
    "    vin.genes.comb(X = hk, name = 2, file_name = file_name, res = res, n_dim = n_dim, log = TRUE)\n",
    "\n",
    "    for (i in 1:length(g_oi)) {\n",
    "        for (j in 1:length(hk)) {\n",
    "            # linear\n",
    "            vin.ratio(\n",
    "                sc_data, \n",
    "                gene_oi = g_oi[i],\n",
    "                housekeeping = hk[j],\n",
    "                file_name = file_name,\n",
    "                log = FALSE,\n",
    "                save = save,\n",
    "                res = res, \n",
    "                n_dim = n_dim\n",
    "            )\n",
    "            \n",
    "            # log\n",
    "            vin.ratio(\n",
    "                sc_data, \n",
    "                gene_oi = g_oi[i],\n",
    "                housekeeping = hk[j],\n",
    "                file_name = file_name,\n",
    "                log = TRUE,\n",
    "                save = TRUE,\n",
    "                res = res, \n",
    "                n_dim = n_dim\n",
    "            )\n",
    "        }\n",
    "    }\n",
    "}"
   ]
  },
  {
   "cell_type": "markdown",
   "id": "08590e97-6f67-483e-b2d2-bc5c7cb3dc62",
   "metadata": {},
   "source": [
    "## Comparison"
   ]
  },
  {
   "cell_type": "code",
   "execution_count": 14,
   "id": "8a35f5ee-038b-47c1-be26-4f6fef852343",
   "metadata": {},
   "outputs": [],
   "source": [
    "comparison.plot <- function(\n",
    "    gene_oi = genes_of_interest[goi], \n",
    "    housekeeping = housekeeping_genes[hk], \n",
    "    file_name = timepoints[time_point], \n",
    "    log = FALSE,\n",
    "    save = TRUE,\n",
    "    res, \n",
    "    n_dim\n",
    ") {\n",
    "    char_res <- as.character(res)\n",
    "    if (grepl(\"\\\\.\", char_res)) {char_res <- gsub(\"\\\\.\", \"_\", char_res)}\n",
    "    param <- paste0(\"_res_\", char_res, \"_dim_\", n_dim)\n",
    "    genes <- c(gene_oi, housekeeping)\n",
    "    logarithmic <- ifelse(log, \"logarithmic\", \"\")\n",
    "    print(\n",
    "        paste(\n",
    "            \"Plotting the\", logarithmic, \"ratio between\",\n",
    "            genes[1],\n",
    "            \"and\",\n",
    "            genes[2],\n",
    "            \"in\",\n",
    "            file_name\n",
    "        )\n",
    "    )\n",
    "    \n",
    "    expression_data <- FetchData(sc_data, vars = genes)\n",
    "    expression_data$cluster <- sc_data$seurat_clusters[colnames(sc_data)]\n",
    "    expression_data$goi_hk_ratio <- expression_data[[1]]/expression_data[[2]]\n",
    "    \n",
    "    if (log) {\n",
    "        comp_plot <- ggplot(\n",
    "            expression_data, \n",
    "            aes(x = goi_hk_ratio, fill = cluster)\n",
    "        ) + \n",
    "        geom_histogram(\n",
    "            binwidth = 0.2, position = \"dodge\", alpha = 0.7, \n",
    "            aes(y = after_stat(count) + 1)\n",
    "        ) + \n",
    "        labs(\n",
    "            title = paste0(\n",
    "                file_name, \n",
    "                \" - Histogram (log10) of \", \n",
    "                genes[1], \"/\", genes[2], \n",
    "                \" Ratio by Cluster\"\n",
    "            ), \n",
    "            x = paste0(genes[1], \"/\", genes[2], \" Ratio\"), \n",
    "            y = \"Number of Cells (+1, log10 scale)\"\n",
    "        ) + \n",
    "        theme_minimal() + \n",
    "        scale_fill_manual(values = rainbow(length(unique(expression_data$cluster))))\n",
    "\n",
    "        \n",
    "    } else {\n",
    "        comp_plot <- ggplot(\n",
    "            expression_data, \n",
    "            aes(x = goi_hk_ratio, fill = cluster)\n",
    "        ) + \n",
    "        geom_histogram(\n",
    "            binwidth = 0.2, position = \"dodge\", alpha = 0.7, \n",
    "            aes(y = after_stat(count))\n",
    "        ) + \n",
    "        labs(\n",
    "            title = paste0(\n",
    "                file_name, \n",
    "                \" - Histogram of \", \n",
    "                genes[1], \"/\", genes[2], \n",
    "                \" Ratio by Cluster\"\n",
    "            ), \n",
    "            x = paste0(genes[1], \"/\", genes[2], \" Ratio\"), \n",
    "            y = \"Number of Cells\"\n",
    "        ) + \n",
    "        theme_minimal() + \n",
    "        scale_fill_manual(values = rainbow(length(unique(expression_data$cluster))))\n",
    "    }\n",
    "\n",
    "    if (log) {\n",
    "        comp_plot <- comp_plot + scale_y_log10()\n",
    "    } \n",
    "\n",
    "    # Save\n",
    "    if (save) {\n",
    "        folder <- paste0(\"Results/\", file_name, \"/cluster\", param, \"/gene-hk_comparison\")\n",
    "        if (!dir.exists(folder)) {dir.create(folder)}\n",
    "    \n",
    "        file_prefix <- ifelse(log, \"log10_\", \"\")\n",
    "        ggsave(\n",
    "            paste0(\n",
    "                folder,\n",
    "                \"/\", file_prefix, \"gene-hk_comparison_\",\n",
    "                genes[1], \"-\", genes[2], \"_\",\n",
    "                file_name, param,\n",
    "                \".png\"\n",
    "            ),\n",
    "            plot = comp_plot,\n",
    "            width = 1920*2, height = 1080*2, units = \"px\"\n",
    "        )\n",
    "    }\n",
    "\n",
    "    #print(comp_plot)\n",
    "    return(comp_plot)\n",
    "}"
   ]
  },
  {
   "cell_type": "code",
   "execution_count": 15,
   "id": "2204457f-496e-42f6-bf1d-45da82336932",
   "metadata": {},
   "outputs": [],
   "source": [
    "all.comparison.plot <- function(\n",
    "    g_oi,\n",
    "    hk, \n",
    "    save = TRUE\n",
    ") {\n",
    "    for (i in 1:length(g_oi)) {\n",
    "        for (j in 1:length(hk)) {\n",
    "            # linear\n",
    "            comparison.plot(\n",
    "                gene_oi = g_oi[i],\n",
    "                housekeeping = hk[j],\n",
    "                log = FALSE,\n",
    "                save = save\n",
    "            )\n",
    "\n",
    "            # log\n",
    "            comparison.plot(\n",
    "                gene_oi = g_oi[i],\n",
    "                housekeeping = hk[j],\n",
    "                log = TRUE,\n",
    "                save = save\n",
    "            )\n",
    "        }\n",
    "    }\n",
    "}"
   ]
  },
  {
   "cell_type": "code",
   "execution_count": null,
   "id": "05596ffa-b56e-443f-b530-8d07a59c974d",
   "metadata": {},
   "outputs": [],
   "source": []
  },
  {
   "cell_type": "markdown",
   "id": "82856bf9-e5f5-436f-a2d3-31a59832df8d",
   "metadata": {},
   "source": [
    "## Cell annotation"
   ]
  },
  {
   "cell_type": "code",
   "execution_count": null,
   "id": "a88afbf5-87c6-41aa-936e-cea20da9f5e8",
   "metadata": {},
   "outputs": [],
   "source": []
  },
  {
   "cell_type": "markdown",
   "id": "533c4fc0-efbc-4d0e-82aa-73923180280b",
   "metadata": {},
   "source": [
    "## Cluster composition comparison between my analisis and their's"
   ]
  },
  {
   "cell_type": "markdown",
   "id": "aa65b767-6463-437f-8e9e-36b1b710fa5c",
   "metadata": {},
   "source": [
    "ari pacchetto python per  confrontare quanto due cluster siano uguali"
   ]
  },
  {
   "cell_type": "markdown",
   "id": "0256d2f0-2f8e-4cf3-b979-c066c3a7eaaa",
   "metadata": {},
   "source": [
    "# Compute"
   ]
  },
  {
   "cell_type": "markdown",
   "id": "8692e8ad-6fc7-4aae-ad5e-2580c8d4ca74",
   "metadata": {
    "jp-MarkdownHeadingCollapsed": true
   },
   "source": [
    "## Single dataset"
   ]
  },
  {
   "cell_type": "markdown",
   "id": "2bee21bb-a59e-4d94-943f-c51dafadd897",
   "metadata": {},
   "source": [
    "### Cluster"
   ]
  },
  {
   "cell_type": "code",
   "execution_count": 16,
   "id": "a8a8e26c-ef3b-487e-990e-a4c76e5f2119",
   "metadata": {},
   "outputs": [],
   "source": [
    "time_point <- 1"
   ]
  },
  {
   "cell_type": "code",
   "execution_count": 17,
   "id": "ebb8b4ce-f5b5-4613-a7c0-6b00a9e0db9c",
   "metadata": {},
   "outputs": [
    {
     "ename": "ERROR",
     "evalue": "Error in load.data(time_point, save = FALSE): argument \"res\" is missing, with no default\n",
     "output_type": "error",
     "traceback": [
      "Error in load.data(time_point, save = FALSE): argument \"res\" is missing, with no default\nTraceback:\n",
      "1. load.data(time_point, save = FALSE)"
     ]
    }
   ],
   "source": [
    "# Load the data\n",
    "sc_data <- load.data(time_point, save = FALSE)"
   ]
  },
  {
   "cell_type": "code",
   "execution_count": null,
   "id": "92b04676-ccca-4662-bd1c-371e7fc308ac",
   "metadata": {},
   "outputs": [],
   "source": [
    "# Run PCA and clustering\n",
    "sc_data <- PCA.cluster(sc_data, res = 1, save = TRUE)"
   ]
  },
  {
   "cell_type": "markdown",
   "id": "1f4387ba-64b6-4136-9b59-3ec3df62b459",
   "metadata": {},
   "source": [
    "### Plots"
   ]
  },
  {
   "cell_type": "code",
   "execution_count": null,
   "id": "d4b69b2b-9ae3-4e25-bf80-21f05bf5ecf2",
   "metadata": {},
   "outputs": [],
   "source": [
    "# Violin Plots\n",
    "vin.all(\n",
    "    g_oi = genes_of_interest,\n",
    "    hk = housekeeping_genes\n",
    ")"
   ]
  },
  {
   "cell_type": "code",
   "execution_count": null,
   "id": "034e98f6-e84f-481d-9a62-554e9235d275",
   "metadata": {},
   "outputs": [],
   "source": [
    "# Comparison plots\n",
    "all.comparison.plot(\n",
    "    g_oi = genes_of_interest,\n",
    "    hk = housekeeping_genes\n",
    ")"
   ]
  },
  {
   "cell_type": "markdown",
   "id": "c172c99a-0c23-4324-9934-2ebcf4e104fc",
   "metadata": {},
   "source": [
    "### Markers"
   ]
  },
  {
   "cell_type": "code",
   "execution_count": null,
   "id": "d42b9c3c-5dd8-47bd-a261-94cb04f428f0",
   "metadata": {},
   "outputs": [],
   "source": [
    "# Find all markers\n",
    "cluster_markers <- cluster.markers(sc_data)"
   ]
  },
  {
   "cell_type": "code",
   "execution_count": null,
   "id": "336696d4-5bbc-4a5e-99bf-99149c5311d0",
   "metadata": {},
   "outputs": [],
   "source": [
    "# Find differentially expressed genes\n",
    "de_genes <- de.genes(genes_of_interest)"
   ]
  },
  {
   "cell_type": "markdown",
   "id": "b7798326-2988-4a28-b7fb-665016323d5d",
   "metadata": {},
   "source": [
    "### Annotations"
   ]
  },
  {
   "cell_type": "code",
   "execution_count": null,
   "id": "c9e91211-65a3-414b-8b4e-64cc0d333821",
   "metadata": {},
   "outputs": [],
   "source": []
  },
  {
   "cell_type": "markdown",
   "id": "d49f3fa7-5799-4a26-b7c7-2a55d782b7f2",
   "metadata": {},
   "source": [
    "## All"
   ]
  },
  {
   "cell_type": "code",
   "execution_count": 16,
   "id": "b364ded6",
   "metadata": {},
   "outputs": [],
   "source": [
    "# SET UP NAMES\n",
    "timepoints <- c(\"23days\", \"1month\", \"1.5month\", \"2month\", \"3month\", \"4month\", \"5month\", \"6month\")\n",
    "housekeeping_genes <- c(\"ACTB\", \"DLG4\")\n",
    "genes_of_interest <- c(\"SRCIN1\", \"KIAA1217\", \"CIT\")\n",
    "path_to_data <- \"/sharedFolder/Data/\"\n",
    "\n",
    "name_new_dir_results <- paste(getwd(), \"/Results\", sep = \"\")\n",
    "if (!dir.exists(name_new_dir_results)) {\n",
    "    dir.create(name_new_dir_results)\n",
    "}\n",
    "\n",
    "name_new_dir_partial <- paste(getwd(), \"/Partial\", sep = \"\")\n",
    "if (!dir.exists(name_new_dir_partial)) {\n",
    "    dir.create(name_new_dir_partial)\n",
    "}"
   ]
  },
  {
   "cell_type": "code",
   "execution_count": 17,
   "id": "9c3a8d11-ca3c-4bb7-89b8-22eec92abb04",
   "metadata": {},
   "outputs": [],
   "source": [
    "compute.one <- function(\n",
    "    file_name,\n",
    "    cluster_res = 1,\n",
    "    cluster_dim = 40,\n",
    "    genes_oi = genes_of_interest,\n",
    "    hk_genes = housekeeping_genes,\n",
    "    Umap = TRUE, Umap_p = TRUE,\n",
    "    violin = TRUE, violin_p = TRUE,\n",
    "    comp_hist = TRUE, comp_hist_p = TRUE,\n",
    "    mark = TRUE, mark_p = TRUE,\n",
    "    save = TRUE\n",
    ") {\n",
    "    char_res <- as.character(cluster_res)\n",
    "    if (grepl(\"\\\\.\", char_res)) {char_res <- gsub(\"\\\\.\", \"_\", char_res)}\n",
    "    param <- paste0(\"_res_\", char_res, \"_dim_\", as.character(cluster_dim))\n",
    "    folder <- paste0(\"Results/\", file_name, \"/cluster\", param)\n",
    "        if (!dir.exists(folder)) {dir.create(folder)}\n",
    "    \n",
    "    print(paste(\"STARTING\", file_name, \"- LOADING DATA\"))\n",
    "\n",
    "    # Load the data\n",
    "    sc_data <- load.data(file_name = file_name, save = save, res = cluster_res, n_dim = cluster_dim)\n",
    "    \n",
    "    print(paste(file_name, \"- DATA LOADED, CLUSTERING\"))\n",
    "    \n",
    "    # Run PCA and clustering\n",
    "    sc_data <- PCA.cluster(sc_data, file_name = file_name, res = cluster_res, n_dim = cluster_dim, save = save)\n",
    "\n",
    "    print(paste(file_name, \"- CLUSTERS DONE\"))\n",
    "\n",
    "    if (Umap || violin || comp_hist) {\n",
    "        print(paste(file_name, \"- STARTING WITH PLOTS\"))\n",
    "    }\n",
    "\n",
    "    if (Umap) {\n",
    "        print(paste(file_name, \"- UMAP\"))\n",
    "        sc_UMAP <- suppressMessages(RunUMAP(sc_data, dims = 1:cluster_dim))\n",
    "        umap_plot <- DimPlot(sc_UMAP, reduction = \"umap\", label = TRUE, pt.size = 1)\n",
    "        if (Umap_p) {print(umap_plot)}\n",
    "        ggsave(\n",
    "            filename = paste0(\n",
    "                folder, \"/umap\", \n",
    "                file_name,\n",
    "                param,\n",
    "                \".png\"\n",
    "            ),\n",
    "            plot = umap_plot,\n",
    "            width = 1920*2, height = 1080*2, units = \"px\"\n",
    "        )\n",
    "    }\n",
    "\n",
    "    if (violin) {\n",
    "        print(paste(file_name, \"- VIOLINS\"))\n",
    "        # Violin Plots\n",
    "        vin.all(\n",
    "            g_oi = genes_oi,\n",
    "            hk = hk_genes, \n",
    "            file_name = file_name,\n",
    "            res = cluster_res, n_dim = cluster_dim\n",
    "        )\n",
    "    }\n",
    "\n",
    "    if (comp_hist) {\n",
    "        print(paste(file_name, \"- COMPARISON HISTOGRAMS\"))\n",
    "        # Comparison plots\n",
    "        all.comparison.plot(\n",
    "            g_oi = genes_oi,\n",
    "            hk = hk_genes, \n",
    "            file_name = file_name,\n",
    "            res = cluster_res, n_dim = cluster_dim\n",
    "        )\n",
    "    }\n",
    "\n",
    "    if (Umap || violin || comp_hist) {\n",
    "        print(paste(file_name, \"- PLOTS DONE\"))\n",
    "    }\n",
    "    \n",
    "    if (mark) {\n",
    "        print(paste(file_name, \"- FIND ALL MARKERS\"))\n",
    "        # Find all markers\n",
    "        cluster_markers <- cluster.markers(sc_data, file_name = file_name, res = cluster_res, n_dim = cluster_dim)\n",
    "    \n",
    "        print(paste(file_name, \"- DIFFERENTIAL EXPRESSION FOR GENES OF INTEREST\"))\n",
    "        # Find differentially expressed genes\n",
    "        de_genes <- de.genes(genes_oi, c_m = cluster_markers, file_name = file_name, save = save, res = cluster_res, n_dim = cluster_dim)\n",
    "    }\n",
    "\n",
    "    print(paste(file_name, \"- END\"))\n",
    "}"
   ]
  },
  {
   "cell_type": "code",
   "execution_count": 18,
   "id": "90033e0d-5aa7-428e-b4b9-02b2e0fa7e73",
   "metadata": {},
   "outputs": [
    {
     "name": "stdout",
     "output_type": "stream",
     "text": [
      "[1] \"STARTING 23days - LOADING DATA\"\n",
      "[1] \"Loading data for time point: 23days\"\n"
     ]
    },
    {
     "name": "stderr",
     "output_type": "stream",
     "text": [
      "Normalizing layer: counts\n",
      "\n",
      "Finding variable features for layer data\n",
      "\n",
      "Centering and scaling data matrix\n",
      "\n"
     ]
    },
    {
     "name": "stdout",
     "output_type": "stream",
     "text": [
      "[1] \"23days - DATA LOADED, CLUSTERING\"\n",
      "[1] \"Running PCA and clustering for time point: 23days\"\n"
     ]
    },
    {
     "name": "stderr",
     "output_type": "stream",
     "text": [
      "Computing nearest neighbor graph\n",
      "\n",
      "Computing SNN\n",
      "\n"
     ]
    },
    {
     "name": "stdout",
     "output_type": "stream",
     "text": [
      "Modularity Optimizer version 1.3.0 by Ludo Waltman and Nees Jan van Eck\n",
      "\n",
      "Number of nodes: 29736\n",
      "Number of edges: 1092353\n",
      "\n",
      "Running Louvain algorithm...\n",
      "Maximum modularity in 10 random starts: 0.9242\n",
      "Number of communities: 17\n",
      "Elapsed time: 3 seconds\n",
      "\n",
      "   0    1    2    3    4    5    6    7    8    9   10   11   12   13   14   15 \n",
      "6870 2590 2587 2517 2258 2102 2029 1812 1802 1770 1135 1024  516  420  116  103 \n",
      "  16 \n",
      "  85 \n",
      "[1] \"23days - CLUSTERS DONE\"\n",
      "[1] \"23days - STARTING WITH PLOTS\"\n",
      "[1] \"23days - UMAP\"\n"
     ]
    },
    {
     "name": "stderr",
     "output_type": "stream",
     "text": [
      "Warning message:\n",
      "“The default method for RunUMAP has changed from calling Python UMAP via reticulate to the R-native UWOT using the cosine metric\n",
      "To use Python UMAP via reticulate, set umap.method to 'umap-learn' and metric to 'correlation'\n",
      "This message will be shown once per session”\n"
     ]
    },
    {
     "name": "stdout",
     "output_type": "stream",
     "text": [
      "[1] \"23days - VIOLINS\"\n"
     ]
    },
    {
     "ename": "ERROR",
     "evalue": "Error in vin.genes.comb(X = sc_data, g_oi, name = 1, file_name = file_name, : argument \"sc_data\" is missing, with no default\n",
     "output_type": "error",
     "traceback": [
      "Error in vin.genes.comb(X = sc_data, g_oi, name = 1, file_name = file_name, : argument \"sc_data\" is missing, with no default\nTraceback:\n",
      "1. compute.one(timepoints[1], cluster_res = 0.5, cluster_dim = 30, \n .     genes_oi = genes_of_interest, hk_genes = housekeeping_genes, \n .     Umap = TRUE, Umap_p = TRUE, violin = TRUE, violin_p = TRUE, \n .     comp_hist = TRUE, comp_hist_p = TRUE, mark = TRUE, mark_p = TRUE, \n .     save = FALSE)",
      "2. vin.all(g_oi = genes_oi, hk = hk_genes, file_name = file_name, \n .     res = cluster_res, n_dim = cluster_dim)   # at line 55-60 of file <text>",
      "3. vin.genes.comb(X = sc_data, g_oi, name = 1, file_name = file_name, \n .     res = res, n_dim = n_dim, log = FALSE)   # at line 10 of file <text>",
      "4. lapply(X, vin.genes)   # at line 18 of file <text>"
     ]
    },
    {
     "data": {
      "image/png": "[encoded data removed]",
      "text/plain": [
       "plot without title"
      ]
     },
     "metadata": {
      "image/png": {
       "height": 420,
       "width": 420
      }
     },
     "output_type": "display_data"
    }
   ],
   "source": [
    "compute.one(\n",
    "    timepoints[1],\n",
    "    cluster_res = 0.5,\n",
    "    cluster_dim = 30,\n",
    "    genes_oi = genes_of_interest,\n",
    "    hk_genes = housekeeping_genes,\n",
    "    Umap = TRUE, Umap_p = TRUE,\n",
    "    violin = TRUE, violin_p = TRUE,\n",
    "    comp_hist = TRUE, comp_hist_p = TRUE,\n",
    "    mark = TRUE, mark_p = TRUE,\n",
    "    save = FALSE\n",
    ")"
   ]
  },
  {
   "cell_type": "markdown",
   "id": "21e6ecf7-35a6-47f2-b18c-d907b6f9bba3",
   "metadata": {},
   "source": [
    "save.my.thing <- function(\n",
    "    thing_type,\n",
    "    thing,\n",
    "    image_resolution\n",
    ") {\n",
    "    res_list <- data.frame\n",
    "    \n",
    "    if (thing_type == \"plot\") {\n",
    "        ggsave(\n",
    "            paste0(\n",
    "                \n",
    "            ),\n",
    "            file = umap_plot,\n",
    "            width = 1920*, height = 1080*2, units = \"px\"\n",
    "        )\n",
    "    } else if (thing_type == \"plot\") {\n",
    "        \n",
    "    } else if (thing_type == \"plot\") {\n",
    "        \n",
    "    }\n",
    "}"
   ]
  },
  {
   "cell_type": "markdown",
   "id": "044adf8d-a6f3-421a-af23-8b194b34580c",
   "metadata": {},
   "source": [
    "compute.all <- function(\n",
    "    \n",
    ") {\n",
    "    \n",
    "    \n",
    "    print(\"Finished successfully\")\n",
    "}"
   ]
  },
  {
   "cell_type": "markdown",
   "id": "cde22d3c-ef56-4e9a-8542-1f247e7af496",
   "metadata": {
    "collapsed": true,
    "jupyter": {
     "outputs_hidden": true
    },
    "scrolled": true
   },
   "source": [
    "for (time_point in 1:length(timepoints)) {\n",
    "    print(paste(\"STARTING\", timepoints[time_point], \"- LOADING DATA\"))\n",
    "\n",
    "    # Load the data\n",
    "    sc_data <- load.data(file_name = timepoints[time_point], save = TRUE)\n",
    "\n",
    "    print(paste(timepoints[time_point], \"- DATA LOADED, CLUSTERING\"))\n",
    "    # Run PCA and clustering\n",
    "    sc_data <- PCA.cluster(sc_data, res = 1, n_dim = 40, save = TRUE)\n",
    "\n",
    "    print(paste(timepoints[time_point], \"- CLUSTERS DONE, STARTING WITH PLOTS\"))\n",
    "\n",
    "    print(paste(timepoints[time_point], \"- VIOLINS\"))\n",
    "    # Violin Plots\n",
    "    vin.all(\n",
    "        g_oi = genes_of_interest,\n",
    "        hk = housekeeping_genes\n",
    "    )\n",
    "\n",
    "    print(paste(timepoints[time_point], \"- COMPARISON HISTOGRAMS\"))\n",
    "    # Comparison plots\n",
    "    all.comparison.plot(\n",
    "        g_oi = genes_of_interest,\n",
    "        hk = housekeeping_genes\n",
    "    )\n",
    "    \n",
    "    print(paste(timepoints[time_point], \"- PLOTS DONE\"))\n",
    "    \n",
    "    print(paste(timepoints[time_point], \"- FIND ALL MARKERS\"))\n",
    "    # Find all markers\n",
    "    cluster_markers <- cluster.markers(sc_data)\n",
    "\n",
    "    print(paste(timepoints[time_point], \"- DIFFERENTIAL EXPRESSION FOR GENES OF INTEREST\"))\n",
    "    # Find differentially expressed genes\n",
    "    de_genes <- de.genes(genes_of_interest)\n",
    "\n",
    "    print(paste(timepoints[time_point], \"- END\"))\n",
    "}\n",
    "print(\"Finished successfully\")"
   ]
  },
  {
   "cell_type": "markdown",
   "id": "4f3d8dd5-8ad5-4dd6-8884-660a7a244401",
   "metadata": {
    "collapsed": true,
    "jupyter": {
     "outputs_hidden": true
    },
    "scrolled": true
   },
   "source": [
    "for (aaa in 1:length(timepoints)) {\n",
    "    compute.one(\n",
    "        timepoints[aaa],\n",
    "        cluster_res = 0.5,\n",
    "        cluster_dim = 30,\n",
    "        genes_oi = genes_of_interest,\n",
    "        hk_genes = housekeeping_genes,\n",
    "        Umap = TRUE, Umap_p = TRUE,\n",
    "        violin = TRUE, violin_p = TRUE,\n",
    "        comp_hist = TRUE, comp_hist_p = TRUE,\n",
    "        mark = TRUE, mark_p = TRUE,\n",
    "        save = TRUE\n",
    "    )\n",
    "}\n",
    "print(\"Finished successfully\")"
   ]
  },
  {
   "cell_type": "markdown",
   "id": "c5a6bbc0-be36-4fc6-a9f7-eb0ad355d40c",
   "metadata": {},
   "source": [
    "ari pacchetto python per  confrontare quanto due cluster siano uguali"
   ]
  },
  {
   "cell_type": "code",
   "execution_count": null,
   "id": "fb64ed17-51c1-45f0-86ae-10ab872b1ec9",
   "metadata": {},
   "outputs": [],
   "source": []
  }
 ],
 "metadata": {
  "kernelspec": {
   "display_name": "R",
   "language": "R",
   "name": "ir"
  },
  "language_info": {
   "codemirror_mode": "r",
   "file_extension": ".r",
   "mimetype": "text/x-r-source",
   "name": "R",
   "pygments_lexer": "r",
   "version": "4.2.0"
  }
 },
 "nbformat": 4,
 "nbformat_minor": 5
}
