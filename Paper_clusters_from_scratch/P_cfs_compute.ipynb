{
 "cells": [
  {
   "cell_type": "markdown",
   "id": "c958dcd5-46b7-441b-ac7c-b55f74177bdc",
   "metadata": {},
   "source": [
    "# **Analyze the data from scratch**\n",
    "steps"
   ]
  },
  {
   "cell_type": "markdown",
   "id": "ecb58b63-def7-4e59-a2dd-5dcd867a3017",
   "metadata": {},
   "source": [
    "## Load Libraries"
   ]
  },
  {
   "cell_type": "code",
   "execution_count": 1,
   "id": "016bdfeb-4bcd-4275-898b-ef70f41810ba",
   "metadata": {},
   "outputs": [
    {
     "name": "stderr",
     "output_type": "stream",
     "text": [
      "Loading required package: SeuratObject\n",
      "\n",
      "Loading required package: sp\n",
      "\n",
      "\n",
      "Attaching package: ‘SeuratObject’\n",
      "\n",
      "\n",
      "The following object is masked from ‘package:base’:\n",
      "\n",
      "    intersect\n",
      "\n",
      "\n",
      "── \u001b[1mAttaching core tidyverse packages\u001b[22m ────────────────────────────────────────────────────────────────────────────────────────────────────────────────────────────────────── tidyverse 2.0.0 ──\n",
      "\u001b[32m✔\u001b[39m \u001b[34mdplyr    \u001b[39m 1.1.4     \u001b[32m✔\u001b[39m \u001b[34mreadr    \u001b[39m 2.1.5\n",
      "\u001b[32m✔\u001b[39m \u001b[34mforcats  \u001b[39m 1.0.0     \u001b[32m✔\u001b[39m \u001b[34mstringr  \u001b[39m 1.5.1\n",
      "\u001b[32m✔\u001b[39m \u001b[34mggplot2  \u001b[39m 3.4.4     \u001b[32m✔\u001b[39m \u001b[34mtibble   \u001b[39m 3.2.1\n",
      "\u001b[32m✔\u001b[39m \u001b[34mlubridate\u001b[39m 1.9.4     \u001b[32m✔\u001b[39m \u001b[34mtidyr    \u001b[39m 1.3.1\n",
      "\u001b[32m✔\u001b[39m \u001b[34mpurrr    \u001b[39m 1.0.4     \n",
      "── \u001b[1mConflicts\u001b[22m ──────────────────────────────────────────────────────────────────────────────────────────────────────────────────────────────────────────────────────── tidyverse_conflicts() ──\n",
      "\u001b[31m✖\u001b[39m \u001b[34mdplyr\u001b[39m::\u001b[32mfilter()\u001b[39m masks \u001b[34mstats\u001b[39m::filter()\n",
      "\u001b[31m✖\u001b[39m \u001b[34mdplyr\u001b[39m::\u001b[32mlag()\u001b[39m    masks \u001b[34mstats\u001b[39m::lag()\n",
      "\u001b[36mℹ\u001b[39m Use the conflicted package (\u001b[3m\u001b[34m<http://conflicted.r-lib.org/>\u001b[39m\u001b[23m) to force all conflicts to become errors\n",
      "Loading required package: Rcpp\n",
      "\n",
      "Loading required package: data.table\n",
      "\n",
      "\n",
      "Attaching package: ‘data.table’\n",
      "\n",
      "\n",
      "The following objects are masked from ‘package:lubridate’:\n",
      "\n",
      "    hour, isoweek, mday, minute, month, quarter, second, wday, week,\n",
      "    yday, year\n",
      "\n",
      "\n",
      "The following objects are masked from ‘package:dplyr’:\n",
      "\n",
      "    between, first, last\n",
      "\n",
      "\n",
      "The following object is masked from ‘package:purrr’:\n",
      "\n",
      "    transpose\n",
      "\n",
      "\n",
      "\n",
      "Attaching package: ‘cowplot’\n",
      "\n",
      "\n",
      "The following object is masked from ‘package:lubridate’:\n",
      "\n",
      "    stamp\n",
      "\n",
      "\n",
      "Welcome to enrichR\n",
      "Checking connections ... \n",
      "\n",
      "Enrichr ... \n",
      "Connection is Live!\n",
      "\n",
      "FlyEnrichr ... \n",
      "Connection is Live!\n",
      "\n",
      "WormEnrichr ... \n",
      "Connection is Live!\n",
      "\n",
      "YeastEnrichr ... \n",
      "Connection is Live!\n",
      "\n",
      "FishEnrichr ... \n",
      "Connection is Live!\n",
      "\n",
      "OxEnrichr ... \n",
      "Connection is Live!\n",
      "\n"
     ]
    }
   ],
   "source": [
    "# LOAD LIBRARIES\n",
    "library(Seurat)\n",
    "library(tidyverse)\n",
    "library(future)\n",
    "library(ggplot2)\n",
    "library(dplyr)\n",
    "library(presto)\n",
    "library(cowplot)\n",
    "\n",
    "library(enrichR)\n",
    "library(GPTCelltype)\n",
    "library(openai)"
   ]
  },
  {
   "cell_type": "markdown",
   "id": "c696037d-66ce-4aee-bfd7-72f26df9103e",
   "metadata": {},
   "source": [
    "## Setup"
   ]
  },
  {
   "cell_type": "code",
   "execution_count": 2,
   "id": "bd56ce15-ab6e-4772-83a3-f838d5223758",
   "metadata": {},
   "outputs": [],
   "source": [
    "# SET UP NAMES\n",
    "timepoints <- c(\"23days\", \"1month\", \"1.5month\", \"2month\", \"3month\", \"4month\", \"5month\", \"6month\")\n",
    "housekeeping_genes <- c(\"ACTB\", \"DLG4\")\n",
    "genes_of_interest <- c(\"SRCIN1\", \"KIAA1217\", \"CIT\")\n",
    "path_to_data <- \"/sharedFolder/Data/\"\n",
    "\n",
    "name_new_dir_results <- paste(getwd(), \"/Results\", sep = \"\")\n",
    "if (!dir.exists(name_new_dir_results)) {\n",
    "    dir.create(name_new_dir_results)\n",
    "}\n",
    "\n",
    "name_new_dir_partial <- paste(getwd(), \"/Partial\", sep = \"\")\n",
    "if (!dir.exists(name_new_dir_partial)) {\n",
    "    dir.create(name_new_dir_partial)\n",
    "}"
   ]
  },
  {
   "cell_type": "code",
   "execution_count": 3,
   "id": "203f5169-ec1b-4708-a278-854c804aabf0",
   "metadata": {},
   "outputs": [],
   "source": [
    "for (a in 1:8) {\n",
    "    name_new_dir <- paste(name_new_dir_partial, \"/\", timepoints[a], sep=\"\")     \n",
    "    if (!dir.exists(name_new_dir)) {\n",
    "        dir.create(name_new_dir)\n",
    "    }\n",
    "    name_new_dir <- paste(name_new_dir_results, \"/\", timepoints[a], sep=\"\")     \n",
    "    if (!dir.exists(name_new_dir)) {\n",
    "        dir.create(name_new_dir)\n",
    "    }  \n",
    "}"
   ]
  },
  {
   "cell_type": "markdown",
   "id": "fb407bbd-5f20-444e-9b78-09e03a63ba8d",
   "metadata": {},
   "source": [
    "## Define functions"
   ]
  },
  {
   "cell_type": "markdown",
   "id": "3084254f-aaa0-4f60-aebb-a514a984a9ff",
   "metadata": {},
   "source": [
    "### load.data(time_point)\n",
    "* LOAD DATA\n",
    "* NORMALIZE\n",
    "* FIND VARIABLE FEATURES\n",
    "* SCALE DATA"
   ]
  },
  {
   "cell_type": "code",
   "execution_count": 4,
   "id": "2fc368d6-46d9-43e3-a2e8-7e8135e8075f",
   "metadata": {},
   "outputs": [],
   "source": [
    "load.data <- function(time_point, save = TRUE) {\n",
    "    print(paste(\"Loading data for time point:\", timepoints[time_point]))\n",
    "\n",
    "    # Load the data\n",
    "    sc_data <- Read10X(data.dir = paste(path_to_data, \"expression_\", timepoints[time_point], sep = \"\"), gene.column = 1)\n",
    "\n",
    "    # Create Seurat object\n",
    "    sc_data <- CreateSeuratObject(counts = sc_data, min.cells = 3, min.features = 500, project = timepoints[time_point], names.delim = \"-\", names.field = 2)\n",
    "\n",
    "    # Normalize the data\n",
    "    sc_data <- NormalizeData(sc_data, normalization.method = \"LogNormalize\", scale.factor = 1e6)\n",
    "\n",
    "    # Find variable features\n",
    "    sc_data <- FindVariableFeatures(sc_data, selection.method = \"mvp\", nfeatures = 2000)\n",
    "\n",
    "    # Scale the data\n",
    "    sc_data <- ScaleData(sc_data)\n",
    "\n",
    "    # Save the Scaled data\n",
    "    if (save) {\n",
    "        name_new_dir <- paste(name_new_dir_partial, \"/\", timepoints[time_point], sep = \"\")\n",
    "        if (!dir.exists(name_new_dir)) {dir.create(name_new_dir)}\n",
    "        \n",
    "        print(paste(\"Saving PCA for time point\", timepoints[time_point], \"in\", name_new_dir))\n",
    "        save(sc_data, file = paste(name_new_dir, \"/Scaled_\", timepoints[time_point], \".Robj\", sep = \"\"))\n",
    "    }\n",
    "    \n",
    "    return(sc_data)\n",
    "}"
   ]
  },
  {
   "cell_type": "markdown",
   "id": "a8e2728c-b2fb-4cdb-a93c-72f682981423",
   "metadata": {},
   "source": [
    "### PCA.cluster(x = sc_data, res)\n",
    "* Run PCA\n",
    "* Cluster the cells"
   ]
  },
  {
   "cell_type": "code",
   "execution_count": 5,
   "id": "bf548cd0-fc8e-4f29-afa9-69227e9c1017",
   "metadata": {},
   "outputs": [],
   "source": [
    "PCA.cluster <- function(x = sc_data, res = 1, save = TRUE){\n",
    "    print(paste(\"Running PCA and clustering for time point:\", timepoints[time_point]))\n",
    "    \n",
    "    # PCA\n",
    "    x <- RunPCA(x, npcs = 50, verbose = FALSE)\n",
    "    #print(ElbowPlot(object = x, ndims = 50))\n",
    "\n",
    "    # Cluster the cells\n",
    "    x <- FindNeighbors(x, dims = 1:40)\n",
    "    x <- FindClusters(x, resolution = res)\n",
    "    \n",
    "    print(table(Idents(x)))\n",
    "\n",
    "    # Save the PCA plot\n",
    "    if (save) {\n",
    "        name_new_dir <- paste(name_new_dir_partial, \"/\", timepoints[time_point], sep=\"\")\n",
    "        if (!dir.exists(name_new_dir)) {dir.create(name_new_dir)} \n",
    "    \n",
    "        print(paste(\"Saving PCA for time point\", timepoints[time_point], \"in\", name_new_dir))\n",
    "        save(x, file = paste(name_new_dir, \"/PCA_res_\",res,\"_\",timepoints[time_point],\".Robj\", sep=\"\"))\n",
    "    }\n",
    "    return(x)\n",
    "}"
   ]
  },
  {
   "cell_type": "markdown",
   "id": "68ac5ae4-8ce1-4165-8f2b-8e3245095bca",
   "metadata": {},
   "source": [
    "### cluster.markers(x = sc_data)\n",
    "* find all markers for every cluster compared to all remaining cells"
   ]
  },
  {
   "cell_type": "code",
   "execution_count": 6,
   "id": "16f5ba61-7466-4b98-a69e-d04c183033ed",
   "metadata": {},
   "outputs": [],
   "source": [
    "# FIND ALL MARKERS\n",
    "cluster.markers <- function(x, save = TRUE) {\n",
    "    print(paste(\"Finding all markers for time point:\", timepoints[time_point]))\n",
    "\n",
    "    # Find all markers for every cluster compared to all remaining cells\n",
    "    markers <- FindAllMarkers(x,\n",
    "                                        only.pos = TRUE,   # Considera solo i marker espressi positivamente\n",
    "                                        min.pct = 0.25,    # Percentuale minima di espressione nelle cellule del cluster\n",
    "                                        logfc.threshold = 0.25)  # Soglia minima di LogFC\n",
    "    \n",
    "    # Save the markers\n",
    "    if (save) {\n",
    "        name_new_dir <- paste(name_new_dir_partial, \"/\", timepoints[time_point], sep=\"\")     \n",
    "        if (!dir.exists(name_new_dir)) {dir.create(name_new_dir)} \n",
    "        \n",
    "        print(paste(\"Saving cluster markers for time point\", timepoints[time_point], \"in\", name_new_dir))\n",
    "        save(markers, file = paste(name_new_dir, \"/cluster_markers_\",timepoints[time_point],\".Robj\", sep=\"\"))\n",
    "    }\n",
    "        \n",
    "    return(markers)\n",
    "}"
   ]
  },
  {
   "cell_type": "markdown",
   "id": "5bdc3aed-0860-4661-9a38-939be3adc71d",
   "metadata": {},
   "source": [
    "### Reload from partials\n",
    "* load.sc_data(time_point) = up to scaleData()\n",
    "* load.cluster(time_point, res) = clustered\n",
    "* load.markers(time_point) = markers"
   ]
  },
  {
   "cell_type": "code",
   "execution_count": 7,
   "id": "f93f9f27-f893-4615-90ce-2137a328e8d2",
   "metadata": {},
   "outputs": [],
   "source": [
    "# RELOAD DATA\n",
    "load.sc_data <- function(time_point) {\n",
    "    name_new_dir <- paste(name_new_dir_partial, \"/\", timepoints[time_point], sep = \"\")\n",
    "    load(paste(name_new_dir, \"/cluster_markers_\", timepoints[time_point], \".Robj\", sep = \"\"))\n",
    "    return(sc_data)\n",
    "}\n",
    "\n",
    "load.clusters <- function(time_point, res) {\n",
    "    name_new_dir <- paste(name_new_dir_partial, \"/\", timepoints[time_point], sep = \"\")\n",
    "    load(paste(name_new_dir, \"/PCA_res_\", res, \"_\", timepoints[time_point], \".Robj\", sep = \"\"))\n",
    "    return(sc_data)\n",
    "}\n",
    "\n",
    "load.markers <- function(time_point) {\n",
    "    name_new_dir <- paste(name_new_dir_partial, \"/\", timepoints[time_point], sep = \"\")\n",
    "    load(paste(name_new_dir, \"/cluster_markers_\", timepoints[time_point], \".Robj\", sep = \"\"))\n",
    "    return(cluster_markers)\n",
    "}"
   ]
  },
  {
   "cell_type": "markdown",
   "id": "6883693a-842d-429a-8ff2-a70b748d1f31",
   "metadata": {},
   "source": [
    "### de.genes(genes_oi)\n",
    "* finds whether one or more genes of interest are differentialy expressed in the clusters\n",
    "* if no genes are specified this function assumes that **genes_oi** is **genes_of_interest**"
   ]
  },
  {
   "cell_type": "code",
   "execution_count": 8,
   "id": "36c1d832-bcc4-4902-91f6-9d947e603d89",
   "metadata": {},
   "outputs": [],
   "source": [
    "# FIND DIFFERENTIALLY EXPRESSED GENES\n",
    "de.genes <- function(genes_oi = genes_of_interest, save = TRUE) {\n",
    "    print(paste(\"Finding differentially expressed genes for time point:\", timepoints[time_point]))\n",
    "\n",
    "    # Find differentially expressed genes\n",
    "    de_genes <- cluster_markers %>% filter(gene %in% genes_oi)\n",
    "    print(de_genes)\n",
    "\n",
    "    # Save the DE genes\n",
    "    if (save) {\n",
    "        name_new_dir <- paste(name_new_dir_results, \"/\", timepoints[time_point], sep = \"\")\n",
    "        if (!dir.exists(name_new_dir)) {dir.create(name_new_dir)}\n",
    "        \n",
    "        print(paste(\"Saving differentially expressed genes for time point\", timepoints[time_point], \"in\", name_new_dir))\n",
    "        write.csv(de_genes, file = paste(name_new_dir, \"/de_genes_\", timepoints[time_point], \".csv\", sep = \"\"))\n",
    "    }\n",
    "    \n",
    "    return(de_genes)\n",
    "}"
   ]
  },
  {
   "cell_type": "markdown",
   "id": "2b5a44e0-f7ed-4795-88cc-7ad02ede51a5",
   "metadata": {},
   "source": [
    "## Violin Plots"
   ]
  },
  {
   "cell_type": "markdown",
   "id": "1d1e4b87-c874-4211-a275-9e3e9df3cba9",
   "metadata": {},
   "source": [
    "### Violin genes-clusters"
   ]
  },
  {
   "cell_type": "code",
   "execution_count": 9,
   "id": "76a009e0-882a-4b8b-8b42-e660509b237a",
   "metadata": {},
   "outputs": [],
   "source": [
    "vin.genes <- function(X) {\n",
    "    VlnPlot(\n",
    "        sc_data, \n",
    "        features = X, \n",
    "        group.by = \"seurat_clusters\", \n",
    "        layer = \"data\"\n",
    "    ) +\n",
    "    labs(\n",
    "        title = paste(timepoints[time_point], \"-\", X),\n",
    "        x = \"Cluster\"\n",
    "    ) +\n",
    "    theme(\n",
    "        legend.position = \"none\"\n",
    "    )\n",
    "}"
   ]
  },
  {
   "cell_type": "code",
   "execution_count": 10,
   "id": "3ee739fb-5de3-4ba6-9651-33409d0e3bda",
   "metadata": {},
   "outputs": [],
   "source": [
    "vin.genes.log <- function(X) {\n",
    "    VlnPlot(\n",
    "        sc_data, \n",
    "        features = X, \n",
    "        group.by = \"seurat_clusters\", \n",
    "        layer = \"data\",\n",
    "        log = TRUE\n",
    "    ) +\n",
    "    labs(\n",
    "        x = \"Cluster\",\n",
    "        y = \"Expression Level (log)\"\n",
    "    ) +\n",
    "    theme(\n",
    "        legend.position = \"none\"\n",
    "    )\n",
    "}"
   ]
  },
  {
   "cell_type": "code",
   "execution_count": 11,
   "id": "e7dfd114-d83c-4a3b-9ea8-57c863047c08",
   "metadata": {},
   "outputs": [],
   "source": [
    "vin.genes.comb <- function (X, name, log = FALSE) {    \n",
    "    if (log) {\n",
    "        violin <- lapply(X, vin.genes.log)\n",
    "    } else {\n",
    "        violin <- lapply(X, vin.genes)\n",
    "    }\n",
    "    \n",
    "    if (name == 1) {\n",
    "        name <- \"genes_of_interest\"\n",
    "    } else if (name == 2) {\n",
    "        name <- \"housekeeping_genes\"\n",
    "    }\n",
    "\n",
    "    logarithmic <- ifelse(log, \"logarithmic\", \"\")\n",
    "    print(\n",
    "        paste(\n",
    "            \"Violin\", logarithmic, \" plot for\", name, \n",
    "            \"in\",\n",
    "            timepoints[time_point]\n",
    "        )\n",
    "    )\n",
    "    \n",
    "    name_prefix <- ifelse(log, \"(log10)\", \"\")\n",
    "    \n",
    "    combined <- plot_grid(plotlist = violin, ncol = 1)\n",
    "    title <- ggdraw() + draw_label(paste(timepoints[time_point],\"- Genes of interest\", name_prefix), fontface = 'bold', size = 14)\n",
    "    comp_plot <- plot_grid(title, combined, ncol = 1, rel_heights = c(0.1, 2))\n",
    "\n",
    "    # Save\n",
    "    folder <- paste0(\"Results/\", timepoints[time_point], \"/Violin_genes\")\n",
    "    if (!dir.exists(folder)) {dir.create(folder)}\n",
    "    \n",
    "    file_prefix <- ifelse(log, \"log10_\", \"\")\n",
    "    ggsave(\n",
    "        paste0(\n",
    "            folder,\n",
    "            \"/\", file_prefix, \"violin_plot_\",\n",
    "            name, \"_\",\n",
    "            timepoints[time_point],\n",
    "            \".png\"\n",
    "        ),\n",
    "        plot = comp_plot,\n",
    "        width = 1920, height = 1080*length(X), units = \"px\"\n",
    "    )\n",
    "\n",
    "    return(comp_plot)\n",
    "}"
   ]
  },
  {
   "cell_type": "markdown",
   "id": "f4b19d03-d072-4109-a46d-9740543e516f",
   "metadata": {},
   "source": [
    "### Violin ratio-clusters"
   ]
  },
  {
   "cell_type": "code",
   "execution_count": 12,
   "id": "cd41dd01-48ec-4d1b-a65e-02e5c7abf63b",
   "metadata": {},
   "outputs": [],
   "source": [
    "vin.ratio <- function(gene_oi, housekeeping, log = FALSE) {\n",
    "    logarithmic <- ifelse(log, \"logarithmic\", \"\")\n",
    "    print(\n",
    "        paste(\n",
    "            \"Plotting the\", logarithmic, \"ratio violin between\",\n",
    "            gene_oi,\n",
    "            \"and\",\n",
    "            housekeeping,\n",
    "            \"in\",\n",
    "            timepoints[time_point]\n",
    "        )\n",
    "    )\n",
    "    \n",
    "    # Extract normalized data\n",
    "    exprs <- FetchData(sc_data, vars = c(gene_oi, housekeeping), slot = \"data\")\n",
    "    \n",
    "    # Compute ratio\n",
    "    exprs$ratio <- exprs[[gene_oi]] / exprs[[housekeeping]]\n",
    "\n",
    "    # Add cluster info\n",
    "    exprs$cluster <- Idents(sc_data)\n",
    "\n",
    "    loggi <- ifelse(log, \"(log10)\", \"\")\n",
    "    \n",
    "    # Plot violin\n",
    "    vin_ratio <- ggplot(exprs, aes(x = cluster, y = ratio)) +\n",
    "        geom_violin(trim = FALSE, fill = \"#56B4E9\") +\n",
    "        labs(\n",
    "            title = paste(timepoints[time_point], \"-\", gene_oi, \"/\", housekeeping, loggi),\n",
    "            x = \"Cluster\",\n",
    "            y = paste(gene_oi, \"/\", housekeeping, loggi)\n",
    "        ) +\n",
    "        theme_classic() +\n",
    "        theme(legend.position = \"none\")\n",
    "\n",
    "    if (log) {\n",
    "        vin_ratio <- vin_ratio + scale_y_log10()\n",
    "    }\n",
    "\n",
    "    # Save\n",
    "    folder <- paste0(\"Results/\", timepoints[time_point], \"/Violin_ratio\")\n",
    "    if (!dir.exists(folder)) {dir.create(folder)}\n",
    "    \n",
    "    file_prefix <- ifelse(log, \"log10_\", \"\")\n",
    "    ggsave(\n",
    "        paste0(\n",
    "            folder,\n",
    "            \"/\", file_prefix, \"violin_plot_\",\n",
    "            gene_oi, \"-\", housekeeping, \"_ratio_\",\n",
    "            timepoints[time_point],\n",
    "            \".png\"\n",
    "        ),\n",
    "        plot = vin_ratio,\n",
    "        width = 1920, height = 1080, units = \"px\"\n",
    "    )\n",
    "    \n",
    "    return(vin_ratio)\n",
    "}"
   ]
  },
  {
   "cell_type": "markdown",
   "id": "c0f98148-0330-4ab9-906a-8c07bf4c57cd",
   "metadata": {},
   "source": [
    "### All Violin plots"
   ]
  },
  {
   "cell_type": "code",
   "execution_count": 13,
   "id": "c1b62623-8c2f-46d1-84b1-409e79d3b785",
   "metadata": {},
   "outputs": [],
   "source": [
    "vin.all <- function(\n",
    "    g_oi,\n",
    "    hk\n",
    ") {\n",
    "    vin.genes.comb(g_oi, name = 1)\n",
    "    vin.genes.comb(g_oi, name = 1, log = TRUE)\n",
    "\n",
    "    vin.genes.comb(hk, name = 2)\n",
    "    vin.genes.comb(hk, name = 2, log = TRUE)\n",
    "\n",
    "    for (i in 1:length(g_oi)) {\n",
    "        for (j in 1:length(hk)) {\n",
    "            # linear\n",
    "            vin.ratio(\n",
    "                gene_oi = g_oi[i],\n",
    "                housekeeping = hk[j],\n",
    "                log = FALSE\n",
    "            )\n",
    "            \n",
    "            # log\n",
    "            vin.ratio(\n",
    "                gene_oi = g_oi[i],\n",
    "                housekeeping = hk[j],\n",
    "                log = TRUE\n",
    "            )\n",
    "        }\n",
    "    }\n",
    "}"
   ]
  },
  {
   "cell_type": "markdown",
   "id": "08590e97-6f67-483e-b2d2-bc5c7cb3dc62",
   "metadata": {},
   "source": [
    "## Comparison"
   ]
  },
  {
   "cell_type": "code",
   "execution_count": 14,
   "id": "8a35f5ee-038b-47c1-be26-4f6fef852343",
   "metadata": {},
   "outputs": [],
   "source": [
    "comparison.plot <- function(\n",
    "    gene_oi = genes_of_interest[goi], \n",
    "    housekeeping = housekeeping_genes[hk], \n",
    "    log = FALSE\n",
    ") {\n",
    "    genes <- c(gene_oi, housekeeping)\n",
    "    logarithmic <- ifelse(log, \"logarithmic\", \"\")\n",
    "    print(\n",
    "        paste(\n",
    "            \"Plotting the\", logarithmic, \"ratio between\",\n",
    "            genes[1],\n",
    "            \"and\",\n",
    "            genes[2],\n",
    "            \"in\",\n",
    "            timepoints[time_point]\n",
    "        )\n",
    "    )\n",
    "    \n",
    "    expression_data <- FetchData(sc_data, vars = genes)\n",
    "    expression_data$cluster <- sc_data$seurat_clusters[colnames(sc_data)]\n",
    "    expression_data$goi_hk_ratio <- expression_data[[1]]/expression_data[[2]]\n",
    "    \n",
    "    if (log) {\n",
    "        comp_plot <- ggplot(\n",
    "            expression_data, \n",
    "            aes(x = goi_hk_ratio, fill = cluster)\n",
    "        ) + \n",
    "        geom_histogram(\n",
    "            binwidth = 0.2, position = \"dodge\", alpha = 0.7, \n",
    "            aes(y = after_stat(count) + 1)\n",
    "        ) + \n",
    "        labs(\n",
    "            title = paste0(\n",
    "                timepoints[time_point], \n",
    "                \" - Histogram (log10) of \", \n",
    "                genes[1], \"/\", genes[2], \n",
    "                \" Ratio by Cluster\"\n",
    "            ), \n",
    "            x = paste0(genes[1], \"/\", genes[2], \" Ratio\"), \n",
    "            y = \"Number of Cells (+1, log10 scale)\"\n",
    "        ) + \n",
    "        theme_minimal() + \n",
    "        scale_fill_manual(values = rainbow(length(unique(expression_data$cluster))))\n",
    "\n",
    "        \n",
    "    } else {\n",
    "        comp_plot <- ggplot(\n",
    "            expression_data, \n",
    "            aes(x = goi_hk_ratio, fill = cluster)\n",
    "        ) + \n",
    "        geom_histogram(\n",
    "            binwidth = 0.2, position = \"dodge\", alpha = 0.7, \n",
    "            aes(y = after_stat(count))\n",
    "        ) + \n",
    "        labs(\n",
    "            title = paste0(\n",
    "                timepoints[time_point], \n",
    "                \" - Histogram of \", \n",
    "                genes[1], \"/\", genes[2], \n",
    "                \" Ratio by Cluster\"\n",
    "            ), \n",
    "            x = paste0(genes[1], \"/\", genes[2], \" Ratio\"), \n",
    "            y = \"Number of Cells\"\n",
    "        ) + \n",
    "        theme_minimal() + \n",
    "        scale_fill_manual(values = rainbow(length(unique(expression_data$cluster))))\n",
    "    }\n",
    "\n",
    "    if (log) {\n",
    "        comp_plot <- comp_plot + scale_y_log10()\n",
    "    } \n",
    "\n",
    "    # Save\n",
    "    folder <- paste0(\"Results/\", timepoints[time_point], \"/gene-hk_comparison\")\n",
    "    if (!dir.exists(folder)) {dir.create(folder)}\n",
    "\n",
    "    file_prefix <- ifelse(log, \"log10_\", \"\")\n",
    "    ggsave(\n",
    "        paste0(\n",
    "            folder,\n",
    "            \"/\", file_prefix, \"gene-hk_comparison_\",\n",
    "            genes[1], \"-\", genes[2], \"_\",\n",
    "            timepoints[time_point],\n",
    "            \".png\"\n",
    "        ),\n",
    "        plot = comp_plot,\n",
    "        width = 1920*2, height = 1080*2, units = \"px\"\n",
    "    )\n",
    "    \n",
    "    return(comp_plot)\n",
    "}"
   ]
  },
  {
   "cell_type": "code",
   "execution_count": 15,
   "id": "2204457f-496e-42f6-bf1d-45da82336932",
   "metadata": {},
   "outputs": [],
   "source": [
    "all.comparison.plot <- function(\n",
    "    g_oi,\n",
    "    hk\n",
    ") {\n",
    "    for (i in 1:length(g_oi)) {\n",
    "        for (j in 1:length(hk)) {\n",
    "            # linear\n",
    "            comparison.plot(\n",
    "                gene_oi = g_oi[i],\n",
    "                housekeeping = hk[j],\n",
    "                log = FALSE\n",
    "            )\n",
    "\n",
    "            # log\n",
    "            comparison.plot(\n",
    "                gene_oi = g_oi[i],\n",
    "                housekeeping = hk[j],\n",
    "                log = TRUE\n",
    "            )\n",
    "        }\n",
    "    }\n",
    "}"
   ]
  },
  {
   "cell_type": "code",
   "execution_count": null,
   "id": "05596ffa-b56e-443f-b530-8d07a59c974d",
   "metadata": {},
   "outputs": [],
   "source": []
  },
  {
   "cell_type": "markdown",
   "id": "82856bf9-e5f5-436f-a2d3-31a59832df8d",
   "metadata": {},
   "source": [
    "## Cell annotation"
   ]
  },
  {
   "cell_type": "code",
   "execution_count": null,
   "id": "a88afbf5-87c6-41aa-936e-cea20da9f5e8",
   "metadata": {},
   "outputs": [],
   "source": []
  },
  {
   "cell_type": "markdown",
   "id": "0256d2f0-2f8e-4cf3-b979-c066c3a7eaaa",
   "metadata": {},
   "source": [
    "# Compute"
   ]
  },
  {
   "cell_type": "markdown",
   "id": "8692e8ad-6fc7-4aae-ad5e-2580c8d4ca74",
   "metadata": {},
   "source": [
    "## Single dataset"
   ]
  },
  {
   "cell_type": "markdown",
   "id": "2bee21bb-a59e-4d94-943f-c51dafadd897",
   "metadata": {},
   "source": [
    "### Cluster"
   ]
  },
  {
   "cell_type": "code",
   "execution_count": 16,
   "id": "a8a8e26c-ef3b-487e-990e-a4c76e5f2119",
   "metadata": {},
   "outputs": [],
   "source": [
    "time_point <- 1"
   ]
  },
  {
   "cell_type": "code",
   "execution_count": 17,
   "id": "ebb8b4ce-f5b5-4613-a7c0-6b00a9e0db9c",
   "metadata": {},
   "outputs": [
    {
     "name": "stdout",
     "output_type": "stream",
     "text": [
      "[1] \"Loading data for time point: 23days\"\n"
     ]
    },
    {
     "name": "stderr",
     "output_type": "stream",
     "text": [
      "Normalizing layer: counts\n",
      "\n",
      "Finding variable features for layer data\n",
      "\n",
      "Centering and scaling data matrix\n",
      "\n"
     ]
    }
   ],
   "source": [
    "# Load the data\n",
    "sc_data <- load.data(time_point, save = FALSE)"
   ]
  },
  {
   "cell_type": "code",
   "execution_count": 18,
   "id": "92b04676-ccca-4662-bd1c-371e7fc308ac",
   "metadata": {},
   "outputs": [
    {
     "name": "stdout",
     "output_type": "stream",
     "text": [
      "[1] \"Running PCA and clustering for time point: 23days\"\n"
     ]
    },
    {
     "name": "stderr",
     "output_type": "stream",
     "text": [
      "Computing nearest neighbor graph\n",
      "\n",
      "Computing SNN\n",
      "\n"
     ]
    },
    {
     "name": "stdout",
     "output_type": "stream",
     "text": [
      "Modularity Optimizer version 1.3.0 by Ludo Waltman and Nees Jan van Eck\n",
      "\n",
      "Number of nodes: 29736\n",
      "Number of edges: 1146654\n",
      "\n",
      "Running Louvain algorithm...\n",
      "Maximum modularity in 10 random starts: 0.8914\n",
      "Number of communities: 25\n",
      "Elapsed time: 4 seconds\n",
      "\n",
      "   0    1    2    3    4    5    6    7    8    9   10   11   12   13   14   15 \n",
      "5195 2314 2018 2001 1731 1659 1558 1476 1446 1341 1213 1185 1021  914  872  585 \n",
      "  16   17   18   19   20   21   22   23   24 \n",
      " 578  545  526  488  401  362  116  106   85 \n",
      "[1] \"Saving PCA for time point 23days in /sharedFolder/Paper_clusters_from_scratch/Partial/23days\"\n"
     ]
    }
   ],
   "source": [
    "# Run PCA and clustering\n",
    "sc_data <- PCA.cluster(sc_data, res = 1, save = TRUE)"
   ]
  },
  {
   "cell_type": "markdown",
   "id": "1f4387ba-64b6-4136-9b59-3ec3df62b459",
   "metadata": {},
   "source": [
    "### Plots"
   ]
  },
  {
   "cell_type": "code",
   "execution_count": 19,
   "id": "d4b69b2b-9ae3-4e25-bf80-21f05bf5ecf2",
   "metadata": {},
   "outputs": [
    {
     "name": "stdout",
     "output_type": "stream",
     "text": [
      "[1] \"Violin   plot for genes_of_interest in 23days\"\n",
      "[1] \"Violin logarithmic  plot for genes_of_interest in 23days\"\n",
      "[1] \"Violin   plot for housekeeping_genes in 23days\"\n",
      "[1] \"Violin logarithmic  plot for housekeeping_genes in 23days\"\n",
      "[1] \"Plotting the  ratio violin between SRCIN1 and ACTB in 23days\"\n"
     ]
    },
    {
     "name": "stderr",
     "output_type": "stream",
     "text": [
      "Warning message:\n",
      "“\u001b[1m\u001b[22mThe `slot` argument of `FetchData()` is deprecated as of SeuratObject 5.0.0.\n",
      "\u001b[36mℹ\u001b[39m Please use the `layer` argument instead.”\n",
      "Warning message:\n",
      "“\u001b[1m\u001b[22mRemoved 284 rows containing non-finite values (`stat_ydensity()`).”\n"
     ]
    },
    {
     "name": "stdout",
     "output_type": "stream",
     "text": [
      "[1] \"Plotting the logarithmic ratio violin between SRCIN1 and ACTB in 23days\"\n"
     ]
    },
    {
     "name": "stderr",
     "output_type": "stream",
     "text": [
      "Warning message:\n",
      "“\u001b[1m\u001b[22mTransformation introduced infinite values in continuous y-axis”\n",
      "Warning message:\n",
      "“\u001b[1m\u001b[22mRemoved 28476 rows containing non-finite values (`stat_ydensity()`).”\n",
      "Warning message:\n",
      "“\u001b[1m\u001b[22mGroups with fewer than two data points have been dropped.”\n"
     ]
    },
    {
     "name": "stdout",
     "output_type": "stream",
     "text": [
      "[1] \"Plotting the  ratio violin between SRCIN1 and DLG4 in 23days\"\n"
     ]
    },
    {
     "name": "stderr",
     "output_type": "stream",
     "text": [
      "Warning message:\n",
      "“\u001b[1m\u001b[22mRemoved 27814 rows containing non-finite values (`stat_ydensity()`).”\n",
      "Warning message:\n",
      "“\u001b[1m\u001b[22mGroups with fewer than two data points have been dropped.”\n"
     ]
    },
    {
     "name": "stdout",
     "output_type": "stream",
     "text": [
      "[1] \"Plotting the logarithmic ratio violin between SRCIN1 and DLG4 in 23days\"\n"
     ]
    },
    {
     "name": "stderr",
     "output_type": "stream",
     "text": [
      "Warning message:\n",
      "“\u001b[1m\u001b[22mTransformation introduced infinite values in continuous y-axis”\n",
      "Warning message:\n",
      "“\u001b[1m\u001b[22mRemoved 29548 rows containing non-finite values (`stat_ydensity()`).”\n",
      "Warning message:\n",
      "“\u001b[1m\u001b[22mGroups with fewer than two data points have been dropped.”\n",
      "Warning message:\n",
      "“\u001b[1m\u001b[22mGroups with fewer than two data points have been dropped.”\n",
      "Warning message:\n",
      "“\u001b[1m\u001b[22mGroups with fewer than two data points have been dropped.”\n",
      "Warning message:\n",
      "“\u001b[1m\u001b[22mGroups with fewer than two data points have been dropped.”\n",
      "Warning message:\n",
      "“\u001b[1m\u001b[22mGroups with fewer than two data points have been dropped.”\n"
     ]
    },
    {
     "name": "stdout",
     "output_type": "stream",
     "text": [
      "[1] \"Plotting the  ratio violin between KIAA1217 and ACTB in 23days\"\n"
     ]
    },
    {
     "name": "stderr",
     "output_type": "stream",
     "text": [
      "Warning message:\n",
      "“\u001b[1m\u001b[22mRemoved 284 rows containing non-finite values (`stat_ydensity()`).”\n"
     ]
    },
    {
     "name": "stdout",
     "output_type": "stream",
     "text": [
      "[1] \"Plotting the logarithmic ratio violin between KIAA1217 and ACTB in 23days\"\n"
     ]
    },
    {
     "name": "stderr",
     "output_type": "stream",
     "text": [
      "Warning message:\n",
      "“\u001b[1m\u001b[22mTransformation introduced infinite values in continuous y-axis”\n",
      "Warning message:\n",
      "“\u001b[1m\u001b[22mRemoved 28313 rows containing non-finite values (`stat_ydensity()`).”\n",
      "Warning message:\n",
      "“\u001b[1m\u001b[22mGroups with fewer than two data points have been dropped.”\n"
     ]
    },
    {
     "name": "stdout",
     "output_type": "stream",
     "text": [
      "[1] \"Plotting the  ratio violin between KIAA1217 and DLG4 in 23days\"\n"
     ]
    },
    {
     "name": "stderr",
     "output_type": "stream",
     "text": [
      "Warning message:\n",
      "“\u001b[1m\u001b[22mRemoved 27814 rows containing non-finite values (`stat_ydensity()`).”\n",
      "Warning message:\n",
      "“\u001b[1m\u001b[22mGroups with fewer than two data points have been dropped.”\n"
     ]
    },
    {
     "name": "stdout",
     "output_type": "stream",
     "text": [
      "[1] \"Plotting the logarithmic ratio violin between KIAA1217 and DLG4 in 23days\"\n"
     ]
    },
    {
     "name": "stderr",
     "output_type": "stream",
     "text": [
      "Warning message:\n",
      "“\u001b[1m\u001b[22mTransformation introduced infinite values in continuous y-axis”\n",
      "Warning message:\n",
      "“\u001b[1m\u001b[22mRemoved 29589 rows containing non-finite values (`stat_ydensity()`).”\n",
      "Warning message:\n",
      "“\u001b[1m\u001b[22mGroups with fewer than two data points have been dropped.”\n",
      "Warning message:\n",
      "“\u001b[1m\u001b[22mGroups with fewer than two data points have been dropped.”\n",
      "Warning message:\n",
      "“\u001b[1m\u001b[22mGroups with fewer than two data points have been dropped.”\n"
     ]
    },
    {
     "name": "stdout",
     "output_type": "stream",
     "text": [
      "[1] \"Plotting the  ratio violin between CIT and ACTB in 23days\"\n"
     ]
    },
    {
     "name": "stderr",
     "output_type": "stream",
     "text": [
      "Warning message:\n",
      "“\u001b[1m\u001b[22mRemoved 284 rows containing non-finite values (`stat_ydensity()`).”\n"
     ]
    },
    {
     "name": "stdout",
     "output_type": "stream",
     "text": [
      "[1] \"Plotting the logarithmic ratio violin between CIT and ACTB in 23days\"\n"
     ]
    },
    {
     "name": "stderr",
     "output_type": "stream",
     "text": [
      "Warning message:\n",
      "“\u001b[1m\u001b[22mTransformation introduced infinite values in continuous y-axis”\n",
      "Warning message:\n",
      "“\u001b[1m\u001b[22mRemoved 28676 rows containing non-finite values (`stat_ydensity()`).”\n",
      "Warning message:\n",
      "“\u001b[1m\u001b[22mGroups with fewer than two data points have been dropped.”\n",
      "Warning message:\n",
      "“\u001b[1m\u001b[22mGroups with fewer than two data points have been dropped.”\n"
     ]
    },
    {
     "name": "stdout",
     "output_type": "stream",
     "text": [
      "[1] \"Plotting the  ratio violin between CIT and DLG4 in 23days\"\n"
     ]
    },
    {
     "name": "stderr",
     "output_type": "stream",
     "text": [
      "Warning message:\n",
      "“\u001b[1m\u001b[22mRemoved 27814 rows containing non-finite values (`stat_ydensity()`).”\n",
      "Warning message:\n",
      "“\u001b[1m\u001b[22mGroups with fewer than two data points have been dropped.”\n"
     ]
    },
    {
     "name": "stdout",
     "output_type": "stream",
     "text": [
      "[1] \"Plotting the logarithmic ratio violin between CIT and DLG4 in 23days\"\n"
     ]
    },
    {
     "name": "stderr",
     "output_type": "stream",
     "text": [
      "Warning message:\n",
      "“\u001b[1m\u001b[22mTransformation introduced infinite values in continuous y-axis”\n",
      "Warning message:\n",
      "“\u001b[1m\u001b[22mRemoved 29587 rows containing non-finite values (`stat_ydensity()`).”\n",
      "Warning message:\n",
      "“\u001b[1m\u001b[22mGroups with fewer than two data points have been dropped.”\n",
      "Warning message:\n",
      "“\u001b[1m\u001b[22mGroups with fewer than two data points have been dropped.”\n",
      "Warning message:\n",
      "“\u001b[1m\u001b[22mGroups with fewer than two data points have been dropped.”\n"
     ]
    }
   ],
   "source": [
    "# Violin Plots\n",
    "vin.all(\n",
    "    g_oi = genes_of_interest,\n",
    "    hk = housekeeping_genes\n",
    ")"
   ]
  },
  {
   "cell_type": "code",
   "execution_count": 20,
   "id": "034e98f6-e84f-481d-9a62-554e9235d275",
   "metadata": {},
   "outputs": [
    {
     "name": "stdout",
     "output_type": "stream",
     "text": [
      "[1] \"Plotting the  ratio between SRCIN1 and ACTB in 23days\"\n"
     ]
    },
    {
     "name": "stderr",
     "output_type": "stream",
     "text": [
      "Warning message:\n",
      "“\u001b[1m\u001b[22mRemoved 284 rows containing non-finite values (`stat_bin()`).”\n"
     ]
    },
    {
     "name": "stdout",
     "output_type": "stream",
     "text": [
      "[1] \"Plotting the logarithmic ratio between SRCIN1 and ACTB in 23days\"\n"
     ]
    },
    {
     "name": "stderr",
     "output_type": "stream",
     "text": [
      "Warning message:\n",
      "“\u001b[1m\u001b[22mRemoved 284 rows containing non-finite values (`stat_bin()`).”\n"
     ]
    },
    {
     "name": "stdout",
     "output_type": "stream",
     "text": [
      "[1] \"Plotting the  ratio between SRCIN1 and DLG4 in 23days\"\n"
     ]
    },
    {
     "name": "stderr",
     "output_type": "stream",
     "text": [
      "Warning message:\n",
      "“\u001b[1m\u001b[22mRemoved 27814 rows containing non-finite values (`stat_bin()`).”\n"
     ]
    },
    {
     "name": "stdout",
     "output_type": "stream",
     "text": [
      "[1] \"Plotting the logarithmic ratio between SRCIN1 and DLG4 in 23days\"\n"
     ]
    },
    {
     "name": "stderr",
     "output_type": "stream",
     "text": [
      "Warning message:\n",
      "“\u001b[1m\u001b[22mRemoved 27814 rows containing non-finite values (`stat_bin()`).”\n"
     ]
    },
    {
     "name": "stdout",
     "output_type": "stream",
     "text": [
      "[1] \"Plotting the  ratio between KIAA1217 and ACTB in 23days\"\n"
     ]
    },
    {
     "name": "stderr",
     "output_type": "stream",
     "text": [
      "Warning message:\n",
      "“\u001b[1m\u001b[22mRemoved 284 rows containing non-finite values (`stat_bin()`).”\n"
     ]
    },
    {
     "name": "stdout",
     "output_type": "stream",
     "text": [
      "[1] \"Plotting the logarithmic ratio between KIAA1217 and ACTB in 23days\"\n"
     ]
    },
    {
     "name": "stderr",
     "output_type": "stream",
     "text": [
      "Warning message:\n",
      "“\u001b[1m\u001b[22mRemoved 284 rows containing non-finite values (`stat_bin()`).”\n"
     ]
    },
    {
     "name": "stdout",
     "output_type": "stream",
     "text": [
      "[1] \"Plotting the  ratio between KIAA1217 and DLG4 in 23days\"\n"
     ]
    },
    {
     "name": "stderr",
     "output_type": "stream",
     "text": [
      "Warning message:\n",
      "“\u001b[1m\u001b[22mRemoved 27814 rows containing non-finite values (`stat_bin()`).”\n"
     ]
    },
    {
     "name": "stdout",
     "output_type": "stream",
     "text": [
      "[1] \"Plotting the logarithmic ratio between KIAA1217 and DLG4 in 23days\"\n"
     ]
    },
    {
     "name": "stderr",
     "output_type": "stream",
     "text": [
      "Warning message:\n",
      "“\u001b[1m\u001b[22mRemoved 27814 rows containing non-finite values (`stat_bin()`).”\n"
     ]
    },
    {
     "name": "stdout",
     "output_type": "stream",
     "text": [
      "[1] \"Plotting the  ratio between CIT and ACTB in 23days\"\n"
     ]
    },
    {
     "name": "stderr",
     "output_type": "stream",
     "text": [
      "Warning message:\n",
      "“\u001b[1m\u001b[22mRemoved 284 rows containing non-finite values (`stat_bin()`).”\n"
     ]
    },
    {
     "name": "stdout",
     "output_type": "stream",
     "text": [
      "[1] \"Plotting the logarithmic ratio between CIT and ACTB in 23days\"\n"
     ]
    },
    {
     "name": "stderr",
     "output_type": "stream",
     "text": [
      "Warning message:\n",
      "“\u001b[1m\u001b[22mRemoved 284 rows containing non-finite values (`stat_bin()`).”\n"
     ]
    },
    {
     "name": "stdout",
     "output_type": "stream",
     "text": [
      "[1] \"Plotting the  ratio between CIT and DLG4 in 23days\"\n"
     ]
    },
    {
     "name": "stderr",
     "output_type": "stream",
     "text": [
      "Warning message:\n",
      "“\u001b[1m\u001b[22mRemoved 27814 rows containing non-finite values (`stat_bin()`).”\n"
     ]
    },
    {
     "name": "stdout",
     "output_type": "stream",
     "text": [
      "[1] \"Plotting the logarithmic ratio between CIT and DLG4 in 23days\"\n"
     ]
    },
    {
     "name": "stderr",
     "output_type": "stream",
     "text": [
      "Warning message:\n",
      "“\u001b[1m\u001b[22mRemoved 27814 rows containing non-finite values (`stat_bin()`).”\n"
     ]
    }
   ],
   "source": [
    "# Comparison plots\n",
    "all.comparison.plot(\n",
    "    g_oi = genes_of_interest,\n",
    "    hk = housekeeping_genes\n",
    ")"
   ]
  },
  {
   "cell_type": "markdown",
   "id": "c172c99a-0c23-4324-9934-2ebcf4e104fc",
   "metadata": {},
   "source": [
    "### Markers"
   ]
  },
  {
   "cell_type": "code",
   "execution_count": 21,
   "id": "d42b9c3c-5dd8-47bd-a261-94cb04f428f0",
   "metadata": {},
   "outputs": [
    {
     "name": "stdout",
     "output_type": "stream",
     "text": [
      "[1] \"Finding all markers for time point: 23days\"\n"
     ]
    },
    {
     "name": "stderr",
     "output_type": "stream",
     "text": [
      "Calculating cluster 0\n",
      "\n",
      "Calculating cluster 1\n",
      "\n",
      "Calculating cluster 2\n",
      "\n",
      "Calculating cluster 3\n",
      "\n",
      "Calculating cluster 4\n",
      "\n",
      "Calculating cluster 5\n",
      "\n",
      "Calculating cluster 6\n",
      "\n",
      "Calculating cluster 7\n",
      "\n",
      "Calculating cluster 8\n",
      "\n",
      "Calculating cluster 9\n",
      "\n",
      "Calculating cluster 10\n",
      "\n",
      "Calculating cluster 11\n",
      "\n",
      "Calculating cluster 12\n",
      "\n",
      "Calculating cluster 13\n",
      "\n",
      "Calculating cluster 14\n",
      "\n",
      "Calculating cluster 15\n",
      "\n",
      "Calculating cluster 16\n",
      "\n",
      "Calculating cluster 17\n",
      "\n",
      "Calculating cluster 18\n",
      "\n",
      "Calculating cluster 19\n",
      "\n",
      "Calculating cluster 20\n",
      "\n",
      "Calculating cluster 21\n",
      "\n",
      "Calculating cluster 22\n",
      "\n",
      "Calculating cluster 23\n",
      "\n",
      "Calculating cluster 24\n",
      "\n"
     ]
    },
    {
     "name": "stdout",
     "output_type": "stream",
     "text": [
      "[1] \"Saving cluster markers for time point 23days in /sharedFolder/Paper_clusters_from_scratch/Partial/23days\"\n"
     ]
    }
   ],
   "source": [
    "# Find all markers\n",
    "cluster_markers <- cluster.markers(sc_data)"
   ]
  },
  {
   "cell_type": "code",
   "execution_count": 22,
   "id": "336696d4-5bbc-4a5e-99bf-99149c5311d0",
   "metadata": {},
   "outputs": [
    {
     "name": "stdout",
     "output_type": "stream",
     "text": [
      "[1] \"Finding differentially expressed genes for time point: 23days\"\n",
      "    p_val avg_log2FC pct.1 pct.2 p_val_adj cluster gene\n",
      "CIT     0   3.193657 0.291 0.025         0      10  CIT\n",
      "[1] \"Saving differentially expressed genes for time point 23days in /sharedFolder/Paper_clusters_from_scratch/Results/23days\"\n"
     ]
    }
   ],
   "source": [
    "# Find differentially expressed genes\n",
    "de_genes <- de.genes(genes_of_interest)"
   ]
  },
  {
   "cell_type": "markdown",
   "id": "b7798326-2988-4a28-b7fb-665016323d5d",
   "metadata": {},
   "source": [
    "### Annotations"
   ]
  },
  {
   "cell_type": "code",
   "execution_count": null,
   "id": "c9e91211-65a3-414b-8b4e-64cc0d333821",
   "metadata": {},
   "outputs": [],
   "source": []
  },
  {
   "cell_type": "markdown",
   "id": "d49f3fa7-5799-4a26-b7c7-2a55d782b7f2",
   "metadata": {},
   "source": [
    "## All"
   ]
  },
  {
   "cell_type": "code",
   "execution_count": 55,
   "id": "514860f8",
   "metadata": {},
   "outputs": [],
   "source": [
    "# SET UP NAMES\n",
    "timepoints <- c(\"23days\", \"1month\", \"1.5month\", \"2month\", \"3month\", \"4month\", \"5month\", \"6month\")\n",
    "housekeeping_genes <- c(\"ACTB\", \"DLG4\")\n",
    "genes_of_interest <- c(\"SRCIN1\", \"KIAA1217\", \"CIT\")\n",
    "path_to_data <- \"/sharedFolder/Data/\"\n",
    "\n",
    "name_new_dir_results <- paste(getwd(), \"/Results\", sep = \"\")\n",
    "if (!dir.exists(name_new_dir_results)) {\n",
    "    dir.create(name_new_dir_results)\n",
    "}\n",
    "\n",
    "name_new_dir_partial <- paste(getwd(), \"/Partial\", sep = \"\")\n",
    "if (!dir.exists(name_new_dir_partial)) {\n",
    "    dir.create(name_new_dir_partial)\n",
    "}"
   ]
  },
  {
   "cell_type": "code",
   "execution_count": null,
   "id": "f30501c5-7e47-42d5-9aec-b25bf7b5e2fc",
   "metadata": {},
   "outputs": [],
   "source": [
    "for (time_point in 1:length(timepoints)) {\n",
    "    print(paste(\"STARTING WITH\", timepoints[time_point], \"LOADING DATA\"))\n",
    "\n",
    "    # Load the data\n",
    "    sc_data <- load.data(time_point, save = TRUE)\n",
    "\n",
    "    print(paste(timepoints[time_point], \"- DATA LOADED, CLUSTERING\"))\n",
    "    # Run PCA and clustering\n",
    "    sc_data <- PCA.cluster(sc_data, res = 1, save = TRUE)\n",
    "\n",
    "    print(paste(timepoints[time_point], \"- CLUSTERS DONE, STARTING WITH PLOTS\"))\n",
    "\n",
    "    print(paste(timepoints[time_point], \"- VIOLINS\"))\n",
    "    # Violin Plots\n",
    "    vin.all(\n",
    "        g_oi = genes_of_interest,\n",
    "        hk = housekeeping_genes\n",
    "    )\n",
    "\n",
    "    print(paste(timepoints[time_point], \"- COMPARISON HISTOGRAMS\"))\n",
    "    # Comparison plots\n",
    "    all.comparison.plot(\n",
    "        g_oi = genes_of_interest,\n",
    "        hk = housekeeping_genes\n",
    "    )\n",
    "    \n",
    "    print(paste(timepoints[time_point], \"- PLOTS DONE\"))\n",
    "    \n",
    "    print(paste(timepoints[time_point], \"- FIND ALL MARKERS\"))\n",
    "    # Find all markers\n",
    "    cluster_markers <- cluster.markers(sc_data)\n",
    "\n",
    "    print(paste(timepoints[time_point], \"- DIFFERENTIAL EXPRESSION FOR GENES OF INTEREST\"))\n",
    "    # Find differentially expressed genes\n",
    "    de_genes <- de.genes(genes_of_interest)\n",
    "}"
   ]
  },
  {
   "cell_type": "code",
   "execution_count": null,
   "id": "68e1dbed-a852-4e5f-b8c8-a79c810e3763",
   "metadata": {},
   "outputs": [],
   "source": []
  },
  {
   "cell_type": "code",
   "execution_count": null,
   "id": "81313798-9d81-46ea-bbf8-a67e5ab3c1bf",
   "metadata": {},
   "outputs": [],
   "source": []
  }
 ],
 "metadata": {
  "kernelspec": {
   "display_name": "R",
   "language": "R",
   "name": "ir"
  },
  "language_info": {
   "codemirror_mode": "r",
   "file_extension": ".r",
   "mimetype": "text/x-r-source",
   "name": "R",
   "pygments_lexer": "r",
   "version": "4.2.0"
  }
 },
 "nbformat": 4,
 "nbformat_minor": 5
}
