{
 "cells": [
  {
   "cell_type": "markdown",
   "id": "c958dcd5-46b7-441b-ac7c-b55f74177bdc",
   "metadata": {},
   "source": [
    "# **Iterations**\n",
    "\n",
    "I think that the resolution of clustering is too high. Too many clusters are formed and the p140 expressing cells are too spread, masking their expression id the differential expression analusis\n",
    "\n",
    "iterations for deciding \n",
    "* number of dimensions, most likely 30\n",
    "* resolutions in clustering\n",
    "\n",
    "## Files\n",
    "* UMAP\n",
    "* de.genes\n",
    "* violin for clusters\n",
    "* comparison\n",
    "* Rmd"
   ]
  },
  {
   "cell_type": "markdown",
   "id": "ecb58b63-def7-4e59-a2dd-5dcd867a3017",
   "metadata": {},
   "source": [
    "## Load Libraries"
   ]
  },
  {
   "cell_type": "code",
   "execution_count": 1,
   "id": "6146fa27-f0e0-4166-885f-8fba06e0f714",
   "metadata": {},
   "outputs": [
    {
     "name": "stderr",
     "output_type": "stream",
     "text": [
      "Installing package into ‘/usr/local/lib/R/site-library’\n",
      "(as ‘lib’ is unspecified)\n",
      "\n"
     ]
    }
   ],
   "source": [
    "install.packages(\"tictoc\") # Run only once\n",
    "library(tictoc)"
   ]
  },
  {
   "cell_type": "code",
   "execution_count": 4,
   "id": "0c50bbb1-eaab-4095-8ad5-2a83c134e73b",
   "metadata": {},
   "outputs": [],
   "source": [
    "# LOAD LIBRARIES\n",
    "library(Seurat)\n",
    "library(tidyverse)\n",
    "library(future)\n",
    "library(ggplot2)\n",
    "library(dplyr)\n",
    "library(presto)\n",
    "library(cowplot)\n",
    "library(tictoc)\n",
    "\n",
    "library(enrichR)\n",
    "library(org.Hs.eg.db)\n",
    "library(AnnotationDbi)\n",
    "\n",
    "library(SingleR)\n",
    "\n",
    "library(GPTCelltype)\n",
    "library(openai)\n"
   ]
  },
  {
   "cell_type": "markdown",
   "id": "c696037d-66ce-4aee-bfd7-72f26df9103e",
   "metadata": {},
   "source": [
    "## Setup"
   ]
  },
  {
   "cell_type": "code",
   "execution_count": 2,
   "id": "bd56ce15-ab6e-4772-83a3-f838d5223758",
   "metadata": {},
   "outputs": [],
   "source": [
    "# SET UP NAMES\n",
    "timepoints <- c(\"23days\", \"1month\", \"1.5month\", \"2month\", \"3month\", \"4month\", \"5month\", \"6month\")\n",
    "housekeeping_genes <- c(\"ACTB\", \"DLG4\")\n",
    "genes_of_interest <- c(\"SRCIN1\", \"KIAA1217\", \"CIT\")\n",
    "path_to_data <- \"/sharedFolder/Data/\"\n",
    "\n",
    "name_new_dir_results <- paste(getwd(), \"/Results\", sep = \"\")\n",
    "if (!dir.exists(name_new_dir_results)) {\n",
    "    dir.create(name_new_dir_results)\n",
    "}\n",
    "\n",
    "name_new_dir_partial <- paste(getwd(), \"/Partial\", sep = \"\")\n",
    "if (!dir.exists(name_new_dir_partial)) {\n",
    "    dir.create(name_new_dir_partial)\n",
    "}"
   ]
  },
  {
   "cell_type": "code",
   "execution_count": 4,
   "id": "adda7924-3061-4f36-a169-9de3112ea91b",
   "metadata": {},
   "outputs": [],
   "source": [
    "cores.ram <- function(cores,ram) {\n",
    "  plan(\"multisession\", workers = cores)\n",
    "  options(future.globals.maxSize = ram * 1024^3)\n",
    "}"
   ]
  },
  {
   "cell_type": "code",
   "execution_count": null,
   "id": "83576d94-f0d2-41ad-921c-7ebf266adc62",
   "metadata": {},
   "outputs": [],
   "source": [
    "total_time <- function(seconds) {\n",
    "    d <- seconds %/% (86400)\n",
    "    h <- (seconds %% 86400) %/% 3600\n",
    "    m <- (seconds %% 3600) %/% 60\n",
    "    s <- seconds %% 60\n",
    "    \n",
    "    cat(sprintf(\"Total Time: %d Days, %d Hours, %d Minutes and %d Seconds\\n\", d, h, m, s))\n",
    "}"
   ]
  },
  {
   "cell_type": "markdown",
   "id": "66100eca-0157-42bd-aa93-ceb66e79d909",
   "metadata": {},
   "source": [
    "## Functions"
   ]
  },
  {
   "cell_type": "markdown",
   "id": "3084254f-aaa0-4f60-aebb-a514a984a9ff",
   "metadata": {},
   "source": [
    "### load.data(time_point)\n",
    "* LOAD DATA\n",
    "* NORMALIZE\n",
    "* FIND VARIABLE FEATURES\n",
    "* SCALE DATA"
   ]
  },
  {
   "cell_type": "code",
   "execution_count": 21,
   "id": "2fc368d6-46d9-43e3-a2e8-7e8135e8075f",
   "metadata": {},
   "outputs": [],
   "source": [
    "load.data <- function(\n",
    "    file_name,\n",
    "    data_path = path_to_data,\n",
    "    output = F,\n",
    "    reduced.output = T \n",
    ") {\n",
    "    if (output | reduced.output) {\n",
    "        print(paste(\"Loading data for time point:\", file_name))\n",
    "    }\n",
    "\n",
    "    # Load the data\n",
    "    sc_data <- Read10X(data.dir = paste(data_path, \"expression_\", file_name, sep = \"\"), gene.column = 1)\n",
    "\n",
    "    # Create Seurat object\n",
    "    sc_data <- CreateSeuratObject(counts = sc_data, min.cells = 3, min.features = 500, project = file_name, names.delim = \"-\", names.field = 2)\n",
    "\n",
    "    # Normalize the data\n",
    "    sc_data <- NormalizeData(sc_data, normalization.method = \"LogNormalize\", scale.factor = 1e6, verbose = output)\n",
    "\n",
    "    # Find variable features\n",
    "    sc_data <- FindVariableFeatures(sc_data, selection.method = \"mvp\", nfeatures = 2000, verbose = output)\n",
    "\n",
    "    # Scale the data\n",
    "    sc_data <- ScaleData(sc_data, verbose = output)\n",
    "\n",
    "    return(sc_data)\n",
    "}"
   ]
  },
  {
   "cell_type": "markdown",
   "id": "a8e2728c-b2fb-4cdb-a93c-72f682981423",
   "metadata": {},
   "source": [
    "### PCA.cluster(data = sc_data, res)\n",
    "* Run PCA\n",
    "* Cluster the cells"
   ]
  },
  {
   "cell_type": "code",
   "execution_count": 7,
   "id": "bf548cd0-fc8e-4f29-afa9-69227e9c1017",
   "metadata": {},
   "outputs": [],
   "source": [
    "PCA.cluster <- function(\n",
    "    data = sc_data_scaled, \n",
    "    file_name = timepoints[time_point], \n",
    "    res = 1, \n",
    "    n_dim = 40, \n",
    "    save = F,\n",
    "    output = F,\n",
    "    reduced.output = T    \n",
    ") {  \n",
    "    if (output | reduced.output) {\n",
    "        print(paste(\"Running PCA and clustering for time point:\", file_name))\n",
    "        print(paste(\"- Resolution:\", res))\n",
    "        print(paste(\"- Dimensions:\", n_dim))\n",
    "    }\n",
    "        \n",
    "    # PCA\n",
    "    data <- RunPCA(data, npcs = n_dim, verbose = output)\n",
    "    #print(ElbowPlot(object = data, ndims = 50))\n",
    "\n",
    "    # Cluster the cells\n",
    "    data <- FindNeighbors(data, dims = 1:n_dim, verbose = output)\n",
    "    data <- FindClusters(data, resolution = res, verbose = output)\n",
    "    \n",
    "    #print(table(Idents(data)))\n",
    "\n",
    "    # Save the PCA plot\n",
    "    if (save) {\n",
    "        name_new_dir <- paste(name_new_dir_partial, \"/\", file_name, \"/cluster\", param, sep=\"\")\n",
    "        if (!dir.exists(name_new_dir)) {dir.create(name_new_dir)} \n",
    "    \n",
    "        print(paste(\"Saving PCA for time point\", file_name, \"in\", name_new_dir))\n",
    "        save(data, file = paste(name_new_dir, \"/PCA_res_\", res, \"_dim_\", n_dim, \"_\", file_name, \".Robj\", sep=\"\"))\n",
    "    }\n",
    "    return(data)\n",
    "}"
   ]
  },
  {
   "cell_type": "markdown",
   "id": "1c96b8f9-92e1-42d5-8231-cad37dbea49a",
   "metadata": {},
   "source": [
    "## UMAP"
   ]
  },
  {
   "cell_type": "code",
   "execution_count": 8,
   "id": "e57901e1-4a06-4901-a991-bb927e999785",
   "metadata": {},
   "outputs": [],
   "source": [
    "UMAP.plot <- function(\n",
    "    data = sc_data,\n",
    "    file_name = timepoints[time_point],\n",
    "    n_dim = 40,\n",
    "    output = F,\n",
    "    reduced.output = T,\n",
    "    print_plot = F\n",
    ") {\n",
    "    if (output | reduced.output) {\n",
    "        print(\"Making UMAP\")\n",
    "    }\n",
    "    \n",
    "    sc_data_UMAP <- RunUMAP(data, dims = 1:n_dim, verbose = output)\n",
    "    \n",
    "    # Visualization of clusters   \n",
    "    plot <- DimPlot(sc_data_UMAP, reduction = \"umap\", label = TRUE, pt.size = 1) + \n",
    "        ggtitle(paste(\"UMAP of Clusters -\",file_name, \"-\", gsub(\"_\", \" \", param)))\n",
    "\n",
    "    if (print_plot) {print(plot)}\n",
    "    \n",
    "    return(plot)\n",
    "}"
   ]
  },
  {
   "cell_type": "markdown",
   "id": "68ac5ae4-8ce1-4165-8f2b-8e3245095bca",
   "metadata": {},
   "source": [
    "### cluster.markers(x = sc_data)\n",
    "* find all markers for every cluster compared to all remaining cells"
   ]
  },
  {
   "cell_type": "code",
   "execution_count": 9,
   "id": "16f5ba61-7466-4b98-a69e-d04c183033ed",
   "metadata": {},
   "outputs": [],
   "source": [
    "# FIND ALL MARKERS\n",
    "cluster.markers <- function(\n",
    "    data, \n",
    "    file_name = timepoints[time_point],\n",
    "    output = F,\n",
    "    reduced.output = T\n",
    ") {\n",
    "    if (output | reduced.output) {\n",
    "        print(paste(\"Finding all markers for time point:\", file_name))\n",
    "    }\n",
    "\n",
    "    # Find all markers for every cluster compared to all remaining cells\n",
    "    markers <- FindAllMarkers(data,\n",
    "                              only.pos = TRUE,   # Considera solo i marker espressi positivamente\n",
    "                              min.pct = 0.25,    # Percentuale minima di espressione nelle cellule del cluster\n",
    "                              logfc.threshold = 0.25,  # Soglia minima di LogFC\n",
    "                              verbose = output)\n",
    "        \n",
    "    return(markers)\n",
    "}"
   ]
  },
  {
   "cell_type": "markdown",
   "id": "f23c2a1e-5a9b-46e5-96d3-659297530080",
   "metadata": {},
   "source": [
    "### annotation.enrichR()\n",
    "* cell annotation with enrichR"
   ]
  },
  {
   "cell_type": "code",
   "execution_count": 10,
   "id": "87c8a5c4-f75a-49a1-b0d1-109db4d05f5a",
   "metadata": {},
   "outputs": [],
   "source": [
    "annotation.enrichR <- function (\n",
    "    top_genes,\n",
    "    database = \"Allen_Brain_Atlas_10x_scRNA_2021\",\n",
    "    output = F,\n",
    "    reduced.output = T\n",
    ") {\n",
    "    gene_symbols <- top_genes$gene\n",
    "    entrez_ids <- suppressMessages(\n",
    "        mapIds(org.Hs.eg.db, keys = gene_symbols, column = \"ENTREZID\", keytype = \"SYMBOL\", multiVals = \"first\")\n",
    "    )\n",
    "    # Add Entrez IDs to your data.frame\n",
    "    top_genes$entrez <- entrez_ids\n",
    "    # Remove rows with NA Entrez IDs\n",
    "    top_genes <- top_genes[!is.na(top_genes$entrez), ]\n",
    "\n",
    "    annotation_list <- list()\n",
    "    \n",
    "    for (cl in unique(top_genes$cluster)) {\n",
    "        genes_cluster <- top_genes %>% filter(cluster == cl) %>% pull(entrez)\n",
    "        # Optionally, use Entrez IDs instead:\n",
    "        # genes_cluster <- top_genes %>% filter(cluster == cl) %>% pull(entrez)\n",
    "        \n",
    "        # Perform enrichment analysis\n",
    "        enriched <- enrichr(genes_cluster, databases = \"Allen_Brain_Atlas_10x_scRNA_2021\")\n",
    "\n",
    "        annotation <- enriched$Allen_Brain_Atlas_10x_scRNA_2021 %>% as.data.table()\n",
    "        annotation$cluster <- as.numeric(cl)\n",
    "\n",
    "        annotation_list[[cl]] <- allen[grepl(\"Human\", allen$Term, ignore.case = TRUE) & allen$Adjusted.P.value < 5e-2]\n",
    "    }\n",
    "\n",
    "\n",
    "    return(annotation_list)\n",
    "}"
   ]
  },
  {
   "cell_type": "markdown",
   "id": "e9ffe7d4-b757-4282-a144-d98788497a3b",
   "metadata": {
    "jp-MarkdownHeadingCollapsed": true
   },
   "source": [
    "## Prove"
   ]
  },
  {
   "cell_type": "code",
   "execution_count": 66,
   "id": "a9c98bad-3cff-4aeb-a92e-2d590e6e2552",
   "metadata": {},
   "outputs": [
    {
     "name": "stdout",
     "output_type": "stream",
     "text": [
      "[1] \"Loading data for time point: 23days\"\n"
     ]
    }
   ],
   "source": [
    "sc_data <- load.data(\"23days\")"
   ]
  },
  {
   "cell_type": "code",
   "execution_count": 67,
   "id": "7f634ea8-d852-49ab-8ca9-506ec0ce6535",
   "metadata": {},
   "outputs": [
    {
     "name": "stdout",
     "output_type": "stream",
     "text": [
      "[1] \"Running PCA and clustering for time point: 23days\"\n",
      "[1] \"- Resolution: 1\"\n",
      "[1] \"- Dimensions: 40\"\n",
      "\n",
      "   0    1    2    3    4    5    6    7    8    9   10   11   12   13   14   15 \n",
      "5195 2314 2018 2001 1731 1659 1558 1476 1446 1341 1213 1185 1021  914  872  585 \n",
      "  16   17   18   19   20   21   22   23   24 \n",
      " 578  545  526  488  401  362  116  106   85 \n"
     ]
    }
   ],
   "source": [
    "sc_data <- PCA.cluster(x = sc_data, file_name = \"23days\")"
   ]
  },
  {
   "cell_type": "code",
   "execution_count": 22,
   "id": "ba836c8c-7cc6-4d36-bdc0-65b622d42fb2",
   "metadata": {},
   "outputs": [],
   "source": [
    "sc_data_pca <- RunPCA(sc_data, npcs = 50, verbose = F)"
   ]
  },
  {
   "cell_type": "code",
   "execution_count": 46,
   "id": "9aa85bf9-ecd6-436b-a7aa-7aa4bd28567f",
   "metadata": {},
   "outputs": [],
   "source": [
    "sc_cl <- FindNeighbors(sc_data_pca, dims = 1:40, verbose = FALSE)\n",
    "sc_cl <- FindClusters(sc_cl, resolution = 0.1, verbose = FALSE)"
   ]
  },
  {
   "cell_type": "code",
   "execution_count": 55,
   "id": "a7215982-3f1b-44a7-b51e-68576761c5b2",
   "metadata": {},
   "outputs": [
    {
     "data": {
      "text/html": [
       "<table class=\"dataframe\">\n",
       "<caption>A data.frame: 10 × 5</caption>\n",
       "<thead>\n",
       "\t<tr><th></th><th scope=col>orig.ident</th><th scope=col>nCount_RNA</th><th scope=col>nFeature_RNA</th><th scope=col>RNA_snn_res.1</th><th scope=col>seurat_clusters</th></tr>\n",
       "\t<tr><th></th><th scope=col>&lt;fct&gt;</th><th scope=col>&lt;dbl&gt;</th><th scope=col>&lt;int&gt;</th><th scope=col>&lt;fct&gt;</th><th scope=col>&lt;fct&gt;</th></tr>\n",
       "</thead>\n",
       "<tbody>\n",
       "\t<tr><th scope=row>1_AAACGAACACGTGAGA-1_1_23d</th><td>1_1_23d</td><td>3724</td><td> 536</td><td>5 </td><td>5 </td></tr>\n",
       "\t<tr><th scope=row>1_AAACGAAGTCGAAACG-1_1_23d</th><td>1_1_23d</td><td>9184</td><td>2310</td><td>5 </td><td>5 </td></tr>\n",
       "\t<tr><th scope=row>1_AAACGAAGTGGCAGAT-1_1_23d</th><td>1_1_23d</td><td>6357</td><td>2068</td><td>19</td><td>19</td></tr>\n",
       "\t<tr><th scope=row>1_AAACGAAGTGGTTCTA-1_1_23d</th><td>1_1_23d</td><td>3468</td><td>1292</td><td>17</td><td>17</td></tr>\n",
       "\t<tr><th scope=row>1_AAACGAAGTTGGCCGT-1_1_23d</th><td>1_1_23d</td><td>1809</td><td> 832</td><td>19</td><td>19</td></tr>\n",
       "\t<tr><th scope=row>1_AAACGAATCCTTCACG-1_1_23d</th><td>1_1_23d</td><td>7587</td><td>1985</td><td>5 </td><td>5 </td></tr>\n",
       "\t<tr><th scope=row>1_AAACGCTCAAGCGGAT-1_1_23d</th><td>1_1_23d</td><td>5924</td><td>1600</td><td>9 </td><td>9 </td></tr>\n",
       "\t<tr><th scope=row>1_AAACGCTCACTTCAAG-1_1_23d</th><td>1_1_23d</td><td>2264</td><td>1110</td><td>3 </td><td>3 </td></tr>\n",
       "\t<tr><th scope=row>1_AAACGCTCATCATCCC-1_1_23d</th><td>1_1_23d</td><td>9277</td><td>2441</td><td>19</td><td>19</td></tr>\n",
       "\t<tr><th scope=row>1_AAACGCTTCAGCATTG-1_1_23d</th><td>1_1_23d</td><td>7025</td><td>1798</td><td>9 </td><td>9 </td></tr>\n",
       "</tbody>\n",
       "</table>\n"
      ],
      "text/latex": [
       "A data.frame: 10 × 5\n",
       "\\begin{tabular}{r|lllll}\n",
       "  & orig.ident & nCount\\_RNA & nFeature\\_RNA & RNA\\_snn\\_res.1 & seurat\\_clusters\\\\\n",
       "  & <fct> & <dbl> & <int> & <fct> & <fct>\\\\\n",
       "\\hline\n",
       "\t1\\_AAACGAACACGTGAGA-1\\_1\\_23d & 1\\_1\\_23d & 3724 &  536 & 5  & 5 \\\\\n",
       "\t1\\_AAACGAAGTCGAAACG-1\\_1\\_23d & 1\\_1\\_23d & 9184 & 2310 & 5  & 5 \\\\\n",
       "\t1\\_AAACGAAGTGGCAGAT-1\\_1\\_23d & 1\\_1\\_23d & 6357 & 2068 & 19 & 19\\\\\n",
       "\t1\\_AAACGAAGTGGTTCTA-1\\_1\\_23d & 1\\_1\\_23d & 3468 & 1292 & 17 & 17\\\\\n",
       "\t1\\_AAACGAAGTTGGCCGT-1\\_1\\_23d & 1\\_1\\_23d & 1809 &  832 & 19 & 19\\\\\n",
       "\t1\\_AAACGAATCCTTCACG-1\\_1\\_23d & 1\\_1\\_23d & 7587 & 1985 & 5  & 5 \\\\\n",
       "\t1\\_AAACGCTCAAGCGGAT-1\\_1\\_23d & 1\\_1\\_23d & 5924 & 1600 & 9  & 9 \\\\\n",
       "\t1\\_AAACGCTCACTTCAAG-1\\_1\\_23d & 1\\_1\\_23d & 2264 & 1110 & 3  & 3 \\\\\n",
       "\t1\\_AAACGCTCATCATCCC-1\\_1\\_23d & 1\\_1\\_23d & 9277 & 2441 & 19 & 19\\\\\n",
       "\t1\\_AAACGCTTCAGCATTG-1\\_1\\_23d & 1\\_1\\_23d & 7025 & 1798 & 9  & 9 \\\\\n",
       "\\end{tabular}\n"
      ],
      "text/markdown": [
       "\n",
       "A data.frame: 10 × 5\n",
       "\n",
       "| <!--/--> | orig.ident &lt;fct&gt; | nCount_RNA &lt;dbl&gt; | nFeature_RNA &lt;int&gt; | RNA_snn_res.1 &lt;fct&gt; | seurat_clusters &lt;fct&gt; |\n",
       "|---|---|---|---|---|---|\n",
       "| 1_AAACGAACACGTGAGA-1_1_23d | 1_1_23d | 3724 |  536 | 5  | 5  |\n",
       "| 1_AAACGAAGTCGAAACG-1_1_23d | 1_1_23d | 9184 | 2310 | 5  | 5  |\n",
       "| 1_AAACGAAGTGGCAGAT-1_1_23d | 1_1_23d | 6357 | 2068 | 19 | 19 |\n",
       "| 1_AAACGAAGTGGTTCTA-1_1_23d | 1_1_23d | 3468 | 1292 | 17 | 17 |\n",
       "| 1_AAACGAAGTTGGCCGT-1_1_23d | 1_1_23d | 1809 |  832 | 19 | 19 |\n",
       "| 1_AAACGAATCCTTCACG-1_1_23d | 1_1_23d | 7587 | 1985 | 5  | 5  |\n",
       "| 1_AAACGCTCAAGCGGAT-1_1_23d | 1_1_23d | 5924 | 1600 | 9  | 9  |\n",
       "| 1_AAACGCTCACTTCAAG-1_1_23d | 1_1_23d | 2264 | 1110 | 3  | 3  |\n",
       "| 1_AAACGCTCATCATCCC-1_1_23d | 1_1_23d | 9277 | 2441 | 19 | 19 |\n",
       "| 1_AAACGCTTCAGCATTG-1_1_23d | 1_1_23d | 7025 | 1798 | 9  | 9  |\n",
       "\n"
      ],
      "text/plain": [
       "                           orig.ident nCount_RNA nFeature_RNA RNA_snn_res.1\n",
       "1_AAACGAACACGTGAGA-1_1_23d 1_1_23d    3724        536         5            \n",
       "1_AAACGAAGTCGAAACG-1_1_23d 1_1_23d    9184       2310         5            \n",
       "1_AAACGAAGTGGCAGAT-1_1_23d 1_1_23d    6357       2068         19           \n",
       "1_AAACGAAGTGGTTCTA-1_1_23d 1_1_23d    3468       1292         17           \n",
       "1_AAACGAAGTTGGCCGT-1_1_23d 1_1_23d    1809        832         19           \n",
       "1_AAACGAATCCTTCACG-1_1_23d 1_1_23d    7587       1985         5            \n",
       "1_AAACGCTCAAGCGGAT-1_1_23d 1_1_23d    5924       1600         9            \n",
       "1_AAACGCTCACTTCAAG-1_1_23d 1_1_23d    2264       1110         3            \n",
       "1_AAACGCTCATCATCCC-1_1_23d 1_1_23d    9277       2441         19           \n",
       "1_AAACGCTTCAGCATTG-1_1_23d 1_1_23d    7025       1798         9            \n",
       "                           seurat_clusters\n",
       "1_AAACGAACACGTGAGA-1_1_23d 5              \n",
       "1_AAACGAAGTCGAAACG-1_1_23d 5              \n",
       "1_AAACGAAGTGGCAGAT-1_1_23d 19             \n",
       "1_AAACGAAGTGGTTCTA-1_1_23d 17             \n",
       "1_AAACGAAGTTGGCCGT-1_1_23d 19             \n",
       "1_AAACGAATCCTTCACG-1_1_23d 5              \n",
       "1_AAACGCTCAAGCGGAT-1_1_23d 9              \n",
       "1_AAACGCTCACTTCAAG-1_1_23d 3              \n",
       "1_AAACGCTCATCATCCC-1_1_23d 19             \n",
       "1_AAACGCTTCAGCATTG-1_1_23d 9              "
      ]
     },
     "metadata": {},
     "output_type": "display_data"
    }
   ],
   "source": [
    "head(a)"
   ]
  },
  {
   "cell_type": "code",
   "execution_count": 61,
   "id": "742df3a3-27d9-4b08-a839-756ed27bd312",
   "metadata": {},
   "outputs": [
    {
     "name": "stdout",
     "output_type": "stream",
     "text": [
      "Percentage of cells from obj1 cluster in common: 0.0%\n",
      "Percentage of cells from obj2 cluster in common: 0.0%\n"
     ]
    }
   ],
   "source": [
    "# Replace 'obj1' and 'obj2' with your Seurat object names\n",
    "# Replace 'cluster_x' and 'cluster_y' with your actual cluster identifiers (numbers or names)\n",
    "\n",
    "# Get cell names for each cluster\n",
    "cells_in_a <- WhichCells(a, idents = \"23\")\n",
    "cells_in_sc_cl <- WhichCells(sc_cl, idents = \"7\")\n",
    "\n",
    "# Calculate intersection and percentages\n",
    "intersection <- intersect(cells_in_a, cells_in_sc_cl)\n",
    "n_common <- length(intersection)\n",
    "\n",
    "percent_in_a <- n_common / length(cells_in_a) * 100\n",
    "percent_in_sc_cl <- n_common / length(cells_in_sc_cl) * 100\n",
    "\n",
    "cat(sprintf(\"Percentage of cells from obj1 cluster in common: %.1f%%\\n\", percent_in_a))\n",
    "cat(sprintf(\"Percentage of cells from obj2 cluster in common: %.1f%%\\n\", percent_in_sc_cl))"
   ]
  },
  {
   "cell_type": "code",
   "execution_count": 62,
   "id": "3436ad11-4176-4936-8812-c1cb5ffa91cc",
   "metadata": {},
   "outputs": [
    {
     "data": {
      "text/plain": [
       "\n",
       "   0    1    2    3    4    5    6    7    8 \n",
       "9517 6143 4993 3100 2637 2123 1022  116   85 "
      ]
     },
     "metadata": {},
     "output_type": "display_data"
    }
   ],
   "source": [
    "a <- table(Idents(sc_cl))\n",
    "a"
   ]
  },
  {
   "cell_type": "code",
   "execution_count": 64,
   "id": "4f96bce8-0d36-48b6-b815-05c5ce680a81",
   "metadata": {},
   "outputs": [
    {
     "ename": "ERROR",
     "evalue": "Error in parse(text = x, srcfile = src): <text>:1:3: unexpected numeric constant\n1: a$0\n      ^\n",
     "output_type": "error",
     "traceback": [
      "Error in parse(text = x, srcfile = src): <text>:1:3: unexpected numeric constant\n1: a$0\n      ^\nTraceback:\n"
     ]
    }
   ],
   "source": [
    "a"
   ]
  },
  {
   "cell_type": "code",
   "execution_count": 27,
   "id": "f7bbb968-ee90-4af4-a9d3-7dc93d5cc5a6",
   "metadata": {},
   "outputs": [
    {
     "data": {
      "image/png": "[encoded data removed]",
      "text/plain": [
       "plot without title"
      ]
     },
     "metadata": {
      "image/png": {
       "height": 420,
       "width": 420
      }
     },
     "output_type": "display_data"
    }
   ],
   "source": [
    "a <- ElbowPlot(object = sc_data_pca, ndims = 50) + labs(title = \"a\")\n",
    "a"
   ]
  },
  {
   "cell_type": "code",
   "execution_count": 26,
   "id": "fd0332c7-b9c6-4cc2-ac2a-e69b10b9953c",
   "metadata": {},
   "outputs": [
    {
     "name": "stderr",
     "output_type": "stream",
     "text": [
      "\u001b[1m\u001b[22mSaving 6.67 x 6.67 in image\n"
     ]
    }
   ],
   "source": [
    "ggsave(\"a.png\", plot=a)"
   ]
  },
  {
   "cell_type": "code",
   "execution_count": 18,
   "id": "f93400f0-8c6b-4261-b958-5bbd656556b5",
   "metadata": {},
   "outputs": [],
   "source": [
    "stddev <- sc_data_pca[[\"pca\"]]@stdev"
   ]
  },
  {
   "cell_type": "code",
   "execution_count": 21,
   "id": "2217fb53-94c8-4a2d-a88e-eb5bf8dbd112",
   "metadata": {},
   "outputs": [
    {
     "data": {
      "text/html": [
       "<style>\n",
       ".list-inline {list-style: none; margin:0; padding: 0}\n",
       ".list-inline>li {display: inline-block}\n",
       ".list-inline>li:not(:last-child)::after {content: \"\\00b7\"; padding: 0 .5ex}\n",
       "</style>\n",
       "<ol class=list-inline><li>8.04979605026453</li><li>4.87965400489055</li><li>4.74468660557552</li><li>3.75687158508975</li><li>3.65524476809574</li><li>3.34255811160408</li><li>3.11670332231946</li><li>2.62578369455357</li><li>2.55102569401047</li><li>2.30438116562294</li><li>2.21455287270306</li><li>2.12965426031229</li><li>2.02655112865038</li><li>1.95560619638754</li><li>1.87342905861322</li><li>1.81946089680496</li><li>1.80696182188875</li><li>1.7489397462494</li><li>1.71688386050124</li><li>1.66694999827043</li><li>1.65855919558513</li><li>1.59469870144796</li><li>1.56262916686552</li><li>1.55137880401569</li><li>1.47787004307295</li><li>1.46529299616511</li><li>1.43835266007927</li><li>1.40346957680482</li><li>1.39777341890374</li><li>1.3516547720953</li><li>1.33320334798376</li><li>1.31354277188304</li><li>1.30586157638211</li><li>1.28088717296978</li><li>1.26178616702853</li><li>1.23756572110248</li><li>1.23371693992922</li><li>1.22043863530018</li><li>1.21710086975034</li><li>1.21138304965388</li><li>1.20784148753434</li><li>1.20242246640334</li><li>1.19154328909903</li><li>1.18810776820287</li><li>1.17778671743575</li><li>1.17360534229963</li><li>1.17066928106507</li><li>1.15894496765897</li><li>1.15381273765932</li><li>1.15269787339002</li></ol>\n"
      ],
      "text/latex": [
       "\\begin{enumerate*}\n",
       "\\item 8.04979605026453\n",
       "\\item 4.87965400489055\n",
       "\\item 4.74468660557552\n",
       "\\item 3.75687158508975\n",
       "\\item 3.65524476809574\n",
       "\\item 3.34255811160408\n",
       "\\item 3.11670332231946\n",
       "\\item 2.62578369455357\n",
       "\\item 2.55102569401047\n",
       "\\item 2.30438116562294\n",
       "\\item 2.21455287270306\n",
       "\\item 2.12965426031229\n",
       "\\item 2.02655112865038\n",
       "\\item 1.95560619638754\n",
       "\\item 1.87342905861322\n",
       "\\item 1.81946089680496\n",
       "\\item 1.80696182188875\n",
       "\\item 1.7489397462494\n",
       "\\item 1.71688386050124\n",
       "\\item 1.66694999827043\n",
       "\\item 1.65855919558513\n",
       "\\item 1.59469870144796\n",
       "\\item 1.56262916686552\n",
       "\\item 1.55137880401569\n",
       "\\item 1.47787004307295\n",
       "\\item 1.46529299616511\n",
       "\\item 1.43835266007927\n",
       "\\item 1.40346957680482\n",
       "\\item 1.39777341890374\n",
       "\\item 1.3516547720953\n",
       "\\item 1.33320334798376\n",
       "\\item 1.31354277188304\n",
       "\\item 1.30586157638211\n",
       "\\item 1.28088717296978\n",
       "\\item 1.26178616702853\n",
       "\\item 1.23756572110248\n",
       "\\item 1.23371693992922\n",
       "\\item 1.22043863530018\n",
       "\\item 1.21710086975034\n",
       "\\item 1.21138304965388\n",
       "\\item 1.20784148753434\n",
       "\\item 1.20242246640334\n",
       "\\item 1.19154328909903\n",
       "\\item 1.18810776820287\n",
       "\\item 1.17778671743575\n",
       "\\item 1.17360534229963\n",
       "\\item 1.17066928106507\n",
       "\\item 1.15894496765897\n",
       "\\item 1.15381273765932\n",
       "\\item 1.15269787339002\n",
       "\\end{enumerate*}\n"
      ],
      "text/markdown": [
       "1. 8.04979605026453\n",
       "2. 4.87965400489055\n",
       "3. 4.74468660557552\n",
       "4. 3.75687158508975\n",
       "5. 3.65524476809574\n",
       "6. 3.34255811160408\n",
       "7. 3.11670332231946\n",
       "8. 2.62578369455357\n",
       "9. 2.55102569401047\n",
       "10. 2.30438116562294\n",
       "11. 2.21455287270306\n",
       "12. 2.12965426031229\n",
       "13. 2.02655112865038\n",
       "14. 1.95560619638754\n",
       "15. 1.87342905861322\n",
       "16. 1.81946089680496\n",
       "17. 1.80696182188875\n",
       "18. 1.7489397462494\n",
       "19. 1.71688386050124\n",
       "20. 1.66694999827043\n",
       "21. 1.65855919558513\n",
       "22. 1.59469870144796\n",
       "23. 1.56262916686552\n",
       "24. 1.55137880401569\n",
       "25. 1.47787004307295\n",
       "26. 1.46529299616511\n",
       "27. 1.43835266007927\n",
       "28. 1.40346957680482\n",
       "29. 1.39777341890374\n",
       "30. 1.3516547720953\n",
       "31. 1.33320334798376\n",
       "32. 1.31354277188304\n",
       "33. 1.30586157638211\n",
       "34. 1.28088717296978\n",
       "35. 1.26178616702853\n",
       "36. 1.23756572110248\n",
       "37. 1.23371693992922\n",
       "38. 1.22043863530018\n",
       "39. 1.21710086975034\n",
       "40. 1.21138304965388\n",
       "41. 1.20784148753434\n",
       "42. 1.20242246640334\n",
       "43. 1.19154328909903\n",
       "44. 1.18810776820287\n",
       "45. 1.17778671743575\n",
       "46. 1.17360534229963\n",
       "47. 1.17066928106507\n",
       "48. 1.15894496765897\n",
       "49. 1.15381273765932\n",
       "50. 1.15269787339002\n",
       "\n",
       "\n"
      ],
      "text/plain": [
       " [1] 8.049796 4.879654 4.744687 3.756872 3.655245 3.342558 3.116703 2.625784\n",
       " [9] 2.551026 2.304381 2.214553 2.129654 2.026551 1.955606 1.873429 1.819461\n",
       "[17] 1.806962 1.748940 1.716884 1.666950 1.658559 1.594699 1.562629 1.551379\n",
       "[25] 1.477870 1.465293 1.438353 1.403470 1.397773 1.351655 1.333203 1.313543\n",
       "[33] 1.305862 1.280887 1.261786 1.237566 1.233717 1.220439 1.217101 1.211383\n",
       "[41] 1.207841 1.202422 1.191543 1.188108 1.177787 1.173605 1.170669 1.158945\n",
       "[49] 1.153813 1.152698"
      ]
     },
     "metadata": {},
     "output_type": "display_data"
    }
   ],
   "source": [
    "stddev"
   ]
  },
  {
   "cell_type": "code",
   "execution_count": 23,
   "id": "9ebc92ad-e0ac-4f63-997a-a74b7d8fc709",
   "metadata": {
    "collapsed": true,
    "jupyter": {
     "outputs_hidden": true
    }
   },
   "outputs": [
    {
     "name": "stdout",
     "output_type": "stream",
     "text": [
      "[1] \"1 - % difference between 1 and 2 dimensions: 60.6183557250521\"\n",
      "[1] \"2 - % difference between 2 and 3 dimensions: 97.2340784986035\"\n",
      "[1] \"3 - % difference between 3 and 4 dimensions: 79.1806055362017\"\n",
      "[1] \"4 - % difference between 4 and 5 dimensions: 97.2949084180213\"\n",
      "[1] \"5 - % difference between 5 and 6 dimensions: 91.4455343942791\"\n",
      "[1] \"6 - % difference between 6 and 7 dimensions: 93.2430557153058\"\n",
      "[1] \"7 - % difference between 7 and 8 dimensions: 84.2487533461944\"\n",
      "[1] \"8 - % difference between 8 and 9 dimensions: 97.152926164552\"\n",
      "[1] \"9 - % difference between 9 and 10 dimensions: 90.3315545207316\"\n",
      "[1] \"10 - % difference between 10 and 11 dimensions: 96.1018474608301\"\n",
      "[1] \"11 - % difference between 11 and 12 dimensions: 96.1663316583113\"\n",
      "[1] \"12 - % difference between 12 and 13 dimensions: 95.1586915499239\"\n",
      "[1] \"13 - % difference between 13 and 14 dimensions: 96.4992281092811\"\n",
      "[1] \"14 - % difference between 14 and 15 dimensions: 95.7978688180613\"\n",
      "[1] \"15 - % difference between 15 and 16 dimensions: 97.1192844714276\"\n",
      "[1] \"16 - % difference between 16 and 17 dimensions: 99.3130341554383\"\n",
      "[1] \"17 - % difference between 17 and 18 dimensions: 96.7889705838553\"\n",
      "[1] \"18 - % difference between 18 and 19 dimensions: 98.1671246355454\"\n",
      "[1] \"19 - % difference between 19 and 20 dimensions: 97.0915992991958\"\n",
      "[1] \"20 - % difference between 20 and 21 dimensions: 99.49663741\"\n",
      "[1] \"21 - % difference between 21 and 22 dimensions: 96.1496403440313\"\n",
      "[1] \"22 - % difference between 22 and 23 dimensions: 97.9889909891244\"\n",
      "[1] \"23 - % difference between 23 and 24 dimensions: 99.280036294702\"\n",
      "[1] \"24 - % difference between 24 and 25 dimensions: 95.2617142407472\"\n",
      "[1] \"25 - % difference between 25 and 26 dimensions: 99.1489747717135\"\n",
      "[1] \"26 - % difference between 26 and 27 dimensions: 98.1614369169613\"\n",
      "[1] \"27 - % difference between 27 and 28 dimensions: 97.5747892542204\"\n",
      "[1] \"28 - % difference between 28 and 29 dimensions: 99.5941374152162\"\n",
      "[1] \"29 - % difference between 29 and 30 dimensions: 96.7005634686765\"\n",
      "[1] \"30 - % difference between 30 and 31 dimensions: 98.6349011232403\"\n",
      "[1] \"31 - % difference between 31 and 32 dimensions: 98.5253130266693\"\n",
      "[1] \"32 - % difference between 32 and 33 dimensions: 99.4152306521459\"\n",
      "[1] \"33 - % difference between 33 and 34 dimensions: 98.0875152570521\"\n",
      "[1] \"34 - % difference between 34 and 35 dimensions: 98.5087674898825\"\n",
      "[1] \"35 - % difference between 35 and 36 dimensions: 98.0804635080849\"\n",
      "[1] \"36 - % difference between 36 and 37 dimensions: 99.6890038963075\"\n",
      "[1] \"37 - % difference between 37 and 38 dimensions: 98.9237154650885\"\n",
      "[1] \"38 - % difference between 38 and 39 dimensions: 99.7265109893033\"\n",
      "[1] \"39 - % difference between 39 and 40 dimensions: 99.5302098422104\"\n",
      "[1] \"40 - % difference between 40 and 41 dimensions: 99.7076430844437\"\n",
      "[1] \"41 - % difference between 41 and 42 dimensions: 99.5513466637036\"\n",
      "[1] \"42 - % difference between 42 and 43 dimensions: 99.0952283736964\"\n",
      "[1] \"43 - % difference between 43 and 44 dimensions: 99.711674688819\"\n",
      "[1] \"44 - % difference between 44 and 45 dimensions: 99.1313034858165\"\n",
      "[1] \"45 - % difference between 45 and 46 dimensions: 99.6449802774793\"\n",
      "[1] \"46 - % difference between 46 and 47 dimensions: 99.7498255053266\"\n",
      "[1] \"47 - % difference between 47 and 48 dimensions: 98.9984948272124\"\n",
      "[1] \"48 - % difference between 48 and 49 dimensions: 99.5571636149374\"\n",
      "[1] \"49 - % difference between 49 and 50 dimensions: 99.9033756316848\"\n"
     ]
    }
   ],
   "source": [
    "for (i in 2:50) {\n",
    "    print(paste(i-1, \"- % difference between\", i-1, \"and\", i, \"dimensions:\", stddev[i]/stddev[i-1]*100))\n",
    "}"
   ]
  },
  {
   "cell_type": "markdown",
   "id": "f85bf6ea-3091-4d6b-ace5-e9dc39830fdd",
   "metadata": {
    "jp-MarkdownHeadingCollapsed": true
   },
   "source": [
    "## Do"
   ]
  },
  {
   "cell_type": "code",
   "execution_count": 29,
   "id": "4baa638d-9fa0-4df4-adc6-c04605282f91",
   "metadata": {},
   "outputs": [],
   "source": [
    "dir_results <- paste0(\"Results/Iterations\")     \n",
    "if (!dir.exists(dir_results)) {\n",
    "    dir.create(dir_results)\n",
    "}"
   ]
  },
  {
   "cell_type": "code",
   "execution_count": 8,
   "id": "467730b6-fe90-4ec5-924a-fc2b2703f2d1",
   "metadata": {},
   "outputs": [],
   "source": [
    "library(tictoc)\n",
    "timings <- data.frame(Function=character(), Time=numeric())"
   ]
  },
  {
   "cell_type": "code",
   "execution_count": 23,
   "id": "23414c82-9a78-4e9c-a0f3-3413456bcb04",
   "metadata": {},
   "outputs": [],
   "source": [
    "f_name <- \"23days\"\n",
    "clustering_resolution <- 0.5\n",
    "n_of_dimesnions <- 30\n",
    "\n",
    "char_res <- as.character(clustering_resolution)\n",
    "if (grepl(\"\\\\.\", char_res)) {char_res <- gsub(\"\\\\.\", \"_\", char_res)}\n",
    "param <- paste0(\"_res_\", char_res, \"_dim_\", n_of_dimesnions)"
   ]
  },
  {
   "cell_type": "code",
   "execution_count": 24,
   "id": "0a480d3c-0aa6-4013-aebc-de79c41db80b",
   "metadata": {},
   "outputs": [
    {
     "name": "stdout",
     "output_type": "stream",
     "text": [
      "[1] \"Loading data for time point: 23days\"\n",
      "make umap: 20.85 sec elapsed\n"
     ]
    }
   ],
   "source": [
    "tic()\n",
    "# Load data\n",
    "sc_data_scaled <- load.data(file_name = f_name)\n",
    "\n",
    "toc()"
   ]
  },
  {
   "cell_type": "code",
   "execution_count": 155,
   "id": "588b1560-6280-45be-8e75-642855ea101b",
   "metadata": {
    "jupyter": {
     "source_hidden": true
    }
   },
   "outputs": [
    {
     "name": "stdout",
     "output_type": "stream",
     "text": [
      "[1] \"Directory already exists\"\n"
     ]
    }
   ],
   "source": [
    "new_dir <- paste(dir_results, \"/\", f_name, param, sep=\"\")     \n",
    "if (!dir.exists(new_dir)) {\n",
    "    dir.create(new_dir)\n",
    "    print(\"Directory created\")\n",
    "} else {\n",
    "    print(\"Directory already exists\")\n",
    "}"
   ]
  },
  {
   "cell_type": "code",
   "execution_count": 25,
   "id": "5d852ea6-988c-42ec-9f2e-2e7cb0b4390f",
   "metadata": {},
   "outputs": [
    {
     "name": "stdout",
     "output_type": "stream",
     "text": [
      "[1] \"Running PCA and clustering for time point: 23days\"\n",
      "[1] \"- Resolution: 0.5\"\n",
      "[1] \"- Dimensions: 30\"\n",
      "make umap: 13.002 sec elapsed\n"
     ]
    }
   ],
   "source": [
    "tic()\n",
    "# Clusterize\n",
    "sc_data <- PCA.cluster(data = sc_data_scaled, file_name = f_name, \n",
    "                       res = clustering_resolution, \n",
    "                       n_dim = n_of_dimesnions)\n",
    "toc()"
   ]
  },
  {
   "cell_type": "code",
   "execution_count": 26,
   "id": "9e1a3f0d-9f6e-454d-9a17-7cfe2bc63144",
   "metadata": {},
   "outputs": [
    {
     "name": "stdout",
     "output_type": "stream",
     "text": [
      "\n",
      "   0    1    2    3    4    5    6    7    8    9   10   11   12   13   14   15 \n",
      "7219 2595 2525 2256 2209 2133 2082 1813 1812 1788 1142 1020  524  417  116   85 \n"
     ]
    }
   ],
   "source": [
    "# indents?\n",
    "print(table(Idents(sc_data)))"
   ]
  },
  {
   "cell_type": "code",
   "execution_count": 27,
   "id": "f07c5704-beca-4315-8878-da420e853461",
   "metadata": {},
   "outputs": [
    {
     "name": "stdout",
     "output_type": "stream",
     "text": [
      "[1] \"Making UMAP\"\n",
      "make umap: 17.862 sec elapsed\n",
      "save: 0.822 sec elapsed\n"
     ]
    },
    {
     "data": {
      "image/png": "[encoded data removed]",
      "text/plain": [
       "plot without title"
      ]
     },
     "metadata": {
      "image/png": {
       "height": 420,
       "width": 420
      }
     },
     "output_type": "display_data"
    }
   ],
   "source": [
    "tic(\"make umap\")\n",
    "# UMAP\n",
    "plot_UMAP <- UMAP.plot(data = sc_data, \n",
    "                       file_name = \"23days\", \n",
    "                       n_dim = n_of_dimesnions, \n",
    "                       print_plot = T)\n",
    "toc()\n",
    "tic(\"save\")\n",
    "ggsave(\n",
    "    paste0(\n",
    "        new_dir, \"/\",\n",
    "        \"UMAP\",\n",
    "        f_name,\n",
    "        param,\n",
    "        \".png\"\n",
    "    ), \n",
    "    plot=plot_UMAP, \n",
    "    width = 1920*2, height = 1980*2, units = \"px\"\n",
    ")\n",
    "\n",
    "toc()"
   ]
  },
  {
   "cell_type": "code",
   "execution_count": 28,
   "id": "402a51f9-473d-4e0e-9cd1-2a50c2d7dc52",
   "metadata": {},
   "outputs": [
    {
     "name": "stdout",
     "output_type": "stream",
     "text": [
      "[1] \"Finding all markers for time point: 23days\"\n"
     ]
    },
    {
     "name": "stderr",
     "output_type": "stream",
     "text": [
      "Calculating cluster 0\n",
      "\n",
      "Calculating cluster 1\n",
      "\n",
      "Calculating cluster 2\n",
      "\n",
      "Calculating cluster 3\n",
      "\n",
      "Calculating cluster 4\n",
      "\n",
      "Calculating cluster 5\n",
      "\n",
      "Calculating cluster 6\n",
      "\n",
      "Calculating cluster 7\n",
      "\n",
      "Calculating cluster 8\n",
      "\n",
      "Calculating cluster 9\n",
      "\n",
      "Calculating cluster 10\n",
      "\n",
      "Calculating cluster 11\n",
      "\n",
      "Calculating cluster 12\n",
      "\n",
      "Calculating cluster 13\n",
      "\n",
      "Calculating cluster 14\n",
      "\n",
      "Calculating cluster 15\n",
      "\n"
     ]
    },
    {
     "name": "stdout",
     "output_type": "stream",
     "text": [
      "47.947 sec elapsed\n"
     ]
    }
   ],
   "source": [
    "tic()\n",
    "# Find Markers\n",
    "cluster_markers <- cluster.markers(data = sc_data, file_name = f_name, output = T)\n",
    "toc()"
   ]
  },
  {
   "cell_type": "code",
   "execution_count": 21,
   "id": "b038e5ef-e660-4eaf-a98f-c73c438a0e45",
   "metadata": {},
   "outputs": [],
   "source": [
    "# Annotation - enrichR\n"
   ]
  },
  {
   "cell_type": "code",
   "execution_count": null,
   "id": "259cbac3-788c-4268-a140-7dc195948ea5",
   "metadata": {},
   "outputs": [],
   "source": []
  },
  {
   "cell_type": "markdown",
   "id": "fdcbdfd7-0254-4c39-a3aa-38093d372b7c",
   "metadata": {},
   "source": [
    "## For"
   ]
  },
  {
   "cell_type": "code",
   "execution_count": null,
   "id": "58820011-cd78-469a-868a-ea4548a2546c",
   "metadata": {
    "jupyter": {
     "source_hidden": true
    }
   },
   "outputs": [],
   "source": [
    "execute.job <- function(\n",
    "    f_name,\n",
    "    clustering_resolution,\n",
    "    n_of_dimesnions\n",
    ") {\n",
    "    char_res <- as.character(clustering_resolution)\n",
    "    if (grepl(\"\\\\.\", char_res)) {char_res <- gsub(\"\\\\.\", \"_\", char_res)}\n",
    "    param <- paste0(\"_res_\", char_res, \"_dim_\", n_of_dimesnions)\n",
    "    \n",
    "    new_dir <- paste(dir_results, \"/\", f_name, param, sep=\"\")     \n",
    "    if (!dir.exists(new_dir)) {\n",
    "        dir.create(new_dir)\n",
    "    }\n",
    "    \n",
    "    # Load data\n",
    "    sc_data <- load.data(file_name = f_name)\n",
    "\n",
    "    # Clusterize\n",
    "    sc_data <- PCA.cluster(data = sc_data, file_name = f_name, \n",
    "                           res = clustering_resolution, \n",
    "                           n_dim = n_of_dimesnions)\n",
    "\n",
    "    # indents?\n",
    "\n",
    "    # UMAP\n",
    "    plot_UMAP <- UMAP.plot(data = sc_data, file_name = \"23days\")\n",
    "    ggsave(\n",
    "        paste0(\n",
    "            new_dir, \"/\",\n",
    "            \"UMAP\",\n",
    "            f_name,\n",
    "            param,\n",
    "            \".png\"\n",
    "        ), \n",
    "        plot=plot_UMAP, \n",
    "        width = 1920*2, height = 1980*2, units = \"px\"\n",
    "    )\n",
    "\n",
    "    # Find Markers\n",
    "    cluster_markers <- cluster.markers(data = sc_data, file_name = f_name)\n",
    "\n",
    "    # Annotation\n",
    "}"
   ]
  },
  {
   "cell_type": "code",
   "execution_count": 7,
   "id": "bfbb6b20-a1b0-4bc8-bde5-59438355e996",
   "metadata": {},
   "outputs": [
    {
     "name": "stdout",
     "output_type": "stream",
     "text": [
      "[1] \"Number of cycles per timepoint: 40\"\n",
      "[1] \"Total number of cycles: 320\"\n"
     ]
    }
   ],
   "source": [
    "res_list <- seq(0.1, 1, by = 0.1)\n",
    "dim_list <- c(20, 30, 40, 50)\n",
    "\n",
    "cycles_per_timepoint <- length(res_list)*length(dim_list)\n",
    "print(paste(\"Number of cycles per timepoint:\", cycles_per_timepoint))\n",
    "tot_cycles <- cycles_per_timepoint*length(timepoints)\n",
    "print(paste(\"Total number of cycles:\", tot_cycles))\n",
    "\n",
    "a<- paste0(\"res_\", res_list, \"_dim_\")\n",
    "cycle_list <- c()\n",
    "for (i in dim_list) {\n",
    "    cycle_list <- c(cycle_list, paste0(a, dim_list))\n",
    "}"
   ]
  },
  {
   "cell_type": "code",
   "execution_count": 15,
   "id": "4bdfb4c9-8e53-48f6-8278-aa27ce2f9515",
   "metadata": {
    "collapsed": true,
    "jupyter": {
     "outputs_hidden": true
    }
   },
   "outputs": [
    {
     "data": {
      "text/html": [
       "<style>\n",
       ".list-inline {list-style: none; margin:0; padding: 0}\n",
       ".list-inline>li {display: inline-block}\n",
       ".list-inline>li:not(:last-child)::after {content: \"\\00b7\"; padding: 0 .5ex}\n",
       "</style>\n",
       "<ol class=list-inline><li>'res_0.1_dim_20'</li><li>'res_0.2_dim_30'</li><li>'res_0.3_dim_40'</li><li>'res_0.4_dim_50'</li><li>'res_0.5_dim_20'</li><li>'res_0.6_dim_30'</li><li>'res_0.7_dim_40'</li><li>'res_0.8_dim_50'</li><li>'res_0.9_dim_20'</li><li>'res_1_dim_30'</li><li>'res_0.1_dim_20'</li><li>'res_0.2_dim_30'</li><li>'res_0.3_dim_40'</li><li>'res_0.4_dim_50'</li><li>'res_0.5_dim_20'</li><li>'res_0.6_dim_30'</li><li>'res_0.7_dim_40'</li><li>'res_0.8_dim_50'</li><li>'res_0.9_dim_20'</li><li>'res_1_dim_30'</li><li>'res_0.1_dim_20'</li><li>'res_0.2_dim_30'</li><li>'res_0.3_dim_40'</li><li>'res_0.4_dim_50'</li><li>'res_0.5_dim_20'</li><li>'res_0.6_dim_30'</li><li>'res_0.7_dim_40'</li><li>'res_0.8_dim_50'</li><li>'res_0.9_dim_20'</li><li>'res_1_dim_30'</li><li>'res_0.1_dim_20'</li><li>'res_0.2_dim_30'</li><li>'res_0.3_dim_40'</li><li>'res_0.4_dim_50'</li><li>'res_0.5_dim_20'</li><li>'res_0.6_dim_30'</li><li>'res_0.7_dim_40'</li><li>'res_0.8_dim_50'</li><li>'res_0.9_dim_20'</li><li>'res_1_dim_30'</li></ol>\n"
      ],
      "text/latex": [
       "\\begin{enumerate*}\n",
       "\\item 'res\\_0.1\\_dim\\_20'\n",
       "\\item 'res\\_0.2\\_dim\\_30'\n",
       "\\item 'res\\_0.3\\_dim\\_40'\n",
       "\\item 'res\\_0.4\\_dim\\_50'\n",
       "\\item 'res\\_0.5\\_dim\\_20'\n",
       "\\item 'res\\_0.6\\_dim\\_30'\n",
       "\\item 'res\\_0.7\\_dim\\_40'\n",
       "\\item 'res\\_0.8\\_dim\\_50'\n",
       "\\item 'res\\_0.9\\_dim\\_20'\n",
       "\\item 'res\\_1\\_dim\\_30'\n",
       "\\item 'res\\_0.1\\_dim\\_20'\n",
       "\\item 'res\\_0.2\\_dim\\_30'\n",
       "\\item 'res\\_0.3\\_dim\\_40'\n",
       "\\item 'res\\_0.4\\_dim\\_50'\n",
       "\\item 'res\\_0.5\\_dim\\_20'\n",
       "\\item 'res\\_0.6\\_dim\\_30'\n",
       "\\item 'res\\_0.7\\_dim\\_40'\n",
       "\\item 'res\\_0.8\\_dim\\_50'\n",
       "\\item 'res\\_0.9\\_dim\\_20'\n",
       "\\item 'res\\_1\\_dim\\_30'\n",
       "\\item 'res\\_0.1\\_dim\\_20'\n",
       "\\item 'res\\_0.2\\_dim\\_30'\n",
       "\\item 'res\\_0.3\\_dim\\_40'\n",
       "\\item 'res\\_0.4\\_dim\\_50'\n",
       "\\item 'res\\_0.5\\_dim\\_20'\n",
       "\\item 'res\\_0.6\\_dim\\_30'\n",
       "\\item 'res\\_0.7\\_dim\\_40'\n",
       "\\item 'res\\_0.8\\_dim\\_50'\n",
       "\\item 'res\\_0.9\\_dim\\_20'\n",
       "\\item 'res\\_1\\_dim\\_30'\n",
       "\\item 'res\\_0.1\\_dim\\_20'\n",
       "\\item 'res\\_0.2\\_dim\\_30'\n",
       "\\item 'res\\_0.3\\_dim\\_40'\n",
       "\\item 'res\\_0.4\\_dim\\_50'\n",
       "\\item 'res\\_0.5\\_dim\\_20'\n",
       "\\item 'res\\_0.6\\_dim\\_30'\n",
       "\\item 'res\\_0.7\\_dim\\_40'\n",
       "\\item 'res\\_0.8\\_dim\\_50'\n",
       "\\item 'res\\_0.9\\_dim\\_20'\n",
       "\\item 'res\\_1\\_dim\\_30'\n",
       "\\end{enumerate*}\n"
      ],
      "text/markdown": [
       "1. 'res_0.1_dim_20'\n",
       "2. 'res_0.2_dim_30'\n",
       "3. 'res_0.3_dim_40'\n",
       "4. 'res_0.4_dim_50'\n",
       "5. 'res_0.5_dim_20'\n",
       "6. 'res_0.6_dim_30'\n",
       "7. 'res_0.7_dim_40'\n",
       "8. 'res_0.8_dim_50'\n",
       "9. 'res_0.9_dim_20'\n",
       "10. 'res_1_dim_30'\n",
       "11. 'res_0.1_dim_20'\n",
       "12. 'res_0.2_dim_30'\n",
       "13. 'res_0.3_dim_40'\n",
       "14. 'res_0.4_dim_50'\n",
       "15. 'res_0.5_dim_20'\n",
       "16. 'res_0.6_dim_30'\n",
       "17. 'res_0.7_dim_40'\n",
       "18. 'res_0.8_dim_50'\n",
       "19. 'res_0.9_dim_20'\n",
       "20. 'res_1_dim_30'\n",
       "21. 'res_0.1_dim_20'\n",
       "22. 'res_0.2_dim_30'\n",
       "23. 'res_0.3_dim_40'\n",
       "24. 'res_0.4_dim_50'\n",
       "25. 'res_0.5_dim_20'\n",
       "26. 'res_0.6_dim_30'\n",
       "27. 'res_0.7_dim_40'\n",
       "28. 'res_0.8_dim_50'\n",
       "29. 'res_0.9_dim_20'\n",
       "30. 'res_1_dim_30'\n",
       "31. 'res_0.1_dim_20'\n",
       "32. 'res_0.2_dim_30'\n",
       "33. 'res_0.3_dim_40'\n",
       "34. 'res_0.4_dim_50'\n",
       "35. 'res_0.5_dim_20'\n",
       "36. 'res_0.6_dim_30'\n",
       "37. 'res_0.7_dim_40'\n",
       "38. 'res_0.8_dim_50'\n",
       "39. 'res_0.9_dim_20'\n",
       "40. 'res_1_dim_30'\n",
       "\n",
       "\n"
      ],
      "text/plain": [
       " [1] \"res_0.1_dim_20\" \"res_0.2_dim_30\" \"res_0.3_dim_40\" \"res_0.4_dim_50\"\n",
       " [5] \"res_0.5_dim_20\" \"res_0.6_dim_30\" \"res_0.7_dim_40\" \"res_0.8_dim_50\"\n",
       " [9] \"res_0.9_dim_20\" \"res_1_dim_30\"   \"res_0.1_dim_20\" \"res_0.2_dim_30\"\n",
       "[13] \"res_0.3_dim_40\" \"res_0.4_dim_50\" \"res_0.5_dim_20\" \"res_0.6_dim_30\"\n",
       "[17] \"res_0.7_dim_40\" \"res_0.8_dim_50\" \"res_0.9_dim_20\" \"res_1_dim_30\"  \n",
       "[21] \"res_0.1_dim_20\" \"res_0.2_dim_30\" \"res_0.3_dim_40\" \"res_0.4_dim_50\"\n",
       "[25] \"res_0.5_dim_20\" \"res_0.6_dim_30\" \"res_0.7_dim_40\" \"res_0.8_dim_50\"\n",
       "[29] \"res_0.9_dim_20\" \"res_1_dim_30\"   \"res_0.1_dim_20\" \"res_0.2_dim_30\"\n",
       "[33] \"res_0.3_dim_40\" \"res_0.4_dim_50\" \"res_0.5_dim_20\" \"res_0.6_dim_30\"\n",
       "[37] \"res_0.7_dim_40\" \"res_0.8_dim_50\" \"res_0.9_dim_20\" \"res_1_dim_30\"  "
      ]
     },
     "metadata": {},
     "output_type": "display_data"
    }
   ],
   "source": [
    "cycle_list"
   ]
  },
  {
   "cell_type": "code",
   "execution_count": 6,
   "id": "0088dd78-b112-4788-a6a1-e552d08598d8",
   "metadata": {},
   "outputs": [
    {
     "data": {
      "text/html": [
       "2"
      ],
      "text/latex": [
       "2"
      ],
      "text/markdown": [
       "2"
      ],
      "text/plain": [
       "[1] 2"
      ]
     },
     "metadata": {},
     "output_type": "display_data"
    }
   ],
   "source": [
    "which(res_list == 0.2)"
   ]
  },
  {
   "cell_type": "code",
   "execution_count": 63,
   "id": "0682d3a1-ab29-4098-91fa-e4d6b1c3ee26",
   "metadata": {
    "collapsed": true,
    "jupyter": {
     "outputs_hidden": true,
     "source_hidden": true
    }
   },
   "outputs": [
    {
     "data": {
      "text/html": [
       "<table class=\"dataframe\">\n",
       "<caption>A data.frame: 8 × 40</caption>\n",
       "<thead>\n",
       "\t<tr><th></th><th scope=col>res_0.1_dim_20</th><th scope=col>res_0.2_dim_30</th><th scope=col>res_0.3_dim_40</th><th scope=col>res_0.4_dim_50</th><th scope=col>res_0.5_dim_20</th><th scope=col>res_0.6_dim_30</th><th scope=col>res_0.7_dim_40</th><th scope=col>res_0.8_dim_50</th><th scope=col>res_0.9_dim_20</th><th scope=col>res_1_dim_30</th><th scope=col>⋯</th><th scope=col>res_0.1_dim_20</th><th scope=col>res_0.2_dim_30</th><th scope=col>res_0.3_dim_40</th><th scope=col>res_0.4_dim_50</th><th scope=col>res_0.5_dim_20</th><th scope=col>res_0.6_dim_30</th><th scope=col>res_0.7_dim_40</th><th scope=col>res_0.8_dim_50</th><th scope=col>res_0.9_dim_20</th><th scope=col>res_1_dim_30</th></tr>\n",
       "\t<tr><th></th><th scope=col>&lt;dbl&gt;</th><th scope=col>&lt;lgl&gt;</th><th scope=col>&lt;lgl&gt;</th><th scope=col>&lt;lgl&gt;</th><th scope=col>&lt;lgl&gt;</th><th scope=col>&lt;lgl&gt;</th><th scope=col>&lt;lgl&gt;</th><th scope=col>&lt;lgl&gt;</th><th scope=col>&lt;lgl&gt;</th><th scope=col>&lt;lgl&gt;</th><th scope=col>⋯</th><th scope=col>&lt;lgl&gt;</th><th scope=col>&lt;lgl&gt;</th><th scope=col>&lt;lgl&gt;</th><th scope=col>&lt;lgl&gt;</th><th scope=col>&lt;lgl&gt;</th><th scope=col>&lt;lgl&gt;</th><th scope=col>&lt;lgl&gt;</th><th scope=col>&lt;lgl&gt;</th><th scope=col>&lt;lgl&gt;</th><th scope=col>&lt;lgl&gt;</th></tr>\n",
       "</thead>\n",
       "<tbody>\n",
       "\t<tr><th scope=row>23days</th><td> 1</td><td>NA</td><td>NA</td><td>NA</td><td>NA</td><td>NA</td><td>NA</td><td>NA</td><td>NA</td><td>NA</td><td>⋯</td><td>NA</td><td>NA</td><td>NA</td><td>NA</td><td>NA</td><td>NA</td><td>NA</td><td>NA</td><td>NA</td><td>NA</td></tr>\n",
       "\t<tr><th scope=row>1month</th><td>NA</td><td>NA</td><td>NA</td><td>NA</td><td>NA</td><td>NA</td><td>NA</td><td>NA</td><td>NA</td><td>NA</td><td>⋯</td><td>NA</td><td>NA</td><td>NA</td><td>NA</td><td>NA</td><td>NA</td><td>NA</td><td>NA</td><td>NA</td><td>NA</td></tr>\n",
       "\t<tr><th scope=row>1.5month</th><td>NA</td><td>NA</td><td>NA</td><td>NA</td><td>NA</td><td>NA</td><td>NA</td><td>NA</td><td>NA</td><td>NA</td><td>⋯</td><td>NA</td><td>NA</td><td>NA</td><td>NA</td><td>NA</td><td>NA</td><td>NA</td><td>NA</td><td>NA</td><td>NA</td></tr>\n",
       "\t<tr><th scope=row>2month</th><td>NA</td><td>NA</td><td>NA</td><td>NA</td><td>NA</td><td>NA</td><td>NA</td><td>NA</td><td>NA</td><td>NA</td><td>⋯</td><td>NA</td><td>NA</td><td>NA</td><td>NA</td><td>NA</td><td>NA</td><td>NA</td><td>NA</td><td>NA</td><td>NA</td></tr>\n",
       "\t<tr><th scope=row>3month</th><td>NA</td><td>NA</td><td>NA</td><td>NA</td><td>NA</td><td>NA</td><td>NA</td><td>NA</td><td>NA</td><td>NA</td><td>⋯</td><td>NA</td><td>NA</td><td>NA</td><td>NA</td><td>NA</td><td>NA</td><td>NA</td><td>NA</td><td>NA</td><td>NA</td></tr>\n",
       "\t<tr><th scope=row>4month</th><td>NA</td><td>NA</td><td>NA</td><td>NA</td><td>NA</td><td>NA</td><td>NA</td><td>NA</td><td>NA</td><td>NA</td><td>⋯</td><td>NA</td><td>NA</td><td>NA</td><td>NA</td><td>NA</td><td>NA</td><td>NA</td><td>NA</td><td>NA</td><td>NA</td></tr>\n",
       "\t<tr><th scope=row>5month</th><td>NA</td><td>NA</td><td>NA</td><td>NA</td><td>NA</td><td>NA</td><td>NA</td><td>NA</td><td>NA</td><td>NA</td><td>⋯</td><td>NA</td><td>NA</td><td>NA</td><td>NA</td><td>NA</td><td>NA</td><td>NA</td><td>NA</td><td>NA</td><td>NA</td></tr>\n",
       "\t<tr><th scope=row>6month</th><td>NA</td><td>NA</td><td>NA</td><td>NA</td><td>NA</td><td>NA</td><td>NA</td><td>NA</td><td>NA</td><td>NA</td><td>⋯</td><td>NA</td><td>NA</td><td>NA</td><td>NA</td><td>NA</td><td>NA</td><td>NA</td><td>NA</td><td>NA</td><td>NA</td></tr>\n",
       "</tbody>\n",
       "</table>\n"
      ],
      "text/latex": [
       "A data.frame: 8 × 40\n",
       "\\begin{tabular}{r|lllllllllllllllllllll}\n",
       "  & res\\_0.1\\_dim\\_20 & res\\_0.2\\_dim\\_30 & res\\_0.3\\_dim\\_40 & res\\_0.4\\_dim\\_50 & res\\_0.5\\_dim\\_20 & res\\_0.6\\_dim\\_30 & res\\_0.7\\_dim\\_40 & res\\_0.8\\_dim\\_50 & res\\_0.9\\_dim\\_20 & res\\_1\\_dim\\_30 & ⋯ & res\\_0.1\\_dim\\_20 & res\\_0.2\\_dim\\_30 & res\\_0.3\\_dim\\_40 & res\\_0.4\\_dim\\_50 & res\\_0.5\\_dim\\_20 & res\\_0.6\\_dim\\_30 & res\\_0.7\\_dim\\_40 & res\\_0.8\\_dim\\_50 & res\\_0.9\\_dim\\_20 & res\\_1\\_dim\\_30\\\\\n",
       "  & <dbl> & <lgl> & <lgl> & <lgl> & <lgl> & <lgl> & <lgl> & <lgl> & <lgl> & <lgl> & ⋯ & <lgl> & <lgl> & <lgl> & <lgl> & <lgl> & <lgl> & <lgl> & <lgl> & <lgl> & <lgl>\\\\\n",
       "\\hline\n",
       "\t23days &  1 & NA & NA & NA & NA & NA & NA & NA & NA & NA & ⋯ & NA & NA & NA & NA & NA & NA & NA & NA & NA & NA\\\\\n",
       "\t1month & NA & NA & NA & NA & NA & NA & NA & NA & NA & NA & ⋯ & NA & NA & NA & NA & NA & NA & NA & NA & NA & NA\\\\\n",
       "\t1.5month & NA & NA & NA & NA & NA & NA & NA & NA & NA & NA & ⋯ & NA & NA & NA & NA & NA & NA & NA & NA & NA & NA\\\\\n",
       "\t2month & NA & NA & NA & NA & NA & NA & NA & NA & NA & NA & ⋯ & NA & NA & NA & NA & NA & NA & NA & NA & NA & NA\\\\\n",
       "\t3month & NA & NA & NA & NA & NA & NA & NA & NA & NA & NA & ⋯ & NA & NA & NA & NA & NA & NA & NA & NA & NA & NA\\\\\n",
       "\t4month & NA & NA & NA & NA & NA & NA & NA & NA & NA & NA & ⋯ & NA & NA & NA & NA & NA & NA & NA & NA & NA & NA\\\\\n",
       "\t5month & NA & NA & NA & NA & NA & NA & NA & NA & NA & NA & ⋯ & NA & NA & NA & NA & NA & NA & NA & NA & NA & NA\\\\\n",
       "\t6month & NA & NA & NA & NA & NA & NA & NA & NA & NA & NA & ⋯ & NA & NA & NA & NA & NA & NA & NA & NA & NA & NA\\\\\n",
       "\\end{tabular}\n"
      ],
      "text/markdown": [
       "\n",
       "A data.frame: 8 × 40\n",
       "\n",
       "| <!--/--> | res_0.1_dim_20 &lt;dbl&gt; | res_0.2_dim_30 &lt;lgl&gt; | res_0.3_dim_40 &lt;lgl&gt; | res_0.4_dim_50 &lt;lgl&gt; | res_0.5_dim_20 &lt;lgl&gt; | res_0.6_dim_30 &lt;lgl&gt; | res_0.7_dim_40 &lt;lgl&gt; | res_0.8_dim_50 &lt;lgl&gt; | res_0.9_dim_20 &lt;lgl&gt; | res_1_dim_30 &lt;lgl&gt; | ⋯ ⋯ | res_0.1_dim_20 &lt;lgl&gt; | res_0.2_dim_30 &lt;lgl&gt; | res_0.3_dim_40 &lt;lgl&gt; | res_0.4_dim_50 &lt;lgl&gt; | res_0.5_dim_20 &lt;lgl&gt; | res_0.6_dim_30 &lt;lgl&gt; | res_0.7_dim_40 &lt;lgl&gt; | res_0.8_dim_50 &lt;lgl&gt; | res_0.9_dim_20 &lt;lgl&gt; | res_1_dim_30 &lt;lgl&gt; |\n",
       "|---|---|---|---|---|---|---|---|---|---|---|---|---|---|---|---|---|---|---|---|---|---|\n",
       "| 23days |  1 | NA | NA | NA | NA | NA | NA | NA | NA | NA | ⋯ | NA | NA | NA | NA | NA | NA | NA | NA | NA | NA |\n",
       "| 1month | NA | NA | NA | NA | NA | NA | NA | NA | NA | NA | ⋯ | NA | NA | NA | NA | NA | NA | NA | NA | NA | NA |\n",
       "| 1.5month | NA | NA | NA | NA | NA | NA | NA | NA | NA | NA | ⋯ | NA | NA | NA | NA | NA | NA | NA | NA | NA | NA |\n",
       "| 2month | NA | NA | NA | NA | NA | NA | NA | NA | NA | NA | ⋯ | NA | NA | NA | NA | NA | NA | NA | NA | NA | NA |\n",
       "| 3month | NA | NA | NA | NA | NA | NA | NA | NA | NA | NA | ⋯ | NA | NA | NA | NA | NA | NA | NA | NA | NA | NA |\n",
       "| 4month | NA | NA | NA | NA | NA | NA | NA | NA | NA | NA | ⋯ | NA | NA | NA | NA | NA | NA | NA | NA | NA | NA |\n",
       "| 5month | NA | NA | NA | NA | NA | NA | NA | NA | NA | NA | ⋯ | NA | NA | NA | NA | NA | NA | NA | NA | NA | NA |\n",
       "| 6month | NA | NA | NA | NA | NA | NA | NA | NA | NA | NA | ⋯ | NA | NA | NA | NA | NA | NA | NA | NA | NA | NA |\n",
       "\n"
      ],
      "text/plain": [
       "         res_0.1_dim_20 res_0.2_dim_30 res_0.3_dim_40 res_0.4_dim_50\n",
       "23days    1             NA             NA             NA            \n",
       "1month   NA             NA             NA             NA            \n",
       "1.5month NA             NA             NA             NA            \n",
       "2month   NA             NA             NA             NA            \n",
       "3month   NA             NA             NA             NA            \n",
       "4month   NA             NA             NA             NA            \n",
       "5month   NA             NA             NA             NA            \n",
       "6month   NA             NA             NA             NA            \n",
       "         res_0.5_dim_20 res_0.6_dim_30 res_0.7_dim_40 res_0.8_dim_50\n",
       "23days   NA             NA             NA             NA            \n",
       "1month   NA             NA             NA             NA            \n",
       "1.5month NA             NA             NA             NA            \n",
       "2month   NA             NA             NA             NA            \n",
       "3month   NA             NA             NA             NA            \n",
       "4month   NA             NA             NA             NA            \n",
       "5month   NA             NA             NA             NA            \n",
       "6month   NA             NA             NA             NA            \n",
       "         res_0.9_dim_20 res_1_dim_30 ⋯ res_0.1_dim_20 res_0.2_dim_30\n",
       "23days   NA             NA           ⋯ NA             NA            \n",
       "1month   NA             NA           ⋯ NA             NA            \n",
       "1.5month NA             NA           ⋯ NA             NA            \n",
       "2month   NA             NA           ⋯ NA             NA            \n",
       "3month   NA             NA           ⋯ NA             NA            \n",
       "4month   NA             NA           ⋯ NA             NA            \n",
       "5month   NA             NA           ⋯ NA             NA            \n",
       "6month   NA             NA           ⋯ NA             NA            \n",
       "         res_0.3_dim_40 res_0.4_dim_50 res_0.5_dim_20 res_0.6_dim_30\n",
       "23days   NA             NA             NA             NA            \n",
       "1month   NA             NA             NA             NA            \n",
       "1.5month NA             NA             NA             NA            \n",
       "2month   NA             NA             NA             NA            \n",
       "3month   NA             NA             NA             NA            \n",
       "4month   NA             NA             NA             NA            \n",
       "5month   NA             NA             NA             NA            \n",
       "6month   NA             NA             NA             NA            \n",
       "         res_0.7_dim_40 res_0.8_dim_50 res_0.9_dim_20 res_1_dim_30\n",
       "23days   NA             NA             NA             NA          \n",
       "1month   NA             NA             NA             NA          \n",
       "1.5month NA             NA             NA             NA          \n",
       "2month   NA             NA             NA             NA          \n",
       "3month   NA             NA             NA             NA          \n",
       "4month   NA             NA             NA             NA          \n",
       "5month   NA             NA             NA             NA          \n",
       "6month   NA             NA             NA             NA          "
      ]
     },
     "metadata": {},
     "output_type": "display_data"
    }
   ],
   "source": [
    "timings <- as.data.frame(matrix(\n",
    "    ncol = cycles_per_timepoint, \n",
    "    nrow = length(timepoints),\n",
    "))\n",
    "rownames(timings) <- timepoints\n",
    "colnames(timings) <- cycle_list\n",
    "timings"
   ]
  },
  {
   "cell_type": "code",
   "execution_count": 66,
   "id": "d67c6387-c326-4935-93af-2def64d59008",
   "metadata": {},
   "outputs": [
    {
     "data": {
      "text/html": [
       "1"
      ],
      "text/latex": [
       "1"
      ],
      "text/markdown": [
       "1"
      ],
      "text/plain": [
       "[1] 1"
      ]
     },
     "metadata": {},
     "output_type": "display_data"
    }
   ],
   "source": [
    "timings[\"23days\", \"res_0.1_dim_20\"]"
   ]
  },
  {
   "cell_type": "code",
   "execution_count": 22,
   "id": "e5d7f996-ad1f-4791-a04a-5a2e5de8c9ca",
   "metadata": {},
   "outputs": [],
   "source": [
    "iterations <- function(\n",
    "    timepoints = c(\"23days\", \"1month\", \"1.5month\", \"2month\", \"3month\", \"4month\", \"5month\", \"6month\"),\n",
    "    housekeeping_genes = c(\"ACTB\", \"DLG4\"),\n",
    "    genes_of_interest = c(\"SRCIN1\", \"KIAA1217\", \"CIT\"),\n",
    "    path_to_data = \"/sharedFolder/Data/\",\n",
    "    res_list = seq(0.1, 1, by = 0.1),\n",
    "    dim_list = c(20, 30, 40, 50),\n",
    "    top_n_genes = 50,\n",
    "    check_for_saved_plot = F,\n",
    "    output = F,\n",
    "    reduced.output = T,\n",
    "    print.plot = F\n",
    ") {\n",
    "    print(paste(\"Path to data:\", path_to_data))\n",
    "    print(paste(\"Timepoints:\", timepoints))\n",
    "    print(paste(\"Housekeeping genes:\", housekeeping_genes))\n",
    "    print(paste(\"Genes of interest:\", genes_of_interest))\n",
    "    print(\"\")\n",
    "\n",
    "    print(paste(\"Resolutions:\", res_list))\n",
    "    print(paste(\"Number of dimension:\", dim_list))\n",
    "    print(\"\")\n",
    "    \n",
    "    # Total number of \n",
    "    cycles_per_timepoint <- length(res_list)*length(dim_list)\n",
    "    print(paste(\"Number of cycles per timepoint:\", cycles_per_timepoint))\n",
    "    tot_cycles <- cycles_per_timepoint*length(timepoints)\n",
    "    print(paste(\"Total number of cycles:\", tot_cycles))\n",
    "    print(\"\")\n",
    "    \n",
    "    N_cycle <- 0\n",
    "    \n",
    "    dir_iterations <- paste0(\"Results/Iterations\")     \n",
    "    if (!dir.exists(dir_iterations)) {dir.create(dir_iterations)}\n",
    "    \n",
    "    print(\"Starting\")\n",
    "    \n",
    "    timings <- data.frame()\n",
    "    n_of_clusters <- data.frame()\n",
    "    \n",
    "    tic(\"Iterations\")\n",
    "    \n",
    "    for (f_name in timepoints) {\n",
    "        tic(paste(\"Loading\", f_name))\n",
    "    \n",
    "        dir_timepoint <- paste(dir_iterations, \"/\", f_name, sep=\"\")     \n",
    "        if (!dir.exists(dir_timepoint)) {dir.create(dir_timepoint)}\n",
    "        \n",
    "        # Load data\n",
    "        sc_data_scaled <- load.data(file_name = f_name, data_path = path_to_data, output = output, reduced.output = reduced.output)\n",
    "    \n",
    "        toc(quiet = T)\n",
    "    \n",
    "        for (clustering_resolution in res_list) {\n",
    "            for (n_of_dimesnions in dim_list) {\n",
    "                # Progression Message\n",
    "                N_cycle <- N_cycle + 1\n",
    "                print(paste(N_cycle, \"of\", tot_cycles)) \n",
    "                print(paste(f_name, \"- Res:\", clustering_resolution, \"- Dim:\", n_of_dimesnions))\n",
    "    \n",
    "                # param\n",
    "                char_res <- as.character(clustering_resolution)\n",
    "                if (grepl(\"\\\\.\", char_res)) {char_res <- gsub(\"\\\\.\", \"_\", char_res)}\n",
    "                param <- paste0(\"_res_\", char_res, \"_dim_\", n_of_dimesnions)\n",
    "    \n",
    "                # Create subfolder\n",
    "                new_dir <- paste(dir_timepoint, \"/\", f_name, param, sep=\"\")     \n",
    "                if (!dir.exists(new_dir)) {dir.create(new_dir)}\n",
    "    \n",
    "                # start time\n",
    "                tic(paste(f_name, \"- Res:\", clustering_resolution, \"- Dim:\", n_of_dimesnions))\n",
    "    \n",
    "                # Clusterize\n",
    "                sc_data <- PCA.cluster(\n",
    "                    data = sc_data_scaled, \n",
    "                    file_name = f_name, \n",
    "                    res = clustering_resolution, \n",
    "                    n_dim = n_of_dimesnions,\n",
    "                    output = output, \n",
    "                    reduced.output = reduced.output\n",
    "                )\n",
    "    \n",
    "                n_of_clusters[paste0(\"res_\", clustering_resolution, \"_dim_\", n_of_dimesnions), f_name] <- length(table(Idents(sc_data)))\n",
    "    \n",
    "                # UMAP\n",
    "                plot_UMAP <- UMAP.plot(\n",
    "                    data = sc_data, \n",
    "                    file_name = \"23days\", \n",
    "                    n_dim = n_of_dimesnions, \n",
    "                    output = output, \n",
    "                    reduced.output = reduced.output,\n",
    "                    print_plot = print.plot\n",
    "                )\n",
    "\n",
    "                # Save UMAP\n",
    "                umap_file_name <- paste0(new_dir, \"/UMAP\",f_name,param,\".png\")\n",
    "                if (!(check_for_saved_plot & exists(umap_file_name))) {\n",
    "                    ggsave(\n",
    "                        umap_file_name, \n",
    "                        plot=plot_UMAP, \n",
    "                        width = 1920*2, height = 1980*2, units = \"px\"\n",
    "                    )\n",
    "                }\n",
    "    \n",
    "                # Find Markers\n",
    "                cluster_markers <- cluster.markers(\n",
    "                    data = sc_data, \n",
    "                    file_name = f_name, \n",
    "                    output = output, \n",
    "                    reduced.output = reduced.output\n",
    "                )\n",
    "    \n",
    "                write.csv(cluster_markers, file = paste0(\n",
    "                    new_dir, \"/\",\n",
    "                    \"cluster_markers_\",\n",
    "                    f_name,\n",
    "                    param,\n",
    "                    \".csv\"\n",
    "                ))\n",
    "\n",
    "                # Top top_n_genes DE genes\n",
    "                top_genes_by_cluster <- cluster_markers %>% group_by(cluster) %>% top_n(n = top_n_genes, wt = avg_log2FC) %>% as.data.frame()\n",
    "\n",
    "                write.csv(top_genes_by_cluster, file = paste0(\n",
    "                    new_dir, \"/\",\n",
    "                    \"top_genes_by_cluster_\",\n",
    "                    f_name,\n",
    "                    param,\n",
    "                    \".csv\"\n",
    "                ))\n",
    "    \n",
    "                # Annotation - enrichR\n",
    "                enrichR_list <- annotation.enrichR(\n",
    "                    top_genes = top_genes_by_cluster,\n",
    "                    database = \"Allen_Brain_Atlas_10x_scRNA_2021\"\n",
    "                )\n",
    "\n",
    "                write.csv(bind_rows(enrichR_list), file = paste0(\n",
    "                    new_dir, \"/\",\n",
    "                    \"enrichR_annotation_\",\n",
    "                    f_name,\n",
    "                    param,\n",
    "                    \".csv\"\n",
    "                ), row.names = FALSE)\n",
    "    \n",
    "                # Annotation - singelR\n",
    "    \n",
    "                # Annotation - CPTCellType\n",
    "    \n",
    "                # end time\n",
    "                elapsed <- toc(log = TRUE, quiet = T)\n",
    "                timings[f_name, paste0(\"res_\", clustering_resolution, \"_dim_\", n_of_dimesnions)] <- elapsed$toc - elapsed$tic\n",
    "            }\n",
    "        }\n",
    "\n",
    "        print(\"\") # an empti line for better visualization \n",
    "    }\n",
    "\n",
    "    timings$tot_time <- rowSums(timings)\n",
    "\n",
    "    write.csv(timings, file = paste0(dir_iterations, \"/tmings.csv\"))\n",
    "    \n",
    "    n_tocken_gpt <- n_of_clusters*837.5\n",
    "    n_tocken_gpt$total <- rowSums(n_tocken_gpt)\n",
    "\n",
    "    write.csv(n_tocken_gpt, file = paste0(dir_iterations, \"/number_of_tokens.csv\"))\n",
    "    \n",
    "    tot_elapsed <- toc(log = TRUE, quiet = F)\n",
    "    print(\"END\")\n",
    "    return(list(timings, n_of_clusters))\n",
    "}"
   ]
  },
  {
   "cell_type": "code",
   "execution_count": 23,
   "id": "3c6137c0-e149-40e0-8aea-ab8fe8a94969",
   "metadata": {},
   "outputs": [],
   "source": [
    "# LOAD LIBRARIES\n",
    "library(Seurat)\n",
    "library(tidyverse)\n",
    "library(future)\n",
    "library(ggplot2)\n",
    "library(dplyr)\n",
    "library(presto)\n",
    "library(cowplot)\n",
    "library(tictoc)\n",
    "\n",
    "library(enrichR)\n",
    "library(org.Hs.eg.db)\n",
    "library(AnnotationDbi)\n",
    "\n",
    "library(SingleR)\n",
    "\n",
    "library(GPTCelltype)\n",
    "library(openai)"
   ]
  },
  {
   "cell_type": "code",
   "execution_count": 24,
   "id": "d1115c0f-573c-4f8b-9c0a-109983127a63",
   "metadata": {},
   "outputs": [
    {
     "name": "stderr",
     "output_type": "stream",
     "text": [
      "Warning message:\n",
      "“The default method for RunUMAP has changed from calling Python UMAP via reticulate to the R-native UWOT using the cosine metric\n",
      "To use Python UMAP via reticulate, set umap.method to 'umap-learn' and metric to 'correlation'\n",
      "This message will be shown once per session”\n",
      "Found more than one class \"dist\" in cache; using the first, from namespace 'spam'\n",
      "\n",
      "Also defined by ‘BiocGenerics’\n",
      "\n",
      "Found more than one class \"dist\" in cache; using the first, from namespace 'spam'\n",
      "\n",
      "Also defined by ‘BiocGenerics’\n",
      "\n"
     ]
    },
    {
     "ename": "ERROR",
     "evalue": "Error in h(simpleError(msg, call)): error in evaluating the argument 'x' in selecting a method for function 'gsub': object 'param' not found\n",
     "output_type": "error",
     "traceback": [
      "Error in h(simpleError(msg, call)): error in evaluating the argument 'x' in selecting a method for function 'gsub': object 'param' not found\nTraceback:\n",
      "1. withVisible(...elt(i))",
      "2. iterations(timepoints = c(\"23days\", \"1month\", \"1.5month\", \"2month\", \n .     \"3month\", \"4month\", \"5month\", \"6month\"), housekeeping_genes = c(\"ACTB\", \n .     \"DLG4\"), genes_of_interest = c(\"SRCIN1\", \"KIAA1217\", \"CIT\"), \n .     path_to_data = \"/sharedFolder/Data/\", res_list = seq(0.1, \n .         1, by = 0.1), dim_list = c(20, 30, 40, 50), top_n_genes = 50, \n .     check_for_saved_plot = T, output = F, reduced.output = T, \n .     print.plot = F)",
      "3. UMAP.plot(data = sc_data, file_name = \"23days\", n_dim = n_of_dimesnions, \n .     output = output, reduced.output = reduced.output, print_plot = print.plot)",
      "4. ggtitle(paste(\"UMAP of Clusters -\", file_name, \"-\", gsub(\"_\", \n .     \" \", param)))",
      "5. labs(title = label, subtitle = subtitle)",
      "6. dots_list(..., title = title, subtitle = subtitle, caption = caption, \n .     tag = tag, alt = alt, alt_insight = alt_insight, .ignore_empty = \"all\")",
      "7. paste(\"UMAP of Clusters -\", file_name, \"-\", gsub(\"_\", \" \", param))",
      "8. standardGeneric(\"paste\")",
      "9. eval(quote(list(...)), env)",
      "10. eval(quote(list(...)), env)",
      "11. eval(quote(list(...)), env)",
      "12. gsub(\"_\", \" \", param)",
      "13. .handleSimpleError(function (cond) \n  . .Internal(C_tryCatchHelper(addr, 1L, cond)), \"object 'param' not found\", \n  .     base::quote(gsub(\"_\", \" \", param)))",
      "14. h(simpleError(msg, call))",
      "15. .handleSimpleError(function (cnd) \n  . {\n  .     watcher$capture_plot_and_output()\n  .     cnd <- sanitize_call(cnd)\n  .     watcher$push(cnd)\n  .     switch(on_error, continue = invokeRestart(\"eval_continue\"), \n  .         stop = invokeRestart(\"eval_stop\"), error = NULL)\n  . }, \"error in evaluating the argument 'x' in selecting a method for function 'gsub': object 'param' not found\", \n  .     base::quote(h(simpleError(msg, call))))"
     ]
    }
   ],
   "source": [
    "tic(\"Iterations\")\n",
    "iterations <- capture.output(\n",
    "    iterations(\n",
    "        timepoints = c(\"23days\", \"1month\", \"1.5month\", \"2month\", \"3month\", \"4month\", \"5month\", \"6month\"),\n",
    "        housekeeping_genes = c(\"ACTB\", \"DLG4\"),\n",
    "        genes_of_interest = c(\"SRCIN1\", \"KIAA1217\", \"CIT\"),\n",
    "        path_to_data = \"/sharedFolder/Data/\",\n",
    "        res_list = seq(0.1, 1, by = 0.1),\n",
    "        dim_list = c(20, 30, 40, 50),\n",
    "        top_n_genes = 50,\n",
    "        check_for_saved_plot = T,\n",
    "        output = F, \n",
    "        reduced.output = T, \n",
    "        print.plot = F\n",
    "    ),\n",
    "    file = \"/sharedFolder/Paper_clusters_from_scratch/Results/Iterations/0_output.pdf\"\n",
    ")\n",
    "elapsed <- toc(log = TRUE, quiet = T)\n",
    "total_time(elapsed$toc - elapsed$tic)\n",
    "\n",
    "print(iterations)"
   ]
  },
  {
   "cell_type": "code",
   "execution_count": 8,
   "id": "357d7a8c-34b2-4f0d-8d30-e6d0c8cf44ae",
   "metadata": {
    "collapsed": true,
    "jupyter": {
     "outputs_hidden": true,
     "source_hidden": true
    },
    "scrolled": true
   },
   "outputs": [
    {
     "name": "stdout",
     "output_type": "stream",
     "text": [
      "[1] \"Starting\"\n",
      "[1] \"Loading data for time point: 23days\"\n",
      "Loading 23days: 24.777 sec elapsed\n",
      "[1] \"1 of 320\"\n",
      "[1] \"23days - Res: 0.1 - Dim: 20\"\n",
      "[1] \"Running PCA and clustering for time point: 23days\"\n",
      "[1] \"- Resolution: 0.1\"\n",
      "[1] \"- Dimensions: 20\"\n",
      "[1] \"Making UMAP\"\n"
     ]
    },
    {
     "name": "stderr",
     "output_type": "stream",
     "text": [
      "Warning message:\n",
      "“The default method for RunUMAP has changed from calling Python UMAP via reticulate to the R-native UWOT using the cosine metric\n",
      "To use Python UMAP via reticulate, set umap.method to 'umap-learn' and metric to 'correlation'\n",
      "This message will be shown once per session”\n"
     ]
    },
    {
     "name": "stdout",
     "output_type": "stream",
     "text": [
      "23days - Res: 0.1 - Dim: 20: 30.887 sec elapsed\n",
      "[1] \"2 of 320\"\n",
      "[1] \"23days - Res: 0.1 - Dim: 30\"\n",
      "[1] \"Running PCA and clustering for time point: 23days\"\n",
      "[1] \"- Resolution: 0.1\"\n",
      "[1] \"- Dimensions: 30\"\n",
      "[1] \"Making UMAP\"\n",
      "23days - Res: 0.1 - Dim: 30: 30.196 sec elapsed\n",
      "[1] \"3 of 320\"\n",
      "[1] \"23days - Res: 0.1 - Dim: 40\"\n",
      "[1] \"Running PCA and clustering for time point: 23days\"\n",
      "[1] \"- Resolution: 0.1\"\n",
      "[1] \"- Dimensions: 40\"\n",
      "[1] \"Making UMAP\"\n",
      "23days - Res: 0.1 - Dim: 40: 32.624 sec elapsed\n",
      "[1] \"4 of 320\"\n",
      "[1] \"23days - Res: 0.1 - Dim: 50\"\n",
      "[1] \"Running PCA and clustering for time point: 23days\"\n",
      "[1] \"- Resolution: 0.1\"\n",
      "[1] \"- Dimensions: 50\"\n",
      "[1] \"Making UMAP\"\n",
      "23days - Res: 0.1 - Dim: 50: 34.298 sec elapsed\n",
      "[1] \"5 of 320\"\n",
      "[1] \"23days - Res: 0.2 - Dim: 20\"\n",
      "[1] \"Running PCA and clustering for time point: 23days\"\n",
      "[1] \"- Resolution: 0.2\"\n",
      "[1] \"- Dimensions: 20\"\n",
      "[1] \"Making UMAP\"\n",
      "23days - Res: 0.2 - Dim: 20: 29.13 sec elapsed\n",
      "[1] \"6 of 320\"\n",
      "[1] \"23days - Res: 0.2 - Dim: 30\"\n",
      "[1] \"Running PCA and clustering for time point: 23days\"\n",
      "[1] \"- Resolution: 0.2\"\n",
      "[1] \"- Dimensions: 30\"\n",
      "[1] \"Making UMAP\"\n",
      "23days - Res: 0.2 - Dim: 30: 30.643 sec elapsed\n",
      "[1] \"7 of 320\"\n",
      "[1] \"23days - Res: 0.2 - Dim: 40\"\n",
      "[1] \"Running PCA and clustering for time point: 23days\"\n",
      "[1] \"- Resolution: 0.2\"\n",
      "[1] \"- Dimensions: 40\"\n",
      "[1] \"Making UMAP\"\n",
      "23days - Res: 0.2 - Dim: 40: 33.041 sec elapsed\n",
      "[1] \"8 of 320\"\n",
      "[1] \"23days - Res: 0.2 - Dim: 50\"\n",
      "[1] \"Running PCA and clustering for time point: 23days\"\n",
      "[1] \"- Resolution: 0.2\"\n",
      "[1] \"- Dimensions: 50\"\n",
      "[1] \"Making UMAP\"\n",
      "23days - Res: 0.2 - Dim: 50: 33.314 sec elapsed\n",
      "[1] \"9 of 320\"\n",
      "[1] \"23days - Res: 0.3 - Dim: 20\"\n",
      "[1] \"Running PCA and clustering for time point: 23days\"\n",
      "[1] \"- Resolution: 0.3\"\n",
      "[1] \"- Dimensions: 20\"\n",
      "[1] \"Making UMAP\"\n",
      "23days - Res: 0.3 - Dim: 20: 29.758 sec elapsed\n",
      "[1] \"10 of 320\"\n",
      "[1] \"23days - Res: 0.3 - Dim: 30\"\n",
      "[1] \"Running PCA and clustering for time point: 23days\"\n",
      "[1] \"- Resolution: 0.3\"\n",
      "[1] \"- Dimensions: 30\"\n",
      "[1] \"Making UMAP\"\n",
      "23days - Res: 0.3 - Dim: 30: 30.183 sec elapsed\n",
      "[1] \"11 of 320\"\n",
      "[1] \"23days - Res: 0.3 - Dim: 40\"\n",
      "[1] \"Running PCA and clustering for time point: 23days\"\n",
      "[1] \"- Resolution: 0.3\"\n",
      "[1] \"- Dimensions: 40\"\n",
      "[1] \"Making UMAP\"\n",
      "23days - Res: 0.3 - Dim: 40: 31.654 sec elapsed\n",
      "[1] \"12 of 320\"\n",
      "[1] \"23days - Res: 0.3 - Dim: 50\"\n",
      "[1] \"Running PCA and clustering for time point: 23days\"\n",
      "[1] \"- Resolution: 0.3\"\n",
      "[1] \"- Dimensions: 50\"\n",
      "[1] \"Making UMAP\"\n",
      "23days - Res: 0.3 - Dim: 50: 33.915 sec elapsed\n",
      "[1] \"13 of 320\"\n",
      "[1] \"23days - Res: 0.4 - Dim: 20\"\n",
      "[1] \"Running PCA and clustering for time point: 23days\"\n",
      "[1] \"- Resolution: 0.4\"\n",
      "[1] \"- Dimensions: 20\"\n",
      "[1] \"Making UMAP\"\n",
      "23days - Res: 0.4 - Dim: 20: 29.579 sec elapsed\n",
      "[1] \"14 of 320\"\n",
      "[1] \"23days - Res: 0.4 - Dim: 30\"\n",
      "[1] \"Running PCA and clustering for time point: 23days\"\n",
      "[1] \"- Resolution: 0.4\"\n",
      "[1] \"- Dimensions: 30\"\n",
      "[1] \"Making UMAP\"\n",
      "23days - Res: 0.4 - Dim: 30: 29.931 sec elapsed\n",
      "[1] \"15 of 320\"\n",
      "[1] \"23days - Res: 0.4 - Dim: 40\"\n",
      "[1] \"Running PCA and clustering for time point: 23days\"\n",
      "[1] \"- Resolution: 0.4\"\n",
      "[1] \"- Dimensions: 40\"\n",
      "[1] \"Making UMAP\"\n",
      "23days - Res: 0.4 - Dim: 40: 32.432 sec elapsed\n",
      "[1] \"16 of 320\"\n",
      "[1] \"23days - Res: 0.4 - Dim: 50\"\n",
      "[1] \"Running PCA and clustering for time point: 23days\"\n",
      "[1] \"- Resolution: 0.4\"\n",
      "[1] \"- Dimensions: 50\"\n",
      "[1] \"Making UMAP\"\n",
      "23days - Res: 0.4 - Dim: 50: 33.016 sec elapsed\n",
      "[1] \"17 of 320\"\n",
      "[1] \"23days - Res: 0.5 - Dim: 20\"\n",
      "[1] \"Running PCA and clustering for time point: 23days\"\n",
      "[1] \"- Resolution: 0.5\"\n",
      "[1] \"- Dimensions: 20\"\n",
      "[1] \"Making UMAP\"\n",
      "23days - Res: 0.5 - Dim: 20: 29.36 sec elapsed\n",
      "[1] \"18 of 320\"\n",
      "[1] \"23days - Res: 0.5 - Dim: 30\"\n",
      "[1] \"Running PCA and clustering for time point: 23days\"\n",
      "[1] \"- Resolution: 0.5\"\n",
      "[1] \"- Dimensions: 30\"\n",
      "[1] \"Making UMAP\"\n",
      "23days - Res: 0.5 - Dim: 30: 30.614 sec elapsed\n",
      "[1] \"19 of 320\"\n",
      "[1] \"23days - Res: 0.5 - Dim: 40\"\n",
      "[1] \"Running PCA and clustering for time point: 23days\"\n",
      "[1] \"- Resolution: 0.5\"\n",
      "[1] \"- Dimensions: 40\"\n",
      "[1] \"Making UMAP\"\n",
      "23days - Res: 0.5 - Dim: 40: 32.032 sec elapsed\n",
      "[1] \"20 of 320\"\n",
      "[1] \"23days - Res: 0.5 - Dim: 50\"\n",
      "[1] \"Running PCA and clustering for time point: 23days\"\n",
      "[1] \"- Resolution: 0.5\"\n",
      "[1] \"- Dimensions: 50\"\n",
      "[1] \"Making UMAP\"\n",
      "23days - Res: 0.5 - Dim: 50: 33.016 sec elapsed\n",
      "[1] \"21 of 320\"\n",
      "[1] \"23days - Res: 0.6 - Dim: 20\"\n",
      "[1] \"Running PCA and clustering for time point: 23days\"\n",
      "[1] \"- Resolution: 0.6\"\n",
      "[1] \"- Dimensions: 20\"\n",
      "[1] \"Making UMAP\"\n",
      "23days - Res: 0.6 - Dim: 20: 29.156 sec elapsed\n",
      "[1] \"22 of 320\"\n",
      "[1] \"23days - Res: 0.6 - Dim: 30\"\n",
      "[1] \"Running PCA and clustering for time point: 23days\"\n",
      "[1] \"- Resolution: 0.6\"\n",
      "[1] \"- Dimensions: 30\"\n",
      "[1] \"Making UMAP\"\n",
      "23days - Res: 0.6 - Dim: 30: 30.49 sec elapsed\n",
      "[1] \"23 of 320\"\n",
      "[1] \"23days - Res: 0.6 - Dim: 40\"\n",
      "[1] \"Running PCA and clustering for time point: 23days\"\n",
      "[1] \"- Resolution: 0.6\"\n",
      "[1] \"- Dimensions: 40\"\n",
      "[1] \"Making UMAP\"\n",
      "23days - Res: 0.6 - Dim: 40: 31.513 sec elapsed\n",
      "[1] \"24 of 320\"\n",
      "[1] \"23days - Res: 0.6 - Dim: 50\"\n",
      "[1] \"Running PCA and clustering for time point: 23days\"\n",
      "[1] \"- Resolution: 0.6\"\n",
      "[1] \"- Dimensions: 50\"\n",
      "[1] \"Making UMAP\"\n",
      "23days - Res: 0.6 - Dim: 50: 32.355 sec elapsed\n",
      "[1] \"25 of 320\"\n",
      "[1] \"23days - Res: 0.7 - Dim: 20\"\n",
      "[1] \"Running PCA and clustering for time point: 23days\"\n",
      "[1] \"- Resolution: 0.7\"\n",
      "[1] \"- Dimensions: 20\"\n",
      "[1] \"Making UMAP\"\n",
      "23days - Res: 0.7 - Dim: 20: 29.684 sec elapsed\n",
      "[1] \"26 of 320\"\n",
      "[1] \"23days - Res: 0.7 - Dim: 30\"\n",
      "[1] \"Running PCA and clustering for time point: 23days\"\n",
      "[1] \"- Resolution: 0.7\"\n",
      "[1] \"- Dimensions: 30\"\n",
      "[1] \"Making UMAP\"\n",
      "23days - Res: 0.7 - Dim: 30: 30.29 sec elapsed\n",
      "[1] \"27 of 320\"\n",
      "[1] \"23days - Res: 0.7 - Dim: 40\"\n",
      "[1] \"Running PCA and clustering for time point: 23days\"\n",
      "[1] \"- Resolution: 0.7\"\n",
      "[1] \"- Dimensions: 40\"\n",
      "[1] \"Making UMAP\"\n",
      "23days - Res: 0.7 - Dim: 40: 32.059 sec elapsed\n",
      "[1] \"28 of 320\"\n",
      "[1] \"23days - Res: 0.7 - Dim: 50\"\n",
      "[1] \"Running PCA and clustering for time point: 23days\"\n",
      "[1] \"- Resolution: 0.7\"\n",
      "[1] \"- Dimensions: 50\"\n",
      "[1] \"Making UMAP\"\n",
      "23days - Res: 0.7 - Dim: 50: 33.107 sec elapsed\n",
      "[1] \"29 of 320\"\n",
      "[1] \"23days - Res: 0.8 - Dim: 20\"\n",
      "[1] \"Running PCA and clustering for time point: 23days\"\n",
      "[1] \"- Resolution: 0.8\"\n",
      "[1] \"- Dimensions: 20\"\n",
      "[1] \"Making UMAP\"\n",
      "23days - Res: 0.8 - Dim: 20: 29.855 sec elapsed\n",
      "[1] \"30 of 320\"\n",
      "[1] \"23days - Res: 0.8 - Dim: 30\"\n",
      "[1] \"Running PCA and clustering for time point: 23days\"\n",
      "[1] \"- Resolution: 0.8\"\n",
      "[1] \"- Dimensions: 30\"\n",
      "[1] \"Making UMAP\"\n",
      "23days - Res: 0.8 - Dim: 30: 30.271 sec elapsed\n",
      "[1] \"31 of 320\"\n",
      "[1] \"23days - Res: 0.8 - Dim: 40\"\n",
      "[1] \"Running PCA and clustering for time point: 23days\"\n",
      "[1] \"- Resolution: 0.8\"\n",
      "[1] \"- Dimensions: 40\"\n",
      "[1] \"Making UMAP\"\n",
      "23days - Res: 0.8 - Dim: 40: 32.041 sec elapsed\n",
      "[1] \"32 of 320\"\n",
      "[1] \"23days - Res: 0.8 - Dim: 50\"\n",
      "[1] \"Running PCA and clustering for time point: 23days\"\n",
      "[1] \"- Resolution: 0.8\"\n",
      "[1] \"- Dimensions: 50\"\n",
      "[1] \"Making UMAP\"\n",
      "23days - Res: 0.8 - Dim: 50: 32.686 sec elapsed\n",
      "[1] \"33 of 320\"\n",
      "[1] \"23days - Res: 0.9 - Dim: 20\"\n",
      "[1] \"Running PCA and clustering for time point: 23days\"\n",
      "[1] \"- Resolution: 0.9\"\n",
      "[1] \"- Dimensions: 20\"\n",
      "[1] \"Making UMAP\"\n",
      "23days - Res: 0.9 - Dim: 20: 29.338 sec elapsed\n",
      "[1] \"34 of 320\"\n",
      "[1] \"23days - Res: 0.9 - Dim: 30\"\n",
      "[1] \"Running PCA and clustering for time point: 23days\"\n",
      "[1] \"- Resolution: 0.9\"\n",
      "[1] \"- Dimensions: 30\"\n",
      "[1] \"Making UMAP\"\n",
      "23days - Res: 0.9 - Dim: 30: 30.319 sec elapsed\n",
      "[1] \"35 of 320\"\n",
      "[1] \"23days - Res: 0.9 - Dim: 40\"\n",
      "[1] \"Running PCA and clustering for time point: 23days\"\n",
      "[1] \"- Resolution: 0.9\"\n",
      "[1] \"- Dimensions: 40\"\n",
      "[1] \"Making UMAP\"\n",
      "23days - Res: 0.9 - Dim: 40: 31.022 sec elapsed\n",
      "[1] \"36 of 320\"\n",
      "[1] \"23days - Res: 0.9 - Dim: 50\"\n",
      "[1] \"Running PCA and clustering for time point: 23days\"\n",
      "[1] \"- Resolution: 0.9\"\n",
      "[1] \"- Dimensions: 50\"\n",
      "[1] \"Making UMAP\"\n",
      "23days - Res: 0.9 - Dim: 50: 32.306 sec elapsed\n",
      "[1] \"37 of 320\"\n",
      "[1] \"23days - Res: 1 - Dim: 20\"\n",
      "[1] \"Running PCA and clustering for time point: 23days\"\n",
      "[1] \"- Resolution: 1\"\n",
      "[1] \"- Dimensions: 20\"\n",
      "[1] \"Making UMAP\"\n",
      "23days - Res: 1 - Dim: 20: 29.541 sec elapsed\n",
      "[1] \"38 of 320\"\n",
      "[1] \"23days - Res: 1 - Dim: 30\"\n",
      "[1] \"Running PCA and clustering for time point: 23days\"\n",
      "[1] \"- Resolution: 1\"\n",
      "[1] \"- Dimensions: 30\"\n",
      "[1] \"Making UMAP\"\n",
      "23days - Res: 1 - Dim: 30: 30.179 sec elapsed\n",
      "[1] \"39 of 320\"\n",
      "[1] \"23days - Res: 1 - Dim: 40\"\n",
      "[1] \"Running PCA and clustering for time point: 23days\"\n",
      "[1] \"- Resolution: 1\"\n",
      "[1] \"- Dimensions: 40\"\n",
      "[1] \"Making UMAP\"\n",
      "23days - Res: 1 - Dim: 40: 31.533 sec elapsed\n",
      "[1] \"40 of 320\"\n",
      "[1] \"23days - Res: 1 - Dim: 50\"\n",
      "[1] \"Running PCA and clustering for time point: 23days\"\n",
      "[1] \"- Resolution: 1\"\n",
      "[1] \"- Dimensions: 50\"\n",
      "[1] \"Making UMAP\"\n",
      "23days - Res: 1 - Dim: 50: 32.952 sec elapsed\n",
      "[1] \"Loading data for time point: 1month\"\n"
     ]
    },
    {
     "name": "stderr",
     "output_type": "stream",
     "text": [
      "Warning message:\n",
      "“Input parameters result in NA values for initial cell identities. Setting all initial idents to the project name”\n"
     ]
    },
    {
     "name": "stdout",
     "output_type": "stream",
     "text": [
      "Loading 1month: 67.773 sec elapsed\n",
      "[1] \"41 of 320\"\n",
      "[1] \"1month - Res: 0.1 - Dim: 20\"\n",
      "[1] \"Running PCA and clustering for time point: 1month\"\n",
      "[1] \"- Resolution: 0.1\"\n",
      "[1] \"- Dimensions: 20\"\n",
      "[1] \"Making UMAP\"\n",
      "1month - Res: 0.1 - Dim: 20: 81.035 sec elapsed\n",
      "[1] \"42 of 320\"\n",
      "[1] \"1month - Res: 0.1 - Dim: 30\"\n",
      "[1] \"Running PCA and clustering for time point: 1month\"\n",
      "[1] \"- Resolution: 0.1\"\n",
      "[1] \"- Dimensions: 30\"\n",
      "[1] \"Making UMAP\"\n",
      "1month - Res: 0.1 - Dim: 30: 79.011 sec elapsed\n",
      "[1] \"43 of 320\"\n",
      "[1] \"1month - Res: 0.1 - Dim: 40\"\n",
      "[1] \"Running PCA and clustering for time point: 1month\"\n",
      "[1] \"- Resolution: 0.1\"\n",
      "[1] \"- Dimensions: 40\"\n",
      "[1] \"Making UMAP\"\n",
      "1month - Res: 0.1 - Dim: 40: 83.293 sec elapsed\n",
      "[1] \"44 of 320\"\n",
      "[1] \"1month - Res: 0.1 - Dim: 50\"\n",
      "[1] \"Running PCA and clustering for time point: 1month\"\n",
      "[1] \"- Resolution: 0.1\"\n",
      "[1] \"- Dimensions: 50\"\n",
      "[1] \"Making UMAP\"\n",
      "1month - Res: 0.1 - Dim: 50: 83.975 sec elapsed\n",
      "[1] \"45 of 320\"\n",
      "[1] \"1month - Res: 0.2 - Dim: 20\"\n",
      "[1] \"Running PCA and clustering for time point: 1month\"\n",
      "[1] \"- Resolution: 0.2\"\n",
      "[1] \"- Dimensions: 20\"\n",
      "[1] \"Making UMAP\"\n",
      "1month - Res: 0.2 - Dim: 20: 80.587 sec elapsed\n",
      "[1] \"46 of 320\"\n",
      "[1] \"1month - Res: 0.2 - Dim: 30\"\n",
      "[1] \"Running PCA and clustering for time point: 1month\"\n",
      "[1] \"- Resolution: 0.2\"\n",
      "[1] \"- Dimensions: 30\"\n",
      "[1] \"Making UMAP\"\n",
      "1month - Res: 0.2 - Dim: 30: 78.791 sec elapsed\n",
      "[1] \"47 of 320\"\n",
      "[1] \"1month - Res: 0.2 - Dim: 40\"\n",
      "[1] \"Running PCA and clustering for time point: 1month\"\n",
      "[1] \"- Resolution: 0.2\"\n",
      "[1] \"- Dimensions: 40\"\n",
      "[1] \"Making UMAP\"\n",
      "1month - Res: 0.2 - Dim: 40: 82.291 sec elapsed\n",
      "[1] \"48 of 320\"\n",
      "[1] \"1month - Res: 0.2 - Dim: 50\"\n",
      "[1] \"Running PCA and clustering for time point: 1month\"\n",
      "[1] \"- Resolution: 0.2\"\n",
      "[1] \"- Dimensions: 50\"\n",
      "[1] \"Making UMAP\"\n",
      "1month - Res: 0.2 - Dim: 50: 84.218 sec elapsed\n",
      "[1] \"49 of 320\"\n",
      "[1] \"1month - Res: 0.3 - Dim: 20\"\n",
      "[1] \"Running PCA and clustering for time point: 1month\"\n",
      "[1] \"- Resolution: 0.3\"\n",
      "[1] \"- Dimensions: 20\"\n",
      "[1] \"Making UMAP\"\n",
      "1month - Res: 0.3 - Dim: 20: 83.274 sec elapsed\n",
      "[1] \"50 of 320\"\n",
      "[1] \"1month - Res: 0.3 - Dim: 30\"\n",
      "[1] \"Running PCA and clustering for time point: 1month\"\n",
      "[1] \"- Resolution: 0.3\"\n",
      "[1] \"- Dimensions: 30\"\n",
      "[1] \"Making UMAP\"\n",
      "1month - Res: 0.3 - Dim: 30: 77.846 sec elapsed\n",
      "[1] \"51 of 320\"\n",
      "[1] \"1month - Res: 0.3 - Dim: 40\"\n",
      "[1] \"Running PCA and clustering for time point: 1month\"\n",
      "[1] \"- Resolution: 0.3\"\n",
      "[1] \"- Dimensions: 40\"\n",
      "[1] \"Making UMAP\"\n",
      "1month - Res: 0.3 - Dim: 40: 81.695 sec elapsed\n",
      "[1] \"52 of 320\"\n",
      "[1] \"1month - Res: 0.3 - Dim: 50\"\n",
      "[1] \"Running PCA and clustering for time point: 1month\"\n",
      "[1] \"- Resolution: 0.3\"\n",
      "[1] \"- Dimensions: 50\"\n",
      "[1] \"Making UMAP\"\n",
      "1month - Res: 0.3 - Dim: 50: 83.286 sec elapsed\n",
      "[1] \"53 of 320\"\n",
      "[1] \"1month - Res: 0.4 - Dim: 20\"\n",
      "[1] \"Running PCA and clustering for time point: 1month\"\n",
      "[1] \"- Resolution: 0.4\"\n",
      "[1] \"- Dimensions: 20\"\n",
      "[1] \"Making UMAP\"\n",
      "1month - Res: 0.4 - Dim: 20: 81.367 sec elapsed\n",
      "[1] \"54 of 320\"\n",
      "[1] \"1month - Res: 0.4 - Dim: 30\"\n",
      "[1] \"Running PCA and clustering for time point: 1month\"\n",
      "[1] \"- Resolution: 0.4\"\n",
      "[1] \"- Dimensions: 30\"\n",
      "[1] \"Making UMAP\"\n",
      "1month - Res: 0.4 - Dim: 30: 78.872 sec elapsed\n",
      "[1] \"55 of 320\"\n",
      "[1] \"1month - Res: 0.4 - Dim: 40\"\n",
      "[1] \"Running PCA and clustering for time point: 1month\"\n",
      "[1] \"- Resolution: 0.4\"\n",
      "[1] \"- Dimensions: 40\"\n",
      "[1] \"Making UMAP\"\n",
      "1month - Res: 0.4 - Dim: 40: 82.104 sec elapsed\n",
      "[1] \"56 of 320\"\n",
      "[1] \"1month - Res: 0.4 - Dim: 50\"\n",
      "[1] \"Running PCA and clustering for time point: 1month\"\n",
      "[1] \"- Resolution: 0.4\"\n",
      "[1] \"- Dimensions: 50\"\n",
      "[1] \"Making UMAP\"\n",
      "1month - Res: 0.4 - Dim: 50: 82.27 sec elapsed\n",
      "[1] \"57 of 320\"\n",
      "[1] \"1month - Res: 0.5 - Dim: 20\"\n",
      "[1] \"Running PCA and clustering for time point: 1month\"\n",
      "[1] \"- Resolution: 0.5\"\n",
      "[1] \"- Dimensions: 20\"\n",
      "[1] \"Making UMAP\"\n",
      "1month - Res: 0.5 - Dim: 20: 80.514 sec elapsed\n",
      "[1] \"58 of 320\"\n",
      "[1] \"1month - Res: 0.5 - Dim: 30\"\n",
      "[1] \"Running PCA and clustering for time point: 1month\"\n",
      "[1] \"- Resolution: 0.5\"\n",
      "[1] \"- Dimensions: 30\"\n",
      "[1] \"Making UMAP\"\n",
      "1month - Res: 0.5 - Dim: 30: 79.514 sec elapsed\n",
      "[1] \"59 of 320\"\n",
      "[1] \"1month - Res: 0.5 - Dim: 40\"\n",
      "[1] \"Running PCA and clustering for time point: 1month\"\n",
      "[1] \"- Resolution: 0.5\"\n",
      "[1] \"- Dimensions: 40\"\n",
      "[1] \"Making UMAP\"\n",
      "1month - Res: 0.5 - Dim: 40: 83.36 sec elapsed\n",
      "[1] \"60 of 320\"\n",
      "[1] \"1month - Res: 0.5 - Dim: 50\"\n",
      "[1] \"Running PCA and clustering for time point: 1month\"\n",
      "[1] \"- Resolution: 0.5\"\n",
      "[1] \"- Dimensions: 50\"\n",
      "[1] \"Making UMAP\"\n",
      "1month - Res: 0.5 - Dim: 50: 84.138 sec elapsed\n",
      "[1] \"61 of 320\"\n",
      "[1] \"1month - Res: 0.6 - Dim: 20\"\n",
      "[1] \"Running PCA and clustering for time point: 1month\"\n",
      "[1] \"- Resolution: 0.6\"\n",
      "[1] \"- Dimensions: 20\"\n",
      "[1] \"Making UMAP\"\n",
      "1month - Res: 0.6 - Dim: 20: 81.764 sec elapsed\n",
      "[1] \"62 of 320\"\n",
      "[1] \"1month - Res: 0.6 - Dim: 30\"\n",
      "[1] \"Running PCA and clustering for time point: 1month\"\n",
      "[1] \"- Resolution: 0.6\"\n",
      "[1] \"- Dimensions: 30\"\n",
      "[1] \"Making UMAP\"\n",
      "1month - Res: 0.6 - Dim: 30: 78.955 sec elapsed\n",
      "[1] \"63 of 320\"\n",
      "[1] \"1month - Res: 0.6 - Dim: 40\"\n",
      "[1] \"Running PCA and clustering for time point: 1month\"\n",
      "[1] \"- Resolution: 0.6\"\n",
      "[1] \"- Dimensions: 40\"\n",
      "[1] \"Making UMAP\"\n",
      "1month - Res: 0.6 - Dim: 40: 83.289 sec elapsed\n",
      "[1] \"64 of 320\"\n",
      "[1] \"1month - Res: 0.6 - Dim: 50\"\n",
      "[1] \"Running PCA and clustering for time point: 1month\"\n",
      "[1] \"- Resolution: 0.6\"\n",
      "[1] \"- Dimensions: 50\"\n",
      "[1] \"Making UMAP\"\n",
      "1month - Res: 0.6 - Dim: 50: 85.2 sec elapsed\n",
      "[1] \"65 of 320\"\n",
      "[1] \"1month - Res: 0.7 - Dim: 20\"\n",
      "[1] \"Running PCA and clustering for time point: 1month\"\n",
      "[1] \"- Resolution: 0.7\"\n",
      "[1] \"- Dimensions: 20\"\n",
      "[1] \"Making UMAP\"\n",
      "1month - Res: 0.7 - Dim: 20: 80.975 sec elapsed\n",
      "[1] \"66 of 320\"\n",
      "[1] \"1month - Res: 0.7 - Dim: 30\"\n",
      "[1] \"Running PCA and clustering for time point: 1month\"\n",
      "[1] \"- Resolution: 0.7\"\n",
      "[1] \"- Dimensions: 30\"\n",
      "[1] \"Making UMAP\"\n",
      "1month - Res: 0.7 - Dim: 30: 79.731 sec elapsed\n",
      "[1] \"67 of 320\"\n",
      "[1] \"1month - Res: 0.7 - Dim: 40\"\n",
      "[1] \"Running PCA and clustering for time point: 1month\"\n",
      "[1] \"- Resolution: 0.7\"\n",
      "[1] \"- Dimensions: 40\"\n",
      "[1] \"Making UMAP\"\n",
      "1month - Res: 0.7 - Dim: 40: 82.532 sec elapsed\n",
      "[1] \"68 of 320\"\n",
      "[1] \"1month - Res: 0.7 - Dim: 50\"\n",
      "[1] \"Running PCA and clustering for time point: 1month\"\n",
      "[1] \"- Resolution: 0.7\"\n",
      "[1] \"- Dimensions: 50\"\n",
      "[1] \"Making UMAP\"\n",
      "1month - Res: 0.7 - Dim: 50: 83.732 sec elapsed\n",
      "[1] \"69 of 320\"\n",
      "[1] \"1month - Res: 0.8 - Dim: 20\"\n",
      "[1] \"Running PCA and clustering for time point: 1month\"\n",
      "[1] \"- Resolution: 0.8\"\n",
      "[1] \"- Dimensions: 20\"\n",
      "[1] \"Making UMAP\"\n",
      "1month - Res: 0.8 - Dim: 20: 80.106 sec elapsed\n",
      "[1] \"70 of 320\"\n",
      "[1] \"1month - Res: 0.8 - Dim: 30\"\n",
      "[1] \"Running PCA and clustering for time point: 1month\"\n",
      "[1] \"- Resolution: 0.8\"\n",
      "[1] \"- Dimensions: 30\"\n",
      "[1] \"Making UMAP\"\n",
      "1month - Res: 0.8 - Dim: 30: 77.294 sec elapsed\n",
      "[1] \"71 of 320\"\n",
      "[1] \"1month - Res: 0.8 - Dim: 40\"\n",
      "[1] \"Running PCA and clustering for time point: 1month\"\n",
      "[1] \"- Resolution: 0.8\"\n",
      "[1] \"- Dimensions: 40\"\n",
      "[1] \"Making UMAP\"\n",
      "1month - Res: 0.8 - Dim: 40: 82.52 sec elapsed\n",
      "[1] \"72 of 320\"\n",
      "[1] \"1month - Res: 0.8 - Dim: 50\"\n",
      "[1] \"Running PCA and clustering for time point: 1month\"\n",
      "[1] \"- Resolution: 0.8\"\n",
      "[1] \"- Dimensions: 50\"\n",
      "[1] \"Making UMAP\"\n",
      "1month - Res: 0.8 - Dim: 50: 86.064 sec elapsed\n",
      "[1] \"73 of 320\"\n",
      "[1] \"1month - Res: 0.9 - Dim: 20\"\n",
      "[1] \"Running PCA and clustering for time point: 1month\"\n",
      "[1] \"- Resolution: 0.9\"\n",
      "[1] \"- Dimensions: 20\"\n",
      "[1] \"Making UMAP\"\n",
      "1month - Res: 0.9 - Dim: 20: 80.972 sec elapsed\n",
      "[1] \"74 of 320\"\n",
      "[1] \"1month - Res: 0.9 - Dim: 30\"\n",
      "[1] \"Running PCA and clustering for time point: 1month\"\n",
      "[1] \"- Resolution: 0.9\"\n",
      "[1] \"- Dimensions: 30\"\n",
      "[1] \"Making UMAP\"\n",
      "1month - Res: 0.9 - Dim: 30: 77.602 sec elapsed\n",
      "[1] \"75 of 320\"\n",
      "[1] \"1month - Res: 0.9 - Dim: 40\"\n",
      "[1] \"Running PCA and clustering for time point: 1month\"\n",
      "[1] \"- Resolution: 0.9\"\n",
      "[1] \"- Dimensions: 40\"\n",
      "[1] \"Making UMAP\"\n",
      "1month - Res: 0.9 - Dim: 40: 83.286 sec elapsed\n",
      "[1] \"76 of 320\"\n",
      "[1] \"1month - Res: 0.9 - Dim: 50\"\n",
      "[1] \"Running PCA and clustering for time point: 1month\"\n",
      "[1] \"- Resolution: 0.9\"\n",
      "[1] \"- Dimensions: 50\"\n",
      "[1] \"Making UMAP\"\n",
      "1month - Res: 0.9 - Dim: 50: 86.195 sec elapsed\n",
      "[1] \"77 of 320\"\n",
      "[1] \"1month - Res: 1 - Dim: 20\"\n",
      "[1] \"Running PCA and clustering for time point: 1month\"\n",
      "[1] \"- Resolution: 1\"\n",
      "[1] \"- Dimensions: 20\"\n",
      "[1] \"Making UMAP\"\n",
      "1month - Res: 1 - Dim: 20: 80.305 sec elapsed\n",
      "[1] \"78 of 320\"\n",
      "[1] \"1month - Res: 1 - Dim: 30\"\n",
      "[1] \"Running PCA and clustering for time point: 1month\"\n",
      "[1] \"- Resolution: 1\"\n",
      "[1] \"- Dimensions: 30\"\n",
      "[1] \"Making UMAP\"\n",
      "1month - Res: 1 - Dim: 30: 77.349 sec elapsed\n",
      "[1] \"79 of 320\"\n",
      "[1] \"1month - Res: 1 - Dim: 40\"\n",
      "[1] \"Running PCA and clustering for time point: 1month\"\n",
      "[1] \"- Resolution: 1\"\n",
      "[1] \"- Dimensions: 40\"\n",
      "[1] \"Making UMAP\"\n",
      "1month - Res: 1 - Dim: 40: 83.107 sec elapsed\n",
      "[1] \"80 of 320\"\n",
      "[1] \"1month - Res: 1 - Dim: 50\"\n",
      "[1] \"Running PCA and clustering for time point: 1month\"\n",
      "[1] \"- Resolution: 1\"\n",
      "[1] \"- Dimensions: 50\"\n",
      "[1] \"Making UMAP\"\n",
      "1month - Res: 1 - Dim: 50: 84.865 sec elapsed\n",
      "[1] \"Loading data for time point: 1.5month\"\n",
      "Loading 1.5month: 24.552 sec elapsed\n",
      "[1] \"81 of 320\"\n",
      "[1] \"1.5month - Res: 0.1 - Dim: 20\"\n",
      "[1] \"Running PCA and clustering for time point: 1.5month\"\n",
      "[1] \"- Resolution: 0.1\"\n",
      "[1] \"- Dimensions: 20\"\n",
      "[1] \"Making UMAP\"\n",
      "1.5month - Res: 0.1 - Dim: 20: 39.963 sec elapsed\n",
      "[1] \"82 of 320\"\n",
      "[1] \"1.5month - Res: 0.1 - Dim: 30\"\n",
      "[1] \"Running PCA and clustering for time point: 1.5month\"\n",
      "[1] \"- Resolution: 0.1\"\n",
      "[1] \"- Dimensions: 30\"\n",
      "[1] \"Making UMAP\"\n",
      "1.5month - Res: 0.1 - Dim: 30: 41.375 sec elapsed\n",
      "[1] \"83 of 320\"\n",
      "[1] \"1.5month - Res: 0.1 - Dim: 40\"\n",
      "[1] \"Running PCA and clustering for time point: 1.5month\"\n",
      "[1] \"- Resolution: 0.1\"\n",
      "[1] \"- Dimensions: 40\"\n",
      "[1] \"Making UMAP\"\n",
      "1.5month - Res: 0.1 - Dim: 40: 43.709 sec elapsed\n",
      "[1] \"84 of 320\"\n",
      "[1] \"1.5month - Res: 0.1 - Dim: 50\"\n",
      "[1] \"Running PCA and clustering for time point: 1.5month\"\n",
      "[1] \"- Resolution: 0.1\"\n",
      "[1] \"- Dimensions: 50\"\n",
      "[1] \"Making UMAP\"\n",
      "1.5month - Res: 0.1 - Dim: 50: 44.413 sec elapsed\n",
      "[1] \"85 of 320\"\n",
      "[1] \"1.5month - Res: 0.2 - Dim: 20\"\n",
      "[1] \"Running PCA and clustering for time point: 1.5month\"\n",
      "[1] \"- Resolution: 0.2\"\n",
      "[1] \"- Dimensions: 20\"\n",
      "[1] \"Making UMAP\"\n",
      "1.5month - Res: 0.2 - Dim: 20: 39.527 sec elapsed\n",
      "[1] \"86 of 320\"\n",
      "[1] \"1.5month - Res: 0.2 - Dim: 30\"\n",
      "[1] \"Running PCA and clustering for time point: 1.5month\"\n",
      "[1] \"- Resolution: 0.2\"\n",
      "[1] \"- Dimensions: 30\"\n",
      "[1] \"Making UMAP\"\n",
      "1.5month - Res: 0.2 - Dim: 30: 40.548 sec elapsed\n",
      "[1] \"87 of 320\"\n",
      "[1] \"1.5month - Res: 0.2 - Dim: 40\"\n",
      "[1] \"Running PCA and clustering for time point: 1.5month\"\n",
      "[1] \"- Resolution: 0.2\"\n",
      "[1] \"- Dimensions: 40\"\n",
      "[1] \"Making UMAP\"\n",
      "1.5month - Res: 0.2 - Dim: 40: 43.55 sec elapsed\n",
      "[1] \"88 of 320\"\n",
      "[1] \"1.5month - Res: 0.2 - Dim: 50\"\n",
      "[1] \"Running PCA and clustering for time point: 1.5month\"\n",
      "[1] \"- Resolution: 0.2\"\n",
      "[1] \"- Dimensions: 50\"\n",
      "[1] \"Making UMAP\"\n",
      "1.5month - Res: 0.2 - Dim: 50: 45.056 sec elapsed\n",
      "[1] \"89 of 320\"\n",
      "[1] \"1.5month - Res: 0.3 - Dim: 20\"\n",
      "[1] \"Running PCA and clustering for time point: 1.5month\"\n",
      "[1] \"- Resolution: 0.3\"\n",
      "[1] \"- Dimensions: 20\"\n",
      "[1] \"Making UMAP\"\n",
      "1.5month - Res: 0.3 - Dim: 20: 40.007 sec elapsed\n",
      "[1] \"90 of 320\"\n",
      "[1] \"1.5month - Res: 0.3 - Dim: 30\"\n",
      "[1] \"Running PCA and clustering for time point: 1.5month\"\n",
      "[1] \"- Resolution: 0.3\"\n",
      "[1] \"- Dimensions: 30\"\n",
      "[1] \"Making UMAP\"\n",
      "1.5month - Res: 0.3 - Dim: 30: 41.858 sec elapsed\n",
      "[1] \"91 of 320\"\n",
      "[1] \"1.5month - Res: 0.3 - Dim: 40\"\n",
      "[1] \"Running PCA and clustering for time point: 1.5month\"\n",
      "[1] \"- Resolution: 0.3\"\n",
      "[1] \"- Dimensions: 40\"\n",
      "[1] \"Making UMAP\"\n",
      "1.5month - Res: 0.3 - Dim: 40: 43.419 sec elapsed\n",
      "[1] \"92 of 320\"\n",
      "[1] \"1.5month - Res: 0.3 - Dim: 50\"\n",
      "[1] \"Running PCA and clustering for time point: 1.5month\"\n",
      "[1] \"- Resolution: 0.3\"\n",
      "[1] \"- Dimensions: 50\"\n",
      "[1] \"Making UMAP\"\n",
      "1.5month - Res: 0.3 - Dim: 50: 45.084 sec elapsed\n",
      "[1] \"93 of 320\"\n",
      "[1] \"1.5month - Res: 0.4 - Dim: 20\"\n",
      "[1] \"Running PCA and clustering for time point: 1.5month\"\n",
      "[1] \"- Resolution: 0.4\"\n",
      "[1] \"- Dimensions: 20\"\n",
      "[1] \"Making UMAP\"\n",
      "1.5month - Res: 0.4 - Dim: 20: 39.584 sec elapsed\n",
      "[1] \"94 of 320\"\n",
      "[1] \"1.5month - Res: 0.4 - Dim: 30\"\n",
      "[1] \"Running PCA and clustering for time point: 1.5month\"\n",
      "[1] \"- Resolution: 0.4\"\n",
      "[1] \"- Dimensions: 30\"\n",
      "[1] \"Making UMAP\"\n",
      "1.5month - Res: 0.4 - Dim: 30: 41.499 sec elapsed\n",
      "[1] \"95 of 320\"\n",
      "[1] \"1.5month - Res: 0.4 - Dim: 40\"\n",
      "[1] \"Running PCA and clustering for time point: 1.5month\"\n",
      "[1] \"- Resolution: 0.4\"\n",
      "[1] \"- Dimensions: 40\"\n",
      "[1] \"Making UMAP\"\n",
      "1.5month - Res: 0.4 - Dim: 40: 42.949 sec elapsed\n",
      "[1] \"96 of 320\"\n",
      "[1] \"1.5month - Res: 0.4 - Dim: 50\"\n",
      "[1] \"Running PCA and clustering for time point: 1.5month\"\n",
      "[1] \"- Resolution: 0.4\"\n",
      "[1] \"- Dimensions: 50\"\n",
      "[1] \"Making UMAP\"\n",
      "1.5month - Res: 0.4 - Dim: 50: 45.353 sec elapsed\n",
      "[1] \"97 of 320\"\n",
      "[1] \"1.5month - Res: 0.5 - Dim: 20\"\n",
      "[1] \"Running PCA and clustering for time point: 1.5month\"\n",
      "[1] \"- Resolution: 0.5\"\n",
      "[1] \"- Dimensions: 20\"\n",
      "[1] \"Making UMAP\"\n",
      "1.5month - Res: 0.5 - Dim: 20: 39.028 sec elapsed\n",
      "[1] \"98 of 320\"\n",
      "[1] \"1.5month - Res: 0.5 - Dim: 30\"\n",
      "[1] \"Running PCA and clustering for time point: 1.5month\"\n",
      "[1] \"- Resolution: 0.5\"\n",
      "[1] \"- Dimensions: 30\"\n",
      "[1] \"Making UMAP\"\n",
      "1.5month - Res: 0.5 - Dim: 30: 40.056 sec elapsed\n",
      "[1] \"99 of 320\"\n",
      "[1] \"1.5month - Res: 0.5 - Dim: 40\"\n",
      "[1] \"Running PCA and clustering for time point: 1.5month\"\n",
      "[1] \"- Resolution: 0.5\"\n",
      "[1] \"- Dimensions: 40\"\n",
      "[1] \"Making UMAP\"\n",
      "1.5month - Res: 0.5 - Dim: 40: 44.039 sec elapsed\n",
      "[1] \"100 of 320\"\n",
      "[1] \"1.5month - Res: 0.5 - Dim: 50\"\n",
      "[1] \"Running PCA and clustering for time point: 1.5month\"\n",
      "[1] \"- Resolution: 0.5\"\n",
      "[1] \"- Dimensions: 50\"\n",
      "[1] \"Making UMAP\"\n",
      "1.5month - Res: 0.5 - Dim: 50: 45.261 sec elapsed\n",
      "[1] \"101 of 320\"\n",
      "[1] \"1.5month - Res: 0.6 - Dim: 20\"\n",
      "[1] \"Running PCA and clustering for time point: 1.5month\"\n",
      "[1] \"- Resolution: 0.6\"\n",
      "[1] \"- Dimensions: 20\"\n",
      "[1] \"Making UMAP\"\n",
      "1.5month - Res: 0.6 - Dim: 20: 39.39 sec elapsed\n",
      "[1] \"102 of 320\"\n",
      "[1] \"1.5month - Res: 0.6 - Dim: 30\"\n",
      "[1] \"Running PCA and clustering for time point: 1.5month\"\n",
      "[1] \"- Resolution: 0.6\"\n",
      "[1] \"- Dimensions: 30\"\n",
      "[1] \"Making UMAP\"\n",
      "1.5month - Res: 0.6 - Dim: 30: 40.742 sec elapsed\n",
      "[1] \"103 of 320\"\n",
      "[1] \"1.5month - Res: 0.6 - Dim: 40\"\n",
      "[1] \"Running PCA and clustering for time point: 1.5month\"\n",
      "[1] \"- Resolution: 0.6\"\n",
      "[1] \"- Dimensions: 40\"\n",
      "[1] \"Making UMAP\"\n",
      "1.5month - Res: 0.6 - Dim: 40: 43.016 sec elapsed\n",
      "[1] \"104 of 320\"\n",
      "[1] \"1.5month - Res: 0.6 - Dim: 50\"\n",
      "[1] \"Running PCA and clustering for time point: 1.5month\"\n",
      "[1] \"- Resolution: 0.6\"\n",
      "[1] \"- Dimensions: 50\"\n",
      "[1] \"Making UMAP\"\n",
      "1.5month - Res: 0.6 - Dim: 50: 45.301 sec elapsed\n",
      "[1] \"105 of 320\"\n",
      "[1] \"1.5month - Res: 0.7 - Dim: 20\"\n",
      "[1] \"Running PCA and clustering for time point: 1.5month\"\n",
      "[1] \"- Resolution: 0.7\"\n",
      "[1] \"- Dimensions: 20\"\n",
      "[1] \"Making UMAP\"\n",
      "1.5month - Res: 0.7 - Dim: 20: 39.814 sec elapsed\n",
      "[1] \"106 of 320\"\n",
      "[1] \"1.5month - Res: 0.7 - Dim: 30\"\n",
      "[1] \"Running PCA and clustering for time point: 1.5month\"\n",
      "[1] \"- Resolution: 0.7\"\n",
      "[1] \"- Dimensions: 30\"\n",
      "[1] \"Making UMAP\"\n",
      "1.5month - Res: 0.7 - Dim: 30: 41.098 sec elapsed\n",
      "[1] \"107 of 320\"\n",
      "[1] \"1.5month - Res: 0.7 - Dim: 40\"\n",
      "[1] \"Running PCA and clustering for time point: 1.5month\"\n",
      "[1] \"- Resolution: 0.7\"\n",
      "[1] \"- Dimensions: 40\"\n",
      "[1] \"Making UMAP\"\n",
      "1.5month - Res: 0.7 - Dim: 40: 43.211 sec elapsed\n",
      "[1] \"108 of 320\"\n",
      "[1] \"1.5month - Res: 0.7 - Dim: 50\"\n",
      "[1] \"Running PCA and clustering for time point: 1.5month\"\n",
      "[1] \"- Resolution: 0.7\"\n",
      "[1] \"- Dimensions: 50\"\n",
      "[1] \"Making UMAP\"\n",
      "1.5month - Res: 0.7 - Dim: 50: 45.868 sec elapsed\n",
      "[1] \"109 of 320\"\n",
      "[1] \"1.5month - Res: 0.8 - Dim: 20\"\n",
      "[1] \"Running PCA and clustering for time point: 1.5month\"\n",
      "[1] \"- Resolution: 0.8\"\n",
      "[1] \"- Dimensions: 20\"\n",
      "[1] \"Making UMAP\"\n",
      "1.5month - Res: 0.8 - Dim: 20: 39.184 sec elapsed\n",
      "[1] \"110 of 320\"\n",
      "[1] \"1.5month - Res: 0.8 - Dim: 30\"\n",
      "[1] \"Running PCA and clustering for time point: 1.5month\"\n",
      "[1] \"- Resolution: 0.8\"\n",
      "[1] \"- Dimensions: 30\"\n",
      "[1] \"Making UMAP\"\n",
      "1.5month - Res: 0.8 - Dim: 30: 40.873 sec elapsed\n",
      "[1] \"111 of 320\"\n",
      "[1] \"1.5month - Res: 0.8 - Dim: 40\"\n",
      "[1] \"Running PCA and clustering for time point: 1.5month\"\n",
      "[1] \"- Resolution: 0.8\"\n",
      "[1] \"- Dimensions: 40\"\n",
      "[1] \"Making UMAP\"\n",
      "1.5month - Res: 0.8 - Dim: 40: 43.179 sec elapsed\n",
      "[1] \"112 of 320\"\n",
      "[1] \"1.5month - Res: 0.8 - Dim: 50\"\n",
      "[1] \"Running PCA and clustering for time point: 1.5month\"\n",
      "[1] \"- Resolution: 0.8\"\n",
      "[1] \"- Dimensions: 50\"\n",
      "[1] \"Making UMAP\"\n",
      "1.5month - Res: 0.8 - Dim: 50: 45.347 sec elapsed\n",
      "[1] \"113 of 320\"\n",
      "[1] \"1.5month - Res: 0.9 - Dim: 20\"\n",
      "[1] \"Running PCA and clustering for time point: 1.5month\"\n",
      "[1] \"- Resolution: 0.9\"\n",
      "[1] \"- Dimensions: 20\"\n",
      "[1] \"Making UMAP\"\n",
      "1.5month - Res: 0.9 - Dim: 20: 38.935 sec elapsed\n",
      "[1] \"114 of 320\"\n",
      "[1] \"1.5month - Res: 0.9 - Dim: 30\"\n",
      "[1] \"Running PCA and clustering for time point: 1.5month\"\n",
      "[1] \"- Resolution: 0.9\"\n",
      "[1] \"- Dimensions: 30\"\n",
      "[1] \"Making UMAP\"\n",
      "1.5month - Res: 0.9 - Dim: 30: 39.59 sec elapsed\n",
      "[1] \"115 of 320\"\n",
      "[1] \"1.5month - Res: 0.9 - Dim: 40\"\n",
      "[1] \"Running PCA and clustering for time point: 1.5month\"\n",
      "[1] \"- Resolution: 0.9\"\n",
      "[1] \"- Dimensions: 40\"\n",
      "[1] \"Making UMAP\"\n",
      "1.5month - Res: 0.9 - Dim: 40: 42.672 sec elapsed\n",
      "[1] \"116 of 320\"\n",
      "[1] \"1.5month - Res: 0.9 - Dim: 50\"\n",
      "[1] \"Running PCA and clustering for time point: 1.5month\"\n",
      "[1] \"- Resolution: 0.9\"\n",
      "[1] \"- Dimensions: 50\"\n",
      "[1] \"Making UMAP\"\n",
      "1.5month - Res: 0.9 - Dim: 50: 45.789 sec elapsed\n",
      "[1] \"117 of 320\"\n",
      "[1] \"1.5month - Res: 1 - Dim: 20\"\n",
      "[1] \"Running PCA and clustering for time point: 1.5month\"\n",
      "[1] \"- Resolution: 1\"\n",
      "[1] \"- Dimensions: 20\"\n",
      "[1] \"Making UMAP\"\n",
      "1.5month - Res: 1 - Dim: 20: 40.157 sec elapsed\n",
      "[1] \"118 of 320\"\n",
      "[1] \"1.5month - Res: 1 - Dim: 30\"\n",
      "[1] \"Running PCA and clustering for time point: 1.5month\"\n",
      "[1] \"- Resolution: 1\"\n",
      "[1] \"- Dimensions: 30\"\n",
      "[1] \"Making UMAP\"\n",
      "1.5month - Res: 1 - Dim: 30: 39.679 sec elapsed\n",
      "[1] \"119 of 320\"\n",
      "[1] \"1.5month - Res: 1 - Dim: 40\"\n",
      "[1] \"Running PCA and clustering for time point: 1.5month\"\n",
      "[1] \"- Resolution: 1\"\n",
      "[1] \"- Dimensions: 40\"\n",
      "[1] \"Making UMAP\"\n",
      "1.5month - Res: 1 - Dim: 40: 42.854 sec elapsed\n",
      "[1] \"120 of 320\"\n",
      "[1] \"1.5month - Res: 1 - Dim: 50\"\n",
      "[1] \"Running PCA and clustering for time point: 1.5month\"\n",
      "[1] \"- Resolution: 1\"\n",
      "[1] \"- Dimensions: 50\"\n",
      "[1] \"Making UMAP\"\n",
      "1.5month - Res: 1 - Dim: 50: 45.675 sec elapsed\n",
      "[1] \"Loading data for time point: 2month\"\n",
      "Loading 2month: 28.683 sec elapsed\n",
      "[1] \"121 of 320\"\n",
      "[1] \"2month - Res: 0.1 - Dim: 20\"\n",
      "[1] \"Running PCA and clustering for time point: 2month\"\n",
      "[1] \"- Resolution: 0.1\"\n",
      "[1] \"- Dimensions: 20\"\n",
      "[1] \"Making UMAP\"\n",
      "2month - Res: 0.1 - Dim: 20: 38.762 sec elapsed\n",
      "[1] \"122 of 320\"\n",
      "[1] \"2month - Res: 0.1 - Dim: 30\"\n",
      "[1] \"Running PCA and clustering for time point: 2month\"\n",
      "[1] \"- Resolution: 0.1\"\n",
      "[1] \"- Dimensions: 30\"\n",
      "[1] \"Making UMAP\"\n",
      "2month - Res: 0.1 - Dim: 30: 39.747 sec elapsed\n",
      "[1] \"123 of 320\"\n",
      "[1] \"2month - Res: 0.1 - Dim: 40\"\n",
      "[1] \"Running PCA and clustering for time point: 2month\"\n",
      "[1] \"- Resolution: 0.1\"\n",
      "[1] \"- Dimensions: 40\"\n",
      "[1] \"Making UMAP\"\n",
      "2month - Res: 0.1 - Dim: 40: 41.463 sec elapsed\n",
      "[1] \"124 of 320\"\n",
      "[1] \"2month - Res: 0.1 - Dim: 50\"\n",
      "[1] \"Running PCA and clustering for time point: 2month\"\n",
      "[1] \"- Resolution: 0.1\"\n",
      "[1] \"- Dimensions: 50\"\n",
      "[1] \"Making UMAP\"\n",
      "2month - Res: 0.1 - Dim: 50: 44.911 sec elapsed\n",
      "[1] \"125 of 320\"\n",
      "[1] \"2month - Res: 0.2 - Dim: 20\"\n",
      "[1] \"Running PCA and clustering for time point: 2month\"\n",
      "[1] \"- Resolution: 0.2\"\n",
      "[1] \"- Dimensions: 20\"\n",
      "[1] \"Making UMAP\"\n",
      "2month - Res: 0.2 - Dim: 20: 38.693 sec elapsed\n",
      "[1] \"126 of 320\"\n",
      "[1] \"2month - Res: 0.2 - Dim: 30\"\n",
      "[1] \"Running PCA and clustering for time point: 2month\"\n",
      "[1] \"- Resolution: 0.2\"\n",
      "[1] \"- Dimensions: 30\"\n",
      "[1] \"Making UMAP\"\n",
      "2month - Res: 0.2 - Dim: 30: 38.921 sec elapsed\n",
      "[1] \"127 of 320\"\n",
      "[1] \"2month - Res: 0.2 - Dim: 40\"\n",
      "[1] \"Running PCA and clustering for time point: 2month\"\n",
      "[1] \"- Resolution: 0.2\"\n",
      "[1] \"- Dimensions: 40\"\n",
      "[1] \"Making UMAP\"\n",
      "2month - Res: 0.2 - Dim: 40: 41.837 sec elapsed\n",
      "[1] \"128 of 320\"\n",
      "[1] \"2month - Res: 0.2 - Dim: 50\"\n",
      "[1] \"Running PCA and clustering for time point: 2month\"\n",
      "[1] \"- Resolution: 0.2\"\n",
      "[1] \"- Dimensions: 50\"\n",
      "[1] \"Making UMAP\"\n",
      "2month - Res: 0.2 - Dim: 50: 45.088 sec elapsed\n",
      "[1] \"129 of 320\"\n",
      "[1] \"2month - Res: 0.3 - Dim: 20\"\n",
      "[1] \"Running PCA and clustering for time point: 2month\"\n",
      "[1] \"- Resolution: 0.3\"\n",
      "[1] \"- Dimensions: 20\"\n",
      "[1] \"Making UMAP\"\n",
      "2month - Res: 0.3 - Dim: 20: 38.639 sec elapsed\n",
      "[1] \"130 of 320\"\n",
      "[1] \"2month - Res: 0.3 - Dim: 30\"\n",
      "[1] \"Running PCA and clustering for time point: 2month\"\n",
      "[1] \"- Resolution: 0.3\"\n",
      "[1] \"- Dimensions: 30\"\n",
      "[1] \"Making UMAP\"\n",
      "2month - Res: 0.3 - Dim: 30: 39.735 sec elapsed\n",
      "[1] \"131 of 320\"\n",
      "[1] \"2month - Res: 0.3 - Dim: 40\"\n",
      "[1] \"Running PCA and clustering for time point: 2month\"\n",
      "[1] \"- Resolution: 0.3\"\n",
      "[1] \"- Dimensions: 40\"\n",
      "[1] \"Making UMAP\"\n",
      "2month - Res: 0.3 - Dim: 40: 42.82 sec elapsed\n",
      "[1] \"132 of 320\"\n",
      "[1] \"2month - Res: 0.3 - Dim: 50\"\n",
      "[1] \"Running PCA and clustering for time point: 2month\"\n",
      "[1] \"- Resolution: 0.3\"\n",
      "[1] \"- Dimensions: 50\"\n",
      "[1] \"Making UMAP\"\n",
      "2month - Res: 0.3 - Dim: 50: 44.74 sec elapsed\n",
      "[1] \"133 of 320\"\n",
      "[1] \"2month - Res: 0.4 - Dim: 20\"\n",
      "[1] \"Running PCA and clustering for time point: 2month\"\n",
      "[1] \"- Resolution: 0.4\"\n",
      "[1] \"- Dimensions: 20\"\n",
      "[1] \"Making UMAP\"\n",
      "2month - Res: 0.4 - Dim: 20: 39.124 sec elapsed\n",
      "[1] \"134 of 320\"\n",
      "[1] \"2month - Res: 0.4 - Dim: 30\"\n",
      "[1] \"Running PCA and clustering for time point: 2month\"\n",
      "[1] \"- Resolution: 0.4\"\n",
      "[1] \"- Dimensions: 30\"\n",
      "[1] \"Making UMAP\"\n",
      "2month - Res: 0.4 - Dim: 30: 39.903 sec elapsed\n",
      "[1] \"135 of 320\"\n",
      "[1] \"2month - Res: 0.4 - Dim: 40\"\n",
      "[1] \"Running PCA and clustering for time point: 2month\"\n",
      "[1] \"- Resolution: 0.4\"\n",
      "[1] \"- Dimensions: 40\"\n",
      "[1] \"Making UMAP\"\n",
      "2month - Res: 0.4 - Dim: 40: 41.841 sec elapsed\n",
      "[1] \"136 of 320\"\n",
      "[1] \"2month - Res: 0.4 - Dim: 50\"\n",
      "[1] \"Running PCA and clustering for time point: 2month\"\n",
      "[1] \"- Resolution: 0.4\"\n",
      "[1] \"- Dimensions: 50\"\n",
      "[1] \"Making UMAP\"\n",
      "2month - Res: 0.4 - Dim: 50: 45.827 sec elapsed\n",
      "[1] \"137 of 320\"\n",
      "[1] \"2month - Res: 0.5 - Dim: 20\"\n",
      "[1] \"Running PCA and clustering for time point: 2month\"\n",
      "[1] \"- Resolution: 0.5\"\n",
      "[1] \"- Dimensions: 20\"\n",
      "[1] \"Making UMAP\"\n",
      "2month - Res: 0.5 - Dim: 20: 39.836 sec elapsed\n",
      "[1] \"138 of 320\"\n",
      "[1] \"2month - Res: 0.5 - Dim: 30\"\n",
      "[1] \"Running PCA and clustering for time point: 2month\"\n",
      "[1] \"- Resolution: 0.5\"\n",
      "[1] \"- Dimensions: 30\"\n",
      "[1] \"Making UMAP\"\n",
      "2month - Res: 0.5 - Dim: 30: 39.332 sec elapsed\n",
      "[1] \"139 of 320\"\n",
      "[1] \"2month - Res: 0.5 - Dim: 40\"\n",
      "[1] \"Running PCA and clustering for time point: 2month\"\n",
      "[1] \"- Resolution: 0.5\"\n",
      "[1] \"- Dimensions: 40\"\n",
      "[1] \"Making UMAP\"\n",
      "2month - Res: 0.5 - Dim: 40: 42.129 sec elapsed\n",
      "[1] \"140 of 320\"\n",
      "[1] \"2month - Res: 0.5 - Dim: 50\"\n",
      "[1] \"Running PCA and clustering for time point: 2month\"\n",
      "[1] \"- Resolution: 0.5\"\n",
      "[1] \"- Dimensions: 50\"\n",
      "[1] \"Making UMAP\"\n",
      "2month - Res: 0.5 - Dim: 50: 44.74 sec elapsed\n",
      "[1] \"141 of 320\"\n",
      "[1] \"2month - Res: 0.6 - Dim: 20\"\n",
      "[1] \"Running PCA and clustering for time point: 2month\"\n",
      "[1] \"- Resolution: 0.6\"\n",
      "[1] \"- Dimensions: 20\"\n",
      "[1] \"Making UMAP\"\n",
      "2month - Res: 0.6 - Dim: 20: 39.047 sec elapsed\n",
      "[1] \"142 of 320\"\n",
      "[1] \"2month - Res: 0.6 - Dim: 30\"\n",
      "[1] \"Running PCA and clustering for time point: 2month\"\n",
      "[1] \"- Resolution: 0.6\"\n",
      "[1] \"- Dimensions: 30\"\n",
      "[1] \"Making UMAP\"\n",
      "2month - Res: 0.6 - Dim: 30: 40.535 sec elapsed\n",
      "[1] \"143 of 320\"\n",
      "[1] \"2month - Res: 0.6 - Dim: 40\"\n",
      "[1] \"Running PCA and clustering for time point: 2month\"\n",
      "[1] \"- Resolution: 0.6\"\n",
      "[1] \"- Dimensions: 40\"\n",
      "[1] \"Making UMAP\"\n",
      "2month - Res: 0.6 - Dim: 40: 41.846 sec elapsed\n",
      "[1] \"144 of 320\"\n",
      "[1] \"2month - Res: 0.6 - Dim: 50\"\n",
      "[1] \"Running PCA and clustering for time point: 2month\"\n",
      "[1] \"- Resolution: 0.6\"\n",
      "[1] \"- Dimensions: 50\"\n",
      "[1] \"Making UMAP\"\n",
      "2month - Res: 0.6 - Dim: 50: 46.044 sec elapsed\n",
      "[1] \"145 of 320\"\n",
      "[1] \"2month - Res: 0.7 - Dim: 20\"\n",
      "[1] \"Running PCA and clustering for time point: 2month\"\n",
      "[1] \"- Resolution: 0.7\"\n",
      "[1] \"- Dimensions: 20\"\n",
      "[1] \"Making UMAP\"\n",
      "2month - Res: 0.7 - Dim: 20: 39.212 sec elapsed\n",
      "[1] \"146 of 320\"\n",
      "[1] \"2month - Res: 0.7 - Dim: 30\"\n",
      "[1] \"Running PCA and clustering for time point: 2month\"\n",
      "[1] \"- Resolution: 0.7\"\n",
      "[1] \"- Dimensions: 30\"\n",
      "[1] \"Making UMAP\"\n",
      "2month - Res: 0.7 - Dim: 30: 39.12 sec elapsed\n",
      "[1] \"147 of 320\"\n",
      "[1] \"2month - Res: 0.7 - Dim: 40\"\n",
      "[1] \"Running PCA and clustering for time point: 2month\"\n",
      "[1] \"- Resolution: 0.7\"\n",
      "[1] \"- Dimensions: 40\"\n",
      "[1] \"Making UMAP\"\n",
      "2month - Res: 0.7 - Dim: 40: 41.968 sec elapsed\n",
      "[1] \"148 of 320\"\n",
      "[1] \"2month - Res: 0.7 - Dim: 50\"\n",
      "[1] \"Running PCA and clustering for time point: 2month\"\n",
      "[1] \"- Resolution: 0.7\"\n",
      "[1] \"- Dimensions: 50\"\n",
      "[1] \"Making UMAP\"\n",
      "2month - Res: 0.7 - Dim: 50: 45.798 sec elapsed\n",
      "[1] \"149 of 320\"\n",
      "[1] \"2month - Res: 0.8 - Dim: 20\"\n",
      "[1] \"Running PCA and clustering for time point: 2month\"\n",
      "[1] \"- Resolution: 0.8\"\n",
      "[1] \"- Dimensions: 20\"\n",
      "[1] \"Making UMAP\"\n",
      "2month - Res: 0.8 - Dim: 20: 38.754 sec elapsed\n",
      "[1] \"150 of 320\"\n",
      "[1] \"2month - Res: 0.8 - Dim: 30\"\n",
      "[1] \"Running PCA and clustering for time point: 2month\"\n",
      "[1] \"- Resolution: 0.8\"\n",
      "[1] \"- Dimensions: 30\"\n",
      "[1] \"Making UMAP\"\n",
      "2month - Res: 0.8 - Dim: 30: 39.254 sec elapsed\n",
      "[1] \"151 of 320\"\n",
      "[1] \"2month - Res: 0.8 - Dim: 40\"\n",
      "[1] \"Running PCA and clustering for time point: 2month\"\n",
      "[1] \"- Resolution: 0.8\"\n",
      "[1] \"- Dimensions: 40\"\n",
      "[1] \"Making UMAP\"\n",
      "2month - Res: 0.8 - Dim: 40: 41.909 sec elapsed\n",
      "[1] \"152 of 320\"\n",
      "[1] \"2month - Res: 0.8 - Dim: 50\"\n",
      "[1] \"Running PCA and clustering for time point: 2month\"\n",
      "[1] \"- Resolution: 0.8\"\n",
      "[1] \"- Dimensions: 50\"\n",
      "[1] \"Making UMAP\"\n",
      "2month - Res: 0.8 - Dim: 50: 45.28 sec elapsed\n",
      "[1] \"153 of 320\"\n",
      "[1] \"2month - Res: 0.9 - Dim: 20\"\n",
      "[1] \"Running PCA and clustering for time point: 2month\"\n",
      "[1] \"- Resolution: 0.9\"\n",
      "[1] \"- Dimensions: 20\"\n",
      "[1] \"Making UMAP\"\n",
      "2month - Res: 0.9 - Dim: 20: 38.691 sec elapsed\n",
      "[1] \"154 of 320\"\n",
      "[1] \"2month - Res: 0.9 - Dim: 30\"\n",
      "[1] \"Running PCA and clustering for time point: 2month\"\n",
      "[1] \"- Resolution: 0.9\"\n",
      "[1] \"- Dimensions: 30\"\n",
      "[1] \"Making UMAP\"\n",
      "2month - Res: 0.9 - Dim: 30: 39.955 sec elapsed\n",
      "[1] \"155 of 320\"\n",
      "[1] \"2month - Res: 0.9 - Dim: 40\"\n",
      "[1] \"Running PCA and clustering for time point: 2month\"\n",
      "[1] \"- Resolution: 0.9\"\n",
      "[1] \"- Dimensions: 40\"\n",
      "[1] \"Making UMAP\"\n",
      "2month - Res: 0.9 - Dim: 40: 42.008 sec elapsed\n",
      "[1] \"156 of 320\"\n",
      "[1] \"2month - Res: 0.9 - Dim: 50\"\n",
      "[1] \"Running PCA and clustering for time point: 2month\"\n",
      "[1] \"- Resolution: 0.9\"\n",
      "[1] \"- Dimensions: 50\"\n",
      "[1] \"Making UMAP\"\n",
      "2month - Res: 0.9 - Dim: 50: 45.544 sec elapsed\n",
      "[1] \"157 of 320\"\n",
      "[1] \"2month - Res: 1 - Dim: 20\"\n",
      "[1] \"Running PCA and clustering for time point: 2month\"\n",
      "[1] \"- Resolution: 1\"\n",
      "[1] \"- Dimensions: 20\"\n",
      "[1] \"Making UMAP\"\n",
      "2month - Res: 1 - Dim: 20: 38.542 sec elapsed\n",
      "[1] \"158 of 320\"\n",
      "[1] \"2month - Res: 1 - Dim: 30\"\n",
      "[1] \"Running PCA and clustering for time point: 2month\"\n",
      "[1] \"- Resolution: 1\"\n",
      "[1] \"- Dimensions: 30\"\n",
      "[1] \"Making UMAP\"\n",
      "2month - Res: 1 - Dim: 30: 39.213 sec elapsed\n",
      "[1] \"159 of 320\"\n",
      "[1] \"2month - Res: 1 - Dim: 40\"\n",
      "[1] \"Running PCA and clustering for time point: 2month\"\n",
      "[1] \"- Resolution: 1\"\n",
      "[1] \"- Dimensions: 40\"\n",
      "[1] \"Making UMAP\"\n",
      "2month - Res: 1 - Dim: 40: 41.286 sec elapsed\n",
      "[1] \"160 of 320\"\n",
      "[1] \"2month - Res: 1 - Dim: 50\"\n",
      "[1] \"Running PCA and clustering for time point: 2month\"\n",
      "[1] \"- Resolution: 1\"\n",
      "[1] \"- Dimensions: 50\"\n",
      "[1] \"Making UMAP\"\n",
      "2month - Res: 1 - Dim: 50: 45.358 sec elapsed\n",
      "[1] \"Loading data for time point: 3month\"\n"
     ]
    },
    {
     "name": "stderr",
     "output_type": "stream",
     "text": [
      "Warning message:\n",
      "“Input parameters result in NA values for initial cell identities. Setting all initial idents to the project name”\n"
     ]
    },
    {
     "name": "stdout",
     "output_type": "stream",
     "text": [
      "Loading 3month: 131.527 sec elapsed\n",
      "[1] \"161 of 320\"\n",
      "[1] \"3month - Res: 0.1 - Dim: 20\"\n",
      "[1] \"Running PCA and clustering for time point: 3month\"\n",
      "[1] \"- Resolution: 0.1\"\n",
      "[1] \"- Dimensions: 20\"\n",
      "[1] \"Making UMAP\"\n"
     ]
    },
    {
     "name": "stderr",
     "output_type": "stream",
     "text": [
      "Rasterizing points since number of points exceeds 100,000.\n",
      "To disable this behavior set `raster=FALSE`\n",
      "\n"
     ]
    },
    {
     "name": "stdout",
     "output_type": "stream",
     "text": [
      "3month - Res: 0.1 - Dim: 20: 197.591 sec elapsed\n",
      "[1] \"162 of 320\"\n",
      "[1] \"3month - Res: 0.1 - Dim: 30\"\n",
      "[1] \"Running PCA and clustering for time point: 3month\"\n",
      "[1] \"- Resolution: 0.1\"\n",
      "[1] \"- Dimensions: 30\"\n",
      "[1] \"Making UMAP\"\n"
     ]
    },
    {
     "name": "stderr",
     "output_type": "stream",
     "text": [
      "Rasterizing points since number of points exceeds 100,000.\n",
      "To disable this behavior set `raster=FALSE`\n",
      "\n"
     ]
    },
    {
     "name": "stdout",
     "output_type": "stream",
     "text": [
      "3month - Res: 0.1 - Dim: 30: 197.208 sec elapsed\n",
      "[1] \"163 of 320\"\n",
      "[1] \"3month - Res: 0.1 - Dim: 40\"\n",
      "[1] \"Running PCA and clustering for time point: 3month\"\n",
      "[1] \"- Resolution: 0.1\"\n",
      "[1] \"- Dimensions: 40\"\n",
      "[1] \"Making UMAP\"\n"
     ]
    },
    {
     "name": "stderr",
     "output_type": "stream",
     "text": [
      "Rasterizing points since number of points exceeds 100,000.\n",
      "To disable this behavior set `raster=FALSE`\n",
      "\n"
     ]
    },
    {
     "name": "stdout",
     "output_type": "stream",
     "text": [
      "3month - Res: 0.1 - Dim: 40: 202.847 sec elapsed\n",
      "[1] \"164 of 320\"\n",
      "[1] \"3month - Res: 0.1 - Dim: 50\"\n",
      "[1] \"Running PCA and clustering for time point: 3month\"\n",
      "[1] \"- Resolution: 0.1\"\n",
      "[1] \"- Dimensions: 50\"\n",
      "[1] \"Making UMAP\"\n"
     ]
    },
    {
     "name": "stderr",
     "output_type": "stream",
     "text": [
      "Rasterizing points since number of points exceeds 100,000.\n",
      "To disable this behavior set `raster=FALSE`\n",
      "\n"
     ]
    },
    {
     "name": "stdout",
     "output_type": "stream",
     "text": [
      "3month - Res: 0.1 - Dim: 50: 207.741 sec elapsed\n",
      "[1] \"165 of 320\"\n",
      "[1] \"3month - Res: 0.2 - Dim: 20\"\n",
      "[1] \"Running PCA and clustering for time point: 3month\"\n",
      "[1] \"- Resolution: 0.2\"\n",
      "[1] \"- Dimensions: 20\"\n",
      "[1] \"Making UMAP\"\n"
     ]
    },
    {
     "name": "stderr",
     "output_type": "stream",
     "text": [
      "Rasterizing points since number of points exceeds 100,000.\n",
      "To disable this behavior set `raster=FALSE`\n",
      "\n"
     ]
    },
    {
     "name": "stdout",
     "output_type": "stream",
     "text": [
      "3month - Res: 0.2 - Dim: 20: 193.655 sec elapsed\n",
      "[1] \"166 of 320\"\n",
      "[1] \"3month - Res: 0.2 - Dim: 30\"\n",
      "[1] \"Running PCA and clustering for time point: 3month\"\n",
      "[1] \"- Resolution: 0.2\"\n",
      "[1] \"- Dimensions: 30\"\n",
      "[1] \"Making UMAP\"\n"
     ]
    },
    {
     "name": "stderr",
     "output_type": "stream",
     "text": [
      "Rasterizing points since number of points exceeds 100,000.\n",
      "To disable this behavior set `raster=FALSE`\n",
      "\n"
     ]
    },
    {
     "name": "stdout",
     "output_type": "stream",
     "text": [
      "3month - Res: 0.2 - Dim: 30: 193.011 sec elapsed\n",
      "[1] \"167 of 320\"\n",
      "[1] \"3month - Res: 0.2 - Dim: 40\"\n",
      "[1] \"Running PCA and clustering for time point: 3month\"\n",
      "[1] \"- Resolution: 0.2\"\n",
      "[1] \"- Dimensions: 40\"\n",
      "[1] \"Making UMAP\"\n"
     ]
    },
    {
     "name": "stderr",
     "output_type": "stream",
     "text": [
      "Rasterizing points since number of points exceeds 100,000.\n",
      "To disable this behavior set `raster=FALSE`\n",
      "\n"
     ]
    },
    {
     "name": "stdout",
     "output_type": "stream",
     "text": [
      "3month - Res: 0.2 - Dim: 40: 201.399 sec elapsed\n",
      "[1] \"168 of 320\"\n",
      "[1] \"3month - Res: 0.2 - Dim: 50\"\n",
      "[1] \"Running PCA and clustering for time point: 3month\"\n",
      "[1] \"- Resolution: 0.2\"\n",
      "[1] \"- Dimensions: 50\"\n",
      "[1] \"Making UMAP\"\n"
     ]
    },
    {
     "name": "stderr",
     "output_type": "stream",
     "text": [
      "Rasterizing points since number of points exceeds 100,000.\n",
      "To disable this behavior set `raster=FALSE`\n",
      "\n"
     ]
    },
    {
     "name": "stdout",
     "output_type": "stream",
     "text": [
      "3month - Res: 0.2 - Dim: 50: 211.437 sec elapsed\n",
      "[1] \"169 of 320\"\n",
      "[1] \"3month - Res: 0.3 - Dim: 20\"\n",
      "[1] \"Running PCA and clustering for time point: 3month\"\n",
      "[1] \"- Resolution: 0.3\"\n",
      "[1] \"- Dimensions: 20\"\n",
      "[1] \"Making UMAP\"\n"
     ]
    },
    {
     "name": "stderr",
     "output_type": "stream",
     "text": [
      "Rasterizing points since number of points exceeds 100,000.\n",
      "To disable this behavior set `raster=FALSE`\n",
      "\n"
     ]
    },
    {
     "name": "stdout",
     "output_type": "stream",
     "text": [
      "3month - Res: 0.3 - Dim: 20: 192.489 sec elapsed\n",
      "[1] \"170 of 320\"\n",
      "[1] \"3month - Res: 0.3 - Dim: 30\"\n",
      "[1] \"Running PCA and clustering for time point: 3month\"\n",
      "[1] \"- Resolution: 0.3\"\n",
      "[1] \"- Dimensions: 30\"\n",
      "[1] \"Making UMAP\"\n"
     ]
    },
    {
     "name": "stderr",
     "output_type": "stream",
     "text": [
      "Rasterizing points since number of points exceeds 100,000.\n",
      "To disable this behavior set `raster=FALSE`\n",
      "\n"
     ]
    },
    {
     "name": "stdout",
     "output_type": "stream",
     "text": [
      "3month - Res: 0.3 - Dim: 30: 191.349 sec elapsed\n",
      "[1] \"171 of 320\"\n",
      "[1] \"3month - Res: 0.3 - Dim: 40\"\n",
      "[1] \"Running PCA and clustering for time point: 3month\"\n",
      "[1] \"- Resolution: 0.3\"\n",
      "[1] \"- Dimensions: 40\"\n",
      "[1] \"Making UMAP\"\n"
     ]
    },
    {
     "name": "stderr",
     "output_type": "stream",
     "text": [
      "Rasterizing points since number of points exceeds 100,000.\n",
      "To disable this behavior set `raster=FALSE`\n",
      "\n"
     ]
    },
    {
     "name": "stdout",
     "output_type": "stream",
     "text": [
      "3month - Res: 0.3 - Dim: 40: 199.634 sec elapsed\n",
      "[1] \"172 of 320\"\n",
      "[1] \"3month - Res: 0.3 - Dim: 50\"\n",
      "[1] \"Running PCA and clustering for time point: 3month\"\n",
      "[1] \"- Resolution: 0.3\"\n",
      "[1] \"- Dimensions: 50\"\n",
      "[1] \"Making UMAP\"\n"
     ]
    },
    {
     "name": "stderr",
     "output_type": "stream",
     "text": [
      "Rasterizing points since number of points exceeds 100,000.\n",
      "To disable this behavior set `raster=FALSE`\n",
      "\n"
     ]
    },
    {
     "name": "stdout",
     "output_type": "stream",
     "text": [
      "3month - Res: 0.3 - Dim: 50: 214.169 sec elapsed\n",
      "[1] \"173 of 320\"\n",
      "[1] \"3month - Res: 0.4 - Dim: 20\"\n",
      "[1] \"Running PCA and clustering for time point: 3month\"\n",
      "[1] \"- Resolution: 0.4\"\n",
      "[1] \"- Dimensions: 20\"\n",
      "[1] \"Making UMAP\"\n"
     ]
    },
    {
     "name": "stderr",
     "output_type": "stream",
     "text": [
      "Rasterizing points since number of points exceeds 100,000.\n",
      "To disable this behavior set `raster=FALSE`\n",
      "\n"
     ]
    },
    {
     "name": "stdout",
     "output_type": "stream",
     "text": [
      "3month - Res: 0.4 - Dim: 20: 191.667 sec elapsed\n",
      "[1] \"174 of 320\"\n",
      "[1] \"3month - Res: 0.4 - Dim: 30\"\n",
      "[1] \"Running PCA and clustering for time point: 3month\"\n",
      "[1] \"- Resolution: 0.4\"\n",
      "[1] \"- Dimensions: 30\"\n",
      "[1] \"Making UMAP\"\n"
     ]
    },
    {
     "name": "stderr",
     "output_type": "stream",
     "text": [
      "Rasterizing points since number of points exceeds 100,000.\n",
      "To disable this behavior set `raster=FALSE`\n",
      "\n"
     ]
    },
    {
     "name": "stdout",
     "output_type": "stream",
     "text": [
      "3month - Res: 0.4 - Dim: 30: 190.749 sec elapsed\n",
      "[1] \"175 of 320\"\n",
      "[1] \"3month - Res: 0.4 - Dim: 40\"\n",
      "[1] \"Running PCA and clustering for time point: 3month\"\n",
      "[1] \"- Resolution: 0.4\"\n",
      "[1] \"- Dimensions: 40\"\n",
      "[1] \"Making UMAP\"\n"
     ]
    },
    {
     "name": "stderr",
     "output_type": "stream",
     "text": [
      "Rasterizing points since number of points exceeds 100,000.\n",
      "To disable this behavior set `raster=FALSE`\n",
      "\n"
     ]
    },
    {
     "name": "stdout",
     "output_type": "stream",
     "text": [
      "3month - Res: 0.4 - Dim: 40: 206.17 sec elapsed\n",
      "[1] \"176 of 320\"\n",
      "[1] \"3month - Res: 0.4 - Dim: 50\"\n",
      "[1] \"Running PCA and clustering for time point: 3month\"\n",
      "[1] \"- Resolution: 0.4\"\n",
      "[1] \"- Dimensions: 50\"\n",
      "[1] \"Making UMAP\"\n"
     ]
    },
    {
     "name": "stderr",
     "output_type": "stream",
     "text": [
      "Rasterizing points since number of points exceeds 100,000.\n",
      "To disable this behavior set `raster=FALSE`\n",
      "\n"
     ]
    },
    {
     "name": "stdout",
     "output_type": "stream",
     "text": [
      "3month - Res: 0.4 - Dim: 50: 208.393 sec elapsed\n",
      "[1] \"177 of 320\"\n",
      "[1] \"3month - Res: 0.5 - Dim: 20\"\n",
      "[1] \"Running PCA and clustering for time point: 3month\"\n",
      "[1] \"- Resolution: 0.5\"\n",
      "[1] \"- Dimensions: 20\"\n",
      "[1] \"Making UMAP\"\n"
     ]
    },
    {
     "name": "stderr",
     "output_type": "stream",
     "text": [
      "Rasterizing points since number of points exceeds 100,000.\n",
      "To disable this behavior set `raster=FALSE`\n",
      "\n"
     ]
    },
    {
     "name": "stdout",
     "output_type": "stream",
     "text": [
      "3month - Res: 0.5 - Dim: 20: 191.762 sec elapsed\n",
      "[1] \"178 of 320\"\n",
      "[1] \"3month - Res: 0.5 - Dim: 30\"\n",
      "[1] \"Running PCA and clustering for time point: 3month\"\n",
      "[1] \"- Resolution: 0.5\"\n",
      "[1] \"- Dimensions: 30\"\n",
      "[1] \"Making UMAP\"\n"
     ]
    },
    {
     "name": "stderr",
     "output_type": "stream",
     "text": [
      "Rasterizing points since number of points exceeds 100,000.\n",
      "To disable this behavior set `raster=FALSE`\n",
      "\n"
     ]
    },
    {
     "name": "stdout",
     "output_type": "stream",
     "text": [
      "3month - Res: 0.5 - Dim: 30: 195.633 sec elapsed\n",
      "[1] \"179 of 320\"\n",
      "[1] \"3month - Res: 0.5 - Dim: 40\"\n",
      "[1] \"Running PCA and clustering for time point: 3month\"\n",
      "[1] \"- Resolution: 0.5\"\n",
      "[1] \"- Dimensions: 40\"\n",
      "[1] \"Making UMAP\"\n"
     ]
    },
    {
     "name": "stderr",
     "output_type": "stream",
     "text": [
      "Rasterizing points since number of points exceeds 100,000.\n",
      "To disable this behavior set `raster=FALSE`\n",
      "\n"
     ]
    },
    {
     "name": "stdout",
     "output_type": "stream",
     "text": [
      "3month - Res: 0.5 - Dim: 40: 206.416 sec elapsed\n",
      "[1] \"180 of 320\"\n",
      "[1] \"3month - Res: 0.5 - Dim: 50\"\n",
      "[1] \"Running PCA and clustering for time point: 3month\"\n",
      "[1] \"- Resolution: 0.5\"\n",
      "[1] \"- Dimensions: 50\"\n",
      "[1] \"Making UMAP\"\n"
     ]
    },
    {
     "name": "stderr",
     "output_type": "stream",
     "text": [
      "Rasterizing points since number of points exceeds 100,000.\n",
      "To disable this behavior set `raster=FALSE`\n",
      "\n"
     ]
    },
    {
     "name": "stdout",
     "output_type": "stream",
     "text": [
      "3month - Res: 0.5 - Dim: 50: 211.486 sec elapsed\n",
      "[1] \"181 of 320\"\n",
      "[1] \"3month - Res: 0.6 - Dim: 20\"\n",
      "[1] \"Running PCA and clustering for time point: 3month\"\n",
      "[1] \"- Resolution: 0.6\"\n",
      "[1] \"- Dimensions: 20\"\n",
      "[1] \"Making UMAP\"\n"
     ]
    },
    {
     "name": "stderr",
     "output_type": "stream",
     "text": [
      "Rasterizing points since number of points exceeds 100,000.\n",
      "To disable this behavior set `raster=FALSE`\n",
      "\n"
     ]
    },
    {
     "name": "stdout",
     "output_type": "stream",
     "text": [
      "3month - Res: 0.6 - Dim: 20: 191.432 sec elapsed\n",
      "[1] \"182 of 320\"\n",
      "[1] \"3month - Res: 0.6 - Dim: 30\"\n",
      "[1] \"Running PCA and clustering for time point: 3month\"\n",
      "[1] \"- Resolution: 0.6\"\n",
      "[1] \"- Dimensions: 30\"\n",
      "[1] \"Making UMAP\"\n"
     ]
    },
    {
     "name": "stderr",
     "output_type": "stream",
     "text": [
      "Rasterizing points since number of points exceeds 100,000.\n",
      "To disable this behavior set `raster=FALSE`\n",
      "\n"
     ]
    },
    {
     "name": "stdout",
     "output_type": "stream",
     "text": [
      "3month - Res: 0.6 - Dim: 30: 194.389 sec elapsed\n",
      "[1] \"183 of 320\"\n",
      "[1] \"3month - Res: 0.6 - Dim: 40\"\n",
      "[1] \"Running PCA and clustering for time point: 3month\"\n",
      "[1] \"- Resolution: 0.6\"\n",
      "[1] \"- Dimensions: 40\"\n",
      "[1] \"Making UMAP\"\n"
     ]
    },
    {
     "name": "stderr",
     "output_type": "stream",
     "text": [
      "Rasterizing points since number of points exceeds 100,000.\n",
      "To disable this behavior set `raster=FALSE`\n",
      "\n"
     ]
    },
    {
     "name": "stdout",
     "output_type": "stream",
     "text": [
      "3month - Res: 0.6 - Dim: 40: 202.172 sec elapsed\n",
      "[1] \"184 of 320\"\n",
      "[1] \"3month - Res: 0.6 - Dim: 50\"\n",
      "[1] \"Running PCA and clustering for time point: 3month\"\n",
      "[1] \"- Resolution: 0.6\"\n",
      "[1] \"- Dimensions: 50\"\n",
      "[1] \"Making UMAP\"\n"
     ]
    },
    {
     "name": "stderr",
     "output_type": "stream",
     "text": [
      "Rasterizing points since number of points exceeds 100,000.\n",
      "To disable this behavior set `raster=FALSE`\n",
      "\n"
     ]
    },
    {
     "name": "stdout",
     "output_type": "stream",
     "text": [
      "3month - Res: 0.6 - Dim: 50: 213.196 sec elapsed\n",
      "[1] \"185 of 320\"\n",
      "[1] \"3month - Res: 0.7 - Dim: 20\"\n",
      "[1] \"Running PCA and clustering for time point: 3month\"\n",
      "[1] \"- Resolution: 0.7\"\n",
      "[1] \"- Dimensions: 20\"\n",
      "[1] \"Making UMAP\"\n"
     ]
    },
    {
     "name": "stderr",
     "output_type": "stream",
     "text": [
      "Rasterizing points since number of points exceeds 100,000.\n",
      "To disable this behavior set `raster=FALSE`\n",
      "\n"
     ]
    },
    {
     "name": "stdout",
     "output_type": "stream",
     "text": [
      "3month - Res: 0.7 - Dim: 20: 196.238 sec elapsed\n",
      "[1] \"186 of 320\"\n",
      "[1] \"3month - Res: 0.7 - Dim: 30\"\n",
      "[1] \"Running PCA and clustering for time point: 3month\"\n",
      "[1] \"- Resolution: 0.7\"\n",
      "[1] \"- Dimensions: 30\"\n",
      "[1] \"Making UMAP\"\n"
     ]
    },
    {
     "name": "stderr",
     "output_type": "stream",
     "text": [
      "Rasterizing points since number of points exceeds 100,000.\n",
      "To disable this behavior set `raster=FALSE`\n",
      "\n"
     ]
    },
    {
     "name": "stdout",
     "output_type": "stream",
     "text": [
      "3month - Res: 0.7 - Dim: 30: 188.022 sec elapsed\n",
      "[1] \"187 of 320\"\n",
      "[1] \"3month - Res: 0.7 - Dim: 40\"\n",
      "[1] \"Running PCA and clustering for time point: 3month\"\n",
      "[1] \"- Resolution: 0.7\"\n",
      "[1] \"- Dimensions: 40\"\n",
      "[1] \"Making UMAP\"\n"
     ]
    },
    {
     "name": "stderr",
     "output_type": "stream",
     "text": [
      "Rasterizing points since number of points exceeds 100,000.\n",
      "To disable this behavior set `raster=FALSE`\n",
      "\n"
     ]
    },
    {
     "name": "stdout",
     "output_type": "stream",
     "text": [
      "3month - Res: 0.7 - Dim: 40: 202.969 sec elapsed\n",
      "[1] \"188 of 320\"\n",
      "[1] \"3month - Res: 0.7 - Dim: 50\"\n",
      "[1] \"Running PCA and clustering for time point: 3month\"\n",
      "[1] \"- Resolution: 0.7\"\n",
      "[1] \"- Dimensions: 50\"\n",
      "[1] \"Making UMAP\"\n"
     ]
    },
    {
     "name": "stderr",
     "output_type": "stream",
     "text": [
      "Rasterizing points since number of points exceeds 100,000.\n",
      "To disable this behavior set `raster=FALSE`\n",
      "\n"
     ]
    },
    {
     "name": "stdout",
     "output_type": "stream",
     "text": [
      "3month - Res: 0.7 - Dim: 50: 214.442 sec elapsed\n",
      "[1] \"189 of 320\"\n",
      "[1] \"3month - Res: 0.8 - Dim: 20\"\n",
      "[1] \"Running PCA and clustering for time point: 3month\"\n",
      "[1] \"- Resolution: 0.8\"\n",
      "[1] \"- Dimensions: 20\"\n",
      "[1] \"Making UMAP\"\n"
     ]
    },
    {
     "name": "stderr",
     "output_type": "stream",
     "text": [
      "Rasterizing points since number of points exceeds 100,000.\n",
      "To disable this behavior set `raster=FALSE`\n",
      "\n"
     ]
    },
    {
     "name": "stdout",
     "output_type": "stream",
     "text": [
      "3month - Res: 0.8 - Dim: 20: 194.812 sec elapsed\n",
      "[1] \"190 of 320\"\n",
      "[1] \"3month - Res: 0.8 - Dim: 30\"\n",
      "[1] \"Running PCA and clustering for time point: 3month\"\n",
      "[1] \"- Resolution: 0.8\"\n",
      "[1] \"- Dimensions: 30\"\n",
      "[1] \"Making UMAP\"\n"
     ]
    },
    {
     "name": "stderr",
     "output_type": "stream",
     "text": [
      "Rasterizing points since number of points exceeds 100,000.\n",
      "To disable this behavior set `raster=FALSE`\n",
      "\n"
     ]
    },
    {
     "name": "stdout",
     "output_type": "stream",
     "text": [
      "3month - Res: 0.8 - Dim: 30: 195.887 sec elapsed\n",
      "[1] \"191 of 320\"\n",
      "[1] \"3month - Res: 0.8 - Dim: 40\"\n",
      "[1] \"Running PCA and clustering for time point: 3month\"\n",
      "[1] \"- Resolution: 0.8\"\n",
      "[1] \"- Dimensions: 40\"\n",
      "[1] \"Making UMAP\"\n"
     ]
    },
    {
     "name": "stderr",
     "output_type": "stream",
     "text": [
      "Rasterizing points since number of points exceeds 100,000.\n",
      "To disable this behavior set `raster=FALSE`\n",
      "\n"
     ]
    },
    {
     "name": "stdout",
     "output_type": "stream",
     "text": [
      "3month - Res: 0.8 - Dim: 40: 200.535 sec elapsed\n",
      "[1] \"192 of 320\"\n",
      "[1] \"3month - Res: 0.8 - Dim: 50\"\n",
      "[1] \"Running PCA and clustering for time point: 3month\"\n",
      "[1] \"- Resolution: 0.8\"\n",
      "[1] \"- Dimensions: 50\"\n",
      "[1] \"Making UMAP\"\n"
     ]
    },
    {
     "name": "stderr",
     "output_type": "stream",
     "text": [
      "Rasterizing points since number of points exceeds 100,000.\n",
      "To disable this behavior set `raster=FALSE`\n",
      "\n"
     ]
    },
    {
     "name": "stdout",
     "output_type": "stream",
     "text": [
      "3month - Res: 0.8 - Dim: 50: 210.128 sec elapsed\n",
      "[1] \"193 of 320\"\n",
      "[1] \"3month - Res: 0.9 - Dim: 20\"\n",
      "[1] \"Running PCA and clustering for time point: 3month\"\n",
      "[1] \"- Resolution: 0.9\"\n",
      "[1] \"- Dimensions: 20\"\n",
      "[1] \"Making UMAP\"\n"
     ]
    },
    {
     "name": "stderr",
     "output_type": "stream",
     "text": [
      "Rasterizing points since number of points exceeds 100,000.\n",
      "To disable this behavior set `raster=FALSE`\n",
      "\n"
     ]
    },
    {
     "name": "stdout",
     "output_type": "stream",
     "text": [
      "3month - Res: 0.9 - Dim: 20: 194.773 sec elapsed\n",
      "[1] \"194 of 320\"\n",
      "[1] \"3month - Res: 0.9 - Dim: 30\"\n",
      "[1] \"Running PCA and clustering for time point: 3month\"\n",
      "[1] \"- Resolution: 0.9\"\n",
      "[1] \"- Dimensions: 30\"\n",
      "[1] \"Making UMAP\"\n"
     ]
    },
    {
     "name": "stderr",
     "output_type": "stream",
     "text": [
      "Rasterizing points since number of points exceeds 100,000.\n",
      "To disable this behavior set `raster=FALSE`\n",
      "\n"
     ]
    },
    {
     "name": "stdout",
     "output_type": "stream",
     "text": [
      "3month - Res: 0.9 - Dim: 30: 192.38 sec elapsed\n",
      "[1] \"195 of 320\"\n",
      "[1] \"3month - Res: 0.9 - Dim: 40\"\n",
      "[1] \"Running PCA and clustering for time point: 3month\"\n",
      "[1] \"- Resolution: 0.9\"\n",
      "[1] \"- Dimensions: 40\"\n",
      "[1] \"Making UMAP\"\n"
     ]
    },
    {
     "name": "stderr",
     "output_type": "stream",
     "text": [
      "Rasterizing points since number of points exceeds 100,000.\n",
      "To disable this behavior set `raster=FALSE`\n",
      "\n"
     ]
    },
    {
     "name": "stdout",
     "output_type": "stream",
     "text": [
      "3month - Res: 0.9 - Dim: 40: 203.138 sec elapsed\n",
      "[1] \"196 of 320\"\n",
      "[1] \"3month - Res: 0.9 - Dim: 50\"\n",
      "[1] \"Running PCA and clustering for time point: 3month\"\n",
      "[1] \"- Resolution: 0.9\"\n",
      "[1] \"- Dimensions: 50\"\n",
      "[1] \"Making UMAP\"\n"
     ]
    },
    {
     "name": "stderr",
     "output_type": "stream",
     "text": [
      "Rasterizing points since number of points exceeds 100,000.\n",
      "To disable this behavior set `raster=FALSE`\n",
      "\n"
     ]
    },
    {
     "name": "stdout",
     "output_type": "stream",
     "text": [
      "3month - Res: 0.9 - Dim: 50: 212.045 sec elapsed\n",
      "[1] \"197 of 320\"\n",
      "[1] \"3month - Res: 1 - Dim: 20\"\n",
      "[1] \"Running PCA and clustering for time point: 3month\"\n",
      "[1] \"- Resolution: 1\"\n",
      "[1] \"- Dimensions: 20\"\n",
      "[1] \"Making UMAP\"\n"
     ]
    },
    {
     "name": "stderr",
     "output_type": "stream",
     "text": [
      "Rasterizing points since number of points exceeds 100,000.\n",
      "To disable this behavior set `raster=FALSE`\n",
      "\n"
     ]
    },
    {
     "name": "stdout",
     "output_type": "stream",
     "text": [
      "3month - Res: 1 - Dim: 20: 194.494 sec elapsed\n",
      "[1] \"198 of 320\"\n",
      "[1] \"3month - Res: 1 - Dim: 30\"\n",
      "[1] \"Running PCA and clustering for time point: 3month\"\n",
      "[1] \"- Resolution: 1\"\n",
      "[1] \"- Dimensions: 30\"\n",
      "[1] \"Making UMAP\"\n"
     ]
    },
    {
     "name": "stderr",
     "output_type": "stream",
     "text": [
      "Rasterizing points since number of points exceeds 100,000.\n",
      "To disable this behavior set `raster=FALSE`\n",
      "\n"
     ]
    },
    {
     "name": "stdout",
     "output_type": "stream",
     "text": [
      "3month - Res: 1 - Dim: 30: 194.157 sec elapsed\n",
      "[1] \"199 of 320\"\n",
      "[1] \"3month - Res: 1 - Dim: 40\"\n",
      "[1] \"Running PCA and clustering for time point: 3month\"\n",
      "[1] \"- Resolution: 1\"\n",
      "[1] \"- Dimensions: 40\"\n",
      "[1] \"Making UMAP\"\n"
     ]
    },
    {
     "name": "stderr",
     "output_type": "stream",
     "text": [
      "Rasterizing points since number of points exceeds 100,000.\n",
      "To disable this behavior set `raster=FALSE`\n",
      "\n"
     ]
    },
    {
     "name": "stdout",
     "output_type": "stream",
     "text": [
      "3month - Res: 1 - Dim: 40: 204.195 sec elapsed\n",
      "[1] \"200 of 320\"\n",
      "[1] \"3month - Res: 1 - Dim: 50\"\n",
      "[1] \"Running PCA and clustering for time point: 3month\"\n",
      "[1] \"- Resolution: 1\"\n",
      "[1] \"- Dimensions: 50\"\n",
      "[1] \"Making UMAP\"\n"
     ]
    },
    {
     "name": "stderr",
     "output_type": "stream",
     "text": [
      "Rasterizing points since number of points exceeds 100,000.\n",
      "To disable this behavior set `raster=FALSE`\n",
      "\n"
     ]
    },
    {
     "name": "stdout",
     "output_type": "stream",
     "text": [
      "3month - Res: 1 - Dim: 50: 212.867 sec elapsed\n",
      "[1] \"Loading data for time point: 4month\"\n",
      "Loading 4month: 27.988 sec elapsed\n",
      "[1] \"201 of 320\"\n",
      "[1] \"4month - Res: 0.1 - Dim: 20\"\n",
      "[1] \"Running PCA and clustering for time point: 4month\"\n",
      "[1] \"- Resolution: 0.1\"\n",
      "[1] \"- Dimensions: 20\"\n",
      "[1] \"Making UMAP\"\n",
      "4month - Res: 0.1 - Dim: 20: 40.156 sec elapsed\n",
      "[1] \"202 of 320\"\n",
      "[1] \"4month - Res: 0.1 - Dim: 30\"\n",
      "[1] \"Running PCA and clustering for time point: 4month\"\n",
      "[1] \"- Resolution: 0.1\"\n",
      "[1] \"- Dimensions: 30\"\n",
      "[1] \"Making UMAP\"\n",
      "4month - Res: 0.1 - Dim: 30: 39.634 sec elapsed\n",
      "[1] \"203 of 320\"\n",
      "[1] \"4month - Res: 0.1 - Dim: 40\"\n",
      "[1] \"Running PCA and clustering for time point: 4month\"\n",
      "[1] \"- Resolution: 0.1\"\n",
      "[1] \"- Dimensions: 40\"\n",
      "[1] \"Making UMAP\"\n",
      "4month - Res: 0.1 - Dim: 40: 40.954 sec elapsed\n",
      "[1] \"204 of 320\"\n",
      "[1] \"4month - Res: 0.1 - Dim: 50\"\n",
      "[1] \"Running PCA and clustering for time point: 4month\"\n",
      "[1] \"- Resolution: 0.1\"\n",
      "[1] \"- Dimensions: 50\"\n",
      "[1] \"Making UMAP\"\n",
      "4month - Res: 0.1 - Dim: 50: 44.398 sec elapsed\n",
      "[1] \"205 of 320\"\n",
      "[1] \"4month - Res: 0.2 - Dim: 20\"\n",
      "[1] \"Running PCA and clustering for time point: 4month\"\n",
      "[1] \"- Resolution: 0.2\"\n",
      "[1] \"- Dimensions: 20\"\n",
      "[1] \"Making UMAP\"\n",
      "4month - Res: 0.2 - Dim: 20: 38.468 sec elapsed\n",
      "[1] \"206 of 320\"\n",
      "[1] \"4month - Res: 0.2 - Dim: 30\"\n",
      "[1] \"Running PCA and clustering for time point: 4month\"\n",
      "[1] \"- Resolution: 0.2\"\n",
      "[1] \"- Dimensions: 30\"\n",
      "[1] \"Making UMAP\"\n",
      "4month - Res: 0.2 - Dim: 30: 39.237 sec elapsed\n",
      "[1] \"207 of 320\"\n",
      "[1] \"4month - Res: 0.2 - Dim: 40\"\n",
      "[1] \"Running PCA and clustering for time point: 4month\"\n",
      "[1] \"- Resolution: 0.2\"\n",
      "[1] \"- Dimensions: 40\"\n",
      "[1] \"Making UMAP\"\n",
      "4month - Res: 0.2 - Dim: 40: 41.184 sec elapsed\n",
      "[1] \"208 of 320\"\n",
      "[1] \"4month - Res: 0.2 - Dim: 50\"\n",
      "[1] \"Running PCA and clustering for time point: 4month\"\n",
      "[1] \"- Resolution: 0.2\"\n",
      "[1] \"- Dimensions: 50\"\n",
      "[1] \"Making UMAP\"\n",
      "4month - Res: 0.2 - Dim: 50: 45.27 sec elapsed\n",
      "[1] \"209 of 320\"\n",
      "[1] \"4month - Res: 0.3 - Dim: 20\"\n",
      "[1] \"Running PCA and clustering for time point: 4month\"\n",
      "[1] \"- Resolution: 0.3\"\n",
      "[1] \"- Dimensions: 20\"\n",
      "[1] \"Making UMAP\"\n",
      "4month - Res: 0.3 - Dim: 20: 38.234 sec elapsed\n",
      "[1] \"210 of 320\"\n",
      "[1] \"4month - Res: 0.3 - Dim: 30\"\n",
      "[1] \"Running PCA and clustering for time point: 4month\"\n",
      "[1] \"- Resolution: 0.3\"\n",
      "[1] \"- Dimensions: 30\"\n",
      "[1] \"Making UMAP\"\n",
      "4month - Res: 0.3 - Dim: 30: 40.137 sec elapsed\n",
      "[1] \"211 of 320\"\n",
      "[1] \"4month - Res: 0.3 - Dim: 40\"\n",
      "[1] \"Running PCA and clustering for time point: 4month\"\n",
      "[1] \"- Resolution: 0.3\"\n",
      "[1] \"- Dimensions: 40\"\n",
      "[1] \"Making UMAP\"\n",
      "4month - Res: 0.3 - Dim: 40: 41.313 sec elapsed\n",
      "[1] \"212 of 320\"\n",
      "[1] \"4month - Res: 0.3 - Dim: 50\"\n",
      "[1] \"Running PCA and clustering for time point: 4month\"\n",
      "[1] \"- Resolution: 0.3\"\n",
      "[1] \"- Dimensions: 50\"\n",
      "[1] \"Making UMAP\"\n",
      "4month - Res: 0.3 - Dim: 50: 44.937 sec elapsed\n",
      "[1] \"213 of 320\"\n",
      "[1] \"4month - Res: 0.4 - Dim: 20\"\n",
      "[1] \"Running PCA and clustering for time point: 4month\"\n",
      "[1] \"- Resolution: 0.4\"\n",
      "[1] \"- Dimensions: 20\"\n",
      "[1] \"Making UMAP\"\n",
      "4month - Res: 0.4 - Dim: 20: 38.383 sec elapsed\n",
      "[1] \"214 of 320\"\n",
      "[1] \"4month - Res: 0.4 - Dim: 30\"\n",
      "[1] \"Running PCA and clustering for time point: 4month\"\n",
      "[1] \"- Resolution: 0.4\"\n",
      "[1] \"- Dimensions: 30\"\n",
      "[1] \"Making UMAP\"\n",
      "4month - Res: 0.4 - Dim: 30: 39.608 sec elapsed\n",
      "[1] \"215 of 320\"\n",
      "[1] \"4month - Res: 0.4 - Dim: 40\"\n",
      "[1] \"Running PCA and clustering for time point: 4month\"\n",
      "[1] \"- Resolution: 0.4\"\n",
      "[1] \"- Dimensions: 40\"\n",
      "[1] \"Making UMAP\"\n",
      "4month - Res: 0.4 - Dim: 40: 41.463 sec elapsed\n",
      "[1] \"216 of 320\"\n",
      "[1] \"4month - Res: 0.4 - Dim: 50\"\n",
      "[1] \"Running PCA and clustering for time point: 4month\"\n",
      "[1] \"- Resolution: 0.4\"\n",
      "[1] \"- Dimensions: 50\"\n",
      "[1] \"Making UMAP\"\n",
      "4month - Res: 0.4 - Dim: 50: 44.795 sec elapsed\n",
      "[1] \"217 of 320\"\n",
      "[1] \"4month - Res: 0.5 - Dim: 20\"\n",
      "[1] \"Running PCA and clustering for time point: 4month\"\n",
      "[1] \"- Resolution: 0.5\"\n",
      "[1] \"- Dimensions: 20\"\n",
      "[1] \"Making UMAP\"\n",
      "4month - Res: 0.5 - Dim: 20: 39.392 sec elapsed\n",
      "[1] \"218 of 320\"\n",
      "[1] \"4month - Res: 0.5 - Dim: 30\"\n",
      "[1] \"Running PCA and clustering for time point: 4month\"\n",
      "[1] \"- Resolution: 0.5\"\n",
      "[1] \"- Dimensions: 30\"\n",
      "[1] \"Making UMAP\"\n",
      "4month - Res: 0.5 - Dim: 30: 39.641 sec elapsed\n",
      "[1] \"219 of 320\"\n",
      "[1] \"4month - Res: 0.5 - Dim: 40\"\n",
      "[1] \"Running PCA and clustering for time point: 4month\"\n",
      "[1] \"- Resolution: 0.5\"\n",
      "[1] \"- Dimensions: 40\"\n",
      "[1] \"Making UMAP\"\n",
      "4month - Res: 0.5 - Dim: 40: 41.636 sec elapsed\n",
      "[1] \"220 of 320\"\n",
      "[1] \"4month - Res: 0.5 - Dim: 50\"\n",
      "[1] \"Running PCA and clustering for time point: 4month\"\n",
      "[1] \"- Resolution: 0.5\"\n",
      "[1] \"- Dimensions: 50\"\n",
      "[1] \"Making UMAP\"\n",
      "4month - Res: 0.5 - Dim: 50: 44.936 sec elapsed\n",
      "[1] \"221 of 320\"\n",
      "[1] \"4month - Res: 0.6 - Dim: 20\"\n",
      "[1] \"Running PCA and clustering for time point: 4month\"\n",
      "[1] \"- Resolution: 0.6\"\n",
      "[1] \"- Dimensions: 20\"\n",
      "[1] \"Making UMAP\"\n",
      "4month - Res: 0.6 - Dim: 20: 38.519 sec elapsed\n",
      "[1] \"222 of 320\"\n",
      "[1] \"4month - Res: 0.6 - Dim: 30\"\n",
      "[1] \"Running PCA and clustering for time point: 4month\"\n",
      "[1] \"- Resolution: 0.6\"\n",
      "[1] \"- Dimensions: 30\"\n",
      "[1] \"Making UMAP\"\n",
      "4month - Res: 0.6 - Dim: 30: 39.647 sec elapsed\n",
      "[1] \"223 of 320\"\n",
      "[1] \"4month - Res: 0.6 - Dim: 40\"\n",
      "[1] \"Running PCA and clustering for time point: 4month\"\n",
      "[1] \"- Resolution: 0.6\"\n",
      "[1] \"- Dimensions: 40\"\n",
      "[1] \"Making UMAP\"\n",
      "4month - Res: 0.6 - Dim: 40: 41.047 sec elapsed\n",
      "[1] \"224 of 320\"\n",
      "[1] \"4month - Res: 0.6 - Dim: 50\"\n",
      "[1] \"Running PCA and clustering for time point: 4month\"\n",
      "[1] \"- Resolution: 0.6\"\n",
      "[1] \"- Dimensions: 50\"\n",
      "[1] \"Making UMAP\"\n",
      "4month - Res: 0.6 - Dim: 50: 44.656 sec elapsed\n",
      "[1] \"225 of 320\"\n",
      "[1] \"4month - Res: 0.7 - Dim: 20\"\n",
      "[1] \"Running PCA and clustering for time point: 4month\"\n",
      "[1] \"- Resolution: 0.7\"\n",
      "[1] \"- Dimensions: 20\"\n",
      "[1] \"Making UMAP\"\n",
      "4month - Res: 0.7 - Dim: 20: 38.598 sec elapsed\n",
      "[1] \"226 of 320\"\n",
      "[1] \"4month - Res: 0.7 - Dim: 30\"\n",
      "[1] \"Running PCA and clustering for time point: 4month\"\n",
      "[1] \"- Resolution: 0.7\"\n",
      "[1] \"- Dimensions: 30\"\n",
      "[1] \"Making UMAP\"\n",
      "4month - Res: 0.7 - Dim: 30: 39.337 sec elapsed\n",
      "[1] \"227 of 320\"\n",
      "[1] \"4month - Res: 0.7 - Dim: 40\"\n",
      "[1] \"Running PCA and clustering for time point: 4month\"\n",
      "[1] \"- Resolution: 0.7\"\n",
      "[1] \"- Dimensions: 40\"\n",
      "[1] \"Making UMAP\"\n",
      "4month - Res: 0.7 - Dim: 40: 41.376 sec elapsed\n",
      "[1] \"228 of 320\"\n",
      "[1] \"4month - Res: 0.7 - Dim: 50\"\n",
      "[1] \"Running PCA and clustering for time point: 4month\"\n",
      "[1] \"- Resolution: 0.7\"\n",
      "[1] \"- Dimensions: 50\"\n",
      "[1] \"Making UMAP\"\n",
      "4month - Res: 0.7 - Dim: 50: 45.027 sec elapsed\n",
      "[1] \"229 of 320\"\n",
      "[1] \"4month - Res: 0.8 - Dim: 20\"\n",
      "[1] \"Running PCA and clustering for time point: 4month\"\n",
      "[1] \"- Resolution: 0.8\"\n",
      "[1] \"- Dimensions: 20\"\n",
      "[1] \"Making UMAP\"\n",
      "4month - Res: 0.8 - Dim: 20: 38.766 sec elapsed\n",
      "[1] \"230 of 320\"\n",
      "[1] \"4month - Res: 0.8 - Dim: 30\"\n",
      "[1] \"Running PCA and clustering for time point: 4month\"\n",
      "[1] \"- Resolution: 0.8\"\n",
      "[1] \"- Dimensions: 30\"\n",
      "[1] \"Making UMAP\"\n",
      "4month - Res: 0.8 - Dim: 30: 39.793 sec elapsed\n",
      "[1] \"231 of 320\"\n",
      "[1] \"4month - Res: 0.8 - Dim: 40\"\n",
      "[1] \"Running PCA and clustering for time point: 4month\"\n",
      "[1] \"- Resolution: 0.8\"\n",
      "[1] \"- Dimensions: 40\"\n",
      "[1] \"Making UMAP\"\n",
      "4month - Res: 0.8 - Dim: 40: 40.778 sec elapsed\n",
      "[1] \"232 of 320\"\n",
      "[1] \"4month - Res: 0.8 - Dim: 50\"\n",
      "[1] \"Running PCA and clustering for time point: 4month\"\n",
      "[1] \"- Resolution: 0.8\"\n",
      "[1] \"- Dimensions: 50\"\n",
      "[1] \"Making UMAP\"\n",
      "4month - Res: 0.8 - Dim: 50: 44.357 sec elapsed\n",
      "[1] \"233 of 320\"\n",
      "[1] \"4month - Res: 0.9 - Dim: 20\"\n",
      "[1] \"Running PCA and clustering for time point: 4month\"\n",
      "[1] \"- Resolution: 0.9\"\n",
      "[1] \"- Dimensions: 20\"\n",
      "[1] \"Making UMAP\"\n",
      "4month - Res: 0.9 - Dim: 20: 38.538 sec elapsed\n",
      "[1] \"234 of 320\"\n",
      "[1] \"4month - Res: 0.9 - Dim: 30\"\n",
      "[1] \"Running PCA and clustering for time point: 4month\"\n",
      "[1] \"- Resolution: 0.9\"\n",
      "[1] \"- Dimensions: 30\"\n",
      "[1] \"Making UMAP\"\n",
      "4month - Res: 0.9 - Dim: 30: 40.381 sec elapsed\n",
      "[1] \"235 of 320\"\n",
      "[1] \"4month - Res: 0.9 - Dim: 40\"\n",
      "[1] \"Running PCA and clustering for time point: 4month\"\n",
      "[1] \"- Resolution: 0.9\"\n",
      "[1] \"- Dimensions: 40\"\n",
      "[1] \"Making UMAP\"\n",
      "4month - Res: 0.9 - Dim: 40: 41.346 sec elapsed\n",
      "[1] \"236 of 320\"\n",
      "[1] \"4month - Res: 0.9 - Dim: 50\"\n",
      "[1] \"Running PCA and clustering for time point: 4month\"\n",
      "[1] \"- Resolution: 0.9\"\n",
      "[1] \"- Dimensions: 50\"\n",
      "[1] \"Making UMAP\"\n",
      "4month - Res: 0.9 - Dim: 50: 45.705 sec elapsed\n",
      "[1] \"237 of 320\"\n",
      "[1] \"4month - Res: 1 - Dim: 20\"\n",
      "[1] \"Running PCA and clustering for time point: 4month\"\n",
      "[1] \"- Resolution: 1\"\n",
      "[1] \"- Dimensions: 20\"\n",
      "[1] \"Making UMAP\"\n",
      "4month - Res: 1 - Dim: 20: 38.727 sec elapsed\n",
      "[1] \"238 of 320\"\n",
      "[1] \"4month - Res: 1 - Dim: 30\"\n",
      "[1] \"Running PCA and clustering for time point: 4month\"\n",
      "[1] \"- Resolution: 1\"\n",
      "[1] \"- Dimensions: 30\"\n",
      "[1] \"Making UMAP\"\n",
      "4month - Res: 1 - Dim: 30: 39.743 sec elapsed\n",
      "[1] \"239 of 320\"\n",
      "[1] \"4month - Res: 1 - Dim: 40\"\n",
      "[1] \"Running PCA and clustering for time point: 4month\"\n",
      "[1] \"- Resolution: 1\"\n",
      "[1] \"- Dimensions: 40\"\n",
      "[1] \"Making UMAP\"\n",
      "4month - Res: 1 - Dim: 40: 41.85 sec elapsed\n",
      "[1] \"240 of 320\"\n",
      "[1] \"4month - Res: 1 - Dim: 50\"\n",
      "[1] \"Running PCA and clustering for time point: 4month\"\n",
      "[1] \"- Resolution: 1\"\n",
      "[1] \"- Dimensions: 50\"\n",
      "[1] \"Making UMAP\"\n",
      "4month - Res: 1 - Dim: 50: 45.649 sec elapsed\n",
      "[1] \"Loading data for time point: 5month\"\n",
      "Loading 5month: 26.354 sec elapsed\n",
      "[1] \"241 of 320\"\n",
      "[1] \"5month - Res: 0.1 - Dim: 20\"\n",
      "[1] \"Running PCA and clustering for time point: 5month\"\n",
      "[1] \"- Resolution: 0.1\"\n",
      "[1] \"- Dimensions: 20\"\n",
      "[1] \"Making UMAP\"\n",
      "5month - Res: 0.1 - Dim: 20: 30.961 sec elapsed\n",
      "[1] \"242 of 320\"\n",
      "[1] \"5month - Res: 0.1 - Dim: 30\"\n",
      "[1] \"Running PCA and clustering for time point: 5month\"\n",
      "[1] \"- Resolution: 0.1\"\n",
      "[1] \"- Dimensions: 30\"\n",
      "[1] \"Making UMAP\"\n",
      "5month - Res: 0.1 - Dim: 30: 31.945 sec elapsed\n",
      "[1] \"243 of 320\"\n",
      "[1] \"5month - Res: 0.1 - Dim: 40\"\n",
      "[1] \"Running PCA and clustering for time point: 5month\"\n",
      "[1] \"- Resolution: 0.1\"\n",
      "[1] \"- Dimensions: 40\"\n",
      "[1] \"Making UMAP\"\n",
      "5month - Res: 0.1 - Dim: 40: 33.395 sec elapsed\n",
      "[1] \"244 of 320\"\n",
      "[1] \"5month - Res: 0.1 - Dim: 50\"\n",
      "[1] \"Running PCA and clustering for time point: 5month\"\n",
      "[1] \"- Resolution: 0.1\"\n",
      "[1] \"- Dimensions: 50\"\n",
      "[1] \"Making UMAP\"\n",
      "5month - Res: 0.1 - Dim: 50: 34.805 sec elapsed\n",
      "[1] \"245 of 320\"\n",
      "[1] \"5month - Res: 0.2 - Dim: 20\"\n",
      "[1] \"Running PCA and clustering for time point: 5month\"\n",
      "[1] \"- Resolution: 0.2\"\n",
      "[1] \"- Dimensions: 20\"\n",
      "[1] \"Making UMAP\"\n",
      "5month - Res: 0.2 - Dim: 20: 31.167 sec elapsed\n",
      "[1] \"246 of 320\"\n",
      "[1] \"5month - Res: 0.2 - Dim: 30\"\n",
      "[1] \"Running PCA and clustering for time point: 5month\"\n",
      "[1] \"- Resolution: 0.2\"\n",
      "[1] \"- Dimensions: 30\"\n",
      "[1] \"Making UMAP\"\n",
      "5month - Res: 0.2 - Dim: 30: 31.855 sec elapsed\n",
      "[1] \"247 of 320\"\n",
      "[1] \"5month - Res: 0.2 - Dim: 40\"\n",
      "[1] \"Running PCA and clustering for time point: 5month\"\n",
      "[1] \"- Resolution: 0.2\"\n",
      "[1] \"- Dimensions: 40\"\n",
      "[1] \"Making UMAP\"\n",
      "5month - Res: 0.2 - Dim: 40: 33.725 sec elapsed\n",
      "[1] \"248 of 320\"\n",
      "[1] \"5month - Res: 0.2 - Dim: 50\"\n",
      "[1] \"Running PCA and clustering for time point: 5month\"\n",
      "[1] \"- Resolution: 0.2\"\n",
      "[1] \"- Dimensions: 50\"\n",
      "[1] \"Making UMAP\"\n",
      "5month - Res: 0.2 - Dim: 50: 35.106 sec elapsed\n",
      "[1] \"249 of 320\"\n",
      "[1] \"5month - Res: 0.3 - Dim: 20\"\n",
      "[1] \"Running PCA and clustering for time point: 5month\"\n",
      "[1] \"- Resolution: 0.3\"\n",
      "[1] \"- Dimensions: 20\"\n",
      "[1] \"Making UMAP\"\n",
      "5month - Res: 0.3 - Dim: 20: 30.743 sec elapsed\n",
      "[1] \"250 of 320\"\n",
      "[1] \"5month - Res: 0.3 - Dim: 30\"\n",
      "[1] \"Running PCA and clustering for time point: 5month\"\n",
      "[1] \"- Resolution: 0.3\"\n",
      "[1] \"- Dimensions: 30\"\n",
      "[1] \"Making UMAP\"\n",
      "5month - Res: 0.3 - Dim: 30: 31.957 sec elapsed\n",
      "[1] \"251 of 320\"\n",
      "[1] \"5month - Res: 0.3 - Dim: 40\"\n",
      "[1] \"Running PCA and clustering for time point: 5month\"\n",
      "[1] \"- Resolution: 0.3\"\n",
      "[1] \"- Dimensions: 40\"\n",
      "[1] \"Making UMAP\"\n",
      "5month - Res: 0.3 - Dim: 40: 33.334 sec elapsed\n",
      "[1] \"252 of 320\"\n",
      "[1] \"5month - Res: 0.3 - Dim: 50\"\n",
      "[1] \"Running PCA and clustering for time point: 5month\"\n",
      "[1] \"- Resolution: 0.3\"\n",
      "[1] \"- Dimensions: 50\"\n",
      "[1] \"Making UMAP\"\n",
      "5month - Res: 0.3 - Dim: 50: 35.866 sec elapsed\n",
      "[1] \"253 of 320\"\n",
      "[1] \"5month - Res: 0.4 - Dim: 20\"\n",
      "[1] \"Running PCA and clustering for time point: 5month\"\n",
      "[1] \"- Resolution: 0.4\"\n",
      "[1] \"- Dimensions: 20\"\n",
      "[1] \"Making UMAP\"\n",
      "5month - Res: 0.4 - Dim: 20: 31.108 sec elapsed\n",
      "[1] \"254 of 320\"\n",
      "[1] \"5month - Res: 0.4 - Dim: 30\"\n",
      "[1] \"Running PCA and clustering for time point: 5month\"\n",
      "[1] \"- Resolution: 0.4\"\n",
      "[1] \"- Dimensions: 30\"\n",
      "[1] \"Making UMAP\"\n",
      "5month - Res: 0.4 - Dim: 30: 31.988 sec elapsed\n",
      "[1] \"255 of 320\"\n",
      "[1] \"5month - Res: 0.4 - Dim: 40\"\n",
      "[1] \"Running PCA and clustering for time point: 5month\"\n",
      "[1] \"- Resolution: 0.4\"\n",
      "[1] \"- Dimensions: 40\"\n",
      "[1] \"Making UMAP\"\n",
      "5month - Res: 0.4 - Dim: 40: 32.995 sec elapsed\n",
      "[1] \"256 of 320\"\n",
      "[1] \"5month - Res: 0.4 - Dim: 50\"\n",
      "[1] \"Running PCA and clustering for time point: 5month\"\n",
      "[1] \"- Resolution: 0.4\"\n",
      "[1] \"- Dimensions: 50\"\n",
      "[1] \"Making UMAP\"\n",
      "5month - Res: 0.4 - Dim: 50: 35.734 sec elapsed\n",
      "[1] \"257 of 320\"\n",
      "[1] \"5month - Res: 0.5 - Dim: 20\"\n",
      "[1] \"Running PCA and clustering for time point: 5month\"\n",
      "[1] \"- Resolution: 0.5\"\n",
      "[1] \"- Dimensions: 20\"\n",
      "[1] \"Making UMAP\"\n",
      "5month - Res: 0.5 - Dim: 20: 31.369 sec elapsed\n",
      "[1] \"258 of 320\"\n",
      "[1] \"5month - Res: 0.5 - Dim: 30\"\n",
      "[1] \"Running PCA and clustering for time point: 5month\"\n",
      "[1] \"- Resolution: 0.5\"\n",
      "[1] \"- Dimensions: 30\"\n",
      "[1] \"Making UMAP\"\n",
      "5month - Res: 0.5 - Dim: 30: 31.599 sec elapsed\n",
      "[1] \"259 of 320\"\n",
      "[1] \"5month - Res: 0.5 - Dim: 40\"\n",
      "[1] \"Running PCA and clustering for time point: 5month\"\n",
      "[1] \"- Resolution: 0.5\"\n",
      "[1] \"- Dimensions: 40\"\n",
      "[1] \"Making UMAP\"\n",
      "5month - Res: 0.5 - Dim: 40: 33.21 sec elapsed\n",
      "[1] \"260 of 320\"\n",
      "[1] \"5month - Res: 0.5 - Dim: 50\"\n",
      "[1] \"Running PCA and clustering for time point: 5month\"\n",
      "[1] \"- Resolution: 0.5\"\n",
      "[1] \"- Dimensions: 50\"\n",
      "[1] \"Making UMAP\"\n",
      "5month - Res: 0.5 - Dim: 50: 34.644 sec elapsed\n",
      "[1] \"261 of 320\"\n",
      "[1] \"5month - Res: 0.6 - Dim: 20\"\n",
      "[1] \"Running PCA and clustering for time point: 5month\"\n",
      "[1] \"- Resolution: 0.6\"\n",
      "[1] \"- Dimensions: 20\"\n",
      "[1] \"Making UMAP\"\n",
      "5month - Res: 0.6 - Dim: 20: 31.039 sec elapsed\n",
      "[1] \"262 of 320\"\n",
      "[1] \"5month - Res: 0.6 - Dim: 30\"\n",
      "[1] \"Running PCA and clustering for time point: 5month\"\n",
      "[1] \"- Resolution: 0.6\"\n",
      "[1] \"- Dimensions: 30\"\n",
      "[1] \"Making UMAP\"\n",
      "5month - Res: 0.6 - Dim: 30: 32.327 sec elapsed\n",
      "[1] \"263 of 320\"\n",
      "[1] \"5month - Res: 0.6 - Dim: 40\"\n",
      "[1] \"Running PCA and clustering for time point: 5month\"\n",
      "[1] \"- Resolution: 0.6\"\n",
      "[1] \"- Dimensions: 40\"\n",
      "[1] \"Making UMAP\"\n",
      "5month - Res: 0.6 - Dim: 40: 32.689 sec elapsed\n",
      "[1] \"264 of 320\"\n",
      "[1] \"5month - Res: 0.6 - Dim: 50\"\n",
      "[1] \"Running PCA and clustering for time point: 5month\"\n",
      "[1] \"- Resolution: 0.6\"\n",
      "[1] \"- Dimensions: 50\"\n",
      "[1] \"Making UMAP\"\n",
      "5month - Res: 0.6 - Dim: 50: 35.298 sec elapsed\n",
      "[1] \"265 of 320\"\n",
      "[1] \"5month - Res: 0.7 - Dim: 20\"\n",
      "[1] \"Running PCA and clustering for time point: 5month\"\n",
      "[1] \"- Resolution: 0.7\"\n",
      "[1] \"- Dimensions: 20\"\n",
      "[1] \"Making UMAP\"\n",
      "5month - Res: 0.7 - Dim: 20: 31.212 sec elapsed\n",
      "[1] \"266 of 320\"\n",
      "[1] \"5month - Res: 0.7 - Dim: 30\"\n",
      "[1] \"Running PCA and clustering for time point: 5month\"\n",
      "[1] \"- Resolution: 0.7\"\n",
      "[1] \"- Dimensions: 30\"\n",
      "[1] \"Making UMAP\"\n",
      "5month - Res: 0.7 - Dim: 30: 32.004 sec elapsed\n",
      "[1] \"267 of 320\"\n",
      "[1] \"5month - Res: 0.7 - Dim: 40\"\n",
      "[1] \"Running PCA and clustering for time point: 5month\"\n",
      "[1] \"- Resolution: 0.7\"\n",
      "[1] \"- Dimensions: 40\"\n",
      "[1] \"Making UMAP\"\n",
      "5month - Res: 0.7 - Dim: 40: 33.628 sec elapsed\n",
      "[1] \"268 of 320\"\n",
      "[1] \"5month - Res: 0.7 - Dim: 50\"\n",
      "[1] \"Running PCA and clustering for time point: 5month\"\n",
      "[1] \"- Resolution: 0.7\"\n",
      "[1] \"- Dimensions: 50\"\n",
      "[1] \"Making UMAP\"\n",
      "5month - Res: 0.7 - Dim: 50: 35.484 sec elapsed\n",
      "[1] \"269 of 320\"\n",
      "[1] \"5month - Res: 0.8 - Dim: 20\"\n",
      "[1] \"Running PCA and clustering for time point: 5month\"\n",
      "[1] \"- Resolution: 0.8\"\n",
      "[1] \"- Dimensions: 20\"\n",
      "[1] \"Making UMAP\"\n",
      "5month - Res: 0.8 - Dim: 20: 31.117 sec elapsed\n",
      "[1] \"270 of 320\"\n",
      "[1] \"5month - Res: 0.8 - Dim: 30\"\n",
      "[1] \"Running PCA and clustering for time point: 5month\"\n",
      "[1] \"- Resolution: 0.8\"\n",
      "[1] \"- Dimensions: 30\"\n",
      "[1] \"Making UMAP\"\n",
      "5month - Res: 0.8 - Dim: 30: 31.933 sec elapsed\n",
      "[1] \"271 of 320\"\n",
      "[1] \"5month - Res: 0.8 - Dim: 40\"\n",
      "[1] \"Running PCA and clustering for time point: 5month\"\n",
      "[1] \"- Resolution: 0.8\"\n",
      "[1] \"- Dimensions: 40\"\n",
      "[1] \"Making UMAP\"\n",
      "5month - Res: 0.8 - Dim: 40: 33.154 sec elapsed\n",
      "[1] \"272 of 320\"\n",
      "[1] \"5month - Res: 0.8 - Dim: 50\"\n",
      "[1] \"Running PCA and clustering for time point: 5month\"\n",
      "[1] \"- Resolution: 0.8\"\n",
      "[1] \"- Dimensions: 50\"\n",
      "[1] \"Making UMAP\"\n",
      "5month - Res: 0.8 - Dim: 50: 35.042 sec elapsed\n",
      "[1] \"273 of 320\"\n",
      "[1] \"5month - Res: 0.9 - Dim: 20\"\n",
      "[1] \"Running PCA and clustering for time point: 5month\"\n",
      "[1] \"- Resolution: 0.9\"\n",
      "[1] \"- Dimensions: 20\"\n",
      "[1] \"Making UMAP\"\n",
      "5month - Res: 0.9 - Dim: 20: 31.044 sec elapsed\n",
      "[1] \"274 of 320\"\n",
      "[1] \"5month - Res: 0.9 - Dim: 30\"\n",
      "[1] \"Running PCA and clustering for time point: 5month\"\n",
      "[1] \"- Resolution: 0.9\"\n",
      "[1] \"- Dimensions: 30\"\n",
      "[1] \"Making UMAP\"\n",
      "5month - Res: 0.9 - Dim: 30: 31.757 sec elapsed\n",
      "[1] \"275 of 320\"\n",
      "[1] \"5month - Res: 0.9 - Dim: 40\"\n",
      "[1] \"Running PCA and clustering for time point: 5month\"\n",
      "[1] \"- Resolution: 0.9\"\n",
      "[1] \"- Dimensions: 40\"\n",
      "[1] \"Making UMAP\"\n",
      "5month - Res: 0.9 - Dim: 40: 33.178 sec elapsed\n",
      "[1] \"276 of 320\"\n",
      "[1] \"5month - Res: 0.9 - Dim: 50\"\n",
      "[1] \"Running PCA and clustering for time point: 5month\"\n",
      "[1] \"- Resolution: 0.9\"\n",
      "[1] \"- Dimensions: 50\"\n",
      "[1] \"Making UMAP\"\n",
      "5month - Res: 0.9 - Dim: 50: 35.804 sec elapsed\n",
      "[1] \"277 of 320\"\n",
      "[1] \"5month - Res: 1 - Dim: 20\"\n",
      "[1] \"Running PCA and clustering for time point: 5month\"\n",
      "[1] \"- Resolution: 1\"\n",
      "[1] \"- Dimensions: 20\"\n",
      "[1] \"Making UMAP\"\n",
      "5month - Res: 1 - Dim: 20: 30.766 sec elapsed\n",
      "[1] \"278 of 320\"\n",
      "[1] \"5month - Res: 1 - Dim: 30\"\n",
      "[1] \"Running PCA and clustering for time point: 5month\"\n",
      "[1] \"- Resolution: 1\"\n",
      "[1] \"- Dimensions: 30\"\n",
      "[1] \"Making UMAP\"\n",
      "5month - Res: 1 - Dim: 30: 31.628 sec elapsed\n",
      "[1] \"279 of 320\"\n",
      "[1] \"5month - Res: 1 - Dim: 40\"\n",
      "[1] \"Running PCA and clustering for time point: 5month\"\n",
      "[1] \"- Resolution: 1\"\n",
      "[1] \"- Dimensions: 40\"\n",
      "[1] \"Making UMAP\"\n",
      "5month - Res: 1 - Dim: 40: 33.692 sec elapsed\n",
      "[1] \"280 of 320\"\n",
      "[1] \"5month - Res: 1 - Dim: 50\"\n",
      "[1] \"Running PCA and clustering for time point: 5month\"\n",
      "[1] \"- Resolution: 1\"\n",
      "[1] \"- Dimensions: 50\"\n",
      "[1] \"Making UMAP\"\n",
      "5month - Res: 1 - Dim: 50: 35.968 sec elapsed\n",
      "[1] \"Loading data for time point: 6month\"\n"
     ]
    },
    {
     "name": "stderr",
     "output_type": "stream",
     "text": [
      "Warning message:\n",
      "“Input parameters result in NA values for initial cell identities. Setting all initial idents to the project name”\n"
     ]
    },
    {
     "name": "stdout",
     "output_type": "stream",
     "text": [
      "Loading 6month: 96.211 sec elapsed\n",
      "[1] \"281 of 320\"\n",
      "[1] \"6month - Res: 0.1 - Dim: 20\"\n",
      "[1] \"Running PCA and clustering for time point: 6month\"\n",
      "[1] \"- Resolution: 0.1\"\n",
      "[1] \"- Dimensions: 20\"\n",
      "[1] \"Making UMAP\"\n"
     ]
    },
    {
     "name": "stderr",
     "output_type": "stream",
     "text": [
      "Rasterizing points since number of points exceeds 100,000.\n",
      "To disable this behavior set `raster=FALSE`\n",
      "\n"
     ]
    },
    {
     "name": "stdout",
     "output_type": "stream",
     "text": [
      "6month - Res: 0.1 - Dim: 20: 150.529 sec elapsed\n",
      "[1] \"282 of 320\"\n",
      "[1] \"6month - Res: 0.1 - Dim: 30\"\n",
      "[1] \"Running PCA and clustering for time point: 6month\"\n",
      "[1] \"- Resolution: 0.1\"\n",
      "[1] \"- Dimensions: 30\"\n",
      "[1] \"Making UMAP\"\n"
     ]
    },
    {
     "name": "stderr",
     "output_type": "stream",
     "text": [
      "Rasterizing points since number of points exceeds 100,000.\n",
      "To disable this behavior set `raster=FALSE`\n",
      "\n"
     ]
    },
    {
     "name": "stdout",
     "output_type": "stream",
     "text": [
      "6month - Res: 0.1 - Dim: 30: 156.446 sec elapsed\n",
      "[1] \"283 of 320\"\n",
      "[1] \"6month - Res: 0.1 - Dim: 40\"\n",
      "[1] \"Running PCA and clustering for time point: 6month\"\n",
      "[1] \"- Resolution: 0.1\"\n",
      "[1] \"- Dimensions: 40\"\n",
      "[1] \"Making UMAP\"\n"
     ]
    },
    {
     "name": "stderr",
     "output_type": "stream",
     "text": [
      "Rasterizing points since number of points exceeds 100,000.\n",
      "To disable this behavior set `raster=FALSE`\n",
      "\n"
     ]
    },
    {
     "name": "stdout",
     "output_type": "stream",
     "text": [
      "6month - Res: 0.1 - Dim: 40: 160.527 sec elapsed\n",
      "[1] \"284 of 320\"\n",
      "[1] \"6month - Res: 0.1 - Dim: 50\"\n",
      "[1] \"Running PCA and clustering for time point: 6month\"\n",
      "[1] \"- Resolution: 0.1\"\n",
      "[1] \"- Dimensions: 50\"\n",
      "[1] \"Making UMAP\"\n"
     ]
    },
    {
     "name": "stderr",
     "output_type": "stream",
     "text": [
      "Rasterizing points since number of points exceeds 100,000.\n",
      "To disable this behavior set `raster=FALSE`\n",
      "\n"
     ]
    },
    {
     "name": "stdout",
     "output_type": "stream",
     "text": [
      "6month - Res: 0.1 - Dim: 50: 164.642 sec elapsed\n",
      "[1] \"285 of 320\"\n",
      "[1] \"6month - Res: 0.2 - Dim: 20\"\n",
      "[1] \"Running PCA and clustering for time point: 6month\"\n",
      "[1] \"- Resolution: 0.2\"\n",
      "[1] \"- Dimensions: 20\"\n",
      "[1] \"Making UMAP\"\n"
     ]
    },
    {
     "name": "stderr",
     "output_type": "stream",
     "text": [
      "Rasterizing points since number of points exceeds 100,000.\n",
      "To disable this behavior set `raster=FALSE`\n",
      "\n"
     ]
    },
    {
     "name": "stdout",
     "output_type": "stream",
     "text": [
      "6month - Res: 0.2 - Dim: 20: 152.514 sec elapsed\n",
      "[1] \"286 of 320\"\n",
      "[1] \"6month - Res: 0.2 - Dim: 30\"\n",
      "[1] \"Running PCA and clustering for time point: 6month\"\n",
      "[1] \"- Resolution: 0.2\"\n",
      "[1] \"- Dimensions: 30\"\n",
      "[1] \"Making UMAP\"\n"
     ]
    },
    {
     "name": "stderr",
     "output_type": "stream",
     "text": [
      "Rasterizing points since number of points exceeds 100,000.\n",
      "To disable this behavior set `raster=FALSE`\n",
      "\n"
     ]
    },
    {
     "name": "stdout",
     "output_type": "stream",
     "text": [
      "6month - Res: 0.2 - Dim: 30: 152.392 sec elapsed\n",
      "[1] \"287 of 320\"\n",
      "[1] \"6month - Res: 0.2 - Dim: 40\"\n",
      "[1] \"Running PCA and clustering for time point: 6month\"\n",
      "[1] \"- Resolution: 0.2\"\n",
      "[1] \"- Dimensions: 40\"\n",
      "[1] \"Making UMAP\"\n"
     ]
    },
    {
     "name": "stderr",
     "output_type": "stream",
     "text": [
      "Rasterizing points since number of points exceeds 100,000.\n",
      "To disable this behavior set `raster=FALSE`\n",
      "\n"
     ]
    },
    {
     "name": "stdout",
     "output_type": "stream",
     "text": [
      "6month - Res: 0.2 - Dim: 40: 158.942 sec elapsed\n",
      "[1] \"288 of 320\"\n",
      "[1] \"6month - Res: 0.2 - Dim: 50\"\n",
      "[1] \"Running PCA and clustering for time point: 6month\"\n",
      "[1] \"- Resolution: 0.2\"\n",
      "[1] \"- Dimensions: 50\"\n",
      "[1] \"Making UMAP\"\n"
     ]
    },
    {
     "name": "stderr",
     "output_type": "stream",
     "text": [
      "Rasterizing points since number of points exceeds 100,000.\n",
      "To disable this behavior set `raster=FALSE`\n",
      "\n"
     ]
    },
    {
     "name": "stdout",
     "output_type": "stream",
     "text": [
      "6month - Res: 0.2 - Dim: 50: 166.241 sec elapsed\n",
      "[1] \"289 of 320\"\n",
      "[1] \"6month - Res: 0.3 - Dim: 20\"\n",
      "[1] \"Running PCA and clustering for time point: 6month\"\n",
      "[1] \"- Resolution: 0.3\"\n",
      "[1] \"- Dimensions: 20\"\n",
      "[1] \"Making UMAP\"\n"
     ]
    },
    {
     "name": "stderr",
     "output_type": "stream",
     "text": [
      "Rasterizing points since number of points exceeds 100,000.\n",
      "To disable this behavior set `raster=FALSE`\n",
      "\n"
     ]
    },
    {
     "name": "stdout",
     "output_type": "stream",
     "text": [
      "6month - Res: 0.3 - Dim: 20: 151.468 sec elapsed\n",
      "[1] \"290 of 320\"\n",
      "[1] \"6month - Res: 0.3 - Dim: 30\"\n",
      "[1] \"Running PCA and clustering for time point: 6month\"\n",
      "[1] \"- Resolution: 0.3\"\n",
      "[1] \"- Dimensions: 30\"\n",
      "[1] \"Making UMAP\"\n"
     ]
    },
    {
     "name": "stderr",
     "output_type": "stream",
     "text": [
      "Rasterizing points since number of points exceeds 100,000.\n",
      "To disable this behavior set `raster=FALSE`\n",
      "\n"
     ]
    },
    {
     "name": "stdout",
     "output_type": "stream",
     "text": [
      "6month - Res: 0.3 - Dim: 30: 151.039 sec elapsed\n",
      "[1] \"291 of 320\"\n",
      "[1] \"6month - Res: 0.3 - Dim: 40\"\n",
      "[1] \"Running PCA and clustering for time point: 6month\"\n",
      "[1] \"- Resolution: 0.3\"\n",
      "[1] \"- Dimensions: 40\"\n",
      "[1] \"Making UMAP\"\n"
     ]
    },
    {
     "name": "stderr",
     "output_type": "stream",
     "text": [
      "Rasterizing points since number of points exceeds 100,000.\n",
      "To disable this behavior set `raster=FALSE`\n",
      "\n"
     ]
    },
    {
     "name": "stdout",
     "output_type": "stream",
     "text": [
      "6month - Res: 0.3 - Dim: 40: 158.504 sec elapsed\n",
      "[1] \"292 of 320\"\n",
      "[1] \"6month - Res: 0.3 - Dim: 50\"\n",
      "[1] \"Running PCA and clustering for time point: 6month\"\n",
      "[1] \"- Resolution: 0.3\"\n",
      "[1] \"- Dimensions: 50\"\n",
      "[1] \"Making UMAP\"\n"
     ]
    },
    {
     "name": "stderr",
     "output_type": "stream",
     "text": [
      "Rasterizing points since number of points exceeds 100,000.\n",
      "To disable this behavior set `raster=FALSE`\n",
      "\n"
     ]
    },
    {
     "name": "stdout",
     "output_type": "stream",
     "text": [
      "6month - Res: 0.3 - Dim: 50: 166.225 sec elapsed\n",
      "[1] \"293 of 320\"\n",
      "[1] \"6month - Res: 0.4 - Dim: 20\"\n",
      "[1] \"Running PCA and clustering for time point: 6month\"\n",
      "[1] \"- Resolution: 0.4\"\n",
      "[1] \"- Dimensions: 20\"\n",
      "[1] \"Making UMAP\"\n"
     ]
    },
    {
     "name": "stderr",
     "output_type": "stream",
     "text": [
      "Rasterizing points since number of points exceeds 100,000.\n",
      "To disable this behavior set `raster=FALSE`\n",
      "\n"
     ]
    },
    {
     "name": "stdout",
     "output_type": "stream",
     "text": [
      "6month - Res: 0.4 - Dim: 20: 151.813 sec elapsed\n",
      "[1] \"294 of 320\"\n",
      "[1] \"6month - Res: 0.4 - Dim: 30\"\n",
      "[1] \"Running PCA and clustering for time point: 6month\"\n",
      "[1] \"- Resolution: 0.4\"\n",
      "[1] \"- Dimensions: 30\"\n",
      "[1] \"Making UMAP\"\n"
     ]
    },
    {
     "name": "stderr",
     "output_type": "stream",
     "text": [
      "Rasterizing points since number of points exceeds 100,000.\n",
      "To disable this behavior set `raster=FALSE`\n",
      "\n"
     ]
    },
    {
     "name": "stdout",
     "output_type": "stream",
     "text": [
      "6month - Res: 0.4 - Dim: 30: 150.525 sec elapsed\n",
      "[1] \"295 of 320\"\n",
      "[1] \"6month - Res: 0.4 - Dim: 40\"\n",
      "[1] \"Running PCA and clustering for time point: 6month\"\n",
      "[1] \"- Resolution: 0.4\"\n",
      "[1] \"- Dimensions: 40\"\n",
      "[1] \"Making UMAP\"\n"
     ]
    },
    {
     "name": "stderr",
     "output_type": "stream",
     "text": [
      "Rasterizing points since number of points exceeds 100,000.\n",
      "To disable this behavior set `raster=FALSE`\n",
      "\n"
     ]
    },
    {
     "name": "stdout",
     "output_type": "stream",
     "text": [
      "6month - Res: 0.4 - Dim: 40: 158.352 sec elapsed\n",
      "[1] \"296 of 320\"\n",
      "[1] \"6month - Res: 0.4 - Dim: 50\"\n",
      "[1] \"Running PCA and clustering for time point: 6month\"\n",
      "[1] \"- Resolution: 0.4\"\n",
      "[1] \"- Dimensions: 50\"\n",
      "[1] \"Making UMAP\"\n"
     ]
    },
    {
     "name": "stderr",
     "output_type": "stream",
     "text": [
      "Rasterizing points since number of points exceeds 100,000.\n",
      "To disable this behavior set `raster=FALSE`\n",
      "\n"
     ]
    },
    {
     "name": "stdout",
     "output_type": "stream",
     "text": [
      "6month - Res: 0.4 - Dim: 50: 167.426 sec elapsed\n",
      "[1] \"297 of 320\"\n",
      "[1] \"6month - Res: 0.5 - Dim: 20\"\n",
      "[1] \"Running PCA and clustering for time point: 6month\"\n",
      "[1] \"- Resolution: 0.5\"\n",
      "[1] \"- Dimensions: 20\"\n",
      "[1] \"Making UMAP\"\n"
     ]
    },
    {
     "name": "stderr",
     "output_type": "stream",
     "text": [
      "Rasterizing points since number of points exceeds 100,000.\n",
      "To disable this behavior set `raster=FALSE`\n",
      "\n"
     ]
    },
    {
     "name": "stdout",
     "output_type": "stream",
     "text": [
      "6month - Res: 0.5 - Dim: 20: 152.164 sec elapsed\n",
      "[1] \"298 of 320\"\n",
      "[1] \"6month - Res: 0.5 - Dim: 30\"\n",
      "[1] \"Running PCA and clustering for time point: 6month\"\n",
      "[1] \"- Resolution: 0.5\"\n",
      "[1] \"- Dimensions: 30\"\n",
      "[1] \"Making UMAP\"\n"
     ]
    },
    {
     "name": "stderr",
     "output_type": "stream",
     "text": [
      "Rasterizing points since number of points exceeds 100,000.\n",
      "To disable this behavior set `raster=FALSE`\n",
      "\n"
     ]
    },
    {
     "name": "stdout",
     "output_type": "stream",
     "text": [
      "6month - Res: 0.5 - Dim: 30: 150.169 sec elapsed\n",
      "[1] \"299 of 320\"\n",
      "[1] \"6month - Res: 0.5 - Dim: 40\"\n",
      "[1] \"Running PCA and clustering for time point: 6month\"\n",
      "[1] \"- Resolution: 0.5\"\n",
      "[1] \"- Dimensions: 40\"\n",
      "[1] \"Making UMAP\"\n"
     ]
    },
    {
     "name": "stderr",
     "output_type": "stream",
     "text": [
      "Rasterizing points since number of points exceeds 100,000.\n",
      "To disable this behavior set `raster=FALSE`\n",
      "\n"
     ]
    },
    {
     "name": "stdout",
     "output_type": "stream",
     "text": [
      "6month - Res: 0.5 - Dim: 40: 160.152 sec elapsed\n",
      "[1] \"300 of 320\"\n",
      "[1] \"6month - Res: 0.5 - Dim: 50\"\n",
      "[1] \"Running PCA and clustering for time point: 6month\"\n",
      "[1] \"- Resolution: 0.5\"\n",
      "[1] \"- Dimensions: 50\"\n",
      "[1] \"Making UMAP\"\n"
     ]
    },
    {
     "name": "stderr",
     "output_type": "stream",
     "text": [
      "Rasterizing points since number of points exceeds 100,000.\n",
      "To disable this behavior set `raster=FALSE`\n",
      "\n"
     ]
    },
    {
     "name": "stdout",
     "output_type": "stream",
     "text": [
      "6month - Res: 0.5 - Dim: 50: 163.773 sec elapsed\n",
      "[1] \"301 of 320\"\n",
      "[1] \"6month - Res: 0.6 - Dim: 20\"\n",
      "[1] \"Running PCA and clustering for time point: 6month\"\n",
      "[1] \"- Resolution: 0.6\"\n",
      "[1] \"- Dimensions: 20\"\n",
      "[1] \"Making UMAP\"\n"
     ]
    },
    {
     "name": "stderr",
     "output_type": "stream",
     "text": [
      "Rasterizing points since number of points exceeds 100,000.\n",
      "To disable this behavior set `raster=FALSE`\n",
      "\n"
     ]
    },
    {
     "name": "stdout",
     "output_type": "stream",
     "text": [
      "6month - Res: 0.6 - Dim: 20: 153.135 sec elapsed\n",
      "[1] \"302 of 320\"\n",
      "[1] \"6month - Res: 0.6 - Dim: 30\"\n",
      "[1] \"Running PCA and clustering for time point: 6month\"\n",
      "[1] \"- Resolution: 0.6\"\n",
      "[1] \"- Dimensions: 30\"\n",
      "[1] \"Making UMAP\"\n"
     ]
    },
    {
     "name": "stderr",
     "output_type": "stream",
     "text": [
      "Rasterizing points since number of points exceeds 100,000.\n",
      "To disable this behavior set `raster=FALSE`\n",
      "\n"
     ]
    },
    {
     "name": "stdout",
     "output_type": "stream",
     "text": [
      "6month - Res: 0.6 - Dim: 30: 149.532 sec elapsed\n",
      "[1] \"303 of 320\"\n",
      "[1] \"6month - Res: 0.6 - Dim: 40\"\n",
      "[1] \"Running PCA and clustering for time point: 6month\"\n",
      "[1] \"- Resolution: 0.6\"\n",
      "[1] \"- Dimensions: 40\"\n",
      "[1] \"Making UMAP\"\n"
     ]
    },
    {
     "name": "stderr",
     "output_type": "stream",
     "text": [
      "Rasterizing points since number of points exceeds 100,000.\n",
      "To disable this behavior set `raster=FALSE`\n",
      "\n"
     ]
    },
    {
     "name": "stdout",
     "output_type": "stream",
     "text": [
      "6month - Res: 0.6 - Dim: 40: 155.831 sec elapsed\n",
      "[1] \"304 of 320\"\n",
      "[1] \"6month - Res: 0.6 - Dim: 50\"\n",
      "[1] \"Running PCA and clustering for time point: 6month\"\n",
      "[1] \"- Resolution: 0.6\"\n",
      "[1] \"- Dimensions: 50\"\n",
      "[1] \"Making UMAP\"\n"
     ]
    },
    {
     "name": "stderr",
     "output_type": "stream",
     "text": [
      "Rasterizing points since number of points exceeds 100,000.\n",
      "To disable this behavior set `raster=FALSE`\n",
      "\n"
     ]
    },
    {
     "name": "stdout",
     "output_type": "stream",
     "text": [
      "6month - Res: 0.6 - Dim: 50: 166.016 sec elapsed\n",
      "[1] \"305 of 320\"\n",
      "[1] \"6month - Res: 0.7 - Dim: 20\"\n",
      "[1] \"Running PCA and clustering for time point: 6month\"\n",
      "[1] \"- Resolution: 0.7\"\n",
      "[1] \"- Dimensions: 20\"\n",
      "[1] \"Making UMAP\"\n"
     ]
    },
    {
     "name": "stderr",
     "output_type": "stream",
     "text": [
      "Rasterizing points since number of points exceeds 100,000.\n",
      "To disable this behavior set `raster=FALSE`\n",
      "\n"
     ]
    },
    {
     "name": "stdout",
     "output_type": "stream",
     "text": [
      "6month - Res: 0.7 - Dim: 20: 149.6 sec elapsed\n",
      "[1] \"306 of 320\"\n",
      "[1] \"6month - Res: 0.7 - Dim: 30\"\n",
      "[1] \"Running PCA and clustering for time point: 6month\"\n",
      "[1] \"- Resolution: 0.7\"\n",
      "[1] \"- Dimensions: 30\"\n",
      "[1] \"Making UMAP\"\n"
     ]
    },
    {
     "name": "stderr",
     "output_type": "stream",
     "text": [
      "Rasterizing points since number of points exceeds 100,000.\n",
      "To disable this behavior set `raster=FALSE`\n",
      "\n"
     ]
    },
    {
     "name": "stdout",
     "output_type": "stream",
     "text": [
      "6month - Res: 0.7 - Dim: 30: 149.385 sec elapsed\n",
      "[1] \"307 of 320\"\n",
      "[1] \"6month - Res: 0.7 - Dim: 40\"\n",
      "[1] \"Running PCA and clustering for time point: 6month\"\n",
      "[1] \"- Resolution: 0.7\"\n",
      "[1] \"- Dimensions: 40\"\n",
      "[1] \"Making UMAP\"\n"
     ]
    },
    {
     "name": "stderr",
     "output_type": "stream",
     "text": [
      "Rasterizing points since number of points exceeds 100,000.\n",
      "To disable this behavior set `raster=FALSE`\n",
      "\n"
     ]
    },
    {
     "name": "stdout",
     "output_type": "stream",
     "text": [
      "6month - Res: 0.7 - Dim: 40: 157.82 sec elapsed\n",
      "[1] \"308 of 320\"\n",
      "[1] \"6month - Res: 0.7 - Dim: 50\"\n",
      "[1] \"Running PCA and clustering for time point: 6month\"\n",
      "[1] \"- Resolution: 0.7\"\n",
      "[1] \"- Dimensions: 50\"\n",
      "[1] \"Making UMAP\"\n"
     ]
    },
    {
     "name": "stderr",
     "output_type": "stream",
     "text": [
      "Rasterizing points since number of points exceeds 100,000.\n",
      "To disable this behavior set `raster=FALSE`\n",
      "\n"
     ]
    },
    {
     "name": "stdout",
     "output_type": "stream",
     "text": [
      "6month - Res: 0.7 - Dim: 50: 166.369 sec elapsed\n",
      "[1] \"309 of 320\"\n",
      "[1] \"6month - Res: 0.8 - Dim: 20\"\n",
      "[1] \"Running PCA and clustering for time point: 6month\"\n",
      "[1] \"- Resolution: 0.8\"\n",
      "[1] \"- Dimensions: 20\"\n",
      "[1] \"Making UMAP\"\n"
     ]
    },
    {
     "name": "stderr",
     "output_type": "stream",
     "text": [
      "Rasterizing points since number of points exceeds 100,000.\n",
      "To disable this behavior set `raster=FALSE`\n",
      "\n"
     ]
    },
    {
     "name": "stdout",
     "output_type": "stream",
     "text": [
      "6month - Res: 0.8 - Dim: 20: 149.904 sec elapsed\n",
      "[1] \"310 of 320\"\n",
      "[1] \"6month - Res: 0.8 - Dim: 30\"\n",
      "[1] \"Running PCA and clustering for time point: 6month\"\n",
      "[1] \"- Resolution: 0.8\"\n",
      "[1] \"- Dimensions: 30\"\n",
      "[1] \"Making UMAP\"\n"
     ]
    },
    {
     "name": "stderr",
     "output_type": "stream",
     "text": [
      "Rasterizing points since number of points exceeds 100,000.\n",
      "To disable this behavior set `raster=FALSE`\n",
      "\n"
     ]
    },
    {
     "name": "stdout",
     "output_type": "stream",
     "text": [
      "6month - Res: 0.8 - Dim: 30: 148.411 sec elapsed\n",
      "[1] \"311 of 320\"\n",
      "[1] \"6month - Res: 0.8 - Dim: 40\"\n",
      "[1] \"Running PCA and clustering for time point: 6month\"\n",
      "[1] \"- Resolution: 0.8\"\n",
      "[1] \"- Dimensions: 40\"\n",
      "[1] \"Making UMAP\"\n"
     ]
    },
    {
     "name": "stderr",
     "output_type": "stream",
     "text": [
      "Rasterizing points since number of points exceeds 100,000.\n",
      "To disable this behavior set `raster=FALSE`\n",
      "\n"
     ]
    },
    {
     "name": "stdout",
     "output_type": "stream",
     "text": [
      "6month - Res: 0.8 - Dim: 40: 156.494 sec elapsed\n",
      "[1] \"312 of 320\"\n",
      "[1] \"6month - Res: 0.8 - Dim: 50\"\n",
      "[1] \"Running PCA and clustering for time point: 6month\"\n",
      "[1] \"- Resolution: 0.8\"\n",
      "[1] \"- Dimensions: 50\"\n",
      "[1] \"Making UMAP\"\n"
     ]
    },
    {
     "name": "stderr",
     "output_type": "stream",
     "text": [
      "Rasterizing points since number of points exceeds 100,000.\n",
      "To disable this behavior set `raster=FALSE`\n",
      "\n"
     ]
    },
    {
     "name": "stdout",
     "output_type": "stream",
     "text": [
      "6month - Res: 0.8 - Dim: 50: 164.17 sec elapsed\n",
      "[1] \"313 of 320\"\n",
      "[1] \"6month - Res: 0.9 - Dim: 20\"\n",
      "[1] \"Running PCA and clustering for time point: 6month\"\n",
      "[1] \"- Resolution: 0.9\"\n",
      "[1] \"- Dimensions: 20\"\n",
      "[1] \"Making UMAP\"\n"
     ]
    },
    {
     "name": "stderr",
     "output_type": "stream",
     "text": [
      "Rasterizing points since number of points exceeds 100,000.\n",
      "To disable this behavior set `raster=FALSE`\n",
      "\n"
     ]
    },
    {
     "name": "stdout",
     "output_type": "stream",
     "text": [
      "6month - Res: 0.9 - Dim: 20: 148.673 sec elapsed\n",
      "[1] \"314 of 320\"\n",
      "[1] \"6month - Res: 0.9 - Dim: 30\"\n",
      "[1] \"Running PCA and clustering for time point: 6month\"\n",
      "[1] \"- Resolution: 0.9\"\n",
      "[1] \"- Dimensions: 30\"\n",
      "[1] \"Making UMAP\"\n"
     ]
    },
    {
     "name": "stderr",
     "output_type": "stream",
     "text": [
      "Rasterizing points since number of points exceeds 100,000.\n",
      "To disable this behavior set `raster=FALSE`\n",
      "\n"
     ]
    },
    {
     "name": "stdout",
     "output_type": "stream",
     "text": [
      "6month - Res: 0.9 - Dim: 30: 151.046 sec elapsed\n",
      "[1] \"315 of 320\"\n",
      "[1] \"6month - Res: 0.9 - Dim: 40\"\n",
      "[1] \"Running PCA and clustering for time point: 6month\"\n",
      "[1] \"- Resolution: 0.9\"\n",
      "[1] \"- Dimensions: 40\"\n",
      "[1] \"Making UMAP\"\n"
     ]
    },
    {
     "name": "stderr",
     "output_type": "stream",
     "text": [
      "Rasterizing points since number of points exceeds 100,000.\n",
      "To disable this behavior set `raster=FALSE`\n",
      "\n"
     ]
    },
    {
     "name": "stdout",
     "output_type": "stream",
     "text": [
      "6month - Res: 0.9 - Dim: 40: 157.862 sec elapsed\n",
      "[1] \"316 of 320\"\n",
      "[1] \"6month - Res: 0.9 - Dim: 50\"\n",
      "[1] \"Running PCA and clustering for time point: 6month\"\n",
      "[1] \"- Resolution: 0.9\"\n",
      "[1] \"- Dimensions: 50\"\n",
      "[1] \"Making UMAP\"\n"
     ]
    },
    {
     "name": "stderr",
     "output_type": "stream",
     "text": [
      "Rasterizing points since number of points exceeds 100,000.\n",
      "To disable this behavior set `raster=FALSE`\n",
      "\n"
     ]
    },
    {
     "name": "stdout",
     "output_type": "stream",
     "text": [
      "6month - Res: 0.9 - Dim: 50: 161.787 sec elapsed\n",
      "[1] \"317 of 320\"\n",
      "[1] \"6month - Res: 1 - Dim: 20\"\n",
      "[1] \"Running PCA and clustering for time point: 6month\"\n",
      "[1] \"- Resolution: 1\"\n",
      "[1] \"- Dimensions: 20\"\n",
      "[1] \"Making UMAP\"\n"
     ]
    },
    {
     "name": "stderr",
     "output_type": "stream",
     "text": [
      "Rasterizing points since number of points exceeds 100,000.\n",
      "To disable this behavior set `raster=FALSE`\n",
      "\n"
     ]
    },
    {
     "name": "stdout",
     "output_type": "stream",
     "text": [
      "6month - Res: 1 - Dim: 20: 150.828 sec elapsed\n",
      "[1] \"318 of 320\"\n",
      "[1] \"6month - Res: 1 - Dim: 30\"\n",
      "[1] \"Running PCA and clustering for time point: 6month\"\n",
      "[1] \"- Resolution: 1\"\n",
      "[1] \"- Dimensions: 30\"\n",
      "[1] \"Making UMAP\"\n"
     ]
    },
    {
     "name": "stderr",
     "output_type": "stream",
     "text": [
      "Rasterizing points since number of points exceeds 100,000.\n",
      "To disable this behavior set `raster=FALSE`\n",
      "\n"
     ]
    },
    {
     "name": "stdout",
     "output_type": "stream",
     "text": [
      "6month - Res: 1 - Dim: 30: 151.2 sec elapsed\n",
      "[1] \"319 of 320\"\n",
      "[1] \"6month - Res: 1 - Dim: 40\"\n",
      "[1] \"Running PCA and clustering for time point: 6month\"\n",
      "[1] \"- Resolution: 1\"\n",
      "[1] \"- Dimensions: 40\"\n",
      "[1] \"Making UMAP\"\n"
     ]
    },
    {
     "name": "stderr",
     "output_type": "stream",
     "text": [
      "Rasterizing points since number of points exceeds 100,000.\n",
      "To disable this behavior set `raster=FALSE`\n",
      "\n"
     ]
    },
    {
     "name": "stdout",
     "output_type": "stream",
     "text": [
      "6month - Res: 1 - Dim: 40: 154.209 sec elapsed\n",
      "[1] \"320 of 320\"\n",
      "[1] \"6month - Res: 1 - Dim: 50\"\n",
      "[1] \"Running PCA and clustering for time point: 6month\"\n",
      "[1] \"- Resolution: 1\"\n",
      "[1] \"- Dimensions: 50\"\n",
      "[1] \"Making UMAP\"\n"
     ]
    },
    {
     "name": "stderr",
     "output_type": "stream",
     "text": [
      "Rasterizing points since number of points exceeds 100,000.\n",
      "To disable this behavior set `raster=FALSE`\n",
      "\n"
     ]
    },
    {
     "name": "stdout",
     "output_type": "stream",
     "text": [
      "6month - Res: 1 - Dim: 50: 164.389 sec elapsed\n",
      "Iterations: 25523.171 sec elapsed\n",
      "[1] \"END\"\n",
      "         res_0.1_dim_20 res_0.1_dim_30 res_0.1_dim_40 res_0.1_dim_50\n",
      "23days           30.887         30.196         32.624         34.298\n",
      "1month           81.035         79.011         83.293         83.975\n",
      "1.5month         39.963         41.375         43.709         44.413\n",
      "2month           38.762         39.747         41.463         44.911\n",
      "3month          197.591        197.208        202.847        207.741\n",
      "4month           40.156         39.634         40.954         44.398\n",
      "5month           30.961         31.945         33.395         34.805\n",
      "6month          150.529        156.446        160.527        164.642\n",
      "         res_0.2_dim_20 res_0.2_dim_30 res_0.2_dim_40 res_0.2_dim_50\n",
      "23days           29.130         30.643         33.041         33.314\n",
      "1month           80.587         78.791         82.291         84.218\n",
      "1.5month         39.527         40.548         43.550         45.056\n",
      "2month           38.693         38.921         41.837         45.088\n",
      "3month          193.655        193.011        201.399        211.437\n",
      "4month           38.468         39.237         41.184         45.270\n",
      "5month           31.167         31.855         33.725         35.106\n",
      "6month          152.514        152.392        158.942        166.241\n",
      "         res_0.3_dim_20 res_0.3_dim_30 res_0.3_dim_40 res_0.3_dim_50\n",
      "23days           29.758         30.183         31.654         33.915\n",
      "1month           83.274         77.846         81.695         83.286\n",
      "1.5month         40.007         41.858         43.419         45.084\n",
      "2month           38.639         39.735         42.820         44.740\n",
      "3month          192.489        191.349        199.634        214.169\n",
      "4month           38.234         40.137         41.313         44.937\n",
      "5month           30.743         31.957         33.334         35.866\n",
      "6month          151.468        151.039        158.504        166.225\n",
      "         res_0.4_dim_20 res_0.4_dim_30 res_0.4_dim_40 res_0.4_dim_50\n",
      "23days           29.579         29.931         32.432         33.016\n",
      "1month           81.367         78.872         82.104         82.270\n",
      "1.5month         39.584         41.499         42.949         45.353\n",
      "2month           39.124         39.903         41.841         45.827\n",
      "3month          191.667        190.749        206.170        208.393\n",
      "4month           38.383         39.608         41.463         44.795\n",
      "5month           31.108         31.988         32.995         35.734\n",
      "6month          151.813        150.525        158.352        167.426\n",
      "         res_0.5_dim_20 res_0.5_dim_30 res_0.5_dim_40 res_0.5_dim_50\n",
      "23days           29.360         30.614         32.032         33.016\n",
      "1month           80.514         79.514         83.360         84.138\n",
      "1.5month         39.028         40.056         44.039         45.261\n",
      "2month           39.836         39.332         42.129         44.740\n",
      "3month          191.762        195.633        206.416        211.486\n",
      "4month           39.392         39.641         41.636         44.936\n",
      "5month           31.369         31.599         33.210         34.644\n",
      "6month          152.164        150.169        160.152        163.773\n",
      "         res_0.6_dim_20 res_0.6_dim_30 res_0.6_dim_40 res_0.6_dim_50\n",
      "23days           29.156         30.490         31.513         32.355\n",
      "1month           81.764         78.955         83.289         85.200\n",
      "1.5month         39.390         40.742         43.016         45.301\n",
      "2month           39.047         40.535         41.846         46.044\n",
      "3month          191.432        194.389        202.172        213.196\n",
      "4month           38.519         39.647         41.047         44.656\n",
      "5month           31.039         32.327         32.689         35.298\n",
      "6month          153.135        149.532        155.831        166.016\n",
      "         res_0.7_dim_20 res_0.7_dim_30 res_0.7_dim_40 res_0.7_dim_50\n",
      "23days           29.684         30.290         32.059         33.107\n",
      "1month           80.975         79.731         82.532         83.732\n",
      "1.5month         39.814         41.098         43.211         45.868\n",
      "2month           39.212         39.120         41.968         45.798\n",
      "3month          196.238        188.022        202.969        214.442\n",
      "4month           38.598         39.337         41.376         45.027\n",
      "5month           31.212         32.004         33.628         35.484\n",
      "6month          149.600        149.385        157.820        166.369\n",
      "         res_0.8_dim_20 res_0.8_dim_30 res_0.8_dim_40 res_0.8_dim_50\n",
      "23days           29.855         30.271         32.041         32.686\n",
      "1month           80.106         77.294         82.520         86.064\n",
      "1.5month         39.184         40.873         43.179         45.347\n",
      "2month           38.754         39.254         41.909         45.280\n",
      "3month          194.812        195.887        200.535        210.128\n",
      "4month           38.766         39.793         40.778         44.357\n",
      "5month           31.117         31.933         33.154         35.042\n",
      "6month          149.904        148.411        156.494        164.170\n",
      "         res_0.9_dim_20 res_0.9_dim_30 res_0.9_dim_40 res_0.9_dim_50\n",
      "23days           29.338         30.319         31.022         32.306\n",
      "1month           80.972         77.602         83.286         86.195\n",
      "1.5month         38.935         39.590         42.672         45.789\n",
      "2month           38.691         39.955         42.008         45.544\n",
      "3month          194.773        192.380        203.138        212.045\n",
      "4month           38.538         40.381         41.346         45.705\n",
      "5month           31.044         31.757         33.178         35.804\n",
      "6month          148.673        151.046        157.862        161.787\n",
      "         res_1_dim_20 res_1_dim_30 res_1_dim_40 res_1_dim_50\n",
      "23days         29.541       30.179       31.533       32.952\n",
      "1month         80.305       77.349       83.107       84.865\n",
      "1.5month       40.157       39.679       42.854       45.675\n",
      "2month         38.542       39.213       41.286       45.358\n",
      "3month        194.494      194.157      204.195      212.867\n",
      "4month         38.727       39.743       41.850       45.649\n",
      "5month         30.766       31.628       33.692       35.968\n",
      "6month        150.828      151.200      154.209      164.389\n"
     ]
    }
   ],
   "source": [
    "N_cycle <- 0\n",
    "\n",
    "dir_iterations <- paste0(\"Results/Iterations\")     \n",
    "if (!dir.exists(dir_iterations)) {dir.create(dir_iterations)}\n",
    "\n",
    "print(\"Starting\")\n",
    "\n",
    "timings <- data.frame()\n",
    "n_of_clusters <- data.frame()\n",
    "\n",
    "tic(\"Iterations\")\n",
    "\n",
    "for (f_name in timepoints) {\n",
    "    tic(paste(\"Loading\", f_name))\n",
    "\n",
    "    dir_timepoint <- paste(dir_iterations, \"/\", f_name, sep=\"\")     \n",
    "    if (!dir.exists(dir_timepoint)) {dir.create(dir_timepoint)}\n",
    "    \n",
    "    # Load data\n",
    "    sc_data_scaled <- load.data(file_name = f_name, reduced.output = F)\n",
    "\n",
    "    toc(quiet = T)\n",
    "\n",
    "    for (clustering_resolution in res_list) {\n",
    "        for (n_of_dimesnions in dim_list) {\n",
    "            # Progression Message\n",
    "            N_cycle <- N_cycle + 1\n",
    "            print(paste(N_cycle, \"of\", tot_cycles)) \n",
    "            print(paste(f_name, \"- Res:\", clustering_resolution, \"- Dim:\", n_of_dimesnions))\n",
    "\n",
    "            # param\n",
    "            char_res <- as.character(clustering_resolution)\n",
    "            if (grepl(\"\\\\.\", char_res)) {char_res <- gsub(\"\\\\.\", \"_\", char_res)}\n",
    "            param <- paste0(\"_res_\", char_res, \"_dim_\", n_of_dimesnions)\n",
    "\n",
    "            # Create subfolder\n",
    "            new_dir <- paste(dir_timepoint, \"/\", f_name, param, sep=\"\")     \n",
    "            if (!dir.exists(new_dir)) {dir.create(new_dir)}\n",
    "\n",
    "            # start time\n",
    "            tic(paste(f_name, \"- Res:\", clustering_resolution, \"- Dim:\", n_of_dimesnions))\n",
    "\n",
    "            # Clusterize\n",
    "            sc_data <- PCA.cluster(\n",
    "                data = sc_data_scaled, \n",
    "                file_name = f_name, \n",
    "                res = clustering_resolution, \n",
    "                n_dim = n_of_dimesnions,\n",
    "                reduced.output = F\n",
    "            )\n",
    "\n",
    "            n_of_clusters[f_name, paste0(\"res_\", clustering_resolution, \"_dim_\", n_of_dimesnions)] <- length(table(Idents(sc_data)))\n",
    "\n",
    "            # UMAP\n",
    "            plot_UMAP <- UMAP.plot(\n",
    "                data = sc_data, \n",
    "                file_name = \"23days\", \n",
    "                n_dim = n_of_dimesnions, \n",
    "                print_plot = F,\n",
    "                reduced.output = F\n",
    "            )\n",
    "            ggsave(\n",
    "                paste0(\n",
    "                    new_dir, \"/\",\n",
    "                    \"UMAP\",\n",
    "                    f_name,\n",
    "                    param,\n",
    "                    \".png\"\n",
    "                ), \n",
    "                plot=plot_UMAP, \n",
    "                width = 1920*2, height = 1980*2, units = \"px\"\n",
    "            )\n",
    "\n",
    "            # Find Markers\n",
    "            cluster_markers <- cluster.markers(data = sc_data, file_name = f_name, output = F, reduced.output = F)\n",
    "\n",
    "            write.csv(cluster_markers, file = paste0(\n",
    "                new_dir, \"/\",\n",
    "                \"cluster_markers_\",\n",
    "                f_name,\n",
    "                param,\n",
    "                \".csv\"\n",
    "            ))\n",
    "\n",
    "            # Annotation - enrichR\n",
    "\n",
    "            # Annotation - singelR\n",
    "\n",
    "            # Annotation - CPTCellType\n",
    "\n",
    "            # end time\n",
    "            elapsed <- toc(log = TRUE, quiet = T)\n",
    "            timings[f_name, paste0(\"res_\", clustering_resolution, \"_dim_\", n_of_dimesnions)] <- elapsed$toc - elapsed$tic\n",
    "        }\n",
    "    }\n",
    "}\n",
    "\n",
    "tot_elapsed <- toc(log = TRUE, quiet = F)\n",
    "print(\"END\")\n",
    "print(timings)"
   ]
  },
  {
   "cell_type": "code",
   "execution_count": 9,
   "id": "e9137776-d45e-4c09-9035-485480dbe55f",
   "metadata": {
    "collapsed": true,
    "jupyter": {
     "outputs_hidden": true
    }
   },
   "outputs": [
    {
     "data": {
      "text/html": [
       "<table class=\"dataframe\">\n",
       "<caption>A data.frame: 8 × 40</caption>\n",
       "<thead>\n",
       "\t<tr><th></th><th scope=col>res_0.1_dim_20</th><th scope=col>res_0.1_dim_30</th><th scope=col>res_0.1_dim_40</th><th scope=col>res_0.1_dim_50</th><th scope=col>res_0.2_dim_20</th><th scope=col>res_0.2_dim_30</th><th scope=col>res_0.2_dim_40</th><th scope=col>res_0.2_dim_50</th><th scope=col>res_0.3_dim_20</th><th scope=col>res_0.3_dim_30</th><th scope=col>⋯</th><th scope=col>res_0.8_dim_40</th><th scope=col>res_0.8_dim_50</th><th scope=col>res_0.9_dim_20</th><th scope=col>res_0.9_dim_30</th><th scope=col>res_0.9_dim_40</th><th scope=col>res_0.9_dim_50</th><th scope=col>res_1_dim_20</th><th scope=col>res_1_dim_30</th><th scope=col>res_1_dim_40</th><th scope=col>res_1_dim_50</th></tr>\n",
       "\t<tr><th></th><th scope=col>&lt;dbl&gt;</th><th scope=col>&lt;dbl&gt;</th><th scope=col>&lt;dbl&gt;</th><th scope=col>&lt;dbl&gt;</th><th scope=col>&lt;dbl&gt;</th><th scope=col>&lt;dbl&gt;</th><th scope=col>&lt;dbl&gt;</th><th scope=col>&lt;dbl&gt;</th><th scope=col>&lt;dbl&gt;</th><th scope=col>&lt;dbl&gt;</th><th scope=col>⋯</th><th scope=col>&lt;dbl&gt;</th><th scope=col>&lt;dbl&gt;</th><th scope=col>&lt;dbl&gt;</th><th scope=col>&lt;dbl&gt;</th><th scope=col>&lt;dbl&gt;</th><th scope=col>&lt;dbl&gt;</th><th scope=col>&lt;dbl&gt;</th><th scope=col>&lt;dbl&gt;</th><th scope=col>&lt;dbl&gt;</th><th scope=col>&lt;dbl&gt;</th></tr>\n",
       "</thead>\n",
       "<tbody>\n",
       "\t<tr><th scope=row>23days</th><td> 30.887</td><td> 30.196</td><td> 32.624</td><td> 34.298</td><td> 29.130</td><td> 30.643</td><td> 33.041</td><td> 33.314</td><td> 29.758</td><td> 30.183</td><td>⋯</td><td> 32.041</td><td> 32.686</td><td> 29.338</td><td> 30.319</td><td> 31.022</td><td> 32.306</td><td> 29.541</td><td> 30.179</td><td> 31.533</td><td> 32.952</td></tr>\n",
       "\t<tr><th scope=row>1month</th><td> 81.035</td><td> 79.011</td><td> 83.293</td><td> 83.975</td><td> 80.587</td><td> 78.791</td><td> 82.291</td><td> 84.218</td><td> 83.274</td><td> 77.846</td><td>⋯</td><td> 82.520</td><td> 86.064</td><td> 80.972</td><td> 77.602</td><td> 83.286</td><td> 86.195</td><td> 80.305</td><td> 77.349</td><td> 83.107</td><td> 84.865</td></tr>\n",
       "\t<tr><th scope=row>1.5month</th><td> 39.963</td><td> 41.375</td><td> 43.709</td><td> 44.413</td><td> 39.527</td><td> 40.548</td><td> 43.550</td><td> 45.056</td><td> 40.007</td><td> 41.858</td><td>⋯</td><td> 43.179</td><td> 45.347</td><td> 38.935</td><td> 39.590</td><td> 42.672</td><td> 45.789</td><td> 40.157</td><td> 39.679</td><td> 42.854</td><td> 45.675</td></tr>\n",
       "\t<tr><th scope=row>2month</th><td> 38.762</td><td> 39.747</td><td> 41.463</td><td> 44.911</td><td> 38.693</td><td> 38.921</td><td> 41.837</td><td> 45.088</td><td> 38.639</td><td> 39.735</td><td>⋯</td><td> 41.909</td><td> 45.280</td><td> 38.691</td><td> 39.955</td><td> 42.008</td><td> 45.544</td><td> 38.542</td><td> 39.213</td><td> 41.286</td><td> 45.358</td></tr>\n",
       "\t<tr><th scope=row>3month</th><td>197.591</td><td>197.208</td><td>202.847</td><td>207.741</td><td>193.655</td><td>193.011</td><td>201.399</td><td>211.437</td><td>192.489</td><td>191.349</td><td>⋯</td><td>200.535</td><td>210.128</td><td>194.773</td><td>192.380</td><td>203.138</td><td>212.045</td><td>194.494</td><td>194.157</td><td>204.195</td><td>212.867</td></tr>\n",
       "\t<tr><th scope=row>4month</th><td> 40.156</td><td> 39.634</td><td> 40.954</td><td> 44.398</td><td> 38.468</td><td> 39.237</td><td> 41.184</td><td> 45.270</td><td> 38.234</td><td> 40.137</td><td>⋯</td><td> 40.778</td><td> 44.357</td><td> 38.538</td><td> 40.381</td><td> 41.346</td><td> 45.705</td><td> 38.727</td><td> 39.743</td><td> 41.850</td><td> 45.649</td></tr>\n",
       "\t<tr><th scope=row>5month</th><td> 30.961</td><td> 31.945</td><td> 33.395</td><td> 34.805</td><td> 31.167</td><td> 31.855</td><td> 33.725</td><td> 35.106</td><td> 30.743</td><td> 31.957</td><td>⋯</td><td> 33.154</td><td> 35.042</td><td> 31.044</td><td> 31.757</td><td> 33.178</td><td> 35.804</td><td> 30.766</td><td> 31.628</td><td> 33.692</td><td> 35.968</td></tr>\n",
       "\t<tr><th scope=row>6month</th><td>150.529</td><td>156.446</td><td>160.527</td><td>164.642</td><td>152.514</td><td>152.392</td><td>158.942</td><td>166.241</td><td>151.468</td><td>151.039</td><td>⋯</td><td>156.494</td><td>164.170</td><td>148.673</td><td>151.046</td><td>157.862</td><td>161.787</td><td>150.828</td><td>151.200</td><td>154.209</td><td>164.389</td></tr>\n",
       "</tbody>\n",
       "</table>\n"
      ],
      "text/latex": [
       "A data.frame: 8 × 40\n",
       "\\begin{tabular}{r|lllllllllllllllllllll}\n",
       "  & res\\_0.1\\_dim\\_20 & res\\_0.1\\_dim\\_30 & res\\_0.1\\_dim\\_40 & res\\_0.1\\_dim\\_50 & res\\_0.2\\_dim\\_20 & res\\_0.2\\_dim\\_30 & res\\_0.2\\_dim\\_40 & res\\_0.2\\_dim\\_50 & res\\_0.3\\_dim\\_20 & res\\_0.3\\_dim\\_30 & ⋯ & res\\_0.8\\_dim\\_40 & res\\_0.8\\_dim\\_50 & res\\_0.9\\_dim\\_20 & res\\_0.9\\_dim\\_30 & res\\_0.9\\_dim\\_40 & res\\_0.9\\_dim\\_50 & res\\_1\\_dim\\_20 & res\\_1\\_dim\\_30 & res\\_1\\_dim\\_40 & res\\_1\\_dim\\_50\\\\\n",
       "  & <dbl> & <dbl> & <dbl> & <dbl> & <dbl> & <dbl> & <dbl> & <dbl> & <dbl> & <dbl> & ⋯ & <dbl> & <dbl> & <dbl> & <dbl> & <dbl> & <dbl> & <dbl> & <dbl> & <dbl> & <dbl>\\\\\n",
       "\\hline\n",
       "\t23days &  30.887 &  30.196 &  32.624 &  34.298 &  29.130 &  30.643 &  33.041 &  33.314 &  29.758 &  30.183 & ⋯ &  32.041 &  32.686 &  29.338 &  30.319 &  31.022 &  32.306 &  29.541 &  30.179 &  31.533 &  32.952\\\\\n",
       "\t1month &  81.035 &  79.011 &  83.293 &  83.975 &  80.587 &  78.791 &  82.291 &  84.218 &  83.274 &  77.846 & ⋯ &  82.520 &  86.064 &  80.972 &  77.602 &  83.286 &  86.195 &  80.305 &  77.349 &  83.107 &  84.865\\\\\n",
       "\t1.5month &  39.963 &  41.375 &  43.709 &  44.413 &  39.527 &  40.548 &  43.550 &  45.056 &  40.007 &  41.858 & ⋯ &  43.179 &  45.347 &  38.935 &  39.590 &  42.672 &  45.789 &  40.157 &  39.679 &  42.854 &  45.675\\\\\n",
       "\t2month &  38.762 &  39.747 &  41.463 &  44.911 &  38.693 &  38.921 &  41.837 &  45.088 &  38.639 &  39.735 & ⋯ &  41.909 &  45.280 &  38.691 &  39.955 &  42.008 &  45.544 &  38.542 &  39.213 &  41.286 &  45.358\\\\\n",
       "\t3month & 197.591 & 197.208 & 202.847 & 207.741 & 193.655 & 193.011 & 201.399 & 211.437 & 192.489 & 191.349 & ⋯ & 200.535 & 210.128 & 194.773 & 192.380 & 203.138 & 212.045 & 194.494 & 194.157 & 204.195 & 212.867\\\\\n",
       "\t4month &  40.156 &  39.634 &  40.954 &  44.398 &  38.468 &  39.237 &  41.184 &  45.270 &  38.234 &  40.137 & ⋯ &  40.778 &  44.357 &  38.538 &  40.381 &  41.346 &  45.705 &  38.727 &  39.743 &  41.850 &  45.649\\\\\n",
       "\t5month &  30.961 &  31.945 &  33.395 &  34.805 &  31.167 &  31.855 &  33.725 &  35.106 &  30.743 &  31.957 & ⋯ &  33.154 &  35.042 &  31.044 &  31.757 &  33.178 &  35.804 &  30.766 &  31.628 &  33.692 &  35.968\\\\\n",
       "\t6month & 150.529 & 156.446 & 160.527 & 164.642 & 152.514 & 152.392 & 158.942 & 166.241 & 151.468 & 151.039 & ⋯ & 156.494 & 164.170 & 148.673 & 151.046 & 157.862 & 161.787 & 150.828 & 151.200 & 154.209 & 164.389\\\\\n",
       "\\end{tabular}\n"
      ],
      "text/markdown": [
       "\n",
       "A data.frame: 8 × 40\n",
       "\n",
       "| <!--/--> | res_0.1_dim_20 &lt;dbl&gt; | res_0.1_dim_30 &lt;dbl&gt; | res_0.1_dim_40 &lt;dbl&gt; | res_0.1_dim_50 &lt;dbl&gt; | res_0.2_dim_20 &lt;dbl&gt; | res_0.2_dim_30 &lt;dbl&gt; | res_0.2_dim_40 &lt;dbl&gt; | res_0.2_dim_50 &lt;dbl&gt; | res_0.3_dim_20 &lt;dbl&gt; | res_0.3_dim_30 &lt;dbl&gt; | ⋯ ⋯ | res_0.8_dim_40 &lt;dbl&gt; | res_0.8_dim_50 &lt;dbl&gt; | res_0.9_dim_20 &lt;dbl&gt; | res_0.9_dim_30 &lt;dbl&gt; | res_0.9_dim_40 &lt;dbl&gt; | res_0.9_dim_50 &lt;dbl&gt; | res_1_dim_20 &lt;dbl&gt; | res_1_dim_30 &lt;dbl&gt; | res_1_dim_40 &lt;dbl&gt; | res_1_dim_50 &lt;dbl&gt; |\n",
       "|---|---|---|---|---|---|---|---|---|---|---|---|---|---|---|---|---|---|---|---|---|---|\n",
       "| 23days |  30.887 |  30.196 |  32.624 |  34.298 |  29.130 |  30.643 |  33.041 |  33.314 |  29.758 |  30.183 | ⋯ |  32.041 |  32.686 |  29.338 |  30.319 |  31.022 |  32.306 |  29.541 |  30.179 |  31.533 |  32.952 |\n",
       "| 1month |  81.035 |  79.011 |  83.293 |  83.975 |  80.587 |  78.791 |  82.291 |  84.218 |  83.274 |  77.846 | ⋯ |  82.520 |  86.064 |  80.972 |  77.602 |  83.286 |  86.195 |  80.305 |  77.349 |  83.107 |  84.865 |\n",
       "| 1.5month |  39.963 |  41.375 |  43.709 |  44.413 |  39.527 |  40.548 |  43.550 |  45.056 |  40.007 |  41.858 | ⋯ |  43.179 |  45.347 |  38.935 |  39.590 |  42.672 |  45.789 |  40.157 |  39.679 |  42.854 |  45.675 |\n",
       "| 2month |  38.762 |  39.747 |  41.463 |  44.911 |  38.693 |  38.921 |  41.837 |  45.088 |  38.639 |  39.735 | ⋯ |  41.909 |  45.280 |  38.691 |  39.955 |  42.008 |  45.544 |  38.542 |  39.213 |  41.286 |  45.358 |\n",
       "| 3month | 197.591 | 197.208 | 202.847 | 207.741 | 193.655 | 193.011 | 201.399 | 211.437 | 192.489 | 191.349 | ⋯ | 200.535 | 210.128 | 194.773 | 192.380 | 203.138 | 212.045 | 194.494 | 194.157 | 204.195 | 212.867 |\n",
       "| 4month |  40.156 |  39.634 |  40.954 |  44.398 |  38.468 |  39.237 |  41.184 |  45.270 |  38.234 |  40.137 | ⋯ |  40.778 |  44.357 |  38.538 |  40.381 |  41.346 |  45.705 |  38.727 |  39.743 |  41.850 |  45.649 |\n",
       "| 5month |  30.961 |  31.945 |  33.395 |  34.805 |  31.167 |  31.855 |  33.725 |  35.106 |  30.743 |  31.957 | ⋯ |  33.154 |  35.042 |  31.044 |  31.757 |  33.178 |  35.804 |  30.766 |  31.628 |  33.692 |  35.968 |\n",
       "| 6month | 150.529 | 156.446 | 160.527 | 164.642 | 152.514 | 152.392 | 158.942 | 166.241 | 151.468 | 151.039 | ⋯ | 156.494 | 164.170 | 148.673 | 151.046 | 157.862 | 161.787 | 150.828 | 151.200 | 154.209 | 164.389 |\n",
       "\n"
      ],
      "text/plain": [
       "         res_0.1_dim_20 res_0.1_dim_30 res_0.1_dim_40 res_0.1_dim_50\n",
       "23days    30.887         30.196         32.624         34.298       \n",
       "1month    81.035         79.011         83.293         83.975       \n",
       "1.5month  39.963         41.375         43.709         44.413       \n",
       "2month    38.762         39.747         41.463         44.911       \n",
       "3month   197.591        197.208        202.847        207.741       \n",
       "4month    40.156         39.634         40.954         44.398       \n",
       "5month    30.961         31.945         33.395         34.805       \n",
       "6month   150.529        156.446        160.527        164.642       \n",
       "         res_0.2_dim_20 res_0.2_dim_30 res_0.2_dim_40 res_0.2_dim_50\n",
       "23days    29.130         30.643         33.041         33.314       \n",
       "1month    80.587         78.791         82.291         84.218       \n",
       "1.5month  39.527         40.548         43.550         45.056       \n",
       "2month    38.693         38.921         41.837         45.088       \n",
       "3month   193.655        193.011        201.399        211.437       \n",
       "4month    38.468         39.237         41.184         45.270       \n",
       "5month    31.167         31.855         33.725         35.106       \n",
       "6month   152.514        152.392        158.942        166.241       \n",
       "         res_0.3_dim_20 res_0.3_dim_30 ⋯ res_0.8_dim_40 res_0.8_dim_50\n",
       "23days    29.758         30.183        ⋯  32.041         32.686       \n",
       "1month    83.274         77.846        ⋯  82.520         86.064       \n",
       "1.5month  40.007         41.858        ⋯  43.179         45.347       \n",
       "2month    38.639         39.735        ⋯  41.909         45.280       \n",
       "3month   192.489        191.349        ⋯ 200.535        210.128       \n",
       "4month    38.234         40.137        ⋯  40.778         44.357       \n",
       "5month    30.743         31.957        ⋯  33.154         35.042       \n",
       "6month   151.468        151.039        ⋯ 156.494        164.170       \n",
       "         res_0.9_dim_20 res_0.9_dim_30 res_0.9_dim_40 res_0.9_dim_50\n",
       "23days    29.338         30.319         31.022         32.306       \n",
       "1month    80.972         77.602         83.286         86.195       \n",
       "1.5month  38.935         39.590         42.672         45.789       \n",
       "2month    38.691         39.955         42.008         45.544       \n",
       "3month   194.773        192.380        203.138        212.045       \n",
       "4month    38.538         40.381         41.346         45.705       \n",
       "5month    31.044         31.757         33.178         35.804       \n",
       "6month   148.673        151.046        157.862        161.787       \n",
       "         res_1_dim_20 res_1_dim_30 res_1_dim_40 res_1_dim_50\n",
       "23days    29.541       30.179       31.533       32.952     \n",
       "1month    80.305       77.349       83.107       84.865     \n",
       "1.5month  40.157       39.679       42.854       45.675     \n",
       "2month    38.542       39.213       41.286       45.358     \n",
       "3month   194.494      194.157      204.195      212.867     \n",
       "4month    38.727       39.743       41.850       45.649     \n",
       "5month    30.766       31.628       33.692       35.968     \n",
       "6month   150.828      151.200      154.209      164.389     "
      ]
     },
     "metadata": {},
     "output_type": "display_data"
    }
   ],
   "source": [
    "timings"
   ]
  },
  {
   "cell_type": "code",
   "execution_count": 12,
   "id": "b61804e2-5eb2-4472-b771-1714b92742c9",
   "metadata": {
    "collapsed": true,
    "jupyter": {
     "outputs_hidden": true,
     "source_hidden": true
    }
   },
   "outputs": [
    {
     "data": {
      "text/html": [
       "1250.32"
      ],
      "text/latex": [
       "1250.32"
      ],
      "text/markdown": [
       "1250.32"
      ],
      "text/plain": [
       "[1] 1250.32"
      ]
     },
     "metadata": {},
     "output_type": "display_data"
    }
   ],
   "source": [
    "sum(timings[1,])"
   ]
  },
  {
   "cell_type": "code",
   "execution_count": 11,
   "id": "c1be3d60-6b7b-4bf1-a3e9-58ff19d51579",
   "metadata": {
    "collapsed": true,
    "jupyter": {
     "outputs_hidden": true,
     "source_hidden": true
    }
   },
   "outputs": [
    {
     "name": "stdout",
     "output_type": "stream",
     "text": [
      "[1] \"Starting\"\n",
      "[1] \"Starting 1\"\n",
      "[1] \"1 of 320\"\n",
      "[1] \"1 - Res: 1 - Dim: 1\"\n",
      "Iterantions: 0.1 sec elapsed\n",
      "[1] \"2 of 320\"\n",
      "[1] \"1 - Res: 1 - Dim: 2\"\n",
      "Iterantions: 0.201 sec elapsed\n",
      "[1] \"3 of 320\"\n",
      "[1] \"1 - Res: 1 - Dim: 3\"\n",
      "0.301 sec elapsed\n",
      "[1] \"4 of 320\"\n",
      "[1] \"1 - Res: 1 - Dim: 4\"\n",
      "0.401 sec elapsed\n",
      "[1] \"5 of 320\"\n",
      "[1] \"1 - Res: 1 - Dim: 5\"\n",
      "0.503 sec elapsed\n",
      "[1] \"6 of 320\"\n",
      "[1] \"1 - Res: 2 - Dim: 1\"\n",
      "0.201 sec elapsed\n",
      "[1] \"7 of 320\"\n",
      "[1] \"1 - Res: 2 - Dim: 2\"\n",
      "0.402 sec elapsed\n",
      "[1] \"8 of 320\"\n",
      "[1] \"1 - Res: 2 - Dim: 3\"\n",
      "0.604 sec elapsed\n",
      "[1] \"9 of 320\"\n",
      "[1] \"1 - Res: 2 - Dim: 4\"\n",
      "0.805 sec elapsed\n",
      "[1] \"10 of 320\"\n",
      "[1] \"1 - Res: 2 - Dim: 5\"\n",
      "1.006 sec elapsed\n",
      "[1] \"11 of 320\"\n",
      "[1] \"1 - Res: 3 - Dim: 1\"\n",
      "0.302 sec elapsed\n",
      "[1] \"12 of 320\"\n",
      "[1] \"1 - Res: 3 - Dim: 2\"\n",
      "0.603 sec elapsed\n",
      "[1] \"13 of 320\"\n",
      "[1] \"1 - Res: 3 - Dim: 3\"\n",
      "0.905 sec elapsed\n",
      "[1] \"14 of 320\"\n",
      "[1] \"1 - Res: 3 - Dim: 4\"\n",
      "1.206 sec elapsed\n",
      "[1] \"15 of 320\"\n",
      "[1] \"1 - Res: 3 - Dim: 5\"\n",
      "1.506 sec elapsed\n",
      "[1] \"16 of 320\"\n",
      "[1] \"1 - Res: 4 - Dim: 1\"\n",
      "0.402 sec elapsed\n",
      "[1] \"17 of 320\"\n",
      "[1] \"1 - Res: 4 - Dim: 2\"\n",
      "0.804 sec elapsed\n",
      "[1] \"18 of 320\"\n",
      "[1] \"1 - Res: 4 - Dim: 3\"\n",
      "1.207 sec elapsed\n",
      "[1] \"19 of 320\"\n",
      "[1] \"1 - Res: 4 - Dim: 4\"\n",
      "1.609 sec elapsed\n",
      "[1] \"20 of 320\"\n",
      "[1] \"1 - Res: 4 - Dim: 5\"\n",
      "2.01 sec elapsed\n",
      "[1] \"Starting 2\"\n",
      "[1] \"21 of 320\"\n",
      "[1] \"2 - Res: 1 - Dim: 1\"\n",
      "0.1 sec elapsed\n",
      "[1] \"22 of 320\"\n",
      "[1] \"2 - Res: 1 - Dim: 2\"\n",
      "0.201 sec elapsed\n",
      "[1] \"23 of 320\"\n",
      "[1] \"2 - Res: 1 - Dim: 3\"\n",
      "0.301 sec elapsed\n",
      "[1] \"24 of 320\"\n",
      "[1] \"2 - Res: 1 - Dim: 4\"\n",
      "0.402 sec elapsed\n",
      "[1] \"25 of 320\"\n",
      "[1] \"2 - Res: 1 - Dim: 5\"\n",
      "0.502 sec elapsed\n",
      "[1] \"26 of 320\"\n",
      "[1] \"2 - Res: 2 - Dim: 1\"\n",
      "0.201 sec elapsed\n",
      "[1] \"27 of 320\"\n",
      "[1] \"2 - Res: 2 - Dim: 2\"\n",
      "0.402 sec elapsed\n",
      "[1] \"28 of 320\"\n",
      "[1] \"2 - Res: 2 - Dim: 3\"\n",
      "0.603 sec elapsed\n",
      "[1] \"29 of 320\"\n",
      "[1] \"2 - Res: 2 - Dim: 4\"\n",
      "0.802 sec elapsed\n",
      "[1] \"30 of 320\"\n",
      "[1] \"2 - Res: 2 - Dim: 5\"\n",
      "1.005 sec elapsed\n",
      "[1] \"31 of 320\"\n",
      "[1] \"2 - Res: 3 - Dim: 1\"\n",
      "0.302 sec elapsed\n",
      "[1] \"32 of 320\"\n",
      "[1] \"2 - Res: 3 - Dim: 2\"\n",
      "0.603 sec elapsed\n",
      "[1] \"33 of 320\"\n",
      "[1] \"2 - Res: 3 - Dim: 3\"\n",
      "0.904 sec elapsed\n",
      "[1] \"34 of 320\"\n",
      "[1] \"2 - Res: 3 - Dim: 4\"\n",
      "1.206 sec elapsed\n",
      "[1] \"35 of 320\"\n",
      "[1] \"2 - Res: 3 - Dim: 5\"\n",
      "1.508 sec elapsed\n",
      "[1] \"36 of 320\"\n",
      "[1] \"2 - Res: 4 - Dim: 1\"\n",
      "0.402 sec elapsed\n",
      "[1] \"37 of 320\"\n",
      "[1] \"2 - Res: 4 - Dim: 2\"\n",
      "0.805 sec elapsed\n",
      "[1] \"38 of 320\"\n",
      "[1] \"2 - Res: 4 - Dim: 3\"\n",
      "1.206 sec elapsed\n",
      "[1] \"39 of 320\"\n",
      "[1] \"2 - Res: 4 - Dim: 4\"\n",
      "1.608 sec elapsed\n",
      "[1] \"40 of 320\"\n",
      "[1] \"2 - Res: 4 - Dim: 5\"\n",
      "2.011 sec elapsed\n",
      "[1] \"Starting 3\"\n",
      "[1] \"41 of 320\"\n",
      "[1] \"3 - Res: 1 - Dim: 1\"\n",
      "0.101 sec elapsed\n",
      "[1] \"42 of 320\"\n",
      "[1] \"3 - Res: 1 - Dim: 2\"\n",
      "0.201 sec elapsed\n",
      "[1] \"43 of 320\"\n",
      "[1] \"3 - Res: 1 - Dim: 3\"\n",
      "0.302 sec elapsed\n",
      "[1] \"44 of 320\"\n",
      "[1] \"3 - Res: 1 - Dim: 4\"\n",
      "0.402 sec elapsed\n",
      "[1] \"45 of 320\"\n",
      "[1] \"3 - Res: 1 - Dim: 5\"\n",
      "0.502 sec elapsed\n",
      "[1] \"46 of 320\"\n",
      "[1] \"3 - Res: 2 - Dim: 1\"\n",
      "0.201 sec elapsed\n",
      "[1] \"47 of 320\"\n",
      "[1] \"3 - Res: 2 - Dim: 2\"\n",
      "0.403 sec elapsed\n",
      "[1] \"48 of 320\"\n",
      "[1] \"3 - Res: 2 - Dim: 3\"\n",
      "0.604 sec elapsed\n",
      "[1] \"49 of 320\"\n",
      "[1] \"3 - Res: 2 - Dim: 4\"\n",
      "0.805 sec elapsed\n",
      "[1] \"50 of 320\"\n",
      "[1] \"3 - Res: 2 - Dim: 5\"\n",
      "1.005 sec elapsed\n",
      "[1] \"51 of 320\"\n",
      "[1] \"3 - Res: 3 - Dim: 1\"\n",
      "0.301 sec elapsed\n",
      "[1] \"52 of 320\"\n",
      "[1] \"3 - Res: 3 - Dim: 2\"\n",
      "0.603 sec elapsed\n",
      "[1] \"53 of 320\"\n",
      "[1] \"3 - Res: 3 - Dim: 3\"\n",
      "0.901 sec elapsed\n",
      "[1] \"54 of 320\"\n",
      "[1] \"3 - Res: 3 - Dim: 4\"\n",
      "1.205 sec elapsed\n",
      "[1] \"55 of 320\"\n",
      "[1] \"3 - Res: 3 - Dim: 5\"\n",
      "1.507 sec elapsed\n",
      "[1] \"56 of 320\"\n",
      "[1] \"3 - Res: 4 - Dim: 1\"\n",
      "0.401 sec elapsed\n",
      "[1] \"57 of 320\"\n",
      "[1] \"3 - Res: 4 - Dim: 2\"\n",
      "0.804 sec elapsed\n",
      "[1] \"58 of 320\"\n",
      "[1] \"3 - Res: 4 - Dim: 3\"\n",
      "1.206 sec elapsed\n",
      "[1] \"59 of 320\"\n",
      "[1] \"3 - Res: 4 - Dim: 4\"\n",
      "1.608 sec elapsed\n",
      "[1] \"60 of 320\"\n",
      "[1] \"3 - Res: 4 - Dim: 5\"\n",
      "2.01 sec elapsed\n",
      "45.565 sec elapsed\n",
      "[1] \"END\"\n",
      "  res_1_dim_1 res_1_dim_2 res_1_dim_3 res_1_dim_4 res_1_dim_5 res_2_dim_1\n",
      "1       0.100       0.201       0.301       0.401       0.503       0.201\n",
      "2       0.100       0.201       0.301       0.402       0.502       0.201\n",
      "3       0.101       0.201       0.302       0.402       0.502       0.201\n",
      "  res_2_dim_2 res_2_dim_3 res_2_dim_4 res_2_dim_5 res_3_dim_1 res_3_dim_2\n",
      "1       0.402       0.604       0.805       1.006       0.302       0.603\n",
      "2       0.402       0.603       0.802       1.005       0.302       0.603\n",
      "3       0.403       0.604       0.805       1.005       0.301       0.603\n",
      "  res_3_dim_3 res_3_dim_4 res_3_dim_5 res_4_dim_1 res_4_dim_2 res_4_dim_3\n",
      "1       0.905       1.206       1.506       0.402       0.804       1.207\n",
      "2       0.904       1.206       1.508       0.402       0.805       1.206\n",
      "3       0.901       1.205       1.507       0.401       0.804       1.206\n",
      "  res_4_dim_4 res_4_dim_5\n",
      "1       1.609       2.010\n",
      "2       1.608       2.011\n",
      "3       1.608       2.010\n"
     ]
    }
   ],
   "source": [
    "loadiload()\n",
    "N_cycle <- 0\n",
    "\n",
    "dir_iterations <- paste0(\"Results/Iterations\")     \n",
    "if (!dir.exists(dir_iterations)) {dir.create(dir_iterations)}\n",
    "\n",
    "print(\"Starting\")\n",
    "\n",
    "timings <- data.frame()\n",
    "\n",
    "tic(\"Iterantions\")\n",
    "\n",
    "for (f_name in 1:3) {\n",
    "    print(paste(\"Starting\", f_name))\n",
    "\n",
    "    \n",
    "    # Load data\n",
    "    Sys.sleep(0.1)\n",
    "\n",
    "    for (clustering_resolution in 1:4) {\n",
    "        for (n_of_dimesnions in 1:5) {\n",
    "            # Progression Message\n",
    "            N_cycle <- N_cycle + 1\n",
    "            print(paste(N_cycle, \"of\", tot_cycles)) \n",
    "            print(paste(f_name, \"- Res:\", clustering_resolution, \"- Dim:\", n_of_dimesnions))\n",
    "\n",
    "            # param\n",
    "            char_res <- as.character(clustering_resolution)\n",
    "            if (grepl(\"\\\\.\", char_res)) {char_res <- gsub(\"\\\\.\", \"_\", char_res)}\n",
    "            param <- paste0(\"_res_\", char_res, \"_dim_\", n_of_dimesnions)\n",
    "\n",
    "            # Create subfolder\n",
    "\n",
    "            # start time\n",
    "            tic()\n",
    "\n",
    "            # Clustering\n",
    "            Sys.sleep(clustering_resolution*n_of_dimesnions/10)\n",
    "\n",
    "            # end time\n",
    "            elapsed <- toc(log = TRUE, quiet = F)\n",
    "            timings[f_name, paste0(\"res_\", clustering_resolution, \"_dim_\", n_of_dimesnions)] <- elapsed$toc - elapsed$tic\n",
    "        }\n",
    "    }\n",
    "}\n",
    "\n",
    "tot_elapsed <- toc(log = TRUE, quiet = F)\n",
    "print(\"END\")\n",
    "print(timings)"
   ]
  },
  {
   "cell_type": "code",
   "execution_count": 12,
   "id": "2f47b67d-339b-46e7-826b-ebb0cc1f05af",
   "metadata": {
    "collapsed": true,
    "jupyter": {
     "outputs_hidden": true,
     "source_hidden": true
    }
   },
   "outputs": [
    {
     "name": "stdout",
     "output_type": "stream",
     "text": [
      "$tic\n",
      "elapsed \n",
      " 71.526 \n",
      "\n",
      "$toc\n",
      "elapsed \n",
      "117.091 \n",
      "\n",
      "$msg\n",
      "character(0)\n",
      "\n",
      "$callback_msg\n",
      "[1] \"45.565 sec elapsed\"\n",
      "\n"
     ]
    }
   ],
   "source": [
    "print(tot_elapsed)"
   ]
  },
  {
   "cell_type": "code",
   "execution_count": null,
   "id": "d25c6eb6-d353-45de-b787-d1d67d484c5b",
   "metadata": {},
   "outputs": [],
   "source": []
  }
 ],
 "metadata": {
  "kernelspec": {
   "display_name": "R",
   "language": "R",
   "name": "ir"
  },
  "language_info": {
   "codemirror_mode": "r",
   "file_extension": ".r",
   "mimetype": "text/x-r-source",
   "name": "R",
   "pygments_lexer": "r",
   "version": "4.2.0"
  }
 },
 "nbformat": 4,
 "nbformat_minor": 5
}
