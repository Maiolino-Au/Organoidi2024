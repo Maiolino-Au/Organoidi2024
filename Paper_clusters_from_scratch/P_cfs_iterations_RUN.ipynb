{
 "cells": [
  {
   "cell_type": "code",
   "execution_count": 1,
   "id": "2ee09d1e-8c38-422c-8df6-6b0199d45427",
   "metadata": {},
   "outputs": [],
   "source": [
    "suppressPackageStartupMessages(library(tictoc))\n",
    "tic(\"All\")"
   ]
  },
  {
   "cell_type": "markdown",
   "id": "c958dcd5-46b7-441b-ac7c-b55f74177bdc",
   "metadata": {},
   "source": [
    "# **Iterations**\n",
    "\n",
    "I think that the resolution of clustering is too high. Too many clusters are formed and the p140 expressing cells are too spread, masking their expression id the differential expression analusis\n",
    "\n",
    "iterations for deciding \n",
    "* number of dimensions, most likely 30\n",
    "* resolutions in clustering\n",
    "\n",
    "## Files\n",
    "* UMAP\n",
    "* de.genes\n",
    "* violin for clusters\n",
    "* comparison\n",
    "* Rmd"
   ]
  },
  {
   "cell_type": "markdown",
   "id": "ecb58b63-def7-4e59-a2dd-5dcd867a3017",
   "metadata": {},
   "source": [
    "## Load Libraries"
   ]
  },
  {
   "cell_type": "code",
   "execution_count": 1,
   "id": "0c50bbb1-eaab-4095-8ad5-2a83c134e73b",
   "metadata": {},
   "outputs": [],
   "source": [
    "# LOAD LIBRARIES\n",
    "suppressPackageStartupMessages(library(Seurat))\n",
    "suppressPackageStartupMessages(library(tidyverse))\n",
    "suppressPackageStartupMessages(library(future))\n",
    "suppressPackageStartupMessages(library(ggplot2))\n",
    "suppressPackageStartupMessages(library(dplyr))\n",
    "suppressPackageStartupMessages(library(presto))\n",
    "suppressPackageStartupMessages(library(cowplot))\n",
    "suppressPackageStartupMessages(library(tictoc))\n",
    "\n",
    "suppressPackageStartupMessages(library(enrichR))\n",
    "suppressPackageStartupMessages(library(org.Hs.eg.db))\n",
    "suppressPackageStartupMessages(library(AnnotationDbi))\n",
    "\n",
    "suppressPackageStartupMessages(library(SingleR))\n",
    "\n",
    "suppressPackageStartupMessages(library(GPTCelltype))\n",
    "suppressPackageStartupMessages(library(openai))"
   ]
  },
  {
   "cell_type": "markdown",
   "id": "c696037d-66ce-4aee-bfd7-72f26df9103e",
   "metadata": {},
   "source": [
    "## Setup"
   ]
  },
  {
   "cell_type": "code",
   "execution_count": 2,
   "id": "adda7924-3061-4f36-a169-9de3112ea91b",
   "metadata": {},
   "outputs": [],
   "source": [
    "cores.ram <- function(cores,ram) {\n",
    "  plan(\"multisession\", workers = cores)\n",
    "  options(future.globals.maxSize = ram * 1024^3)\n",
    "}"
   ]
  },
  {
   "cell_type": "code",
   "execution_count": 3,
   "id": "83576d94-f0d2-41ad-921c-7ebf266adc62",
   "metadata": {},
   "outputs": [],
   "source": [
    "total_time <- function(seconds) {\n",
    "    d <- seconds %/% (86400)\n",
    "    h <- (seconds %% 86400) %/% 3600\n",
    "    m <- (seconds %% 3600) %/% 60\n",
    "    s <- seconds %% 60\n",
    "    \n",
    "    cat(sprintf(\"Total Time: %d Days, %d Hours, %d Minutes and %f Seconds\\n\", d, h, m, s))\n",
    "}"
   ]
  },
  {
   "cell_type": "code",
   "execution_count": 4,
   "id": "222c0363-440e-4664-9f0a-5e8816b0f7b0",
   "metadata": {},
   "outputs": [
    {
     "name": "stdout",
     "output_type": "stream",
     "text": [
      "Total Time: 65353 Days, 3 Hours, 52 Minutes and 45.500000 Seconds\n"
     ]
    }
   ],
   "source": [
    "total_time(5646513165.5)"
   ]
  },
  {
   "cell_type": "markdown",
   "id": "66100eca-0157-42bd-aa93-ceb66e79d909",
   "metadata": {},
   "source": [
    "## Functions"
   ]
  },
  {
   "cell_type": "markdown",
   "id": "3084254f-aaa0-4f60-aebb-a514a984a9ff",
   "metadata": {},
   "source": [
    "### load.data(time_point)\n",
    "* LOAD DATA\n",
    "* NORMALIZE\n",
    "* FIND VARIABLE FEATURES\n",
    "* SCALE DATA"
   ]
  },
  {
   "cell_type": "code",
   "execution_count": 5,
   "id": "2fc368d6-46d9-43e3-a2e8-7e8135e8075f",
   "metadata": {},
   "outputs": [],
   "source": [
    "load.data <- function(\n",
    "    file_name,\n",
    "    data_path = path_to_data,\n",
    "    output = F,\n",
    "    reduced.output = T \n",
    ") {\n",
    "    if (output | reduced.output) {\n",
    "        print(paste(\"Loading data for time point:\", file_name))\n",
    "    }\n",
    "\n",
    "    # Load the data\n",
    "    sc_data <- Read10X(data.dir = paste(data_path, \"expression_\", file_name, sep = \"\"), gene.column = 1)\n",
    "\n",
    "    # Create Seurat object\n",
    "    sc_data <- CreateSeuratObject(counts = sc_data, min.cells = 3, min.features = 500, project = file_name, names.delim = \"-\", names.field = 2)\n",
    "\n",
    "    # Normalize the data\n",
    "    sc_data <- NormalizeData(sc_data, normalization.method = \"LogNormalize\", scale.factor = 1e6, verbose = output)\n",
    "\n",
    "    # Find variable features\n",
    "    sc_data <- FindVariableFeatures(sc_data, selection.method = \"mvp\", nfeatures = 2000, verbose = output)\n",
    "\n",
    "    # Scale the data\n",
    "    sc_data <- ScaleData(sc_data, verbose = output)\n",
    "\n",
    "    return(sc_data)\n",
    "}"
   ]
  },
  {
   "cell_type": "markdown",
   "id": "a8e2728c-b2fb-4cdb-a93c-72f682981423",
   "metadata": {},
   "source": [
    "### PCA.cluster(data = sc_data, res)\n",
    "* Run PCA\n",
    "* Cluster the cells"
   ]
  },
  {
   "cell_type": "code",
   "execution_count": 6,
   "id": "bf548cd0-fc8e-4f29-afa9-69227e9c1017",
   "metadata": {},
   "outputs": [],
   "source": [
    "PCA.cluster <- function(\n",
    "    data = sc_data_scaled, \n",
    "    file_name = timepoints[time_point], \n",
    "    res = 1, \n",
    "    n_dim = 40, \n",
    "    save = F,\n",
    "    output = F,\n",
    "    reduced.output = T    \n",
    ") {  \n",
    "    if (output | reduced.output) {\n",
    "        print(paste(\"Running PCA and clustering for time point:\", file_name))\n",
    "        print(paste(\"- Resolution:\", res))\n",
    "        print(paste(\"- Dimensions:\", n_dim))\n",
    "    }\n",
    "        \n",
    "    # PCA\n",
    "    data <- RunPCA(data, npcs = n_dim, verbose = output)\n",
    "    #print(ElbowPlot(object = data, ndims = 50))\n",
    "\n",
    "    # Cluster the cells\n",
    "    data <- FindNeighbors(data, dims = 1:n_dim, verbose = output)\n",
    "    data <- FindClusters(data, resolution = res, verbose = output)\n",
    "    \n",
    "    #print(table(Idents(data)))\n",
    "\n",
    "    # Save the parial\n",
    "    if (save) {\n",
    "        name_new_dir <- paste(\"Partial/\", file_name, \"/cluster\", param, sep=\"\")\n",
    "        if (!dir.exists(name_new_dir)) {dir.create(name_new_dir)} \n",
    "    \n",
    "        print(paste(\"Saving PCA for time point\", file_name, \"in\", name_new_dir))\n",
    "        save(data, file = paste(name_new_dir, \"/PCA_res_\", res, \"_dim_\", n_dim, \"_\", file_name, \".Robj\", sep=\"\"))\n",
    "    }\n",
    "    return(data)\n",
    "}"
   ]
  },
  {
   "cell_type": "markdown",
   "id": "1c96b8f9-92e1-42d5-8231-cad37dbea49a",
   "metadata": {},
   "source": [
    "## UMAP"
   ]
  },
  {
   "cell_type": "code",
   "execution_count": 7,
   "id": "e57901e1-4a06-4901-a991-bb927e999785",
   "metadata": {},
   "outputs": [],
   "source": [
    "UMAP.plot <- function(\n",
    "    data = sc_data,\n",
    "    file_name = timepoints[time_point],\n",
    "    n_dim = 40,\n",
    "    param = \"\",\n",
    "    output = F,\n",
    "    reduced.output = T,\n",
    "    print_plot = F\n",
    ") {\n",
    "    if (output | reduced.output) {\n",
    "        print(\"Making UMAP\")\n",
    "    }\n",
    "    \n",
    "    sc_data_UMAP <- RunUMAP(data, dims = 1:n_dim, verbose = output)\n",
    "    \n",
    "    # Visualization of clusters   \n",
    "    plot <- DimPlot(sc_data_UMAP, reduction = \"umap\", label = TRUE, pt.size = 1) + \n",
    "        ggtitle(paste(\"UMAP of Clusters -\",file_name, \"-\", gsub(\"_\", \" \", param)))\n",
    "\n",
    "    if (print_plot) {print(plot)}\n",
    "    \n",
    "    return(plot)\n",
    "}"
   ]
  },
  {
   "cell_type": "markdown",
   "id": "68ac5ae4-8ce1-4165-8f2b-8e3245095bca",
   "metadata": {},
   "source": [
    "### cluster.markers(x = sc_data)\n",
    "* find all markers for every cluster compared to all remaining cells"
   ]
  },
  {
   "cell_type": "code",
   "execution_count": 8,
   "id": "16f5ba61-7466-4b98-a69e-d04c183033ed",
   "metadata": {},
   "outputs": [],
   "source": [
    "# FIND ALL MARKERS\n",
    "cluster.markers <- function(\n",
    "    data, \n",
    "    file_name = timepoints[time_point],\n",
    "    output = F,\n",
    "    reduced.output = T\n",
    ") {\n",
    "    if (output | reduced.output) {\n",
    "        print(paste(\"Finding all markers for time point:\", file_name))\n",
    "    }\n",
    "\n",
    "    # Find all markers for every cluster compared to all remaining cells\n",
    "    markers <- FindAllMarkers(data,\n",
    "                              only.pos = TRUE,   # Considera solo i marker espressi positivamente\n",
    "                              min.pct = 0.25,    # Percentuale minima di espressione nelle cellule del cluster\n",
    "                              logfc.threshold = 0.25,  # Soglia minima di LogFC\n",
    "                              verbose = output)\n",
    "        \n",
    "    return(markers)\n",
    "}"
   ]
  },
  {
   "cell_type": "markdown",
   "id": "f23c2a1e-5a9b-46e5-96d3-659297530080",
   "metadata": {},
   "source": [
    "### annotation.enrichR()\n",
    "* cell annotation with enrichR"
   ]
  },
  {
   "cell_type": "code",
   "execution_count": 9,
   "id": "87c8a5c4-f75a-49a1-b0d1-109db4d05f5a",
   "metadata": {},
   "outputs": [],
   "source": [
    "annotation.enrichR <- function (\n",
    "    top_genes,\n",
    "    database = \"Allen_Brain_Atlas_10x_scRNA_2021\",\n",
    "    output = F,\n",
    "    reduced.output = T\n",
    ") {\n",
    "    gene_symbols <- top_genes$gene\n",
    "    # entrez_ids <- suppressMessages(\n",
    "    #     mapIds(org.Hs.eg.db, keys = gene_symbols, column = \"ENTREZID\", keytype = \"SYMBOL\", multiVals = \"first\")\n",
    "    # )\n",
    "    # # Add Entrez IDs to your data.frame\n",
    "    # top_genes$entrez <- entrez_ids\n",
    "    # # Remove rows with NA Entrez IDs\n",
    "    # top_genes <- top_genes[!is.na(top_genes$entrez), ]\n",
    "\n",
    "    annotation_list <- list()\n",
    "    \n",
    "    for (cl in unique(top_genes$cluster)) {\n",
    "        genes_cluster <- top_genes %>% filter(cluster == cl) %>% pull(gene)#entrez)\n",
    "        # Optionally, use Entrez IDs instead:\n",
    "        # genes_cluster <- top_genes %>% filter(cluster == cl) %>% pull(entrez)\n",
    "        \n",
    "        # Perform enrichment analysis\n",
    "        a <- capture.output(\n",
    "            enriched <- enrichr(genes_cluster, databases = \"Allen_Brain_Atlas_10x_scRNA_2021\")\n",
    "        )\n",
    "\n",
    "        annotation <- enriched$Allen_Brain_Atlas_10x_scRNA_2021 %>% as.data.table()\n",
    "        annotation$cluster <- as.numeric(cl)\n",
    "\n",
    "        annotation_list[[cl]] <- annotation[grepl(\"Human\", annotation$Term, ignore.case = TRUE) & annotation$Adjusted.P.value < 5e-2]\n",
    "    }\n",
    "\n",
    "\n",
    "    return(annotation_list)\n",
    "}"
   ]
  },
  {
   "cell_type": "markdown",
   "id": "fdcbdfd7-0254-4c39-a3aa-38093d372b7c",
   "metadata": {},
   "source": [
    "## For"
   ]
  },
  {
   "cell_type": "code",
   "execution_count": 10,
   "id": "e5d7f996-ad1f-4791-a04a-5a2e5de8c9ca",
   "metadata": {},
   "outputs": [],
   "source": [
    "iterations <- function(\n",
    "    timepoints = c(\"23days\", \"1month\", \"1.5month\", \"2month\", \"3month\", \"4month\", \"5month\", \"6month\"),\n",
    "    housekeeping_genes = c(\"ACTB\", \"DLG4\"),\n",
    "    genes_of_interest = c(\"SRCIN1\", \"KIAA1217\", \"CIT\"),\n",
    "    path_to_data = \"/sharedFolder/Data/\",\n",
    "    res_list = seq(0.1, 1, by = 0.1),\n",
    "    dim_list = c(20, 30, 40, 50),\n",
    "    top_n_genes = 50,\n",
    "    check_for_saved_plot = F,\n",
    "    output = F,\n",
    "    reduced.output = T,\n",
    "    print.plot = F,\n",
    "    name_save = \"\"\n",
    ") {\n",
    "    print(paste(\"Path to data:\", path_to_data))\n",
    "    print(paste(\"Timepoints:\", timepoints))\n",
    "    print(paste(\"Housekeeping genes:\", housekeeping_genes))\n",
    "    print(paste(\"Genes of interest:\", genes_of_interest))\n",
    "    print(\"\")\n",
    "\n",
    "    print(paste(\"Resolutions:\", res_list))\n",
    "    print(paste(\"Number of dimension:\", dim_list))\n",
    "    print(\"\")\n",
    "    \n",
    "    # Total number of \n",
    "    cycles_per_timepoint <- length(res_list)*length(dim_list)\n",
    "    print(paste(\"Number of cycles per timepoint:\", cycles_per_timepoint))\n",
    "    tot_cycles <- cycles_per_timepoint*length(timepoints)\n",
    "    print(paste(\"Total number of cycles:\", tot_cycles))\n",
    "    print(\"\")\n",
    "    \n",
    "    N_cycle <- 0\n",
    "    \n",
    "    dir_iterations <- paste0(\"Results/Iterations\")     \n",
    "    if (!dir.exists(dir_iterations)) {dir.create(dir_iterations)}\n",
    "    \n",
    "    print(\"Starting\")\n",
    "    \n",
    "    timings <- data.frame()\n",
    "    n_of_clusters <- data.frame()\n",
    "    \n",
    "    tic(\"Iterations\")\n",
    "    \n",
    "    for (f_name in timepoints) {\n",
    "        tic(paste(\"Loading\", f_name))\n",
    "    \n",
    "        dir_timepoint <- paste(dir_iterations, \"/\", f_name, sep=\"\")     \n",
    "        if (!dir.exists(dir_timepoint)) {dir.create(dir_timepoint)}\n",
    "        \n",
    "        # Load data\n",
    "        sc_data_scaled <- load.data(file_name = f_name, data_path = path_to_data, output = output, reduced.output = reduced.output)\n",
    "    \n",
    "        toc(quiet = T)\n",
    "    \n",
    "        for (clustering_resolution in res_list) {\n",
    "            for (n_of_dimesnions in dim_list) {\n",
    "                # Progression Message\n",
    "                N_cycle <- N_cycle + 1\n",
    "                print(paste(N_cycle, \"of\", tot_cycles)) \n",
    "                print(paste(f_name, \"- Res:\", clustering_resolution, \"- Dim:\", n_of_dimesnions))\n",
    "    \n",
    "                # param\n",
    "                char_res <- as.character(clustering_resolution)\n",
    "                if (grepl(\"\\\\.\", char_res)) {char_res <- gsub(\"\\\\.\", \"_\", char_res)}\n",
    "                param <- paste0(\"_res_\", char_res, \"_dim_\", n_of_dimesnions)\n",
    "    \n",
    "                # Create subfolder\n",
    "                new_dir <- paste(dir_timepoint, \"/\", f_name, param, sep=\"\")     \n",
    "                if (!dir.exists(new_dir)) {dir.create(new_dir)}\n",
    "    \n",
    "                # start time\n",
    "                tic(paste(f_name, \"- Res:\", clustering_resolution, \"- Dim:\", n_of_dimesnions))\n",
    "    \n",
    "                # Clusterize\n",
    "                sc_data <- PCA.cluster(\n",
    "                    data = sc_data_scaled, \n",
    "                    file_name = f_name, \n",
    "                    res = clustering_resolution, \n",
    "                    n_dim = n_of_dimesnions,\n",
    "                    output = output, \n",
    "                    reduced.output = reduced.output\n",
    "                )\n",
    "    \n",
    "                n_of_clusters[paste0(\"res_\", clustering_resolution, \"_dim_\", n_of_dimesnions), f_name] <- length(table(Idents(sc_data)))\n",
    "    \n",
    "                plot_UMAP <- suppressMessages(suppressWarnings(UMAP.plot(\n",
    "                    data = sc_data, \n",
    "                    file_name = f_name, \n",
    "                    n_dim = n_of_dimesnions, \n",
    "                    param = param,\n",
    "                    output = output, \n",
    "                    reduced.output = reduced.output,\n",
    "                    print_plot = print.plot\n",
    "                )))\n",
    "\n",
    "                # Save UMAP\n",
    "                umap_file_name <- paste0(new_dir, \"/UMAP\", f_name, param, \".png\")\n",
    "                if (!(check_for_saved_plot & exists(umap_file_name))) {\n",
    "                    print(\"Saving UMAP\")\n",
    "                    ggsave(\n",
    "                        umap_file_name, \n",
    "                        plot=plot_UMAP, \n",
    "                        width = 1920*2, height = 1980*2, units = \"px\"\n",
    "                    )\n",
    "                }\n",
    "    \n",
    "                # Find Markers\n",
    "                cluster_markers <- cluster.markers(\n",
    "                    data = sc_data, \n",
    "                    file_name = f_name, \n",
    "                    output = output, \n",
    "                    reduced.output = reduced.output\n",
    "                )\n",
    "    \n",
    "                write.csv(cluster_markers, file = paste0(\n",
    "                    new_dir, \"/\",\n",
    "                    \"cluster_markers_\",\n",
    "                    f_name,\n",
    "                    param,\n",
    "                    \".csv\"\n",
    "                ))\n",
    "\n",
    "                # de.genes\n",
    "                de_genes <- cluster_markers %>% filter(gene %in% genes_of_interest)\n",
    "                if (output | reduced.output) {print(paste(\"de.genes nrow:\", nrow(de_genes)))}\n",
    "\n",
    "                write.csv(de_genes, file = paste0(\n",
    "                    new_dir, \"/\",\n",
    "                    \"de_genes\",\n",
    "                    f_name,\n",
    "                    param,\n",
    "                    \".csv\"\n",
    "                ))\n",
    "\n",
    "                # Top top_n_genes DE genes\n",
    "                top_genes_by_cluster <- cluster_markers %>% group_by(cluster) %>% top_n(n = top_n_genes, wt = avg_log2FC) %>% as.data.frame()\n",
    "\n",
    "                write.csv(top_genes_by_cluster, file = paste0(\n",
    "                    new_dir, \"/\",\n",
    "                    \"top_genes_by_cluster_\",\n",
    "                    f_name,\n",
    "                    param,\n",
    "                    \".csv\"\n",
    "                ))\n",
    "    \n",
    "                # Annotation - enrichR\n",
    "                enrichR_list <- annotation.enrichR(\n",
    "                    top_genes = top_genes_by_cluster,\n",
    "                    database = \"Allen_Brain_Atlas_10x_scRNA_2021\"\n",
    "                )\n",
    "\n",
    "                write.csv(bind_rows(enrichR_list), file = paste0(\n",
    "                    new_dir, \"/\",\n",
    "                    \"enrichR_annotation_\",\n",
    "                    f_name,\n",
    "                    param,\n",
    "                    \".csv\"\n",
    "                ), row.names = FALSE)\n",
    "    \n",
    "                # Annotation - singelR\n",
    "    \n",
    "                # Annotation - CPTCellType\n",
    "    \n",
    "                # end time\n",
    "                elapsed <- toc(log = TRUE, quiet = reduced.output)\n",
    "                timings[f_name, paste0(\"res_\", clustering_resolution, \"_dim_\", n_of_dimesnions)] <- elapsed$toc - elapsed$tic\n",
    "            }\n",
    "        }\n",
    "\n",
    "        print(\"\") # an empti line for better visualization \n",
    "    }\n",
    "    \n",
    "    timings$tot_time <- rowSums(timings)\n",
    "    \n",
    "    n_tocken_gpt <- n_of_clusters*837.5\n",
    "    n_tocken_gpt$total <- rowSums(n_tocken_gpt)\n",
    "\n",
    "    if (name_save != F) {\n",
    "        if (name_save != \"\") name_save <- paste0(\"_\", name_save)\n",
    "        write.csv(timings, file = paste0(dir_iterations, \"/tmings\", name_save, \".csv\"))\n",
    "        write.csv(n_tocken_gpt, file = paste0(dir_iterations, \"/number_of_tokens\", name_save, \".csv\"))\n",
    "    }\n",
    "    \n",
    "    tot_elapsed <- toc(log = TRUE, quiet = F)\n",
    "    print(\"END\")\n",
    "    return(list(Time = timings, N_of_Clusters = n_of_clusters))\n",
    "}"
   ]
  },
  {
   "cell_type": "code",
   "execution_count": 11,
   "id": "d1115c0f-573c-4f8b-9c0a-109983127a63",
   "metadata": {},
   "outputs": [],
   "source": [
    "# tic(\"Iterations\")\n",
    "# tmp <- capture.output(\n",
    "#     iterations_list <- iterations(\n",
    "#         timepoints = \"23days\",#c(\"23days\", \"1month\", \"1.5month\", \"2month\", \"3month\", \"4month\", \"5month\", \"6month\"),\n",
    "#         housekeeping_genes = c(\"ACTB\", \"DLG4\"),\n",
    "#         genes_of_interest = c(\"SRCIN1\", \"KIAA1217\", \"CIT\"),\n",
    "#         path_to_data = \"/sharedFolder/Data/\",\n",
    "#         res_list = 0.1,#c(0.4, 0.5, 0.7, 1), #seq(0.4, 1, by = 0.1),\n",
    "#         dim_list = 20,#c(20, 30, 40),\n",
    "#         top_n_genes = 50,\n",
    "#         check_for_saved_plot = T,\n",
    "#         output = F, \n",
    "#         reduced.output = T, \n",
    "#         print.plot = F,\n",
    "#         name_save = \"a\"\n",
    "#     ),\n",
    "#     file = \"/sharedFolder/Paper_clusters_from_scratch/Results/Iterations/a.txt\" #0_output_r05.txt\"\n",
    "# )\n",
    "\n",
    "# elapsed <- toc(log = TRUE, quiet = T)\n",
    "# elapsed$toc - elapsed$tic\n",
    "# total_time(elapsed$toc - elapsed$tic)\n",
    "\n",
    "# iterations_list"
   ]
  },
  {
   "cell_type": "code",
   "execution_count": 13,
   "id": "57824cc8-13a1-4bf2-89a8-b16c0a234ba2",
   "metadata": {},
   "outputs": [
    {
     "data": {
      "text/html": [
       "<strong>elapsed:</strong> 128.217"
      ],
      "text/latex": [
       "\\textbf{elapsed:} 128.217"
      ],
      "text/markdown": [
       "**elapsed:** 128.217"
      ],
      "text/plain": [
       "elapsed \n",
       "128.217 "
      ]
     },
     "metadata": {},
     "output_type": "display_data"
    },
    {
     "name": "stdout",
     "output_type": "stream",
     "text": [
      "Total Time: 0 Days, 0 Hours, 2 Minutes and 8.217000 Seconds\n"
     ]
    }
   ],
   "source": [
    "tic(\"Iterations\")\n",
    "tmp <- capture.output(\n",
    "    iterations_list <- iterations(\n",
    "        timepoints = \"23days\",#c(\"23days\", \"1month\", \"1.5month\", \"2month\", \"3month\", \"4month\", \"5month\", \"6month\"),\n",
    "        housekeeping_genes = c(\"ACTB\", \"DLG4\"),\n",
    "        genes_of_interest = c(\"SRCIN1\", \"KIAA1217\", \"CIT\"),\n",
    "        path_to_data = \"/sharedFolder/Data/\",\n",
    "        res_list = 0.1,#c(0.4, 0.5, 0.7, 1), #seq(0.4, 1, by = 0.1),\n",
    "        dim_list = 20,#c(20, 30, 40),\n",
    "        top_n_genes = 50,\n",
    "        check_for_saved_plot = T,\n",
    "        output = F, \n",
    "        reduced.output = T, \n",
    "        print.plot = F,\n",
    "        name_save = F\n",
    "    ),\n",
    "    file = NULL\n",
    ")\n",
    "\n",
    "elapsed <- toc(log = TRUE, quiet = T)\n",
    "elapsed$toc - elapsed$tic\n",
    "total_time(elapsed$toc - elapsed$tic)"
   ]
  },
  {
   "cell_type": "code",
   "execution_count": 16,
   "id": "ef6758ad-7aa8-4082-9ce5-2c6d4ce878c4",
   "metadata": {},
   "outputs": [
    {
     "data": {
      "text/html": [
       "<strong>elapsed:</strong> 183.196"
      ],
      "text/latex": [
       "\\textbf{elapsed:} 183.196"
      ],
      "text/markdown": [
       "**elapsed:** 183.196"
      ],
      "text/plain": [
       "elapsed \n",
       "183.196 "
      ]
     },
     "metadata": {},
     "output_type": "display_data"
    },
    {
     "name": "stdout",
     "output_type": "stream",
     "text": [
      "Total Time: 0 Days, 0 Hours, 3 Minutes and 3.196000 Seconds\n"
     ]
    }
   ],
   "source": [
    "# plan(\"multisession\", workers = availableCores()-6)\n",
    "cores.ram(availableCores()-12, 50)\n",
    "tic(\"Iterations\")\n",
    "tmp <- capture.output(\n",
    "    iterations_list <- iterations(\n",
    "        timepoints = \"23days\",#c(\"23days\", \"1month\", \"1.5month\", \"2month\", \"3month\", \"4month\", \"5month\", \"6month\"),\n",
    "        housekeeping_genes = c(\"ACTB\", \"DLG4\"),\n",
    "        genes_of_interest = c(\"SRCIN1\", \"KIAA1217\", \"CIT\"),\n",
    "        path_to_data = \"/sharedFolder/Data/\",\n",
    "        res_list = 0.1,#c(0.4, 0.5, 0.7, 1), #seq(0.4, 1, by = 0.1),\n",
    "        dim_list = 20,#c(20, 30, 40),\n",
    "        top_n_genes = 50,\n",
    "        check_for_saved_plot = T,\n",
    "        output = F, \n",
    "        reduced.output = T, \n",
    "        print.plot = F,\n",
    "        name_save = F\n",
    "    ),\n",
    "    file = NULL\n",
    ")\n",
    "\n",
    "elapsed <- toc(log = TRUE, quiet = T)\n",
    "elapsed$toc - elapsed$tic\n",
    "total_time(elapsed$toc - elapsed$tic)"
   ]
  },
  {
   "cell_type": "code",
   "execution_count": 15,
   "id": "17c8c176-ef31-4fc8-b44b-55fa315bc2bc",
   "metadata": {},
   "outputs": [
    {
     "data": {
      "text/html": [
       "<strong>elapsed:</strong> 123.802"
      ],
      "text/latex": [
       "\\textbf{elapsed:} 123.802"
      ],
      "text/markdown": [
       "**elapsed:** 123.802"
      ],
      "text/plain": [
       "elapsed \n",
       "123.802 "
      ]
     },
     "metadata": {},
     "output_type": "display_data"
    },
    {
     "name": "stdout",
     "output_type": "stream",
     "text": [
      "Total Time: 0 Days, 0 Hours, 2 Minutes and 3.802000 Seconds\n"
     ]
    }
   ],
   "source": [
    "multicore()\n",
    "tic(\"Iterations\")\n",
    "tmp <- capture.output(\n",
    "    iterations_list <- iterations(\n",
    "        timepoints = \"23days\",#c(\"23days\", \"1month\", \"1.5month\", \"2month\", \"3month\", \"4month\", \"5month\", \"6month\"),\n",
    "        housekeeping_genes = c(\"ACTB\", \"DLG4\"),\n",
    "        genes_of_interest = c(\"SRCIN1\", \"KIAA1217\", \"CIT\"),\n",
    "        path_to_data = \"/sharedFolder/Data/\",\n",
    "        res_list = 0.1,#c(0.4, 0.5, 0.7, 1), #seq(0.4, 1, by = 0.1),\n",
    "        dim_list = 20,#c(20, 30, 40),\n",
    "        top_n_genes = 50,\n",
    "        check_for_saved_plot = T,\n",
    "        output = F, \n",
    "        reduced.output = T, \n",
    "        print.plot = F,\n",
    "        name_save = F\n",
    "    ),\n",
    "    file = NULL\n",
    ")\n",
    "\n",
    "elapsed <- toc(log = TRUE, quiet = T)\n",
    "elapsed$toc - elapsed$tic\n",
    "total_time(elapsed$toc - elapsed$tic)"
   ]
  },
  {
   "cell_type": "code",
   "execution_count": null,
   "id": "ecc7dc28-9980-446c-82c4-2f59c908e021",
   "metadata": {},
   "outputs": [],
   "source": [
    "toc()"
   ]
  },
  {
   "cell_type": "code",
   "execution_count": null,
   "id": "1a2a7d48-a710-4552-8db4-2a89d8559f70",
   "metadata": {},
   "outputs": [],
   "source": [
    "a <-iterations_list\n",
    "list_assign"
   ]
  },
  {
   "cell_type": "code",
   "execution_count": null,
   "id": "e6fa4e5a-672b-4eb9-85c6-41050c435bdf",
   "metadata": {},
   "outputs": [],
   "source": [
    "x <- list(x = 1:10, y = 4, z = list(a = 1, b = 2))\n",
    "str(x)\n",
    "\n",
    "# Update values\n",
    "str(list_assign(x, a = 1))"
   ]
  },
  {
   "cell_type": "code",
   "execution_count": null,
   "id": "da22d946-a3c4-4db9-98f0-fa8bc9ae0d07",
   "metadata": {},
   "outputs": [],
   "source": [
    "?list_assign"
   ]
  },
  {
   "cell_type": "code",
   "execution_count": null,
   "id": "6a381a21-9e2c-4354-9f17-9dc7163021cc",
   "metadata": {},
   "outputs": [],
   "source": []
  }
 ],
 "metadata": {
  "kernelspec": {
   "display_name": "R",
   "language": "R",
   "name": "ir"
  },
  "language_info": {
   "codemirror_mode": "r",
   "file_extension": ".r",
   "mimetype": "text/x-r-source",
   "name": "R",
   "pygments_lexer": "r",
   "version": "4.2.0"
  }
 },
 "nbformat": 4,
 "nbformat_minor": 5
}
