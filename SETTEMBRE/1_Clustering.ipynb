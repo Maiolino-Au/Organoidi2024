{
 "cells": [
  {
   "cell_type": "markdown",
   "id": "331b7da2-396f-4976-8bb8-5c72fa92c2a0",
   "metadata": {
    "jp-MarkdownHeadingCollapsed": true
   },
   "source": [
    "# notes"
   ]
  },
  {
   "cell_type": "markdown",
   "id": "eede0446-6837-4e70-80e3-1615db7f750d",
   "metadata": {},
   "source": [
    "* take the data\n",
    "* normalize"
   ]
  },
  {
   "cell_type": "markdown",
   "id": "a3ccfb19-d35e-4d10-a358-b31f9c3e5874",
   "metadata": {},
   "source": [
    "still have to decide whether to separate the files or not"
   ]
  },
  {
   "cell_type": "markdown",
   "id": "29ef15a6-58b1-4324-a08f-5499ffbce974",
   "metadata": {},
   "source": [
    "# SetUp"
   ]
  },
  {
   "cell_type": "code",
   "execution_count": 1,
   "id": "740b8338-ce0e-4183-8dde-014e0e24bef7",
   "metadata": {},
   "outputs": [],
   "source": [
    "# LOAD LIBRARIES\n",
    "suppressPackageStartupMessages(library(Seurat))\n",
    "suppressPackageStartupMessages(library(tidyverse))\n",
    "suppressPackageStartupMessages(library(future))\n",
    "suppressPackageStartupMessages(library(ggplot2))\n",
    "suppressPackageStartupMessages(library(dplyr))\n",
    "suppressPackageStartupMessages(library(presto))\n",
    "suppressPackageStartupMessages(library(cowplot))\n",
    "suppressPackageStartupMessages(library(tictoc))\n",
    "\n",
    "suppressPackageStartupMessages(library(enrichR))\n",
    "suppressPackageStartupMessages(library(org.Hs.eg.db))\n",
    "suppressPackageStartupMessages(library(AnnotationDbi))\n",
    "\n",
    "suppressPackageStartupMessages(library(SingleR))\n",
    "\n",
    "suppressPackageStartupMessages(library(GPTCelltype))\n",
    "suppressPackageStartupMessages(library(openai))"
   ]
  },
  {
   "cell_type": "code",
   "execution_count": 123,
   "id": "eba1f49f-48f0-48df-b966-b632b7bc63ca",
   "metadata": {},
   "outputs": [],
   "source": [
    "total_time <- function(seconds) {\n",
    "    d <- seconds %/% (86400)\n",
    "    h <- (seconds %% 86400) %/% 3600\n",
    "    m <- (seconds %% 3600) %/% 60\n",
    "    s <- seconds %% 60\n",
    "    \n",
    "    cat(sprintf(\"Total Time: %f Days, %f Hours, %f Minutes and %f Seconds\\n\", d, h, m, s))\n",
    "}"
   ]
  },
  {
   "cell_type": "markdown",
   "id": "1704e0f4-ac2e-4f59-ab43-a91ff440b20d",
   "metadata": {},
   "source": [
    "# Seurat"
   ]
  },
  {
   "cell_type": "markdown",
   "id": "0b95ca8f-3a03-499b-bf81-fabbafde251e",
   "metadata": {},
   "source": [
    "## Functions"
   ]
  },
  {
   "cell_type": "markdown",
   "id": "fd9bf0e1-1f54-449e-89a3-7a01e8a3f8a2",
   "metadata": {},
   "source": [
    "### Load data"
   ]
  },
  {
   "cell_type": "code",
   "execution_count": 80,
   "id": "41cf2dfa-7881-4d03-b27e-aab2508cdea4",
   "metadata": {},
   "outputs": [],
   "source": [
    "load.data <- function(\n",
    "    file_name,\n",
    "    data_path = path_to_data,\n",
    "    output = F,\n",
    "    reduced.output = T \n",
    ") {\n",
    "    # Load the data\n",
    "    data <- Read10X(data.dir = paste(data_path, \"expression_\", file_name, sep = \"\"), gene.column = 1)\n",
    "\n",
    "    return(data)\n",
    "}"
   ]
  },
  {
   "cell_type": "markdown",
   "id": "8868dc0d-b4d5-4d6e-b38e-38075a245f78",
   "metadata": {},
   "source": [
    "### Preprocessing"
   ]
  },
  {
   "cell_type": "code",
   "execution_count": 12,
   "id": "c9fbf53b-042d-40fc-b49d-7a2cd4e43ef4",
   "metadata": {},
   "outputs": [],
   "source": [
    "preprocessing <- function(\n",
    "    data,\n",
    "    output = F\n",
    ") {\n",
    "    # Create Seurat object\n",
    "    sc_data <- CreateSeuratObject(counts = data, min.cells = 3, min.features = 500, names.delim = \"-\", names.field = 2)\n",
    "\n",
    "    # Normalize the data\n",
    "    sc_data <- NormalizeData(sc_data, normalization.method = \"LogNormalize\", scale.factor = 1e6, verbose = output)\n",
    "\n",
    "    # Find variable features\n",
    "    sc_data <- FindVariableFeatures(sc_data, selection.method = \"mvp\", nfeatures = 2000, verbose = output)\n",
    "\n",
    "    # Scale the data\n",
    "    sc_data <- ScaleData(sc_data, verbose = output)\n",
    "\n",
    "    return(sc_data)\n",
    "}"
   ]
  },
  {
   "cell_type": "markdown",
   "id": "83753361-0001-44a4-b21e-4bea2501af53",
   "metadata": {},
   "source": [
    "### Clusteing"
   ]
  },
  {
   "cell_type": "code",
   "execution_count": 46,
   "id": "41e808a6-2fbf-4791-9efb-7debec09b904",
   "metadata": {},
   "outputs": [],
   "source": [
    "PCA.cluster <- function(\n",
    "    data, \n",
    "    res = 1, \n",
    "    n_dim = 40, \n",
    "    save = F,\n",
    "    output = F   \n",
    ") {\n",
    "    # PCA\n",
    "    data <- RunPCA(data, npcs = max(n_dim), verbose = output)\n",
    "    data <- RunUMAP(data, dims = n_dim, verbose = output)\n",
    "    #print(ElbowPlot(object = data, ndims = max(50, n_dim)))\n",
    "\n",
    "    # Cluster the cells\n",
    "    data <- FindNeighbors(data, dims = n_dim, verbose = output)\n",
    "    data <- FindClusters(data, resolution = res, verbose = output)\n",
    "    \n",
    "    #print(table(Idents(data)))\n",
    "\n",
    "    # Save the parial\n",
    "    if (save != F) {\n",
    "        name_new_dir <- paste(\"Partial/\", save, \"/cluster\", param, sep=\"\")\n",
    "        if (!dir.exists(name_new_dir)) {dir.create(name_new_dir)} \n",
    "    \n",
    "        print(paste(\"Saving PCA for time point\", save, \"in\", name_new_dir))\n",
    "        save(data, file = paste(name_new_dir, \"/PCA_res_\", res, \"_dim_\", n_dim, \"_\", save, \".Robj\", sep=\"\"))\n",
    "    }\n",
    "    \n",
    "    return(data)\n",
    "}"
   ]
  },
  {
   "cell_type": "markdown",
   "id": "fb6c7700-9612-4b13-a20f-88b3fa121f92",
   "metadata": {},
   "source": [
    "### UMAP & PCA plot"
   ]
  },
  {
   "cell_type": "code",
   "execution_count": 93,
   "id": "d52f7bea-f305-4ef4-b9c9-41615c97b66e",
   "metadata": {},
   "outputs": [],
   "source": [
    "cluster.plot <- function(\n",
    "    data,\n",
    "    file_name = timepoints[time_point],\n",
    "    pt.size = 1,\n",
    "    print_plot = F\n",
    ") { \n",
    "    plots <- list(\n",
    "        UMAP = DimPlot(data, reduction = \"umap\", label = TRUE, pt.size = pt.size) + \n",
    "            ggtitle(paste(\"UMAP -\",file_name)),\n",
    "        PCA = DimPlot(data, reduction = \"pca\", label = TRUE, pt.size = pt.size) + \n",
    "            ggtitle(paste(\"PCA -\",file_name))\n",
    "    )\n",
    "\n",
    "    if (print_plot) {print(plots)}\n",
    "    \n",
    "    return(plots)\n",
    "}"
   ]
  },
  {
   "cell_type": "markdown",
   "id": "8e574fc7-c4e3-45bf-ab25-02f31956bc00",
   "metadata": {},
   "source": [
    "### Markers"
   ]
  },
  {
   "cell_type": "code",
   "execution_count": 33,
   "id": "5c99ba28-3065-46d2-a831-a619cc591895",
   "metadata": {},
   "outputs": [],
   "source": [
    "cluster.markers <- function(\n",
    "    data,\n",
    "    output = F\n",
    ") {\n",
    "    # Find all markers for every cluster compared to all remaining cells\n",
    "    markers <- FindAllMarkers(data,\n",
    "                              only.pos = TRUE,   # Considera solo i marker espressi positivamente\n",
    "                              min.pct = 0.25,    # Percentuale minima di espressione nelle cellule del cluster\n",
    "                              logfc.threshold = 0.25,  # Soglia minima di LogFC\n",
    "                              verbose = output)\n",
    "        \n",
    "    return(markers)\n",
    "}"
   ]
  },
  {
   "cell_type": "markdown",
   "id": "aa162890-9790-4475-8237-dd970afd60d1",
   "metadata": {},
   "source": [
    "### Top Genes"
   ]
  },
  {
   "cell_type": "code",
   "execution_count": 70,
   "id": "d0973d23-0827-4292-91a0-320ff9ca2e83",
   "metadata": {},
   "outputs": [],
   "source": [
    "top.genes <- function(\n",
    "    clmark = cluster_markers,\n",
    "    num = 50\n",
    ") {\n",
    "    top_genes_by_cluster <- cluster_markers %>% group_by(cluster) %>% top_n(n = top_n_genes, wt = avg_log2FC) %>% as.data.frame()\n",
    "\n",
    "    return(top_genes_by_cluster)\n",
    "}"
   ]
  },
  {
   "cell_type": "markdown",
   "id": "f008f6f0-c418-4d63-86a8-1e6d349b2915",
   "metadata": {},
   "source": [
    "## Do"
   ]
  },
  {
   "cell_type": "code",
   "execution_count": 72,
   "id": "15bdbd02-8802-4ff6-9a4b-501b843b7117",
   "metadata": {},
   "outputs": [],
   "source": [
    "timepoints = c(\"23days\", \"1month\", \"1.5month\", \"2month\", \"3month\", \"4month\", \"5month\", \"6month\")\n",
    "housekeeping_genes = c(\"ACTB\", \"DLG4\")\n",
    "genes_of_interest = c(\"SRCIN1\", \"KIAA1217\", \"CIT\")\n",
    "path_to_data = \"/sharedFolder/Data/\"\n",
    "res_list = c(1, 0.5, 0.2, 0.1)#seq(0.1, 1, by = 0.1)\n",
    "dim_list = c(1:20)\n",
    "top_n_genes = 50"
   ]
  },
  {
   "cell_type": "code",
   "execution_count": 95,
   "id": "9f2e854a-9c30-417c-8bbf-7a9e970c47d0",
   "metadata": {},
   "outputs": [],
   "source": [
    "file_name <- timepoints[1]"
   ]
  },
  {
   "cell_type": "code",
   "execution_count": 73,
   "id": "8d57b105-8da2-4aac-b523-1bc12d8f1cf1",
   "metadata": {},
   "outputs": [
    {
     "name": "stdout",
     "output_type": "stream",
     "text": [
      "[1] \"Loading data for time point: 23days\"\n"
     ]
    }
   ],
   "source": [
    "raw_data <- load.data(file_name)"
   ]
  },
  {
   "cell_type": "code",
   "execution_count": 74,
   "id": "0d9dd30b-cb19-4a3c-b99c-8a8c16c7d057",
   "metadata": {
    "collapsed": true,
    "jupyter": {
     "outputs_hidden": true
    }
   },
   "outputs": [
    {
     "data": {
      "text/html": [
       "<table class=\"dataframe\">\n",
       "<caption>A data.frame: 10 × 3</caption>\n",
       "<thead>\n",
       "\t<tr><th></th><th scope=col>orig.ident</th><th scope=col>nCount_RNA</th><th scope=col>nFeature_RNA</th></tr>\n",
       "\t<tr><th></th><th scope=col>&lt;fct&gt;</th><th scope=col>&lt;dbl&gt;</th><th scope=col>&lt;int&gt;</th></tr>\n",
       "</thead>\n",
       "<tbody>\n",
       "\t<tr><th scope=row>1_AAACGAACACGTGAGA-1_1_23d</th><td>1_1_23d</td><td>3724</td><td> 536</td></tr>\n",
       "\t<tr><th scope=row>1_AAACGAAGTCGAAACG-1_1_23d</th><td>1_1_23d</td><td>9184</td><td>2310</td></tr>\n",
       "\t<tr><th scope=row>1_AAACGAAGTGGCAGAT-1_1_23d</th><td>1_1_23d</td><td>6357</td><td>2068</td></tr>\n",
       "\t<tr><th scope=row>1_AAACGAAGTGGTTCTA-1_1_23d</th><td>1_1_23d</td><td>3468</td><td>1292</td></tr>\n",
       "\t<tr><th scope=row>1_AAACGAAGTTGGCCGT-1_1_23d</th><td>1_1_23d</td><td>1809</td><td> 832</td></tr>\n",
       "\t<tr><th scope=row>1_AAACGAATCCTTCACG-1_1_23d</th><td>1_1_23d</td><td>7587</td><td>1985</td></tr>\n",
       "\t<tr><th scope=row>1_AAACGCTCAAGCGGAT-1_1_23d</th><td>1_1_23d</td><td>5924</td><td>1600</td></tr>\n",
       "\t<tr><th scope=row>1_AAACGCTCACTTCAAG-1_1_23d</th><td>1_1_23d</td><td>2264</td><td>1110</td></tr>\n",
       "\t<tr><th scope=row>1_AAACGCTCATCATCCC-1_1_23d</th><td>1_1_23d</td><td>9277</td><td>2441</td></tr>\n",
       "\t<tr><th scope=row>1_AAACGCTTCAGCATTG-1_1_23d</th><td>1_1_23d</td><td>7025</td><td>1798</td></tr>\n",
       "</tbody>\n",
       "</table>\n"
      ],
      "text/latex": [
       "A data.frame: 10 × 3\n",
       "\\begin{tabular}{r|lll}\n",
       "  & orig.ident & nCount\\_RNA & nFeature\\_RNA\\\\\n",
       "  & <fct> & <dbl> & <int>\\\\\n",
       "\\hline\n",
       "\t1\\_AAACGAACACGTGAGA-1\\_1\\_23d & 1\\_1\\_23d & 3724 &  536\\\\\n",
       "\t1\\_AAACGAAGTCGAAACG-1\\_1\\_23d & 1\\_1\\_23d & 9184 & 2310\\\\\n",
       "\t1\\_AAACGAAGTGGCAGAT-1\\_1\\_23d & 1\\_1\\_23d & 6357 & 2068\\\\\n",
       "\t1\\_AAACGAAGTGGTTCTA-1\\_1\\_23d & 1\\_1\\_23d & 3468 & 1292\\\\\n",
       "\t1\\_AAACGAAGTTGGCCGT-1\\_1\\_23d & 1\\_1\\_23d & 1809 &  832\\\\\n",
       "\t1\\_AAACGAATCCTTCACG-1\\_1\\_23d & 1\\_1\\_23d & 7587 & 1985\\\\\n",
       "\t1\\_AAACGCTCAAGCGGAT-1\\_1\\_23d & 1\\_1\\_23d & 5924 & 1600\\\\\n",
       "\t1\\_AAACGCTCACTTCAAG-1\\_1\\_23d & 1\\_1\\_23d & 2264 & 1110\\\\\n",
       "\t1\\_AAACGCTCATCATCCC-1\\_1\\_23d & 1\\_1\\_23d & 9277 & 2441\\\\\n",
       "\t1\\_AAACGCTTCAGCATTG-1\\_1\\_23d & 1\\_1\\_23d & 7025 & 1798\\\\\n",
       "\\end{tabular}\n"
      ],
      "text/markdown": [
       "\n",
       "A data.frame: 10 × 3\n",
       "\n",
       "| <!--/--> | orig.ident &lt;fct&gt; | nCount_RNA &lt;dbl&gt; | nFeature_RNA &lt;int&gt; |\n",
       "|---|---|---|---|\n",
       "| 1_AAACGAACACGTGAGA-1_1_23d | 1_1_23d | 3724 |  536 |\n",
       "| 1_AAACGAAGTCGAAACG-1_1_23d | 1_1_23d | 9184 | 2310 |\n",
       "| 1_AAACGAAGTGGCAGAT-1_1_23d | 1_1_23d | 6357 | 2068 |\n",
       "| 1_AAACGAAGTGGTTCTA-1_1_23d | 1_1_23d | 3468 | 1292 |\n",
       "| 1_AAACGAAGTTGGCCGT-1_1_23d | 1_1_23d | 1809 |  832 |\n",
       "| 1_AAACGAATCCTTCACG-1_1_23d | 1_1_23d | 7587 | 1985 |\n",
       "| 1_AAACGCTCAAGCGGAT-1_1_23d | 1_1_23d | 5924 | 1600 |\n",
       "| 1_AAACGCTCACTTCAAG-1_1_23d | 1_1_23d | 2264 | 1110 |\n",
       "| 1_AAACGCTCATCATCCC-1_1_23d | 1_1_23d | 9277 | 2441 |\n",
       "| 1_AAACGCTTCAGCATTG-1_1_23d | 1_1_23d | 7025 | 1798 |\n",
       "\n"
      ],
      "text/plain": [
       "                           orig.ident nCount_RNA nFeature_RNA\n",
       "1_AAACGAACACGTGAGA-1_1_23d 1_1_23d    3724        536        \n",
       "1_AAACGAAGTCGAAACG-1_1_23d 1_1_23d    9184       2310        \n",
       "1_AAACGAAGTGGCAGAT-1_1_23d 1_1_23d    6357       2068        \n",
       "1_AAACGAAGTGGTTCTA-1_1_23d 1_1_23d    3468       1292        \n",
       "1_AAACGAAGTTGGCCGT-1_1_23d 1_1_23d    1809        832        \n",
       "1_AAACGAATCCTTCACG-1_1_23d 1_1_23d    7587       1985        \n",
       "1_AAACGCTCAAGCGGAT-1_1_23d 1_1_23d    5924       1600        \n",
       "1_AAACGCTCACTTCAAG-1_1_23d 1_1_23d    2264       1110        \n",
       "1_AAACGCTCATCATCCC-1_1_23d 1_1_23d    9277       2441        \n",
       "1_AAACGCTTCAGCATTG-1_1_23d 1_1_23d    7025       1798        "
      ]
     },
     "metadata": {},
     "output_type": "display_data"
    }
   ],
   "source": [
    "sc_data <- preprocessing(raw_data)\n",
    "head(sc_data)"
   ]
  },
  {
   "cell_type": "code",
   "execution_count": 75,
   "id": "1553c525-96ff-424c-b40b-a754b13e526e",
   "metadata": {
    "collapsed": true,
    "jupyter": {
     "outputs_hidden": true
    }
   },
   "outputs": [
    {
     "name": "stderr",
     "output_type": "stream",
     "text": [
      "Found more than one class \"dist\" in cache; using the first, from namespace 'spam'\n",
      "\n",
      "Also defined by ‘BiocGenerics’\n",
      "\n",
      "Found more than one class \"dist\" in cache; using the first, from namespace 'spam'\n",
      "\n",
      "Also defined by ‘BiocGenerics’\n",
      "\n"
     ]
    },
    {
     "data": {
      "text/plain": [
       "Length  Class   Mode \n",
       "     1 Seurat     S4 "
      ]
     },
     "metadata": {},
     "output_type": "display_data"
    },
    {
     "data": {
      "text/html": [
       "<table class=\"dataframe\">\n",
       "<caption>A data.frame: 10 × 5</caption>\n",
       "<thead>\n",
       "\t<tr><th></th><th scope=col>orig.ident</th><th scope=col>nCount_RNA</th><th scope=col>nFeature_RNA</th><th scope=col>RNA_snn_res.0.5</th><th scope=col>seurat_clusters</th></tr>\n",
       "\t<tr><th></th><th scope=col>&lt;fct&gt;</th><th scope=col>&lt;dbl&gt;</th><th scope=col>&lt;int&gt;</th><th scope=col>&lt;fct&gt;</th><th scope=col>&lt;fct&gt;</th></tr>\n",
       "</thead>\n",
       "<tbody>\n",
       "\t<tr><th scope=row>1_AAACGAACACGTGAGA-1_1_23d</th><td>1_1_23d</td><td>3724</td><td> 536</td><td>3</td><td>3</td></tr>\n",
       "\t<tr><th scope=row>1_AAACGAAGTCGAAACG-1_1_23d</th><td>1_1_23d</td><td>9184</td><td>2310</td><td>3</td><td>3</td></tr>\n",
       "\t<tr><th scope=row>1_AAACGAAGTGGCAGAT-1_1_23d</th><td>1_1_23d</td><td>6357</td><td>2068</td><td>2</td><td>2</td></tr>\n",
       "\t<tr><th scope=row>1_AAACGAAGTGGTTCTA-1_1_23d</th><td>1_1_23d</td><td>3468</td><td>1292</td><td>2</td><td>2</td></tr>\n",
       "\t<tr><th scope=row>1_AAACGAAGTTGGCCGT-1_1_23d</th><td>1_1_23d</td><td>1809</td><td> 832</td><td>2</td><td>2</td></tr>\n",
       "\t<tr><th scope=row>1_AAACGAATCCTTCACG-1_1_23d</th><td>1_1_23d</td><td>7587</td><td>1985</td><td>3</td><td>3</td></tr>\n",
       "\t<tr><th scope=row>1_AAACGCTCAAGCGGAT-1_1_23d</th><td>1_1_23d</td><td>5924</td><td>1600</td><td>6</td><td>6</td></tr>\n",
       "\t<tr><th scope=row>1_AAACGCTCACTTCAAG-1_1_23d</th><td>1_1_23d</td><td>2264</td><td>1110</td><td>4</td><td>4</td></tr>\n",
       "\t<tr><th scope=row>1_AAACGCTCATCATCCC-1_1_23d</th><td>1_1_23d</td><td>9277</td><td>2441</td><td>2</td><td>2</td></tr>\n",
       "\t<tr><th scope=row>1_AAACGCTTCAGCATTG-1_1_23d</th><td>1_1_23d</td><td>7025</td><td>1798</td><td>6</td><td>6</td></tr>\n",
       "</tbody>\n",
       "</table>\n"
      ],
      "text/latex": [
       "A data.frame: 10 × 5\n",
       "\\begin{tabular}{r|lllll}\n",
       "  & orig.ident & nCount\\_RNA & nFeature\\_RNA & RNA\\_snn\\_res.0.5 & seurat\\_clusters\\\\\n",
       "  & <fct> & <dbl> & <int> & <fct> & <fct>\\\\\n",
       "\\hline\n",
       "\t1\\_AAACGAACACGTGAGA-1\\_1\\_23d & 1\\_1\\_23d & 3724 &  536 & 3 & 3\\\\\n",
       "\t1\\_AAACGAAGTCGAAACG-1\\_1\\_23d & 1\\_1\\_23d & 9184 & 2310 & 3 & 3\\\\\n",
       "\t1\\_AAACGAAGTGGCAGAT-1\\_1\\_23d & 1\\_1\\_23d & 6357 & 2068 & 2 & 2\\\\\n",
       "\t1\\_AAACGAAGTGGTTCTA-1\\_1\\_23d & 1\\_1\\_23d & 3468 & 1292 & 2 & 2\\\\\n",
       "\t1\\_AAACGAAGTTGGCCGT-1\\_1\\_23d & 1\\_1\\_23d & 1809 &  832 & 2 & 2\\\\\n",
       "\t1\\_AAACGAATCCTTCACG-1\\_1\\_23d & 1\\_1\\_23d & 7587 & 1985 & 3 & 3\\\\\n",
       "\t1\\_AAACGCTCAAGCGGAT-1\\_1\\_23d & 1\\_1\\_23d & 5924 & 1600 & 6 & 6\\\\\n",
       "\t1\\_AAACGCTCACTTCAAG-1\\_1\\_23d & 1\\_1\\_23d & 2264 & 1110 & 4 & 4\\\\\n",
       "\t1\\_AAACGCTCATCATCCC-1\\_1\\_23d & 1\\_1\\_23d & 9277 & 2441 & 2 & 2\\\\\n",
       "\t1\\_AAACGCTTCAGCATTG-1\\_1\\_23d & 1\\_1\\_23d & 7025 & 1798 & 6 & 6\\\\\n",
       "\\end{tabular}\n"
      ],
      "text/markdown": [
       "\n",
       "A data.frame: 10 × 5\n",
       "\n",
       "| <!--/--> | orig.ident &lt;fct&gt; | nCount_RNA &lt;dbl&gt; | nFeature_RNA &lt;int&gt; | RNA_snn_res.0.5 &lt;fct&gt; | seurat_clusters &lt;fct&gt; |\n",
       "|---|---|---|---|---|---|\n",
       "| 1_AAACGAACACGTGAGA-1_1_23d | 1_1_23d | 3724 |  536 | 3 | 3 |\n",
       "| 1_AAACGAAGTCGAAACG-1_1_23d | 1_1_23d | 9184 | 2310 | 3 | 3 |\n",
       "| 1_AAACGAAGTGGCAGAT-1_1_23d | 1_1_23d | 6357 | 2068 | 2 | 2 |\n",
       "| 1_AAACGAAGTGGTTCTA-1_1_23d | 1_1_23d | 3468 | 1292 | 2 | 2 |\n",
       "| 1_AAACGAAGTTGGCCGT-1_1_23d | 1_1_23d | 1809 |  832 | 2 | 2 |\n",
       "| 1_AAACGAATCCTTCACG-1_1_23d | 1_1_23d | 7587 | 1985 | 3 | 3 |\n",
       "| 1_AAACGCTCAAGCGGAT-1_1_23d | 1_1_23d | 5924 | 1600 | 6 | 6 |\n",
       "| 1_AAACGCTCACTTCAAG-1_1_23d | 1_1_23d | 2264 | 1110 | 4 | 4 |\n",
       "| 1_AAACGCTCATCATCCC-1_1_23d | 1_1_23d | 9277 | 2441 | 2 | 2 |\n",
       "| 1_AAACGCTTCAGCATTG-1_1_23d | 1_1_23d | 7025 | 1798 | 6 | 6 |\n",
       "\n"
      ],
      "text/plain": [
       "                           orig.ident nCount_RNA nFeature_RNA RNA_snn_res.0.5\n",
       "1_AAACGAACACGTGAGA-1_1_23d 1_1_23d    3724        536         3              \n",
       "1_AAACGAAGTCGAAACG-1_1_23d 1_1_23d    9184       2310         3              \n",
       "1_AAACGAAGTGGCAGAT-1_1_23d 1_1_23d    6357       2068         2              \n",
       "1_AAACGAAGTGGTTCTA-1_1_23d 1_1_23d    3468       1292         2              \n",
       "1_AAACGAAGTTGGCCGT-1_1_23d 1_1_23d    1809        832         2              \n",
       "1_AAACGAATCCTTCACG-1_1_23d 1_1_23d    7587       1985         3              \n",
       "1_AAACGCTCAAGCGGAT-1_1_23d 1_1_23d    5924       1600         6              \n",
       "1_AAACGCTCACTTCAAG-1_1_23d 1_1_23d    2264       1110         4              \n",
       "1_AAACGCTCATCATCCC-1_1_23d 1_1_23d    9277       2441         2              \n",
       "1_AAACGCTTCAGCATTG-1_1_23d 1_1_23d    7025       1798         6              \n",
       "                           seurat_clusters\n",
       "1_AAACGAACACGTGAGA-1_1_23d 3              \n",
       "1_AAACGAAGTCGAAACG-1_1_23d 3              \n",
       "1_AAACGAAGTGGCAGAT-1_1_23d 2              \n",
       "1_AAACGAAGTGGTTCTA-1_1_23d 2              \n",
       "1_AAACGAAGTTGGCCGT-1_1_23d 2              \n",
       "1_AAACGAATCCTTCACG-1_1_23d 3              \n",
       "1_AAACGCTCAAGCGGAT-1_1_23d 6              \n",
       "1_AAACGCTCACTTCAAG-1_1_23d 4              \n",
       "1_AAACGCTCATCATCCC-1_1_23d 2              \n",
       "1_AAACGCTTCAGCATTG-1_1_23d 6              "
      ]
     },
     "metadata": {},
     "output_type": "display_data"
    }
   ],
   "source": [
    "sc_data_clustered <- PCA.cluster(sc_data, res = res_list[2], n_dim= dim_list)\n",
    "summary(sc_data_clustered)\n",
    "head(sc_data_clustered)"
   ]
  },
  {
   "cell_type": "code",
   "execution_count": 96,
   "id": "fa921727-ed62-46d0-a121-8303dd979916",
   "metadata": {},
   "outputs": [],
   "source": [
    "cluster_plots <- cluster.plot(\n",
    "    sc_data_clustered,\n",
    "    file_name = file_name,\n",
    "    pt.size = 0.5,\n",
    "    print_plot = F\n",
    ")"
   ]
  },
  {
   "cell_type": "code",
   "execution_count": 77,
   "id": "0052244f-42d5-4e2e-8615-a3537378e7cd",
   "metadata": {
    "collapsed": true,
    "jupyter": {
     "outputs_hidden": true
    }
   },
   "outputs": [
    {
     "data": {
      "text/plain": [
       "     p_val             avg_log2FC          pct.1            pct.2       \n",
       " Min.   :0.0000000   Min.   : 0.2500   Min.   :0.1670   Min.   :0.0000  \n",
       " 1st Qu.:0.0000000   1st Qu.: 0.3978   1st Qu.:0.3250   1st Qu.:0.1770  \n",
       " Median :0.0000000   Median : 0.6083   Median :0.4350   Median :0.2760  \n",
       " Mean   :0.0001703   Mean   : 0.9779   Mean   :0.5015   Mean   :0.3412  \n",
       " 3rd Qu.:0.0000000   3rd Qu.: 1.0635   3rd Qu.:0.6370   3rd Qu.:0.4470  \n",
       " Max.   :0.0099990   Max.   :13.8465   Max.   :1.0000   Max.   :0.9990  \n",
       "                                                                        \n",
       "   p_val_adj            cluster         gene          \n",
       " Min.   :0.0000000   7      :1339   Length:13730      \n",
       " 1st Qu.:0.0000000   9      :1232   Class :character  \n",
       " Median :0.0000000   8      :1209   Mode  :character  \n",
       " Mean   :0.1003849   15     :1197                     \n",
       " 3rd Qu.:0.0000002   16     :1140                     \n",
       " Max.   :1.0000000   12     : 965                     \n",
       "                     (Other):6648                     "
      ]
     },
     "metadata": {},
     "output_type": "display_data"
    },
    {
     "data": {
      "text/html": [
       "<table class=\"dataframe\">\n",
       "<caption>A data.frame: 6 × 7</caption>\n",
       "<thead>\n",
       "\t<tr><th></th><th scope=col>p_val</th><th scope=col>avg_log2FC</th><th scope=col>pct.1</th><th scope=col>pct.2</th><th scope=col>p_val_adj</th><th scope=col>cluster</th><th scope=col>gene</th></tr>\n",
       "\t<tr><th></th><th scope=col>&lt;dbl&gt;</th><th scope=col>&lt;dbl&gt;</th><th scope=col>&lt;dbl&gt;</th><th scope=col>&lt;dbl&gt;</th><th scope=col>&lt;dbl&gt;</th><th scope=col>&lt;fct&gt;</th><th scope=col>&lt;chr&gt;</th></tr>\n",
       "</thead>\n",
       "<tbody>\n",
       "\t<tr><th scope=row>DCT</th><td>0</td><td>1.780295</td><td>0.383</td><td>0.161</td><td>0</td><td>0</td><td>DCT      </td></tr>\n",
       "\t<tr><th scope=row>AMBN</th><td>0</td><td>1.767947</td><td>0.431</td><td>0.175</td><td>0</td><td>0</td><td>AMBN     </td></tr>\n",
       "\t<tr><th scope=row>HEY1</th><td>0</td><td>1.708512</td><td>0.464</td><td>0.202</td><td>0</td><td>0</td><td>HEY1     </td></tr>\n",
       "\t<tr><th scope=row>LINC01551</th><td>0</td><td>1.623801</td><td>0.767</td><td>0.311</td><td>0</td><td>0</td><td>LINC01551</td></tr>\n",
       "\t<tr><th scope=row>OLFM3</th><td>0</td><td>1.543925</td><td>0.396</td><td>0.189</td><td>0</td><td>0</td><td>OLFM3    </td></tr>\n",
       "\t<tr><th scope=row>SFRP1</th><td>0</td><td>1.514941</td><td>0.968</td><td>0.510</td><td>0</td><td>0</td><td>SFRP1    </td></tr>\n",
       "</tbody>\n",
       "</table>\n"
      ],
      "text/latex": [
       "A data.frame: 6 × 7\n",
       "\\begin{tabular}{r|lllllll}\n",
       "  & p\\_val & avg\\_log2FC & pct.1 & pct.2 & p\\_val\\_adj & cluster & gene\\\\\n",
       "  & <dbl> & <dbl> & <dbl> & <dbl> & <dbl> & <fct> & <chr>\\\\\n",
       "\\hline\n",
       "\tDCT & 0 & 1.780295 & 0.383 & 0.161 & 0 & 0 & DCT      \\\\\n",
       "\tAMBN & 0 & 1.767947 & 0.431 & 0.175 & 0 & 0 & AMBN     \\\\\n",
       "\tHEY1 & 0 & 1.708512 & 0.464 & 0.202 & 0 & 0 & HEY1     \\\\\n",
       "\tLINC01551 & 0 & 1.623801 & 0.767 & 0.311 & 0 & 0 & LINC01551\\\\\n",
       "\tOLFM3 & 0 & 1.543925 & 0.396 & 0.189 & 0 & 0 & OLFM3    \\\\\n",
       "\tSFRP1 & 0 & 1.514941 & 0.968 & 0.510 & 0 & 0 & SFRP1    \\\\\n",
       "\\end{tabular}\n"
      ],
      "text/markdown": [
       "\n",
       "A data.frame: 6 × 7\n",
       "\n",
       "| <!--/--> | p_val &lt;dbl&gt; | avg_log2FC &lt;dbl&gt; | pct.1 &lt;dbl&gt; | pct.2 &lt;dbl&gt; | p_val_adj &lt;dbl&gt; | cluster &lt;fct&gt; | gene &lt;chr&gt; |\n",
       "|---|---|---|---|---|---|---|---|\n",
       "| DCT | 0 | 1.780295 | 0.383 | 0.161 | 0 | 0 | DCT       |\n",
       "| AMBN | 0 | 1.767947 | 0.431 | 0.175 | 0 | 0 | AMBN      |\n",
       "| HEY1 | 0 | 1.708512 | 0.464 | 0.202 | 0 | 0 | HEY1      |\n",
       "| LINC01551 | 0 | 1.623801 | 0.767 | 0.311 | 0 | 0 | LINC01551 |\n",
       "| OLFM3 | 0 | 1.543925 | 0.396 | 0.189 | 0 | 0 | OLFM3     |\n",
       "| SFRP1 | 0 | 1.514941 | 0.968 | 0.510 | 0 | 0 | SFRP1     |\n",
       "\n"
      ],
      "text/plain": [
       "          p_val avg_log2FC pct.1 pct.2 p_val_adj cluster gene     \n",
       "DCT       0     1.780295   0.383 0.161 0         0       DCT      \n",
       "AMBN      0     1.767947   0.431 0.175 0         0       AMBN     \n",
       "HEY1      0     1.708512   0.464 0.202 0         0       HEY1     \n",
       "LINC01551 0     1.623801   0.767 0.311 0         0       LINC01551\n",
       "OLFM3     0     1.543925   0.396 0.189 0         0       OLFM3    \n",
       "SFRP1     0     1.514941   0.968 0.510 0         0       SFRP1    "
      ]
     },
     "metadata": {},
     "output_type": "display_data"
    }
   ],
   "source": [
    "cluster_markers <- cluster.markers(sc_data_clustered, output = T)\n",
    "summary(cluster_markers)\n",
    "head(cluster_markers)"
   ]
  },
  {
   "cell_type": "code",
   "execution_count": 79,
   "id": "b7ca91d4-3d07-403a-918a-5467d5991a4b",
   "metadata": {
    "collapsed": true,
    "jupyter": {
     "outputs_hidden": true
    }
   },
   "outputs": [
    {
     "data": {
      "text/plain": [
       "     p_val             avg_log2FC          pct.1            pct.2      \n",
       " Min.   :0.000e+00   Min.   : 0.9538   Min.   :0.2500   Min.   :0.000  \n",
       " 1st Qu.:0.000e+00   1st Qu.: 2.0188   1st Qu.:0.3180   1st Qu.:0.028  \n",
       " Median :0.000e+00   Median : 3.0030   Median :0.4150   Median :0.072  \n",
       " Mean   :5.964e-47   Mean   : 3.6568   Mean   :0.4775   Mean   :0.113  \n",
       " 3rd Qu.:0.000e+00   3rd Qu.: 4.2219   3rd Qu.:0.5917   3rd Qu.:0.149  \n",
       " Max.   :5.064e-44   Max.   :13.8465   Max.   :1.0000   Max.   :0.977  \n",
       "                                                                       \n",
       "   p_val_adj            cluster        gene          \n",
       " Min.   :0.000e+00   0      : 50   Length:850        \n",
       " 1st Qu.:0.000e+00   1      : 50   Class :character  \n",
       " Median :0.000e+00   2      : 50   Mode  :character  \n",
       " Mean   :1.411e-42   3      : 50                     \n",
       " 3rd Qu.:0.000e+00   4      : 50                     \n",
       " Max.   :1.198e-39   5      : 50                     \n",
       "                     (Other):550                     "
      ]
     },
     "metadata": {},
     "output_type": "display_data"
    },
    {
     "data": {
      "text/html": [
       "<table class=\"dataframe\">\n",
       "<caption>A data.frame: 6 × 7</caption>\n",
       "<thead>\n",
       "\t<tr><th></th><th scope=col>p_val</th><th scope=col>avg_log2FC</th><th scope=col>pct.1</th><th scope=col>pct.2</th><th scope=col>p_val_adj</th><th scope=col>cluster</th><th scope=col>gene</th></tr>\n",
       "\t<tr><th></th><th scope=col>&lt;dbl&gt;</th><th scope=col>&lt;dbl&gt;</th><th scope=col>&lt;dbl&gt;</th><th scope=col>&lt;dbl&gt;</th><th scope=col>&lt;dbl&gt;</th><th scope=col>&lt;fct&gt;</th><th scope=col>&lt;chr&gt;</th></tr>\n",
       "</thead>\n",
       "<tbody>\n",
       "\t<tr><th scope=row>1</th><td>0</td><td>1.780295</td><td>0.383</td><td>0.161</td><td>0</td><td>0</td><td>DCT      </td></tr>\n",
       "\t<tr><th scope=row>2</th><td>0</td><td>1.767947</td><td>0.431</td><td>0.175</td><td>0</td><td>0</td><td>AMBN     </td></tr>\n",
       "\t<tr><th scope=row>3</th><td>0</td><td>1.708512</td><td>0.464</td><td>0.202</td><td>0</td><td>0</td><td>HEY1     </td></tr>\n",
       "\t<tr><th scope=row>4</th><td>0</td><td>1.623801</td><td>0.767</td><td>0.311</td><td>0</td><td>0</td><td>LINC01551</td></tr>\n",
       "\t<tr><th scope=row>5</th><td>0</td><td>1.543925</td><td>0.396</td><td>0.189</td><td>0</td><td>0</td><td>OLFM3    </td></tr>\n",
       "\t<tr><th scope=row>6</th><td>0</td><td>1.514941</td><td>0.968</td><td>0.510</td><td>0</td><td>0</td><td>SFRP1    </td></tr>\n",
       "</tbody>\n",
       "</table>\n"
      ],
      "text/latex": [
       "A data.frame: 6 × 7\n",
       "\\begin{tabular}{r|lllllll}\n",
       "  & p\\_val & avg\\_log2FC & pct.1 & pct.2 & p\\_val\\_adj & cluster & gene\\\\\n",
       "  & <dbl> & <dbl> & <dbl> & <dbl> & <dbl> & <fct> & <chr>\\\\\n",
       "\\hline\n",
       "\t1 & 0 & 1.780295 & 0.383 & 0.161 & 0 & 0 & DCT      \\\\\n",
       "\t2 & 0 & 1.767947 & 0.431 & 0.175 & 0 & 0 & AMBN     \\\\\n",
       "\t3 & 0 & 1.708512 & 0.464 & 0.202 & 0 & 0 & HEY1     \\\\\n",
       "\t4 & 0 & 1.623801 & 0.767 & 0.311 & 0 & 0 & LINC01551\\\\\n",
       "\t5 & 0 & 1.543925 & 0.396 & 0.189 & 0 & 0 & OLFM3    \\\\\n",
       "\t6 & 0 & 1.514941 & 0.968 & 0.510 & 0 & 0 & SFRP1    \\\\\n",
       "\\end{tabular}\n"
      ],
      "text/markdown": [
       "\n",
       "A data.frame: 6 × 7\n",
       "\n",
       "| <!--/--> | p_val &lt;dbl&gt; | avg_log2FC &lt;dbl&gt; | pct.1 &lt;dbl&gt; | pct.2 &lt;dbl&gt; | p_val_adj &lt;dbl&gt; | cluster &lt;fct&gt; | gene &lt;chr&gt; |\n",
       "|---|---|---|---|---|---|---|---|\n",
       "| 1 | 0 | 1.780295 | 0.383 | 0.161 | 0 | 0 | DCT       |\n",
       "| 2 | 0 | 1.767947 | 0.431 | 0.175 | 0 | 0 | AMBN      |\n",
       "| 3 | 0 | 1.708512 | 0.464 | 0.202 | 0 | 0 | HEY1      |\n",
       "| 4 | 0 | 1.623801 | 0.767 | 0.311 | 0 | 0 | LINC01551 |\n",
       "| 5 | 0 | 1.543925 | 0.396 | 0.189 | 0 | 0 | OLFM3     |\n",
       "| 6 | 0 | 1.514941 | 0.968 | 0.510 | 0 | 0 | SFRP1     |\n",
       "\n"
      ],
      "text/plain": [
       "  p_val avg_log2FC pct.1 pct.2 p_val_adj cluster gene     \n",
       "1 0     1.780295   0.383 0.161 0         0       DCT      \n",
       "2 0     1.767947   0.431 0.175 0         0       AMBN     \n",
       "3 0     1.708512   0.464 0.202 0         0       HEY1     \n",
       "4 0     1.623801   0.767 0.311 0         0       LINC01551\n",
       "5 0     1.543925   0.396 0.189 0         0       OLFM3    \n",
       "6 0     1.514941   0.968 0.510 0         0       SFRP1    "
      ]
     },
     "metadata": {},
     "output_type": "display_data"
    }
   ],
   "source": [
    "top_genes <- top.genes(top_genes_by_cluster, num = 50)\n",
    "summary(top_genes)\n",
    "head(top_genes)"
   ]
  },
  {
   "cell_type": "markdown",
   "id": "e23cd6c5-1d39-4675-87da-dbcd619f560f",
   "metadata": {},
   "source": [
    "## prova con anche negativi"
   ]
  },
  {
   "cell_type": "code",
   "execution_count": 124,
   "id": "c1ecceef-0b63-4f85-bab3-32bca2b194a2",
   "metadata": {},
   "outputs": [
    {
     "data": {
      "text/html": [
       "<table class=\"dataframe\">\n",
       "<caption>A data.frame: 0 × 7</caption>\n",
       "<thead>\n",
       "\t<tr><th scope=col>p_val</th><th scope=col>avg_log2FC</th><th scope=col>pct.1</th><th scope=col>pct.2</th><th scope=col>p_val_adj</th><th scope=col>cluster</th><th scope=col>gene</th></tr>\n",
       "\t<tr><th scope=col>&lt;dbl&gt;</th><th scope=col>&lt;dbl&gt;</th><th scope=col>&lt;dbl&gt;</th><th scope=col>&lt;dbl&gt;</th><th scope=col>&lt;dbl&gt;</th><th scope=col>&lt;fct&gt;</th><th scope=col>&lt;chr&gt;</th></tr>\n",
       "</thead>\n",
       "<tbody>\n",
       "</tbody>\n",
       "</table>\n"
      ],
      "text/latex": [
       "A data.frame: 0 × 7\n",
       "\\begin{tabular}{lllllll}\n",
       " p\\_val & avg\\_log2FC & pct.1 & pct.2 & p\\_val\\_adj & cluster & gene\\\\\n",
       " <dbl> & <dbl> & <dbl> & <dbl> & <dbl> & <fct> & <chr>\\\\\n",
       "\\hline\n",
       "\\end{tabular}\n"
      ],
      "text/markdown": [
       "\n",
       "A data.frame: 0 × 7\n",
       "\n",
       "| p_val &lt;dbl&gt; | avg_log2FC &lt;dbl&gt; | pct.1 &lt;dbl&gt; | pct.2 &lt;dbl&gt; | p_val_adj &lt;dbl&gt; | cluster &lt;fct&gt; | gene &lt;chr&gt; |\n",
       "|---|---|---|---|---|---|---|\n",
       "\n"
      ],
      "text/plain": [
       "     p_val avg_log2FC pct.1 pct.2 p_val_adj cluster gene"
      ]
     },
     "metadata": {},
     "output_type": "display_data"
    }
   ],
   "source": [
    "de_genes <- cluster_markers %>% filter(gene %in% genes_of_interest)\n",
    "de_genes"
   ]
  },
  {
   "cell_type": "code",
   "execution_count": 125,
   "id": "d8d61bc1-fa44-4529-a9dd-8f5a6f45f897",
   "metadata": {},
   "outputs": [
    {
     "name": "stderr",
     "output_type": "stream",
     "text": [
      "Calculating cluster 0\n",
      "\n",
      "Calculating cluster 1\n",
      "\n",
      "Calculating cluster 2\n",
      "\n",
      "Calculating cluster 3\n",
      "\n",
      "Calculating cluster 4\n",
      "\n",
      "Calculating cluster 5\n",
      "\n",
      "Calculating cluster 6\n",
      "\n",
      "Calculating cluster 7\n",
      "\n",
      "Calculating cluster 8\n",
      "\n",
      "Calculating cluster 9\n",
      "\n",
      "Calculating cluster 10\n",
      "\n",
      "Calculating cluster 11\n",
      "\n",
      "Calculating cluster 12\n",
      "\n",
      "Calculating cluster 13\n",
      "\n",
      "Calculating cluster 14\n",
      "\n",
      "Calculating cluster 15\n",
      "\n",
      "Calculating cluster 16\n",
      "\n"
     ]
    }
   ],
   "source": [
    "cluster_markers_negative <- FindAllMarkers(sc_data_clustered,\n",
    "                              only.pos = F,   # Considera solo i marker espressi positivamente\n",
    "                              min.pct = 0.25,    # Percentuale minima di espressione nelle cellule del cluster\n",
    "                              logfc.threshold = 0.25,  # Soglia minima di LogFC\n",
    "                              verbose = T)"
   ]
  },
  {
   "cell_type": "code",
   "execution_count": 129,
   "id": "cf29a11a-2367-4e89-926b-36a7421634a6",
   "metadata": {},
   "outputs": [
    {
     "data": {
      "text/html": [
       "<table class=\"dataframe\">\n",
       "<caption>A data.frame: 0 × 7</caption>\n",
       "<thead>\n",
       "\t<tr><th scope=col>p_val</th><th scope=col>avg_log2FC</th><th scope=col>pct.1</th><th scope=col>pct.2</th><th scope=col>p_val_adj</th><th scope=col>cluster</th><th scope=col>gene</th></tr>\n",
       "\t<tr><th scope=col>&lt;dbl&gt;</th><th scope=col>&lt;dbl&gt;</th><th scope=col>&lt;dbl&gt;</th><th scope=col>&lt;dbl&gt;</th><th scope=col>&lt;dbl&gt;</th><th scope=col>&lt;fct&gt;</th><th scope=col>&lt;chr&gt;</th></tr>\n",
       "</thead>\n",
       "<tbody>\n",
       "</tbody>\n",
       "</table>\n"
      ],
      "text/latex": [
       "A data.frame: 0 × 7\n",
       "\\begin{tabular}{lllllll}\n",
       " p\\_val & avg\\_log2FC & pct.1 & pct.2 & p\\_val\\_adj & cluster & gene\\\\\n",
       " <dbl> & <dbl> & <dbl> & <dbl> & <dbl> & <fct> & <chr>\\\\\n",
       "\\hline\n",
       "\\end{tabular}\n"
      ],
      "text/markdown": [
       "\n",
       "A data.frame: 0 × 7\n",
       "\n",
       "| p_val &lt;dbl&gt; | avg_log2FC &lt;dbl&gt; | pct.1 &lt;dbl&gt; | pct.2 &lt;dbl&gt; | p_val_adj &lt;dbl&gt; | cluster &lt;fct&gt; | gene &lt;chr&gt; |\n",
       "|---|---|---|---|---|---|---|\n",
       "\n"
      ],
      "text/plain": [
       "     p_val avg_log2FC pct.1 pct.2 p_val_adj cluster gene"
      ]
     },
     "metadata": {},
     "output_type": "display_data"
    }
   ],
   "source": [
    "de_genes_negative <- cluster_markers_negative %>% filter(gene %in% \"CIT\")\n",
    "de_genes_negative"
   ]
  },
  {
   "cell_type": "code",
   "execution_count": 128,
   "id": "01947f13-d80a-456f-b6ed-6d9dda8dc050",
   "metadata": {},
   "outputs": [
    {
     "data": {
      "text/plain": [
       "     p_val             avg_log2FC            pct.1            pct.2       \n",
       " Min.   :0.000e+00   Min.   :-14.37015   Min.   :0.0000   Min.   :0.0000  \n",
       " 1st Qu.:0.000e+00   1st Qu.: -0.60813   1st Qu.:0.2700   1st Qu.:0.2510  \n",
       " Median :0.000e+00   Median :  0.29920   Median :0.3770   Median :0.3410  \n",
       " Mean   :2.483e-04   Mean   :  0.09231   Mean   :0.4394   Mean   :0.4037  \n",
       " 3rd Qu.:1.000e-09   3rd Qu.:  0.66181   3rd Qu.:0.5810   3rd Qu.:0.5280  \n",
       " Max.   :9.999e-03   Max.   : 13.84653   Max.   :1.0000   Max.   :0.9990  \n",
       "                                                                          \n",
       "   p_val_adj            cluster          gene          \n",
       " Min.   :0.0000000   16     : 1837   Length:25015      \n",
       " 1st Qu.:0.0000000   8      : 1813   Class :character  \n",
       " Median :0.0000000   15     : 1757   Mode  :character  \n",
       " Mean   :0.1266954   7      : 1742                     \n",
       " 3rd Qu.:0.0000316   4      : 1654                     \n",
       " Max.   :1.0000000   9      : 1570                     \n",
       "                     (Other):14642                     "
      ]
     },
     "metadata": {},
     "output_type": "display_data"
    }
   ],
   "source": [
    "summary(cluster_markers_negative)"
   ]
  },
  {
   "cell_type": "markdown",
   "id": "50602069-b5b2-4aae-aee7-9f462064a718",
   "metadata": {},
   "source": [
    "## Save"
   ]
  },
  {
   "cell_type": "code",
   "execution_count": 108,
   "id": "a7c36367-842c-43c5-84e7-401625d31bee",
   "metadata": {},
   "outputs": [],
   "source": [
    "dir_save = \"provv/\""
   ]
  },
  {
   "cell_type": "code",
   "execution_count": 121,
   "id": "ec196a17-e395-4a2c-be20-43c75d56bb1a",
   "metadata": {},
   "outputs": [],
   "source": [
    "# Seurat Obj\n",
    "saveRDS(sc_data_clustered, file = paste0(dir_save, file_name, \"_SeuratObj.rds\"))"
   ]
  },
  {
   "cell_type": "code",
   "execution_count": 120,
   "id": "d738f40f-e56d-4fef-8149-72b55feb118b",
   "metadata": {},
   "outputs": [],
   "source": [
    "# Cluster\n",
    "write.csv(sc_data_clustered@meta.data, file = paste0(dir_save, file_name, \"_SeuratObj_meatadata.csv\"))"
   ]
  },
  {
   "cell_type": "code",
   "execution_count": 104,
   "id": "123e7b2c-9da9-4ac4-8b9f-f5eece859349",
   "metadata": {},
   "outputs": [
    {
     "name": "stderr",
     "output_type": "stream",
     "text": [
      "\u001b[1m\u001b[22mSaving 6.67 x 6.67 in image\n",
      "\u001b[1m\u001b[22mSaving 6.67 x 6.67 in image\n"
     ]
    }
   ],
   "source": [
    "# PLOTS\n",
    "for (nm in names(cluster_plots)) {\n",
    "  ggsave(\n",
    "    filename = paste0(dir_save,file_name,\"_\",nm, \".png\"),\n",
    "    plot = cluster_plots[[nm]]\n",
    "  )\n",
    "}"
   ]
  },
  {
   "cell_type": "code",
   "execution_count": 110,
   "id": "d2457388-2596-40b6-963b-3cb34d5410b9",
   "metadata": {},
   "outputs": [],
   "source": [
    "# Markers\n",
    "write.csv(cluster_markers, file = paste0(dir_save,file_name,\"_cluster_markers\",\".csv\"))\n",
    "\n",
    "# Top Genes\n",
    "write.csv(top_genes, file = paste0(dir_save,file_name,\"_top_genes\",\".csv\"))"
   ]
  },
  {
   "cell_type": "markdown",
   "id": "3255f78f-e6bd-40b9-a68f-0543b01ca7ea",
   "metadata": {},
   "source": [
    "# Monocle3"
   ]
  },
  {
   "cell_type": "code",
   "execution_count": null,
   "id": "41ba112d-26a4-4544-8c82-1c4e032e624d",
   "metadata": {},
   "outputs": [],
   "source": []
  },
  {
   "cell_type": "markdown",
   "id": "99aa21c7-172b-454e-a1a6-aa5f53eeae67",
   "metadata": {},
   "source": [
    "# Combine"
   ]
  },
  {
   "cell_type": "code",
   "execution_count": null,
   "id": "3ff65637-9811-482b-9363-4df1f7e35727",
   "metadata": {},
   "outputs": [],
   "source": []
  }
 ],
 "metadata": {
  "kernelspec": {
   "display_name": "R",
   "language": "R",
   "name": "ir"
  },
  "language_info": {
   "codemirror_mode": "r",
   "file_extension": ".r",
   "mimetype": "text/x-r-source",
   "name": "R",
   "pygments_lexer": "r",
   "version": "4.2.0"
  }
 },
 "nbformat": 4,
 "nbformat_minor": 5
}
