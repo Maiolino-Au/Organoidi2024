{
 "cells": [
  {
   "cell_type": "code",
   "execution_count": 4,
   "id": "4f2694bf-222b-4abb-871b-6c477b2ff824",
   "metadata": {},
   "outputs": [],
   "source": [
    "# LOAD LIBRARIES\n",
    "suppressPackageStartupMessages(library(Seurat))\n",
    "suppressPackageStartupMessages(library(tidyverse))\n",
    "suppressPackageStartupMessages(library(future))\n",
    "suppressPackageStartupMessages(library(ggplot2))\n",
    "suppressPackageStartupMessages(library(dplyr))\n",
    "suppressPackageStartupMessages(library(presto))\n",
    "suppressPackageStartupMessages(library(cowplot))\n",
    "suppressPackageStartupMessages(library(tictoc))\n",
    "\n",
    "suppressPackageStartupMessages(library(enrichR))\n",
    "suppressPackageStartupMessages(library(org.Hs.eg.db))\n",
    "suppressPackageStartupMessages(library(AnnotationDbi))\n",
    "\n",
    "suppressPackageStartupMessages(library(SingleR))\n",
    "\n",
    "suppressPackageStartupMessages(library(GPTCelltype))\n",
    "suppressPackageStartupMessages(library(openai))"
   ]
  },
  {
   "cell_type": "code",
   "execution_count": 5,
   "id": "9c09fa6a-6322-4ba2-977c-102de618cb2e",
   "metadata": {},
   "outputs": [],
   "source": [
    "timepoints = c(\"23days\", \"1month\", \"1.5month\", \"2month\", \"3month\", \"4month\", \"5month\", \"6month\")\n",
    "housekeeping_genes = c(\"ACTB\", \"DLG4\")\n",
    "genes_of_interest = c(\"SRCIN1\", \"KIAA1217\", \"CIT\")\n",
    "path_to_data = \"/sharedFolder/Data/\"\n",
    "dir_save = \"Results_september/\"\n",
    "res_list = c(1, 0.5, 0.2, 0.1)#seq(0.1, 1, by = 0.1)\n",
    "dim_list = c(1:20)\n",
    "top_n_genes = 50"
   ]
  },
  {
   "cell_type": "code",
   "execution_count": 6,
   "id": "9371230e-133f-44e9-a937-4eee0d6e3762",
   "metadata": {},
   "outputs": [],
   "source": [
    "file_name <- timepoints[1]"
   ]
  },
  {
   "cell_type": "code",
   "execution_count": 8,
   "id": "7652afa2-f938-4009-a120-199227c06200",
   "metadata": {},
   "outputs": [
    {
     "data": {
      "text/html": [
       "'Results_september/final_23days/'"
      ],
      "text/latex": [
       "'Results\\_september/final\\_23days/'"
      ],
      "text/markdown": [
       "'Results_september/final_23days/'"
      ],
      "text/plain": [
       "[1] \"Results_september/final_23days/\""
      ]
     },
     "metadata": {},
     "output_type": "display_data"
    }
   ],
   "source": [
    "dir_final <- paste0(dir_save, \"final_\", file_name, \"/\") \n",
    "dir_final"
   ]
  },
  {
   "cell_type": "code",
   "execution_count": 1,
   "id": "f53806a0-38f6-4f9f-8cb5-f67a7061597c",
   "metadata": {},
   "outputs": [
    {
     "data": {
      "text/html": [
       "<ol>\n",
       "\t<li>1</li>\n",
       "\t<li>2</li>\n",
       "</ol>\n"
      ],
      "text/latex": [
       "\\begin{enumerate}\n",
       "\\item 1\n",
       "\\item 2\n",
       "\\end{enumerate}\n"
      ],
      "text/markdown": [
       "1. 1\n",
       "2. 2\n",
       "\n",
       "\n"
      ],
      "text/plain": [
       "[[1]]\n",
       "[1] 1\n",
       "\n",
       "[[2]]\n",
       "[1] 2\n"
      ]
     },
     "metadata": {},
     "output_type": "display_data"
    }
   ],
   "source": [
    "a <- list(1,2)\n",
    "a"
   ]
  },
  {
   "cell_type": "code",
   "execution_count": 2,
   "id": "695b736d-e67e-4498-ad18-7d400554528c",
   "metadata": {},
   "outputs": [],
   "source": [
    "names(a) <- c(\"a\",\"b\")"
   ]
  },
  {
   "cell_type": "code",
   "execution_count": 3,
   "id": "5c9e4790-6168-4c07-a0c6-f47750a83416",
   "metadata": {},
   "outputs": [
    {
     "data": {
      "text/html": [
       "<dl>\n",
       "\t<dt>$a</dt>\n",
       "\t\t<dd>1</dd>\n",
       "\t<dt>$b</dt>\n",
       "\t\t<dd>2</dd>\n",
       "</dl>\n"
      ],
      "text/latex": [
       "\\begin{description}\n",
       "\\item[\\$a] 1\n",
       "\\item[\\$b] 2\n",
       "\\end{description}\n"
      ],
      "text/markdown": [
       "$a\n",
       ":   1\n",
       "$b\n",
       ":   2\n",
       "\n",
       "\n"
      ],
      "text/plain": [
       "$a\n",
       "[1] 1\n",
       "\n",
       "$b\n",
       "[1] 2\n"
      ]
     },
     "metadata": {},
     "output_type": "display_data"
    }
   ],
   "source": [
    "a"
   ]
  },
  {
   "cell_type": "code",
   "execution_count": 10,
   "id": "27ddba59-df42-421f-96df-8608ae3879a4",
   "metadata": {},
   "outputs": [],
   "source": [
    "metadata <- read.csv(paste0(dir_final, file_name, \"_SeuratObj_meatadata.csv\"))"
   ]
  },
  {
   "cell_type": "code",
   "execution_count": 12,
   "id": "4d5ce607-aa87-416d-b40e-00aa0e9b1149",
   "metadata": {},
   "outputs": [
    {
     "data": {
      "text/html": [
       "<table class=\"dataframe\">\n",
       "<caption>A data.frame: 6 × 7</caption>\n",
       "<thead>\n",
       "\t<tr><th></th><th scope=col>X</th><th scope=col>orig.ident</th><th scope=col>nCount_RNA</th><th scope=col>nFeature_RNA</th><th scope=col>RNA_snn_res.0.5</th><th scope=col>seurat_clusters</th><th scope=col>celltype_GPT</th></tr>\n",
       "\t<tr><th></th><th scope=col>&lt;chr&gt;</th><th scope=col>&lt;chr&gt;</th><th scope=col>&lt;int&gt;</th><th scope=col>&lt;int&gt;</th><th scope=col>&lt;int&gt;</th><th scope=col>&lt;int&gt;</th><th scope=col>&lt;chr&gt;</th></tr>\n",
       "</thead>\n",
       "<tbody>\n",
       "\t<tr><th scope=row>1</th><td>1_AAACGAACACGTGAGA-1_1_23d</td><td>1_1_23d</td><td>3724</td><td> 536</td><td>3</td><td>3</td><td>Ribosomes in various cell types</td></tr>\n",
       "\t<tr><th scope=row>2</th><td>1_AAACGAAGTCGAAACG-1_1_23d</td><td>1_1_23d</td><td>9184</td><td>2310</td><td>3</td><td>3</td><td>Ribosomes in various cell types</td></tr>\n",
       "\t<tr><th scope=row>3</th><td>1_AAACGAAGTGGCAGAT-1_1_23d</td><td>1_1_23d</td><td>6357</td><td>2068</td><td>2</td><td>2</td><td>Neural progenitor cells        </td></tr>\n",
       "\t<tr><th scope=row>4</th><td>1_AAACGAAGTGGTTCTA-1_1_23d</td><td>1_1_23d</td><td>3468</td><td>1292</td><td>2</td><td>2</td><td>Neural progenitor cells        </td></tr>\n",
       "\t<tr><th scope=row>5</th><td>1_AAACGAAGTTGGCCGT-1_1_23d</td><td>1_1_23d</td><td>1809</td><td> 832</td><td>2</td><td>2</td><td>Neural progenitor cells        </td></tr>\n",
       "\t<tr><th scope=row>6</th><td>1_AAACGAATCCTTCACG-1_1_23d</td><td>1_1_23d</td><td>7587</td><td>1985</td><td>3</td><td>3</td><td>Ribosomes in various cell types</td></tr>\n",
       "</tbody>\n",
       "</table>\n"
      ],
      "text/latex": [
       "A data.frame: 6 × 7\n",
       "\\begin{tabular}{r|lllllll}\n",
       "  & X & orig.ident & nCount\\_RNA & nFeature\\_RNA & RNA\\_snn\\_res.0.5 & seurat\\_clusters & celltype\\_GPT\\\\\n",
       "  & <chr> & <chr> & <int> & <int> & <int> & <int> & <chr>\\\\\n",
       "\\hline\n",
       "\t1 & 1\\_AAACGAACACGTGAGA-1\\_1\\_23d & 1\\_1\\_23d & 3724 &  536 & 3 & 3 & Ribosomes in various cell types\\\\\n",
       "\t2 & 1\\_AAACGAAGTCGAAACG-1\\_1\\_23d & 1\\_1\\_23d & 9184 & 2310 & 3 & 3 & Ribosomes in various cell types\\\\\n",
       "\t3 & 1\\_AAACGAAGTGGCAGAT-1\\_1\\_23d & 1\\_1\\_23d & 6357 & 2068 & 2 & 2 & Neural progenitor cells        \\\\\n",
       "\t4 & 1\\_AAACGAAGTGGTTCTA-1\\_1\\_23d & 1\\_1\\_23d & 3468 & 1292 & 2 & 2 & Neural progenitor cells        \\\\\n",
       "\t5 & 1\\_AAACGAAGTTGGCCGT-1\\_1\\_23d & 1\\_1\\_23d & 1809 &  832 & 2 & 2 & Neural progenitor cells        \\\\\n",
       "\t6 & 1\\_AAACGAATCCTTCACG-1\\_1\\_23d & 1\\_1\\_23d & 7587 & 1985 & 3 & 3 & Ribosomes in various cell types\\\\\n",
       "\\end{tabular}\n"
      ],
      "text/markdown": [
       "\n",
       "A data.frame: 6 × 7\n",
       "\n",
       "| <!--/--> | X &lt;chr&gt; | orig.ident &lt;chr&gt; | nCount_RNA &lt;int&gt; | nFeature_RNA &lt;int&gt; | RNA_snn_res.0.5 &lt;int&gt; | seurat_clusters &lt;int&gt; | celltype_GPT &lt;chr&gt; |\n",
       "|---|---|---|---|---|---|---|---|\n",
       "| 1 | 1_AAACGAACACGTGAGA-1_1_23d | 1_1_23d | 3724 |  536 | 3 | 3 | Ribosomes in various cell types |\n",
       "| 2 | 1_AAACGAAGTCGAAACG-1_1_23d | 1_1_23d | 9184 | 2310 | 3 | 3 | Ribosomes in various cell types |\n",
       "| 3 | 1_AAACGAAGTGGCAGAT-1_1_23d | 1_1_23d | 6357 | 2068 | 2 | 2 | Neural progenitor cells         |\n",
       "| 4 | 1_AAACGAAGTGGTTCTA-1_1_23d | 1_1_23d | 3468 | 1292 | 2 | 2 | Neural progenitor cells         |\n",
       "| 5 | 1_AAACGAAGTTGGCCGT-1_1_23d | 1_1_23d | 1809 |  832 | 2 | 2 | Neural progenitor cells         |\n",
       "| 6 | 1_AAACGAATCCTTCACG-1_1_23d | 1_1_23d | 7587 | 1985 | 3 | 3 | Ribosomes in various cell types |\n",
       "\n"
      ],
      "text/plain": [
       "  X                          orig.ident nCount_RNA nFeature_RNA RNA_snn_res.0.5\n",
       "1 1_AAACGAACACGTGAGA-1_1_23d 1_1_23d    3724        536         3              \n",
       "2 1_AAACGAAGTCGAAACG-1_1_23d 1_1_23d    9184       2310         3              \n",
       "3 1_AAACGAAGTGGCAGAT-1_1_23d 1_1_23d    6357       2068         2              \n",
       "4 1_AAACGAAGTGGTTCTA-1_1_23d 1_1_23d    3468       1292         2              \n",
       "5 1_AAACGAAGTTGGCCGT-1_1_23d 1_1_23d    1809        832         2              \n",
       "6 1_AAACGAATCCTTCACG-1_1_23d 1_1_23d    7587       1985         3              \n",
       "  seurat_clusters celltype_GPT                   \n",
       "1 3               Ribosomes in various cell types\n",
       "2 3               Ribosomes in various cell types\n",
       "3 2               Neural progenitor cells        \n",
       "4 2               Neural progenitor cells        \n",
       "5 2               Neural progenitor cells        \n",
       "6 3               Ribosomes in various cell types"
      ]
     },
     "metadata": {},
     "output_type": "display_data"
    }
   ],
   "source": [
    "head(metadata)"
   ]
  },
  {
   "cell_type": "code",
   "execution_count": 16,
   "id": "59a9a304-5196-40fe-945a-a6a993a4d834",
   "metadata": {},
   "outputs": [
    {
     "data": {
      "text/html": [
       "<table class=\"dataframe\">\n",
       "<caption>A data.frame: 6 × 1</caption>\n",
       "<thead>\n",
       "\t<tr><th></th><th scope=col>sort(unique(metadata$celltype_GPT))</th></tr>\n",
       "\t<tr><th></th><th scope=col>&lt;chr&gt;</th></tr>\n",
       "</thead>\n",
       "<tbody>\n",
       "\t<tr><th scope=row>1</th><td>Cranial neural crest cells </td></tr>\n",
       "\t<tr><th scope=row>2</th><td>Dental ameloblasts         </td></tr>\n",
       "\t<tr><th scope=row>3</th><td>Epithelial cells           </td></tr>\n",
       "\t<tr><th scope=row>4</th><td>Fibroblasts                </td></tr>\n",
       "\t<tr><th scope=row>5</th><td>Hair cells in the inner ear</td></tr>\n",
       "\t<tr><th scope=row>6</th><td>Hair follicle stem cells   </td></tr>\n",
       "</tbody>\n",
       "</table>\n"
      ],
      "text/latex": [
       "A data.frame: 6 × 1\n",
       "\\begin{tabular}{r|l}\n",
       "  & sort(unique(metadata\\$celltype\\_GPT))\\\\\n",
       "  & <chr>\\\\\n",
       "\\hline\n",
       "\t1 & Cranial neural crest cells \\\\\n",
       "\t2 & Dental ameloblasts         \\\\\n",
       "\t3 & Epithelial cells           \\\\\n",
       "\t4 & Fibroblasts                \\\\\n",
       "\t5 & Hair cells in the inner ear\\\\\n",
       "\t6 & Hair follicle stem cells   \\\\\n",
       "\\end{tabular}\n"
      ],
      "text/markdown": [
       "\n",
       "A data.frame: 6 × 1\n",
       "\n",
       "| <!--/--> | sort(unique(metadata$celltype_GPT)) &lt;chr&gt; |\n",
       "|---|---|\n",
       "| 1 | Cranial neural crest cells  |\n",
       "| 2 | Dental ameloblasts          |\n",
       "| 3 | Epithelial cells            |\n",
       "| 4 | Fibroblasts                 |\n",
       "| 5 | Hair cells in the inner ear |\n",
       "| 6 | Hair follicle stem cells    |\n",
       "\n"
      ],
      "text/plain": [
       "  sort(unique(metadata$celltype_GPT))\n",
       "1 Cranial neural crest cells         \n",
       "2 Dental ameloblasts                 \n",
       "3 Epithelial cells                   \n",
       "4 Fibroblasts                        \n",
       "5 Hair cells in the inner ear        \n",
       "6 Hair follicle stem cells           "
      ]
     },
     "metadata": {},
     "output_type": "display_data"
    }
   ],
   "source": [
    "cell_types <- as.data.frame(sort(unique(metadata$celltype_GPT)))\n",
    "head(cell_types)"
   ]
  },
  {
   "cell_type": "code",
   "execution_count": 17,
   "id": "02f2405d-f5cd-4788-afc8-cdd4691403a5",
   "metadata": {},
   "outputs": [
    {
     "data": {
      "text/html": [
       "3"
      ],
      "text/latex": [
       "3"
      ],
      "text/markdown": [
       "3"
      ],
      "text/plain": [
       "[1] 3"
      ]
     },
     "metadata": {},
     "output_type": "display_data"
    }
   ],
   "source": [
    "1+2"
   ]
  },
  {
   "cell_type": "code",
   "execution_count": 18,
   "id": "21e25935-a2f5-461b-a38b-3c126cb9475f",
   "metadata": {},
   "outputs": [
    {
     "data": {
      "text/html": [
       "'/sharedFolder/Paper_clusters_from_scratch/0_September'"
      ],
      "text/latex": [
       "'/sharedFolder/Paper\\_clusters\\_from\\_scratch/0\\_September'"
      ],
      "text/markdown": [
       "'/sharedFolder/Paper_clusters_from_scratch/0_September'"
      ],
      "text/plain": [
       "[1] \"/sharedFolder/Paper_clusters_from_scratch/0_September\""
      ]
     },
     "metadata": {},
     "output_type": "display_data"
    }
   ],
   "source": [
    "getwd()"
   ]
  },
  {
   "cell_type": "code",
   "execution_count": null,
   "id": "7fa1b9e3-4050-4b72-a89a-5887733522b9",
   "metadata": {},
   "outputs": [],
   "source": []
  }
 ],
 "metadata": {
  "kernelspec": {
   "display_name": "R",
   "language": "R",
   "name": "ir"
  },
  "language_info": {
   "codemirror_mode": "r",
   "file_extension": ".r",
   "mimetype": "text/x-r-source",
   "name": "R",
   "pygments_lexer": "r",
   "version": "4.2.0"
  }
 },
 "nbformat": 4,
 "nbformat_minor": 5
}
