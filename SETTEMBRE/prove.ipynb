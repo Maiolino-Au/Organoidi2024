{
 "cells": [
  {
   "cell_type": "code",
   "execution_count": 1,
   "id": "7523e1c2-89f6-459d-9ef1-b4e0afa24f7c",
   "metadata": {},
   "outputs": [],
   "source": [
    "# LOAD LIBRARIES\n",
    "#suppressPackageStartupMessages(library(Seurat))\n",
    "#suppressPackageStartupMessages(library(tidyverse))\n",
    "#suppressPackageStartupMessages(library(future))\n",
    "#suppressPackageStartupMessages(library(ggplot2))\n",
    "suppressPackageStartupMessages(library(dplyr))\n",
    "#suppressPackageStartupMessages(library(presto))\n",
    "#suppressPackageStartupMessages(library(cowplot))\n",
    "#suppressPackageStartupMessages(library(tictoc))\n",
    "\n",
    "#suppressPackageStartupMessages(library(enrichR))\n",
    "#suppressPackageStartupMessages(library(org.Hs.eg.db))\n",
    "#suppressPackageStartupMessages(library(AnnotationDbi))\n",
    "\n",
    "#suppressPackageStartupMessages(library(SingleR))\n",
    "\n",
    "#suppressPackageStartupMessages(library(GPTCelltype))\n",
    "#suppressPackageStartupMessages(library(openai))\n",
    "\n",
    "timepoints = c(\"23days\", \"1month\", \"1.5month\", \"2month\", \"3month\", \"4month\", \"5month\", \"6month\")\n",
    "file_name <- timepoints[2]\n",
    "dir_save = \"Results_september/\"\n",
    "genes_of_interest = c(\"SRCIN1\", \"KIAA1217\", \"CIT\")"
   ]
  },
  {
   "cell_type": "code",
   "execution_count": 2,
   "id": "94d4f6d9-b678-4afb-a625-d33bb9aae631",
   "metadata": {},
   "outputs": [],
   "source": [
    "cluster_markers <- read.csv(paste0(dir_save, file_name, \"/\", file_name, \"_cluster_markers.csv\"))"
   ]
  },
  {
   "cell_type": "code",
   "execution_count": 5,
   "id": "9174b383-2f2e-4f2f-b020-fbf511c301d5",
   "metadata": {},
   "outputs": [
    {
     "data": {
      "text/html": [
       "<table class=\"dataframe\">\n",
       "<caption>A data.frame: 3 × 8</caption>\n",
       "<thead>\n",
       "\t<tr><th scope=col>X</th><th scope=col>p_val</th><th scope=col>avg_log2FC</th><th scope=col>pct.1</th><th scope=col>pct.2</th><th scope=col>p_val_adj</th><th scope=col>cluster</th><th scope=col>gene</th></tr>\n",
       "\t<tr><th scope=col>&lt;chr&gt;</th><th scope=col>&lt;dbl&gt;</th><th scope=col>&lt;dbl&gt;</th><th scope=col>&lt;dbl&gt;</th><th scope=col>&lt;dbl&gt;</th><th scope=col>&lt;dbl&gt;</th><th scope=col>&lt;int&gt;</th><th scope=col>&lt;chr&gt;</th></tr>\n",
       "</thead>\n",
       "<tbody>\n",
       "\t<tr><td>KIAA1217</td><td> 0.000000e+00</td><td>1.538431</td><td>0.269</td><td>0.063</td><td> 0.0000e+00</td><td> 3</td><td>KIAA1217</td></tr>\n",
       "\t<tr><td>CIT     </td><td> 0.000000e+00</td><td>2.673831</td><td>0.341</td><td>0.048</td><td> 0.0000e+00</td><td> 5</td><td>CIT     </td></tr>\n",
       "\t<tr><td>SRCIN1  </td><td>4.037321e-240</td><td>2.195028</td><td>0.256</td><td>0.069</td><td>1.0277e-235</td><td>13</td><td>SRCIN1  </td></tr>\n",
       "</tbody>\n",
       "</table>\n"
      ],
      "text/latex": [
       "A data.frame: 3 × 8\n",
       "\\begin{tabular}{llllllll}\n",
       " X & p\\_val & avg\\_log2FC & pct.1 & pct.2 & p\\_val\\_adj & cluster & gene\\\\\n",
       " <chr> & <dbl> & <dbl> & <dbl> & <dbl> & <dbl> & <int> & <chr>\\\\\n",
       "\\hline\n",
       "\t KIAA1217 &  0.000000e+00 & 1.538431 & 0.269 & 0.063 &  0.0000e+00 &  3 & KIAA1217\\\\\n",
       "\t CIT      &  0.000000e+00 & 2.673831 & 0.341 & 0.048 &  0.0000e+00 &  5 & CIT     \\\\\n",
       "\t SRCIN1   & 4.037321e-240 & 2.195028 & 0.256 & 0.069 & 1.0277e-235 & 13 & SRCIN1  \\\\\n",
       "\\end{tabular}\n"
      ],
      "text/markdown": [
       "\n",
       "A data.frame: 3 × 8\n",
       "\n",
       "| X &lt;chr&gt; | p_val &lt;dbl&gt; | avg_log2FC &lt;dbl&gt; | pct.1 &lt;dbl&gt; | pct.2 &lt;dbl&gt; | p_val_adj &lt;dbl&gt; | cluster &lt;int&gt; | gene &lt;chr&gt; |\n",
       "|---|---|---|---|---|---|---|---|\n",
       "| KIAA1217 |  0.000000e+00 | 1.538431 | 0.269 | 0.063 |  0.0000e+00 |  3 | KIAA1217 |\n",
       "| CIT      |  0.000000e+00 | 2.673831 | 0.341 | 0.048 |  0.0000e+00 |  5 | CIT      |\n",
       "| SRCIN1   | 4.037321e-240 | 2.195028 | 0.256 | 0.069 | 1.0277e-235 | 13 | SRCIN1   |\n",
       "\n"
      ],
      "text/plain": [
       "  X        p_val         avg_log2FC pct.1 pct.2 p_val_adj   cluster gene    \n",
       "1 KIAA1217  0.000000e+00 1.538431   0.269 0.063  0.0000e+00  3      KIAA1217\n",
       "2 CIT       0.000000e+00 2.673831   0.341 0.048  0.0000e+00  5      CIT     \n",
       "3 SRCIN1   4.037321e-240 2.195028   0.256 0.069 1.0277e-235 13      SRCIN1  "
      ]
     },
     "metadata": {},
     "output_type": "display_data"
    }
   ],
   "source": [
    "de_genes <- cluster_markers %>% filter(gene %in% genes_of_interest)\n",
    "de_genes"
   ]
  },
  {
   "cell_type": "code",
   "execution_count": null,
   "id": "01234508-cc54-4e6e-8851-3d1f0986e17a",
   "metadata": {},
   "outputs": [],
   "source": []
  }
 ],
 "metadata": {
  "kernelspec": {
   "display_name": "R",
   "language": "R",
   "name": "ir"
  },
  "language_info": {
   "codemirror_mode": "r",
   "file_extension": ".r",
   "mimetype": "text/x-r-source",
   "name": "R",
   "pygments_lexer": "r",
   "version": "4.2.0"
  }
 },
 "nbformat": 4,
 "nbformat_minor": 5
}
