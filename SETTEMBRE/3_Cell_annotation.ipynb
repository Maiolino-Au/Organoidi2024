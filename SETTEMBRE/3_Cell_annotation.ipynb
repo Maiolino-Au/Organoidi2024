{
 "cells": [
  {
   "cell_type": "markdown",
   "id": "9456f7ae-99a2-4b5f-b309-6ff556a6083e",
   "metadata": {},
   "source": [
    "# SetUp"
   ]
  },
  {
   "cell_type": "code",
   "execution_count": null,
   "id": "e9f7726e-e875-463e-863d-29405d2998d8",
   "metadata": {},
   "outputs": [],
   "source": []
  },
  {
   "cell_type": "markdown",
   "id": "10ecf6ba-f68c-4010-ab32-411b601bce6b",
   "metadata": {},
   "source": [
    "# GSEA"
   ]
  },
  {
   "cell_type": "code",
   "execution_count": null,
   "id": "5958ab4a-fbd4-4f89-8fda-145adb9d6ab7",
   "metadata": {},
   "outputs": [],
   "source": []
  },
  {
   "cell_type": "markdown",
   "id": "ba956cd4-72b2-4b01-b832-aa1a3f547560",
   "metadata": {},
   "source": [
    "# GPTCellType"
   ]
  },
  {
   "cell_type": "code",
   "execution_count": null,
   "id": "29b6a240-a9a6-4fd3-bb69-f120d02a69b0",
   "metadata": {},
   "outputs": [],
   "source": []
  },
  {
   "cell_type": "markdown",
   "id": "f65f9699-be4b-4b39-8c53-f7ecfdcb86be",
   "metadata": {},
   "source": [
    "# SingeR"
   ]
  },
  {
   "cell_type": "code",
   "execution_count": null,
   "id": "91f70cf7-1381-4dcf-8662-aa1c6a2f2dd0",
   "metadata": {},
   "outputs": [],
   "source": []
  },
  {
   "cell_type": "markdown",
   "id": "eb37e346-2438-4367-a807-8696645f7b45",
   "metadata": {},
   "source": [
    "# Comparison"
   ]
  },
  {
   "cell_type": "code",
   "execution_count": null,
   "id": "436cb597-8d8f-4e36-8ba4-c2713757556c",
   "metadata": {},
   "outputs": [],
   "source": []
  }
 ],
 "metadata": {
  "kernelspec": {
   "display_name": "R",
   "language": "R",
   "name": "ir"
  },
  "language_info": {
   "codemirror_mode": "r",
   "file_extension": ".r",
   "mimetype": "text/x-r-source",
   "name": "R",
   "pygments_lexer": "r",
   "version": "4.2.0"
  }
 },
 "nbformat": 4,
 "nbformat_minor": 5
}
