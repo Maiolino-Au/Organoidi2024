{
 "cells": [
  {
   "cell_type": "markdown",
   "id": "1e666651-30c2-4c2e-b2b9-de56ae49bc31",
   "metadata": {},
   "source": []
  },
  {
   "cell_type": "markdown",
   "id": "1c1bc12b-622b-4c9e-be2b-fdd47d98b65f",
   "metadata": {},
   "source": []
  },
  {
   "cell_type": "markdown",
   "id": "f87f3e30-cc3f-4084-a70b-0220be932ec0",
   "metadata": {},
   "source": []
  },
  {
   "cell_type": "markdown",
   "id": "7006b059-7dd9-4d50-a74e-1dc7dd1f4592",
   "metadata": {},
   "source": []
  }
 ],
 "metadata": {
  "kernelspec": {
   "display_name": "R",
   "language": "R",
   "name": "ir"
  },
  "language_info": {
   "codemirror_mode": "r",
   "file_extension": ".r",
   "mimetype": "text/x-r-source",
   "name": "R",
   "pygments_lexer": "r",
   "version": "4.2.0"
  }
 },
 "nbformat": 4,
 "nbformat_minor": 5
}
